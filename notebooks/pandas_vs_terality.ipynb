{
 "cells": [
  {
   "cell_type": "code",
   "execution_count": null,
   "id": "1b77b18c",
   "metadata": {
    "id": "1b77b18c"
   },
   "outputs": [],
   "source": [
    "import pandas as pd\n",
    "import terality as te\n",
    "# from codetiming import Timer\n",
    "import random\n",
    "from datetime import datetime\n"
   ]
  },
  {
   "cell_type": "code",
   "execution_count": null,
   "id": "d645ab8c",
   "metadata": {
    "pycharm": {
     "name": "#%%\n"
    },
    "id": "d645ab8c"
   },
   "outputs": [],
   "source": [
    "file_path = \"C:\\\\\\\\Users\\\\\\\\bhask\\\\\\\\Google Drive\\\\\\\\datasets\\\\\\\\Chicago_taxi_trips\\\\\\\\\"\n",
    "# timer = Timer(name=\"Terality Tests\")"
   ]
  },
  {
   "cell_type": "code",
   "execution_count": null,
   "outputs": [],
   "source": [
    "# Disabling Terality cache for testing\n",
    "# cache_disabler = te.disable_cache()\n",
    "# cache_disabler.__enter__()"
   ],
   "metadata": {
    "pycharm": {
     "name": "#%%\n"
    },
    "id": "3Bq5hN5jzRVV"
   },
   "id": "3Bq5hN5jzRVV"
  },
  {
   "cell_type": "code",
   "source": [
    "def get_slice_range(limit):\n",
    "    start = random.randint(1, limit)\n",
    "    end = random.randint(start, start + 1000)\n",
    "    return start, end"
   ],
   "metadata": {
    "id": "vhIvTt-ZfNxp"
   },
   "id": "vhIvTt-ZfNxp",
   "execution_count": null,
   "outputs": []
  },
  {
   "cell_type": "code",
   "source": [
    "def get_time():\n",
    "    return datetime.now()"
   ],
   "metadata": {
    "id": "yxUwTTtlPzB6"
   },
   "id": "yxUwTTtlPzB6",
   "execution_count": 1,
   "outputs": []
  },
  {
   "cell_type": "code",
   "source": [
    "def get_time_diff(start_time, end_time):\n",
    "    return (end_time - start_time).total_seconds()"
   ],
   "metadata": {
    "id": "GsoeI7omP2CH"
   },
   "id": "GsoeI7omP2CH",
   "execution_count": null,
   "outputs": []
  },
  {
   "cell_type": "code",
   "execution_count": null,
   "outputs": [],
   "source": [
    "# A list of dataframe columns renamed by converting to lowercase and replacing spaces with '_'\n",
    "columns = [\n",
    "'trip_id',\n",
    "'taxi_id',\n",
    "'trip_start_timestamp',\n",
    "'trip_end_timestamp',\n",
    "'trip_seconds',\n",
    "'trip_miles',\n",
    "'pickup_census_tract',\n",
    "'dropoff_census_tract',\n",
    "'pickup_community_area',\n",
    "'dropoff_community_area',\n",
    "'fare',\n",
    "'tips',\n",
    "'tolls',\n",
    "'extras',\n",
    "'trip_total',\n",
    "'payment_type',\n",
    "'company',\n",
    "'pickup_centroid_latitude',\n",
    "'pickup_centroid_longitude',\n",
    "'pickup_centroid_location',\n",
    "'dropoff_centroid_latitude',\n",
    "'dropoff_centroid_longitude',\n",
    "'dropoff_centroid__location'\n",
    "]"
   ],
   "metadata": {
    "pycharm": {
     "name": "#%%\n"
    },
    "id": "aty6tzzvxjgk"
   },
   "id": "aty6tzzvxjgk"
  },
  {
   "cell_type": "code",
   "execution_count": null,
   "outputs": [],
   "source": [
    "# Loading data into dataframes using Pandas\n",
    "start_time = get_time()\n",
    "taxi_trips_pdf = pd.read_csv(file_path + \"Taxi_Trips_2019_2020.csv\")\n",
    "print(get_time_diff(start_time, get_time()))"
   ],
   "metadata": {
    "pycharm": {
     "name": "#%%\n"
    },
    "colab": {
     "base_uri": "https://localhost:8080/"
    },
    "id": "5ZPyht2ozRVW",
    "outputId": "3ef2b080-4831-430a-f4a0-a433365f1725"
   },
   "id": "5ZPyht2ozRVW"
  },
  {
   "cell_type": "code",
   "execution_count": null,
   "outputs": [],
   "source": [
    "# Loading data into dataframes using Terality\n",
    "start_time = get_time()\n",
    "taxi_trips_tdf = te.read_csv(file_path + \"Taxi_Trips_2019_2020.csv\")\n",
    "print(get_time_diff(start_time, get_time()))"
   ],
   "metadata": {
    "pycharm": {
     "name": "#%%\n"
    },
    "colab": {
     "base_uri": "https://localhost:8080/"
    },
    "id": "ZKX4PZVRzRVY",
    "outputId": "2094369c-f50e-44c3-ffc6-85c1d27c205e"
   },
   "id": "ZKX4PZVRzRVY"
  },
  {
   "cell_type": "code",
   "execution_count": null,
   "outputs": [],
   "source": [
    "start_time = get_time()\n",
    "taxi_trips_pdf.head()\n",
    "print(get_time_diff(start_time, get_time()))"
   ],
   "metadata": {
    "pycharm": {
     "name": "#%%\n"
    },
    "colab": {
     "base_uri": "https://localhost:8080/"
    },
    "id": "zCbVBCJRzRVY",
    "outputId": "f0ef16d5-6d32-41cc-d77f-9831fc7c22dd"
   },
   "id": "zCbVBCJRzRVY"
  },
  {
   "cell_type": "code",
   "execution_count": null,
   "outputs": [],
   "source": [
    "start_time = get_time()\n",
    "taxi_trips_tdf.head()\n",
    "print(get_time_diff(start_time, get_time()))"
   ],
   "metadata": {
    "pycharm": {
     "name": "#%%\n"
    },
    "colab": {
     "base_uri": "https://localhost:8080/"
    },
    "id": "3nv2ZkzLzRVZ",
    "outputId": "ca84bd8c-9e67-4393-a999-6c01c7e8a0c0"
   },
   "id": "3nv2ZkzLzRVZ"
  },
  {
   "cell_type": "code",
   "execution_count": null,
   "outputs": [],
   "source": [
    "# Rename the columns of the Pandas dataframe\n",
    "start_time = get_time()\n",
    "taxi_trips_pdf.columns = columns\n",
    "print(get_time_diff(start_time, get_time()))"
   ],
   "metadata": {
    "pycharm": {
     "name": "#%%\n"
    },
    "colab": {
     "base_uri": "https://localhost:8080/"
    },
    "id": "rZZFRDruzRVa",
    "outputId": "582bea8a-a782-4db1-b8de-ab224ab2ec1c"
   },
   "id": "rZZFRDruzRVa"
  },
  {
   "cell_type": "code",
   "execution_count": null,
   "outputs": [],
   "source": [
    "# Rename the columns of the Terality dataframe\n",
    "start_time = get_time()\n",
    "taxi_trips_tdf.columns = columns\n",
    "print(get_time_diff(start_time, get_time()))"
   ],
   "metadata": {
    "pycharm": {
     "name": "#%%\n"
    },
    "colab": {
     "base_uri": "https://localhost:8080/"
    },
    "id": "denCFO8hzRVa",
    "outputId": "2388ebd8-9464-401d-f260-f5ad0c4dd5ee"
   },
   "id": "denCFO8hzRVa"
  },
  {
   "cell_type": "code",
   "execution_count": null,
   "outputs": [],
   "source": [
    "# Row count before cleanup - using Pandas\n",
    "start_time = get_time()\n",
    "print(\"Pandas DF Row Count before: % d\" % taxi_trips_pdf.shape[0])\n",
    "print(get_time_diff(start_time, get_time()))"
   ],
   "metadata": {
    "pycharm": {
     "name": "#%%\n"
    },
    "colab": {
     "base_uri": "https://localhost:8080/"
    },
    "id": "nwG21e1XzRVb",
    "outputId": "bdb11587-b0b0-4e81-cd8c-cabe581bf2fb"
   },
   "id": "nwG21e1XzRVb"
  },
  {
   "cell_type": "code",
   "execution_count": null,
   "outputs": [],
   "source": [
    "# Remove all the rows with NaN values using Pandas. There is plenty of data even otherwise\n",
    "start_time = get_time()\n",
    "taxi_trips_pdf.dropna(how='any',axis=0,inplace=True)\n",
    "print(get_time_diff(start_time, get_time()))"
   ],
   "metadata": {
    "pycharm": {
     "name": "#%%\n"
    },
    "colab": {
     "base_uri": "https://localhost:8080/"
    },
    "id": "-4ag50jDzRVb",
    "outputId": "00c802ca-697e-46b3-8993-6e7df7df2cc3"
   },
   "id": "-4ag50jDzRVb"
  },
  {
   "cell_type": "code",
   "execution_count": null,
   "outputs": [],
   "source": [
    "# Row count after cleanup - using Pandas\n",
    "start_time = get_time()\n",
    "row_count = taxi_trips_pdf.shape[0]\n",
    "print(\"Pandas DF Row Count after: % d\" % row_count)\n",
    "print(get_time_diff(start_time, get_time()))"
   ],
   "metadata": {
    "pycharm": {
     "name": "#%%\n"
    },
    "colab": {
     "base_uri": "https://localhost:8080/"
    },
    "id": "BcEuxTMGzRVb",
    "outputId": "b9759fa5-edbe-40b6-a605-fa5ca3147fcc"
   },
   "id": "BcEuxTMGzRVb"
  },
  {
   "cell_type": "code",
   "execution_count": null,
   "outputs": [],
   "source": [
    "# Row count before cleanup - using Terality\n",
    "start_time = get_time()\n",
    "print(\"Terality DF Row Count after: % d\" % taxi_trips_tdf.shape[0])\n",
    "print(get_time_diff(start_time, get_time()))"
   ],
   "metadata": {
    "pycharm": {
     "name": "#%%\n"
    },
    "colab": {
     "base_uri": "https://localhost:8080/"
    },
    "id": "Fo9LlA5hzRVc",
    "outputId": "1a60d374-f16f-4f26-8af4-e815f8d94ac0"
   },
   "id": "Fo9LlA5hzRVc"
  },
  {
   "cell_type": "code",
   "execution_count": null,
   "outputs": [],
   "source": [
    "# Remove all the rows with NaN values using Terality. There is plenty of data even otherwise\n",
    "start_time = get_time()\n",
    "taxi_trips_tdf.dropna(how='any',axis=0,inplace=True)\n",
    "print(get_time_diff(start_time, get_time()))"
   ],
   "metadata": {
    "pycharm": {
     "name": "#%%\n"
    },
    "colab": {
     "base_uri": "https://localhost:8080/"
    },
    "id": "0NshQeD_zRVc",
    "outputId": "a7e0e2b1-7ba9-46a1-d08e-536d015f6b37"
   },
   "id": "0NshQeD_zRVc"
  },
  {
   "cell_type": "code",
   "execution_count": null,
   "outputs": [],
   "source": [
    "# Row count after cleanup - using Terality\n",
    "start_time = get_time()\n",
    "print(\"Terality DF Row Count after: % d\" % taxi_trips_tdf.shape[0])\n",
    "print(get_time_diff(start_time, get_time()))"
   ],
   "metadata": {
    "pycharm": {
     "name": "#%%\n"
    },
    "colab": {
     "base_uri": "https://localhost:8080/"
    },
    "id": "ODvURk5kzRVd",
    "outputId": "986d5887-4d92-4bec-8318-eee9e4228daa"
   },
   "id": "ODvURk5kzRVd"
  },
  {
   "cell_type": "code",
   "source": [
    "# Adding a new column to store datetime version of string datetimes - Pandas\n",
    "start_time = get_time()\n",
    "taxi_trips_pdf['trip_start_dt'] = pd.to_datetime(taxi_trips_pdf['trip_start_timestamp'], infer_datetime_format=True)\n",
    "taxi_trips_pdf['trip_end_dt'] = pd.to_datetime(taxi_trips_pdf['trip_end_timestamp'], infer_datetime_format=True)\n",
    "taxi_trips_pdf['trip_start_ym'] = taxi_trips_pdf['trip_start_dt'].dt.to_period('M')\n",
    "taxi_trips_pdf['trip_end_ym'] = taxi_trips_pdf['trip_end_dt'].dt.to_period('M')\n",
    "print(get_time_diff(start_time, get_time()))"
   ],
   "metadata": {
    "colab": {
     "base_uri": "https://localhost:8080/"
    },
    "id": "P1Vo-EZnYQBK",
    "outputId": "62439968-9b9f-4de6-e222-e0a709d47f04"
   },
   "id": "P1Vo-EZnYQBK",
   "execution_count": null,
   "outputs": []
  },
  {
   "cell_type": "code",
   "source": [
    "taxi_trips_pdf.head()"
   ],
   "metadata": {
    "colab": {
     "base_uri": "https://localhost:8080/",
     "height": 342
    },
    "id": "w8QCplTIbNa1",
    "outputId": "3d82361c-4d15-400c-83b1-f5d82cdcc77b"
   },
   "id": "w8QCplTIbNa1",
   "execution_count": null,
   "outputs": []
  },
  {
   "cell_type": "code",
   "source": [
    "# Adding a new column to store datetime version of string datetimes - Terality\n",
    "start_time = get_time()\n",
    "taxi_trips_tdf['trip_start_dt'] = te.to_datetime(taxi_trips_tdf['trip_start_timestamp'], infer_datetime_format=True)\n",
    "taxi_trips_tdf['trip_end_dt'] = te.to_datetime(taxi_trips_tdf['trip_end_timestamp'], infer_datetime_format=True)\n",
    "taxi_trips_tdf['trip_start_ym'] = taxi_trips_tdf['trip_start_dt'].dt.to_period('M')\n",
    "taxi_trips_tdf['trip_end_ym'] = taxi_trips_tdf['trip_end_dt'].dt.to_period('M')\n",
    "print(get_time_diff(start_time, get_time()))"
   ],
   "metadata": {
    "outputId": "aed84af9-ac84-49df-c61d-dff9a698bcb3",
    "colab": {
     "base_uri": "https://localhost:8080/"
    },
    "id": "fDlPRoH4bOym"
   },
   "execution_count": null,
   "outputs": [],
   "id": "fDlPRoH4bOym"
  },
  {
   "cell_type": "code",
   "execution_count": null,
   "outputs": [],
   "source": [
    "taxi_trips_tdf.head()\n",
    "# print(get_time_diff(start_time, get_time()))\n"
   ],
   "metadata": {
    "pycharm": {
     "name": "#%%\n"
    },
    "colab": {
     "base_uri": "https://localhost:8080/",
     "height": 313
    },
    "id": "95reatEzzRVd",
    "outputId": "7c6d6ce0-689e-4fde-b53e-2aa065d6cb71"
   },
   "id": "95reatEzzRVd"
  },
  {
   "cell_type": "code",
   "execution_count": null,
   "id": "bfcff7e9",
   "metadata": {
    "pycharm": {
     "name": "#%%\n"
    },
    "colab": {
     "base_uri": "https://localhost:8080/",
     "height": 320
    },
    "id": "bfcff7e9",
    "outputId": "591c08f0-8e4f-4b22-cc8f-635e4f3730ae"
   },
   "outputs": [],
   "source": [
    "# Describe - Pandas\n",
    "start_time = get_time()\n",
    "taxi_trips_pdf.describe()"
   ]
  },
  {
   "cell_type": "code",
   "source": [
    "print(get_time_diff(start_time, get_time()))"
   ],
   "metadata": {
    "colab": {
     "base_uri": "https://localhost:8080/"
    },
    "id": "PWh7yRSX-mzM",
    "outputId": "0af40177-d62a-456b-f665-17464bacf424"
   },
   "id": "PWh7yRSX-mzM",
   "execution_count": null,
   "outputs": []
  },
  {
   "cell_type": "code",
   "source": [
    "# Describe - Terality\n",
    "start_time = get_time()\n",
    "taxi_trips_tdf.describe()"
   ],
   "metadata": {
    "colab": {
     "base_uri": "https://localhost:8080/",
     "height": 320
    },
    "id": "VHJrYq8e_Otk",
    "outputId": "e8ac2d06-97ca-410a-8c0f-612ecef10975"
   },
   "id": "VHJrYq8e_Otk",
   "execution_count": null,
   "outputs": []
  },
  {
   "cell_type": "code",
   "source": [
    "print(get_time_diff(start_time, get_time()))"
   ],
   "metadata": {
    "colab": {
     "base_uri": "https://localhost:8080/"
    },
    "id": "hd9jHDHm_KX8",
    "outputId": "38ed95ea-7694-48f8-f371-afd76c86cf9d"
   },
   "id": "hd9jHDHm_KX8",
   "execution_count": null,
   "outputs": []
  },
  {
   "cell_type": "code",
   "execution_count": null,
   "id": "88dcdee9",
   "metadata": {
    "pycharm": {
     "name": "#%%\n"
    },
    "colab": {
     "base_uri": "https://localhost:8080/"
    },
    "id": "88dcdee9",
    "outputId": "04bab0e7-4890-4dc2-f04a-4ad61bcffab5"
   },
   "outputs": [],
   "source": [
    "# Query 1: Number of trips grouped by taxi - Using Pandas\n",
    "start_time = get_time()\n",
    "taxi_trips_pdf.groupby('taxi_id').count()['trip_id']\n"
   ]
  },
  {
   "cell_type": "code",
   "source": [
    "print(get_time_diff(start_time, get_time()))"
   ],
   "metadata": {
    "id": "oMFxKORLUBfC",
    "outputId": "e87aea07-6544-47ae-aa28-6ef0b8048a6f",
    "colab": {
     "base_uri": "https://localhost:8080/"
    }
   },
   "id": "oMFxKORLUBfC",
   "execution_count": null,
   "outputs": []
  },
  {
   "cell_type": "code",
   "execution_count": null,
   "id": "fc3418f2",
   "metadata": {
    "pycharm": {
     "name": "#%%\n"
    },
    "colab": {
     "base_uri": "https://localhost:8080/"
    },
    "id": "fc3418f2",
    "outputId": "b4088e04-1a45-4a54-9b54-c4b136bff4e3"
   },
   "outputs": [],
   "source": [
    "# Query 1: Number of trips grouped by taxi - Using Terality\n",
    "start_time = get_time()\n",
    "taxi_trips_pdf.groupby('taxi_id').count()['trip_id']\n",
    "\n"
   ]
  },
  {
   "cell_type": "code",
   "source": [
    "print(get_time_diff(start_time, get_time()))"
   ],
   "metadata": {
    "id": "CgWQYn-vUQxJ",
    "outputId": "eced7e54-353f-4ce0-d52a-7c9c47511d55",
    "colab": {
     "base_uri": "https://localhost:8080/"
    }
   },
   "id": "CgWQYn-vUQxJ",
   "execution_count": null,
   "outputs": []
  },
  {
   "cell_type": "markdown",
   "source": [],
   "metadata": {
    "collapsed": false,
    "id": "_9w6gg5FzRVf"
   },
   "id": "_9w6gg5FzRVf"
  },
  {
   "cell_type": "code",
   "execution_count": null,
   "outputs": [],
   "source": [
    "# Query 2: Number of trips grouped by taxi and year/month - Using Pandas\n",
    "start_time = get_time()\n",
    "taxi_trips_pdf.groupby(['taxi_id', 'trip_start_ym']).count()['trip_id']"
   ],
   "metadata": {
    "pycharm": {
     "name": "#%%\n"
    },
    "colab": {
     "base_uri": "https://localhost:8080/"
    },
    "id": "RXT0aueNzRVg",
    "outputId": "364a5a5a-6199-4bbd-d5ec-6c2c4af899ca"
   },
   "id": "RXT0aueNzRVg"
  },
  {
   "cell_type": "code",
   "execution_count": null,
   "outputs": [],
   "source": [
    "print(get_time_diff(start_time, get_time()))"
   ],
   "metadata": {
    "pycharm": {
     "name": "#%%\n"
    },
    "colab": {
     "base_uri": "https://localhost:8080/"
    },
    "id": "HK89Q6CLzRVg",
    "outputId": "d5919876-6f8a-4b09-c093-4ff0193fa27e"
   },
   "id": "HK89Q6CLzRVg"
  },
  {
   "cell_type": "code",
   "source": [
    "# Query 2: Number of trips grouped by taxi and year/month - Using Terality\n",
    "start_time = get_time()\n",
    "taxi_trips_tdf.groupby(['taxi_id', 'trip_start_ym']).count()['trip_id']"
   ],
   "metadata": {
    "colab": {
     "base_uri": "https://localhost:8080/"
    },
    "id": "2Abw4afRtccc",
    "outputId": "01f10b96-c49b-48d4-f7f7-38bf35949ff0"
   },
   "id": "2Abw4afRtccc",
   "execution_count": null,
   "outputs": []
  },
  {
   "cell_type": "code",
   "source": [
    "print(get_time_diff(start_time, get_time()))"
   ],
   "metadata": {
    "colab": {
     "base_uri": "https://localhost:8080/"
    },
    "id": "GGri5U4xth25",
    "outputId": "037315df-e3e3-4e32-ad4e-a05b9fd11b3e"
   },
   "id": "GGri5U4xth25",
   "execution_count": null,
   "outputs": []
  },
  {
   "cell_type": "code",
   "execution_count": null,
   "id": "c87ece3d",
   "metadata": {
    "id": "c87ece3d",
    "outputId": "a400a74a-b82d-4326-af15-0ac158518b28",
    "colab": {
     "base_uri": "https://localhost:8080/"
    }
   },
   "outputs": [],
   "source": [
    "# Query 3: Number of trips by Taxi Company - using Pandas\n",
    "start_time = get_time()\n",
    "taxi_trips_pdf.groupby('company').count()['trip_id'].sort_values(ascending=False).head(10)\n"
   ]
  },
  {
   "cell_type": "code",
   "source": [
    "print(get_time_diff(start_time, get_time()))"
   ],
   "metadata": {
    "colab": {
     "base_uri": "https://localhost:8080/"
    },
    "id": "k956MAzcwu2y",
    "outputId": "decf414f-748e-46c8-c4f3-094dc8cf292f"
   },
   "id": "k956MAzcwu2y",
   "execution_count": null,
   "outputs": []
  },
  {
   "cell_type": "code",
   "execution_count": null,
   "id": "51d5103a",
   "metadata": {
    "id": "51d5103a",
    "colab": {
     "base_uri": "https://localhost:8080/"
    },
    "outputId": "a6e3d82f-0174-4864-bdcb-6a8df46e8680"
   },
   "outputs": [],
   "source": [
    "# Query 3: Number of trips by Taxi Company - using Terality\n",
    "start_time = get_time()\n",
    "taxi_trips_tdf.groupby('company').count()['trip_id'].sort_values(ascending=False).head(10)\n"
   ]
  },
  {
   "cell_type": "code",
   "source": [
    "print(get_time_diff(start_time, get_time()))"
   ],
   "metadata": {
    "colab": {
     "base_uri": "https://localhost:8080/"
    },
    "id": "stMlsqLyI4qb",
    "outputId": "99840dab-7807-477d-d0c8-966197eaf3ce"
   },
   "id": "stMlsqLyI4qb",
   "execution_count": null,
   "outputs": []
  },
  {
   "cell_type": "code",
   "source": [
    "# Query 4: Sort by Taxi Company - using Pandas\n",
    "start_time = get_time()\n",
    "taxi_trips_pdf.sort_values(by=\"company\")\n",
    "print(get_time_diff(start_time, get_time()))"
   ],
   "metadata": {
    "colab": {
     "base_uri": "https://localhost:8080/"
    },
    "id": "xxCUE6fgI7ga",
    "outputId": "093e6360-b67b-4043-e2d6-b5e08f961016"
   },
   "id": "xxCUE6fgI7ga",
   "execution_count": null,
   "outputs": []
  },
  {
   "cell_type": "code",
   "source": [
    "# Query 4: Sort by Taxi Company - using Terality\n",
    "start_time = get_time()\n",
    "taxi_trips_tdf.sort_values(by=\"company\")\n",
    "print(get_time_diff(start_time, get_time()))"
   ],
   "metadata": {
    "colab": {
     "base_uri": "https://localhost:8080/"
    },
    "id": "4Bpf2neyJDVT",
    "outputId": "e4811c9f-ee6f-4254-974e-65b5c772b831"
   },
   "id": "4Bpf2neyJDVT",
   "execution_count": null,
   "outputs": []
  },
  {
   "cell_type": "code",
   "source": [
    "range = get_slice_range(row_count)\n",
    "print(\"Start: %d, End: %d\" % range)\n"
   ],
   "metadata": {
    "colab": {
     "base_uri": "https://localhost:8080/"
    },
    "id": "GYP-ex-GgXyi",
    "outputId": "58e53585-8c1a-4ac7-dfb9-0ca52041841c"
   },
   "id": "GYP-ex-GgXyi",
   "execution_count": null,
   "outputs": []
  },
  {
   "cell_type": "code",
   "source": [
    "# Query 5: Slicing using random numbers for start and end - using Pandas\n",
    "start_time = get_time()\n",
    "taxi_trips_pdf[range[0]:range[1]]"
   ],
   "metadata": {
    "colab": {
     "base_uri": "https://localhost:8080/",
     "height": 617
    },
    "id": "_MVI8zALJFYs",
    "outputId": "87e12766-f823-4b46-8cde-1a86b43ccc07"
   },
   "id": "_MVI8zALJFYs",
   "execution_count": null,
   "outputs": []
  },
  {
   "cell_type": "code",
   "source": [
    "print(get_time_diff(start_time, get_time()))"
   ],
   "metadata": {
    "colab": {
     "base_uri": "https://localhost:8080/"
    },
    "id": "tKkpSvjqgNsA",
    "outputId": "343d8893-de5f-4998-fd4f-e21beceaff5a"
   },
   "id": "tKkpSvjqgNsA",
   "execution_count": null,
   "outputs": []
  },
  {
   "cell_type": "code",
   "source": [
    "# Query 5: Slicing using random numbers for start and end - using Terality\n",
    "start_time = get_time()\n",
    "taxi_trips_tdf[range[0]:range[1]]"
   ],
   "metadata": {
    "colab": {
     "base_uri": "https://localhost:8080/",
     "height": 617
    },
    "id": "08xojzDMJN-U",
    "outputId": "2a9cfddc-4df0-4e09-a68f-76b4329151f1"
   },
   "id": "08xojzDMJN-U",
   "execution_count": null,
   "outputs": []
  },
  {
   "cell_type": "code",
   "source": [
    "print(get_time_diff(start_time, get_time()))"
   ],
   "metadata": {
    "colab": {
     "base_uri": "https://localhost:8080/"
    },
    "id": "uy5_znBfDjAj",
    "outputId": "b78afc21-e74e-4554-fbeb-202146a56c36"
   },
   "id": "uy5_znBfDjAj",
   "execution_count": null,
   "outputs": []
  },
  {
   "cell_type": "code",
   "source": [
    "# Query 6: Selecting a single row from an unindexed dataframe - using Pandas\n",
    "start_time = get_time()\n",
    "taxi_trips_pdf[taxi_trips_pdf['trip_id'] == 'd3e437e3af9c691e6a9fe1f9802605d989605fdb']"
   ],
   "metadata": {
    "colab": {
     "base_uri": "https://localhost:8080/",
     "height": 147
    },
    "id": "L0g39ImPJPvy",
    "outputId": "04be4f41-941d-43c8-ca20-94db7c5a5d63"
   },
   "id": "L0g39ImPJPvy",
   "execution_count": null,
   "outputs": []
  },
  {
   "cell_type": "code",
   "source": [
    "print(get_time_diff(start_time, get_time()))"
   ],
   "metadata": {
    "colab": {
     "base_uri": "https://localhost:8080/"
    },
    "id": "YT2_7oJiEAz6",
    "outputId": "66582228-af0f-45f6-d0cd-e2fdbb4bc599"
   },
   "id": "YT2_7oJiEAz6",
   "execution_count": null,
   "outputs": []
  },
  {
   "cell_type": "code",
   "source": [
    "# Query 6: Selecting a single row from an unindexed dataframe - using Terality\n",
    "start_time = get_time()\n",
    "taxi_trips_tdf[taxi_trips_tdf['trip_id'] == 'd3e437e3af9c691e6a9fe1f9802605d989605fdb']"
   ],
   "metadata": {
    "colab": {
     "base_uri": "https://localhost:8080/",
     "height": 118
    },
    "id": "KwI3MZD-JXX5",
    "outputId": "f0bc70a1-7253-493a-aecc-fa6addede8bd"
   },
   "id": "KwI3MZD-JXX5",
   "execution_count": null,
   "outputs": []
  },
  {
   "cell_type": "code",
   "source": [
    "print(get_time_diff(start_time, get_time()))"
   ],
   "metadata": {
    "colab": {
     "base_uri": "https://localhost:8080/"
    },
    "id": "a6B7NrFuEVb4",
    "outputId": "e065e893-0e20-46f4-f9e1-06c26a59d888"
   },
   "id": "a6B7NrFuEVb4",
   "execution_count": null,
   "outputs": []
  },
  {
   "cell_type": "code",
   "source": [
    "# Query 7: Range queries using isin() - Using Pandas\n",
    "start_time = get_time()\n",
    "taxi_trips_pdf[taxi_trips_pdf['company'].isin(['Taxi Affiliation Services', 'Blue Diamond', 'Chicago Taxicab', 'Nova Taxi Affiliation Llc', 'U Taxicab'])]"
   ],
   "metadata": {
    "colab": {
     "base_uri": "https://localhost:8080/",
     "height": 617
    },
    "id": "ZF3yyjO9JYK3",
    "outputId": "b0c6246c-ebaa-4859-b6f4-5efb3e3e7e3f"
   },
   "id": "ZF3yyjO9JYK3",
   "execution_count": null,
   "outputs": []
  },
  {
   "cell_type": "code",
   "source": [
    "print(get_time_diff(start_time, get_time()))"
   ],
   "metadata": {
    "colab": {
     "base_uri": "https://localhost:8080/"
    },
    "id": "qPDMgQn_LCWR",
    "outputId": "b6b024e1-525b-48d5-ee1d-0e7ce7a0d6e8"
   },
   "id": "qPDMgQn_LCWR",
   "execution_count": null,
   "outputs": []
  },
  {
   "cell_type": "code",
   "source": [
    "# Query 7: Range queries using isin() - Using Terality\n",
    "start_time = get_time()\n",
    "taxi_trips_tdf[taxi_trips_tdf['company'].isin(['Taxi Affiliation Services', 'Blue Diamond', 'Chicago Taxicab', 'Nova Taxi Affiliation Llc', 'U Taxicab'])]"
   ],
   "metadata": {
    "colab": {
     "base_uri": "https://localhost:8080/"
    },
    "id": "TFpjjSWrJek1",
    "outputId": "20f7c93d-1eda-4f96-dcc1-f4d7c5b4ad79"
   },
   "id": "TFpjjSWrJek1",
   "execution_count": null,
   "outputs": []
  },
  {
   "cell_type": "code",
   "source": [
    "print(get_time_diff(start_time, get_time()))"
   ],
   "metadata": {
    "colab": {
     "base_uri": "https://localhost:8080/"
    },
    "id": "Az-RzAaHJf8L",
    "outputId": "11add01b-ec3c-4668-f530-e25072a95b11"
   },
   "id": "Az-RzAaHJf8L",
   "execution_count": null,
   "outputs": []
  },
  {
   "cell_type": "code",
   "source": [
    ""
   ],
   "metadata": {
    "id": "UVVjA87BKd2K"
   },
   "id": "UVVjA87BKd2K",
   "execution_count": null,
   "outputs": []
  }
 ],
 "metadata": {
  "kernelspec": {
   "display_name": "Python 3 (ipykernel)",
   "language": "python",
   "name": "python3"
  },
  "language_info": {
   "codemirror_mode": {
    "name": "ipython",
    "version": 3
   },
   "file_extension": ".py",
   "mimetype": "text/x-python",
   "name": "python",
   "nbconvert_exporter": "python",
   "pygments_lexer": "ipython3",
   "version": "3.9.7"
  },
  "colab": {
   "name": "pandas_vs_terality.ipynb",
   "provenance": []
  }
 },
 "nbformat": 4,
 "nbformat_minor": 5
}