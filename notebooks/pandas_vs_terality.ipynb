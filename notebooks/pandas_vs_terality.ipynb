{
 "cells": [
  {
   "cell_type": "code",
   "execution_count": 1,
   "id": "1b77b18c",
   "metadata": {},
   "outputs": [],
   "source": [
    "import pandas as pd\n",
    "import terality as tr\n",
    "import time\n",
    "from datetime import datetime\n"
   ]
  },
  {
   "cell_type": "code",
   "execution_count": 2,
   "outputs": [],
   "source": [
    "def get_time():\n",
    "    return datetime.now()"
   ],
   "metadata": {
    "collapsed": false,
    "pycharm": {
     "name": "#%%\n"
    }
   }
  },
  {
   "cell_type": "code",
   "execution_count": 3,
   "outputs": [],
   "source": [
    "def get_time_diff(start_time, end_time):\n",
    "    return (end_time - start_time).total_seconds()"
   ],
   "metadata": {
    "collapsed": false,
    "pycharm": {
     "name": "#%%\n"
    }
   }
  },
  {
   "cell_type": "code",
   "execution_count": 4,
   "outputs": [],
   "source": [
    "def load_data(file_path, file_format = 'CSV', use_lib = 'PANDAS'):\n",
    "    if file_format == 'PARQUET':\n",
    "        if use_lib == 'PANDAS':\n",
    "            df = pd.read_parquet(file_path)\n",
    "        else:\n",
    "            df = tr.read_parquet(file_path)\n",
    "    else:\n",
    "        if use_lib == 'PANDAS':\n",
    "            df = pd.read_csv(file_path)\n",
    "        else:\n",
    "            df = tr.read_csv(file_path)\n",
    "    return df\n"
   ],
   "metadata": {
    "collapsed": false,
    "pycharm": {
     "name": "#%%\n"
    }
   }
  },
  {
   "cell_type": "code",
   "execution_count": 5,
   "id": "d71524c0",
   "metadata": {},
   "outputs": [],
   "source": [
    "def set_key(df, index):\n",
    "    df_indexed = df.set_index(index)\n",
    "    return df_indexed"
   ]
  },
  {
   "cell_type": "code",
   "execution_count": 6,
   "outputs": [
    {
     "name": "stdout",
     "output_type": "stream",
     "text": [
      "0.826269\n"
     ]
    }
   ],
   "source": [
    "start_time = get_time()\n",
    "\n",
    "contact_pdf = load_data('..\\\\data\\\\contact.parquet', 'PARQUET', 'PANDAS')\n",
    "customer_pdf = load_data('..\\\\data\\\\customer.parquet', 'PARQUET', 'PANDAS')\n",
    "product_pdf = load_data('..\\\\data\\\\product.parquet', 'PARQUET', 'PANDAS')\n",
    "state_pdf = load_data('..\\\\data\\\\state.parquet', 'PARQUET', 'PANDAS')\n",
    "txn_pdf = load_data('..\\\\data\\\\txn.csv', 'CSV', 'PANDAS')\n",
    "touch_pdf = load_data('..\\\\data\\\\touch.parquet', 'PARQUET', 'PANDAS')\n",
    "\n",
    "end_time = get_time()\n",
    "print(get_time_diff(start_time, end_time))"
   ],
   "metadata": {
    "collapsed": false,
    "pycharm": {
     "name": "#%%\n"
    }
   }
  },
  {
   "cell_type": "code",
   "execution_count": 7,
   "outputs": [
    {
     "name": "stderr",
     "output_type": "stream",
     "text": [
      "INFO:terality:The result of te.read_parquet was retrieved from cache [docs: https://docs.terality.com/getting-terality/user-guide/caching].\n",
      "INFO:terality:The result of te.read_parquet was retrieved from cache [docs: https://docs.terality.com/getting-terality/user-guide/caching].\n",
      "INFO:terality:The result of te.read_parquet was retrieved from cache [docs: https://docs.terality.com/getting-terality/user-guide/caching].\n",
      "INFO:terality:The result of te.read_parquet was retrieved from cache [docs: https://docs.terality.com/getting-terality/user-guide/caching].\n",
      "INFO:terality:The result of te.read_csv was retrieved from cache [docs: https://docs.terality.com/getting-terality/user-guide/caching].\n",
      "INFO:terality:The result of te.read_parquet was retrieved from cache [docs: https://docs.terality.com/getting-terality/user-guide/caching].\n"
     ]
    },
    {
     "name": "stdout",
     "output_type": "stream",
     "text": [
      "4.866121\n"
     ]
    }
   ],
   "source": [
    "start_time = get_time()\n",
    "\n",
    "contact_tdf = load_data('..\\\\data\\\\contact.parquet', 'PARQUET', 'TERALITY')\n",
    "customer_tdf = load_data('..\\\\data\\\\customer.parquet', 'PARQUET', 'TERALITY')\n",
    "product_tdf = load_data('..\\\\data\\\\product.parquet', 'PARQUET', 'TERALITY')\n",
    "state_tdf = load_data('..\\\\data\\\\state.parquet', 'PARQUET', 'TERALITY')\n",
    "txn_tdf = load_data('..\\\\data\\\\txn.csv', 'CSV', 'TERALITY')\n",
    "touch_tdf = load_data('..\\\\data\\\\touch.parquet', 'PARQUET', 'TERALITY')\n",
    "\n",
    "end_time = get_time()\n",
    "print(get_time_diff(start_time, end_time))"
   ],
   "metadata": {
    "collapsed": false,
    "pycharm": {
     "name": "#%%\n"
    }
   }
  },
  {
   "cell_type": "code",
   "execution_count": 8,
   "outputs": [
    {
     "name": "stdout",
     "output_type": "stream",
     "text": [
      "107.046883\n"
     ]
    }
   ],
   "source": [
    "start_time = get_time()\n",
    "contact_pdf.sum()['opportunity']\n",
    "end_time = get_time()\n",
    "\n",
    "print(get_time_diff(start_time, end_time))"
   ],
   "metadata": {
    "collapsed": false,
    "pycharm": {
     "name": "#%%\n"
    }
   }
  },
  {
   "cell_type": "code",
   "execution_count": 9,
   "outputs": [
    {
     "name": "stderr",
     "output_type": "stream",
     "text": [
      "INFO:terality:The result of te.dataframe.sum was retrieved from cache [docs: https://docs.terality.com/getting-terality/user-guide/caching].\n"
     ]
    },
    {
     "name": "stdout",
     "output_type": "stream",
     "text": [
      "0.366718\n"
     ]
    }
   ],
   "source": [
    "start_time = get_time()\n",
    "contact_tdf.sum()['opportunity']\n",
    "end_time = get_time()\n",
    "\n",
    "print(get_time_diff(start_time, end_time))"
   ],
   "metadata": {
    "collapsed": false,
    "pycharm": {
     "name": "#%%\n"
    }
   }
  },
  {
   "cell_type": "code",
   "execution_count": 10,
   "outputs": [
    {
     "name": "stdout",
     "output_type": "stream",
     "text": [
      "Net Txn Amount:  19673120943.690998\n",
      "3476.233505\n"
     ]
    }
   ],
   "source": [
    "start_time = get_time()\n",
    "net_txn_amount = txn_pdf.sum()['sales']\n",
    "print(\"Net Txn Amount: \", net_txn_amount)\n",
    "end_time = get_time()\n",
    "\n",
    "print(get_time_diff(start_time, end_time))"
   ],
   "metadata": {
    "collapsed": false,
    "pycharm": {
     "name": "#%%\n"
    }
   }
  },
  {
   "cell_type": "code",
   "execution_count": 11,
   "outputs": [
    {
     "name": "stderr",
     "output_type": "stream",
     "text": [
      "WARNING:urllib3.connectionpool:Retrying (Retry(total=2, connect=None, read=None, redirect=40, status=None)) after connection broken by 'ProtocolError('Connection aborted.', ConnectionResetError(10054, 'An existing connection was forcibly closed by the remote host', None, 10054, None))': /v1/transfers\n",
      "INFO:terality:The result of te.dataframe.sum was retrieved from cache [docs: https://docs.terality.com/getting-terality/user-guide/caching].\n"
     ]
    },
    {
     "name": "stdout",
     "output_type": "stream",
     "text": [
      "Net Txn Amount:  19673120943.691\n",
      "23.19572\n"
     ]
    }
   ],
   "source": [
    "start_time = get_time()\n",
    "net_txn_amount = txn_tdf.sum()['sales']\n",
    "print(\"Net Txn Amount: \", net_txn_amount)\n",
    "end_time = get_time()\n",
    "\n",
    "print(get_time_diff(start_time, end_time))"
   ],
   "metadata": {
    "collapsed": false,
    "pycharm": {
     "name": "#%%\n"
    }
   }
  },
  {
   "cell_type": "code",
   "execution_count": 12,
   "outputs": [
    {
     "name": "stdout",
     "output_type": "stream",
     "text": [
      "0.676331\n"
     ]
    }
   ],
   "source": [
    "start_time = get_time()\n",
    "txn_pdf.groupby('contact_id').sum()[['sales'] + ['redemptions']]\n",
    "end_time = get_time()\n",
    "\n",
    "print(get_time_diff(start_time, end_time))"
   ],
   "metadata": {
    "collapsed": false,
    "pycharm": {
     "name": "#%%\n"
    }
   }
  },
  {
   "cell_type": "code",
   "execution_count": 13,
   "id": "c87ece3d",
   "metadata": {},
   "outputs": [
    {
     "name": "stderr",
     "output_type": "stream",
     "text": [
      "INFO:terality:The result of te.dataframe.groupby was retrieved from cache [docs: https://docs.terality.com/getting-terality/user-guide/caching].\n",
      "INFO:terality:The result of te.dataframe_groupby.sum was retrieved from cache [docs: https://docs.terality.com/getting-terality/user-guide/caching].\n"
     ]
    },
    {
     "name": "stdout",
     "output_type": "stream",
     "text": [
      "0.942542\n"
     ]
    }
   ],
   "source": [
    "start_time = get_time()\n",
    "txn_tdf.groupby('contact_id').sum()[['sales'] + ['redemptions']]\n",
    "end_time = get_time()\n",
    "\n",
    "print(get_time_diff(start_time, end_time))"
   ]
  },
  {
   "cell_type": "code",
   "execution_count": 14,
   "id": "06afc84d",
   "metadata": {
    "scrolled": false
   },
   "outputs": [
    {
     "name": "stdout",
     "output_type": "stream",
     "text": [
      "0.0\n"
     ]
    }
   ],
   "source": [
    "start_time = get_time()\n",
    "# Make a copy of a df\n",
    "txn_pdf_copy = txn_pdf\n",
    "end_time = get_time()\n",
    "\n",
    "print(get_time_diff(start_time, end_time))"
   ]
  },
  {
   "cell_type": "code",
   "execution_count": 15,
   "id": "540d09a2",
   "metadata": {},
   "outputs": [
    {
     "name": "stdout",
     "output_type": "stream",
     "text": [
      "0.0\n"
     ]
    }
   ],
   "source": [
    "start_time = get_time()\n",
    "# Make a copy of a df\n",
    "txn_tdf_copy = txn_tdf\n",
    "end_time = get_time()\n",
    "\n",
    "print(get_time_diff(start_time, end_time))"
   ]
  },
  {
   "cell_type": "code",
   "execution_count": 16,
   "id": "9ce1443b",
   "metadata": {},
   "outputs": [
    {
     "name": "stdout",
     "output_type": "stream",
     "text": [
      "<class 'pandas.core.frame.DataFrame'>\n",
      "RangeIndex: 1048575 entries, 0 to 1048574\n",
      "Data columns (total 6 columns):\n",
      " #   Column       Non-Null Count    Dtype  \n",
      "---  ------       --------------    -----  \n",
      " 0   txn_id       1048575 non-null  int64  \n",
      " 1   txn_date     1048575 non-null  object \n",
      " 2   contact_id   1048575 non-null  int64  \n",
      " 3   product_id   1048575 non-null  object \n",
      " 4   sales        1048575 non-null  float64\n",
      " 5   redemptions  1048575 non-null  float64\n",
      "dtypes: float64(2), int64(2), object(2)\n",
      "memory usage: 48.0+ MB\n",
      "0.155092\n"
     ]
    }
   ],
   "source": [
    "# Describes the dataframe columns and their types\n",
    "start_time = get_time()\n",
    "txn_pdf.info()\n",
    "end_time = get_time()\n",
    "\n",
    "print(get_time_diff(start_time, end_time))"
   ]
  },
  {
   "cell_type": "code",
   "execution_count": 17,
   "id": "af2347d0",
   "metadata": {
    "scrolled": true
   },
   "outputs": [
    {
     "name": "stderr",
     "output_type": "stream",
     "text": [
      "INFO:terality:The result of te.dataframe.info was retrieved from cache [docs: https://docs.terality.com/getting-terality/user-guide/caching].\n"
     ]
    },
    {
     "name": "stdout",
     "output_type": "stream",
     "text": [
      "<class 'terality.DataFrame'>\n",
      "Index: 1048575 entries, 0 to 1048574\n",
      "Data columns (total 6 columns):\n",
      " #   Column       Non-Null Count  Dtype\n",
      "---  ------       --------------  -----\n",
      " 0   txn_id       1048575 non-null  int64\n",
      " 1   txn_date     1048575 non-null  object\n",
      " 2   contact_id   1048575 non-null  int64\n",
      " 3   product_id   1048575 non-null  object\n",
      " 4   sales        1048575 non-null  float64\n",
      " 5   redemptions  1048575 non-null  float64\n",
      "dtypes: int64(2), object(2), float64(2)\n",
      "memory usage: 167.9 MB (run with deep=True)\n",
      "0.2267\n"
     ]
    }
   ],
   "source": [
    "# Describes the dataframe columns and their types\n",
    "start_time = get_time()\n",
    "txn_tdf.info()\n",
    "end_time = get_time()\n",
    "\n",
    "print(get_time_diff(start_time, end_time))"
   ]
  },
  {
   "cell_type": "code",
   "execution_count": 18,
   "id": "102b12ce",
   "metadata": {},
   "outputs": [
    {
     "name": "stdout",
     "output_type": "stream",
     "text": [
      "0.259977\n"
     ]
    }
   ],
   "source": [
    "# Describes the dataframe columns and their types\n",
    "start_time = get_time()\n",
    "txn_pdf.describe()\n",
    "end_time = get_time()\n",
    "\n",
    "print(get_time_diff(start_time, end_time))"
   ]
  },
  {
   "cell_type": "code",
   "execution_count": 19,
   "id": "f01a3c02",
   "metadata": {},
   "outputs": [
    {
     "name": "stderr",
     "output_type": "stream",
     "text": [
      "WARNING:terality:Slow operation: DataFrame.describe was executed on our non-parallelized engine [https://www.terality.com/post/inside-terality-the-non-parallelized-engine]. Please reach out to support@terality.com if you’d like us to prioritise the implementation of the function.\n"
     ]
    },
    {
     "name": "stdout",
     "output_type": "stream",
     "text": [
      "17.205624\n"
     ]
    }
   ],
   "source": [
    "# Describes the dataframe columns and their types\n",
    "start_time = get_time()\n",
    "txn_tdf.describe()\n",
    "end_time = get_time()\n",
    "\n",
    "print(get_time_diff(start_time, end_time))"
   ]
  },
  {
   "cell_type": "code",
   "execution_count": 20,
   "id": "a07c8171",
   "metadata": {},
   "outputs": [
    {
     "name": "stdout",
     "output_type": "stream",
     "text": [
      "0.0\n"
     ]
    }
   ],
   "source": [
    "# Count of rows\n",
    "start_time = get_time()\n",
    "txn_pdf.index.size\n",
    "end_time = get_time()\n",
    "\n",
    "print(get_time_diff(start_time, end_time))"
   ]
  },
  {
   "cell_type": "code",
   "execution_count": 21,
   "id": "d3380e97",
   "metadata": {},
   "outputs": [
    {
     "name": "stdout",
     "output_type": "stream",
     "text": [
      "0.598509\n"
     ]
    }
   ],
   "source": [
    "# Count of rows\n",
    "start_time = get_time()\n",
    "txn_tdf.index.size\n",
    "end_time = get_time()\n",
    "\n",
    "print(get_time_diff(start_time, end_time))"
   ]
  },
  {
   "cell_type": "code",
   "execution_count": 22,
   "id": "0458510c",
   "metadata": {},
   "outputs": [
    {
     "name": "stdout",
     "output_type": "stream",
     "text": [
      "1.625492\n"
     ]
    }
   ],
   "source": [
    "# Sort by ticker\n",
    "start_time = get_time()\n",
    "txn_pdf.sort_values(by = 'product_id')\n",
    "end_time = get_time()\n",
    "\n",
    "print(get_time_diff(start_time, end_time))\n"
   ]
  },
  {
   "cell_type": "code",
   "execution_count": 23,
   "id": "eb196bad",
   "metadata": {},
   "outputs": [
    {
     "name": "stdout",
     "output_type": "stream",
     "text": [
      "5.210178\n"
     ]
    }
   ],
   "source": [
    "# Sort by ticker\n",
    "start_time = get_time()\n",
    "txn_tdf.sort_values(by = 'product_id')\n",
    "end_time = get_time()\n",
    "\n",
    "print(get_time_diff(start_time, end_time))\n"
   ]
  },
  {
   "cell_type": "code",
   "execution_count": 24,
   "id": "14d1427b",
   "metadata": {},
   "outputs": [
    {
     "name": "stdout",
     "output_type": "stream",
     "text": [
      "0.0\n"
     ]
    }
   ],
   "source": [
    "# Slicing\n",
    "start_time = get_time()\n",
    "txn_pdf[113:211]\n",
    "end_time = get_time()\n",
    "\n",
    "print(get_time_diff(start_time, end_time))\n"
   ]
  },
  {
   "cell_type": "code",
   "execution_count": 25,
   "id": "f55e2548",
   "metadata": {},
   "outputs": [
    {
     "name": "stdout",
     "output_type": "stream",
     "text": [
      "0.952517\n"
     ]
    }
   ],
   "source": [
    "# Slicing\n",
    "start_time = get_time()\n",
    "txn_tdf[113:211]\n",
    "end_time = get_time()\n",
    "\n",
    "print(get_time_diff(start_time, end_time))\n"
   ]
  },
  {
   "cell_type": "code",
   "execution_count": 26,
   "id": "65a9a389",
   "metadata": {},
   "outputs": [
    {
     "name": "stdout",
     "output_type": "stream",
     "text": [
      "0.025832\n"
     ]
    }
   ],
   "source": [
    "# Selecting a single row\n",
    "start_time = get_time()\n",
    "txn_pdf[txn_pdf['txn_id'] == 423603758]\n",
    "end_time = get_time()\n",
    "\n",
    "print(get_time_diff(start_time, end_time))\n"
   ]
  },
  {
   "cell_type": "code",
   "execution_count": 27,
   "outputs": [
    {
     "name": "stdout",
     "output_type": "stream",
     "text": [
      "2.750294\n"
     ]
    }
   ],
   "source": [
    "# Selecting a single row\n",
    "start_time = get_time()\n",
    "txn_tdf[txn_tdf['txn_id'] == 423603758]\n",
    "end_time = get_time()\n",
    "\n",
    "print(get_time_diff(start_time, end_time))\n"
   ],
   "metadata": {
    "collapsed": false,
    "pycharm": {
     "name": "#%%\n"
    }
   }
  },
  {
   "cell_type": "code",
   "execution_count": 28,
   "id": "fd43772b",
   "metadata": {},
   "outputs": [
    {
     "name": "stdout",
     "output_type": "stream",
     "text": [
      "0.086713\n"
     ]
    }
   ],
   "source": [
    "#filters\n",
    "start_time = get_time()\n",
    "txn_pdf[txn_pdf['product_id'].isin(['FPHAX', 'VSIAX', 'PRNHX', 'FKTFX', 'VEIEX'])]\n",
    "end_time = get_time()\n",
    "\n",
    "print(get_time_diff(start_time, end_time))\n"
   ]
  },
  {
   "cell_type": "code",
   "execution_count": 29,
   "id": "33af3067",
   "metadata": {},
   "outputs": [
    {
     "name": "stdout",
     "output_type": "stream",
     "text": [
      "2.891353\n"
     ]
    }
   ],
   "source": [
    "#filters\n",
    "start_time = get_time()\n",
    "txn_tdf[txn_tdf['product_id'].isin(['FPHAX', 'VSIAX', 'PRNHX', 'FKTFX', 'VEIEX'])]\n",
    "end_time = get_time()\n",
    "\n",
    "print(get_time_diff(start_time, end_time))\n"
   ]
  },
  {
   "cell_type": "code",
   "execution_count": null,
   "id": "dc0f4a87",
   "metadata": {},
   "outputs": [],
   "source": [
    "txn_df1 = txn_df[0:5]\n",
    "#txn_df1\n",
    "type(txn_df1)\n",
    "\n",
    "#txn_df1.head()\n",
    "\n",
    "#txn_df2 = txn_df[6:10]\n",
    "#txn_df3 = txn_df[11:15]\n",
    "\n",
    "#txn_df123 = pd.concat(txn_df1,txn_df2,txn_df3)"
   ]
  },
  {
   "cell_type": "code",
   "execution_count": null,
   "id": "66e2657f",
   "metadata": {},
   "outputs": [],
   "source": [
    "cc_df = pd.merge(contact_df,customer_df, on = 'customer_id')\n",
    "cc_df.head()"
   ]
  },
  {
   "cell_type": "code",
   "execution_count": null,
   "id": "e6c55663",
   "metadata": {},
   "outputs": [],
   "source": [
    "product_df1 = product_df.groupby(['market_cap']).sum()['tna']\n",
    "product_df1.head()"
   ]
  },
  {
   "cell_type": "code",
   "execution_count": null,
   "id": "8dba01db",
   "metadata": {},
   "outputs": [],
   "source": [
    "product_df1 = product_df.groupby(['market_cap','exp_ratio']).sum()['tna']\n",
    "product_df1"
   ]
  },
  {
   "cell_type": "code",
   "execution_count": null,
   "id": "0ac64730",
   "metadata": {
    "scrolled": true
   },
   "outputs": [],
   "source": [
    "#joins 2 dfs on a the mentioned index\n",
    "joint_df = contact_df.set_index('customer_id').join(customer_df.set_index('customer_id'), how = 'inner')\n",
    "\n",
    "joint_df.head()\n"
   ]
  },
  {
   "cell_type": "code",
   "execution_count": null,
   "id": "b6176a2b",
   "metadata": {},
   "outputs": [],
   "source": [
    "\n",
    "joint_df = customer_df.set_index('customer_id').join(contact_df.set_index('customer_id'), how = 'left')\n",
    "\n",
    "joint_df.count()\n"
   ]
  },
  {
   "cell_type": "code",
   "execution_count": null,
   "id": "3e868805",
   "metadata": {},
   "outputs": [],
   "source": [
    "#not specifying how gives inner join\n",
    "#Txn by ms_rating\n",
    "txn_product_df = txn_df.set_index('ticker').join(product_df.set_index('ticker'))\n",
    "txn_product_df.head()\n",
    "\n",
    "txn_product_df1 = txn_product_df[['ms_rating','txn_amount']]\n",
    "txn_product_df2 = txn_product_df1.groupby('ms_rating').sum()['txn_amount']\n",
    "txn_product_df2.head()\n",
    "\n"
   ]
  },
  {
   "cell_type": "code",
   "execution_count": null,
   "id": "53b93432",
   "metadata": {},
   "outputs": [],
   "source": [
    "#Contact Id based txns\n",
    "txn_contact_df = txn_df.set_index('contact_id').join(contact_df.set_index('contact_id'))\n",
    "txn_contact_df.head()\n",
    "\n",
    "txn_contact_df1 = txn_contact_df['txn_amount']\n",
    "txn_contact_df1.head()\n",
    "#txn_contact_df2 = txn_contact_df1.groupby(txn_contact_df1.index).sum()\n",
    "#txn_contact_df2.head()"
   ]
  }
 ],
 "metadata": {
  "kernelspec": {
   "display_name": "Python 3 (ipykernel)",
   "language": "python",
   "name": "python3"
  },
  "language_info": {
   "codemirror_mode": {
    "name": "ipython",
    "version": 3
   },
   "file_extension": ".py",
   "mimetype": "text/x-python",
   "name": "python",
   "nbconvert_exporter": "python",
   "pygments_lexer": "ipython3",
   "version": "3.9.7"
  }
 },
 "nbformat": 4,
 "nbformat_minor": 5
}