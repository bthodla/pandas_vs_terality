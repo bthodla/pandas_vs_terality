{
  "cells": [
    {
      "cell_type": "code",
      "execution_count": 98,
      "id": "1b77b18c",
      "metadata": {
        "id": "1b77b18c"
      },
      "outputs": [],
      "source": [
        "import pandas as pd\n",
        "import terality as te\n",
        "from codetiming import Timer\n",
        "import random"
      ]
    },
    {
      "cell_type": "code",
      "execution_count": 99,
      "id": "d645ab8c",
      "metadata": {
        "pycharm": {
          "name": "#%%\n"
        },
        "id": "d645ab8c"
      },
      "outputs": [],
      "source": [
        "file_path = \"C:\\\\\\\\Users\\\\\\\\bhask\\\\\\\\Google Drive\\\\\\\\datasets\\\\\\\\Chicago_taxi_trips\\\\\\\\\"\n",
        "timer = Timer(name=\"Terality Tests\")"
      ]
    },
    {
      "cell_type": "code",
      "execution_count": 100,
      "outputs": [],
      "source": [
        "# Disabling Terality cache for testing\n",
        "cache_disabler = te.disable_cache()\n",
        "cache_disabler.__enter__()"
      ],
      "metadata": {
        "pycharm": {
          "name": "#%%\n"
        },
        "id": "3Bq5hN5jzRVV"
      },
      "id": "3Bq5hN5jzRVV"
    },
    {
      "cell_type": "code",
      "source": [
        "def get_slice_range(limit):\n",
        "    start = random.randint(1, limit)\n",
        "    end = random.randint(start, start + 1000)\n",
        "    return start, end"
      ],
      "metadata": {
        "id": "vhIvTt-ZfNxp"
      },
      "id": "vhIvTt-ZfNxp",
      "execution_count": 101,
      "outputs": []
    },
    {
      "cell_type": "code",
      "execution_count": 102,
      "outputs": [],
      "source": [
        "# A list of dataframe columns renamed by converting to lowercase and replacing spaces with '_'\n",
        "columns = [\n",
        "'trip_id',\n",
        "'taxi_id',\n",
        "'trip_start_timestamp',\n",
        "'trip_end_timestamp',\n",
        "'trip_seconds',\n",
        "'trip_miles',\n",
        "'pickup_census_tract',\n",
        "'dropoff_census_tract',\n",
        "'pickup_community_area',\n",
        "'dropoff_community_area',\n",
        "'fare',\n",
        "'tips',\n",
        "'tolls',\n",
        "'extras',\n",
        "'trip_total',\n",
        "'payment_type',\n",
        "'company',\n",
        "'pickup_centroid_latitude',\n",
        "'pickup_centroid_longitude',\n",
        "'pickup_centroid_location',\n",
        "'dropoff_centroid_latitude',\n",
        "'dropoff_centroid_longitude',\n",
        "'dropoff_centroid__location'\n",
        "]"
      ],
      "metadata": {
        "pycharm": {
          "name": "#%%\n"
        },
        "id": "aty6tzzvxjgk"
      },
      "id": "aty6tzzvxjgk"
    },
    {
      "cell_type": "code",
      "execution_count": 103,
      "outputs": [
        {
          "output_type": "stream",
          "name": "stdout",
          "text": [
            "Elapsed time: 162.9772 seconds\n"
          ]
        },
        {
          "output_type": "execute_result",
          "data": {
            "text/plain": [
              "162.97720410001057"
            ]
          },
          "metadata": {},
          "execution_count": 103
        }
      ],
      "source": [
        "# Loading data into dataframes using Pandas\n",
        "timer.start()\n",
        "taxi_trips_pdf = pd.read_csv(file_path + \"Taxi_Trips_2019_2020.csv\")\n",
        "timer.stop()"
      ],
      "metadata": {
        "pycharm": {
          "name": "#%%\n"
        },
        "colab": {
          "base_uri": "https://localhost:8080/"
        },
        "id": "5ZPyht2ozRVW",
        "outputId": "9a4c3beb-815f-46c0-8984-3830a75d4ea2"
      },
      "id": "5ZPyht2ozRVW"
    },
    {
      "cell_type": "code",
      "execution_count": 104,
      "outputs": [
        {
          "output_type": "stream",
          "name": "stderr",
          "text": [
            "C:\\\\Users\\\\bhask\\\\Google Drive\\\\datasets\\\\Chicago_taxi_trips\\\\Taxi_Trips_2019_2020.csv: 100%|█| 8.48G/8.48G [25:37<00:0\n",
            "WARNING:urllib3.connectionpool:Retrying (Retry(total=2, connect=None, read=None, redirect=40, status=None)) after connection broken by 'ProtocolError('Connection aborted.', ConnectionResetError(10054, 'An existing connection was forcibly closed by the remote host', None, 10054, None))': /v1/compute\n"
          ]
        },
        {
          "output_type": "stream",
          "name": "stdout",
          "text": [
            "Elapsed time: 1587.6724 seconds\n"
          ]
        },
        {
          "output_type": "execute_result",
          "data": {
            "text/plain": [
              "1587.6723926999985"
            ]
          },
          "metadata": {},
          "execution_count": 104
        }
      ],
      "source": [
        "# Loading data into dataframes using Terality\n",
        "timer.start()\n",
        "taxi_trips_tdf = te.read_csv(file_path + \"Taxi_Trips_2019_2020.csv\")\n",
        "timer.stop()"
      ],
      "metadata": {
        "pycharm": {
          "name": "#%%\n"
        },
        "colab": {
          "base_uri": "https://localhost:8080/"
        },
        "id": "ZKX4PZVRzRVY",
        "outputId": "41964eb8-276d-474c-f3fb-79fd0a4cce9f"
      },
      "id": "ZKX4PZVRzRVY"
    },
    {
      "cell_type": "code",
      "execution_count": 105,
      "outputs": [
        {
          "output_type": "stream",
          "name": "stdout",
          "text": [
            "Elapsed time: 0.0161 seconds\n"
          ]
        },
        {
          "output_type": "execute_result",
          "data": {
            "text/plain": [
              "0.01609559998905752"
            ]
          },
          "metadata": {},
          "execution_count": 105
        }
      ],
      "source": [
        "timer.start()\n",
        "taxi_trips_pdf.head()\n",
        "timer.stop()"
      ],
      "metadata": {
        "pycharm": {
          "name": "#%%\n"
        },
        "colab": {
          "base_uri": "https://localhost:8080/"
        },
        "id": "zCbVBCJRzRVY",
        "outputId": "4658967d-230f-4cab-83e5-c6abc4de4930"
      },
      "id": "zCbVBCJRzRVY"
    },
    {
      "cell_type": "code",
      "execution_count": 106,
      "outputs": [
        {
          "output_type": "stream",
          "name": "stdout",
          "text": [
            "Elapsed time: 4.4659 seconds\n"
          ]
        },
        {
          "output_type": "execute_result",
          "data": {
            "text/plain": [
              "4.465903899996192"
            ]
          },
          "metadata": {},
          "execution_count": 106
        }
      ],
      "source": [
        "timer.start()\n",
        "taxi_trips_tdf.head()\n",
        "timer.stop()"
      ],
      "metadata": {
        "pycharm": {
          "name": "#%%\n"
        },
        "colab": {
          "base_uri": "https://localhost:8080/"
        },
        "id": "3nv2ZkzLzRVZ",
        "outputId": "2ff39189-6258-4125-bc1c-6dbec0f90777"
      },
      "id": "3nv2ZkzLzRVZ"
    },
    {
      "cell_type": "code",
      "execution_count": 107,
      "outputs": [
        {
          "output_type": "stream",
          "name": "stdout",
          "text": [
            "Elapsed time: 0.0260 seconds\n"
          ]
        },
        {
          "output_type": "execute_result",
          "data": {
            "text/plain": [
              "0.02601940000022296"
            ]
          },
          "metadata": {},
          "execution_count": 107
        }
      ],
      "source": [
        "# Rename the columns of the Pandas dataframe\n",
        "timer.start()\n",
        "taxi_trips_pdf.columns = columns\n",
        "timer.stop()"
      ],
      "metadata": {
        "pycharm": {
          "name": "#%%\n"
        },
        "colab": {
          "base_uri": "https://localhost:8080/"
        },
        "id": "rZZFRDruzRVa",
        "outputId": "c0f6ad59-81fc-4081-b524-1d8d67db26d9"
      },
      "id": "rZZFRDruzRVa"
    },
    {
      "cell_type": "code",
      "execution_count": 108,
      "outputs": [
        {
          "output_type": "stream",
          "name": "stdout",
          "text": [
            "Elapsed time: 2.8640 seconds\n"
          ]
        },
        {
          "output_type": "execute_result",
          "data": {
            "text/plain": [
              "2.863973100000294"
            ]
          },
          "metadata": {},
          "execution_count": 108
        }
      ],
      "source": [
        "# Rename the columns of the Terality dataframe\n",
        "timer.start()\n",
        "taxi_trips_tdf.columns = columns\n",
        "timer.stop()"
      ],
      "metadata": {
        "pycharm": {
          "name": "#%%\n"
        },
        "colab": {
          "base_uri": "https://localhost:8080/"
        },
        "id": "denCFO8hzRVa",
        "outputId": "c0e98d4f-df74-40c0-ace9-1cb3cf0508ff"
      },
      "id": "denCFO8hzRVa"
    },
    {
      "cell_type": "code",
      "execution_count": 109,
      "outputs": [
        {
          "output_type": "stream",
          "name": "stdout",
          "text": [
            "Pandas DF Row Count before:  20366397\n",
            "Elapsed time: 0.0026 seconds\n"
          ]
        },
        {
          "output_type": "execute_result",
          "data": {
            "text/plain": [
              "0.002559200001996942"
            ]
          },
          "metadata": {},
          "execution_count": 109
        }
      ],
      "source": [
        "# Row count before cleanup - using Pandas\n",
        "timer.start()\n",
        "print(\"Pandas DF Row Count before: % d\" % taxi_trips_pdf.shape[0])\n",
        "timer.stop()"
      ],
      "metadata": {
        "pycharm": {
          "name": "#%%\n"
        },
        "colab": {
          "base_uri": "https://localhost:8080/"
        },
        "id": "nwG21e1XzRVb",
        "outputId": "a44f0e02-88ef-4a8e-c7fe-792d70393b59"
      },
      "id": "nwG21e1XzRVb"
    },
    {
      "cell_type": "code",
      "execution_count": 110,
      "outputs": [
        {
          "output_type": "stream",
          "name": "stdout",
          "text": [
            "Elapsed time: 13.7942 seconds\n"
          ]
        },
        {
          "output_type": "execute_result",
          "data": {
            "text/plain": [
              "13.794167400003062"
            ]
          },
          "metadata": {},
          "execution_count": 110
        }
      ],
      "source": [
        "# Remove all the rows with NaN values using Pandas. There is plenty of data even otherwise\n",
        "timer.start()\n",
        "taxi_trips_pdf.dropna(how='any',axis=0,inplace=True)\n",
        "timer.stop()"
      ],
      "metadata": {
        "pycharm": {
          "name": "#%%\n"
        },
        "colab": {
          "base_uri": "https://localhost:8080/"
        },
        "id": "-4ag50jDzRVb",
        "outputId": "aa34572a-3ac2-46f1-dca9-af39e755cfe1"
      },
      "id": "-4ag50jDzRVb"
    },
    {
      "cell_type": "code",
      "execution_count": 111,
      "outputs": [
        {
          "output_type": "stream",
          "name": "stdout",
          "text": [
            "Pandas DF Row Count after:  12199631\n",
            "Elapsed time: 0.0014 seconds\n"
          ]
        },
        {
          "output_type": "execute_result",
          "data": {
            "text/plain": [
              "0.0014073000056669116"
            ]
          },
          "metadata": {},
          "execution_count": 111
        }
      ],
      "source": [
        "# Row count after cleanup - using Pandas\n",
        "timer.start()\n",
        "row_count = taxi_trips_pdf.shape[0]\n",
        "print(\"Pandas DF Row Count after: % d\" % row_count)\n",
        "timer.stop()"
      ],
      "metadata": {
        "pycharm": {
          "name": "#%%\n"
        },
        "colab": {
          "base_uri": "https://localhost:8080/"
        },
        "id": "BcEuxTMGzRVb",
        "outputId": "4c79d6fb-a5b5-4e7c-f3e0-e83d8ec598c3"
      },
      "id": "BcEuxTMGzRVb"
    },
    {
      "cell_type": "code",
      "execution_count": 112,
      "outputs": [
        {
          "output_type": "stream",
          "name": "stdout",
          "text": [
            "Terality DF Row Count after:  20366397\n",
            "Elapsed time: 1.3118 seconds\n"
          ]
        },
        {
          "output_type": "execute_result",
          "data": {
            "text/plain": [
              "1.3117552999901818"
            ]
          },
          "metadata": {},
          "execution_count": 112
        }
      ],
      "source": [
        "# Row count before cleanup - using Terality\n",
        "timer.start()\n",
        "print(\"Terality DF Row Count after: % d\" % taxi_trips_tdf.shape[0])\n",
        "timer.stop()"
      ],
      "metadata": {
        "pycharm": {
          "name": "#%%\n"
        },
        "colab": {
          "base_uri": "https://localhost:8080/"
        },
        "id": "Fo9LlA5hzRVc",
        "outputId": "85cb1e1c-b5ff-49a8-98ba-2098992a700e"
      },
      "id": "Fo9LlA5hzRVc"
    },
    {
      "cell_type": "code",
      "execution_count": 113,
      "outputs": [
        {
          "output_type": "stream",
          "name": "stdout",
          "text": [
            "Elapsed time: 9.8463 seconds\n"
          ]
        },
        {
          "output_type": "execute_result",
          "data": {
            "text/plain": [
              "9.846295900002588"
            ]
          },
          "metadata": {},
          "execution_count": 113
        }
      ],
      "source": [
        "# Remove all the rows with NaN values using Terality. There is plenty of data even otherwise\n",
        "timer.start()\n",
        "taxi_trips_tdf.dropna(how='any',axis=0,inplace=True)\n",
        "timer.stop()"
      ],
      "metadata": {
        "pycharm": {
          "name": "#%%\n"
        },
        "colab": {
          "base_uri": "https://localhost:8080/"
        },
        "id": "0NshQeD_zRVc",
        "outputId": "cd130b3f-a823-4b7c-bc3e-d793af7dfa4f"
      },
      "id": "0NshQeD_zRVc"
    },
    {
      "cell_type": "code",
      "execution_count": 114,
      "outputs": [
        {
          "output_type": "stream",
          "name": "stdout",
          "text": [
            "Terality DF Row Count after:  12199631\n",
            "Elapsed time: 0.7833 seconds\n"
          ]
        },
        {
          "output_type": "execute_result",
          "data": {
            "text/plain": [
              "0.7832590000034543"
            ]
          },
          "metadata": {},
          "execution_count": 114
        }
      ],
      "source": [
        "# Row count after cleanup - using Terality\n",
        "timer.start()\n",
        "print(\"Terality DF Row Count after: % d\" % taxi_trips_tdf.shape[0])\n",
        "timer.stop()"
      ],
      "metadata": {
        "pycharm": {
          "name": "#%%\n"
        },
        "colab": {
          "base_uri": "https://localhost:8080/"
        },
        "id": "ODvURk5kzRVd",
        "outputId": "b45741bd-3421-4717-c17a-df6e0a3672d7"
      },
      "id": "ODvURk5kzRVd"
    },
    {
      "cell_type": "code",
      "source": [
        "# Adding a new column to store datetime version of string datetimes - Pandas\n",
        "timer.start()\n",
        "taxi_trips_pdf['trip_start_dt'] = pd.to_datetime(taxi_trips_pdf['trip_start_timestamp'], infer_datetime_format=True)\n",
        "taxi_trips_pdf['trip_end_dt'] = pd.to_datetime(taxi_trips_pdf['trip_end_timestamp'], infer_datetime_format=True)\n",
        "taxi_trips_pdf['trip_start_ym'] = taxi_trips_pdf['trip_start_dt'].dt.to_period('M')\n",
        "taxi_trips_pdf['trip_end_ym'] = taxi_trips_pdf['trip_end_dt'].dt.to_period('M')\n",
        "timer.stop()"
      ],
      "metadata": {
        "colab": {
          "base_uri": "https://localhost:8080/"
        },
        "id": "P1Vo-EZnYQBK",
        "outputId": "be888929-a1a6-4776-e78f-06502a49c422"
      },
      "id": "P1Vo-EZnYQBK",
      "execution_count": 115,
      "outputs": [
        {
          "output_type": "stream",
          "name": "stdout",
          "text": [
            "Elapsed time: 12.7713 seconds\n"
          ]
        },
        {
          "output_type": "execute_result",
          "data": {
            "text/plain": [
              "12.771258900000248"
            ]
          },
          "metadata": {},
          "execution_count": 115
        }
      ]
    },
    {
      "cell_type": "code",
      "source": [
        "taxi_trips_pdf.head()"
      ],
      "metadata": {
        "colab": {
          "base_uri": "https://localhost:8080/",
          "height": 342
        },
        "id": "w8QCplTIbNa1",
        "outputId": "685208f6-a21c-40b5-8a48-2b144d09fc3c"
      },
      "id": "w8QCplTIbNa1",
      "execution_count": 116,
      "outputs": [
        {
          "output_type": "execute_result",
          "data": {
            "text/plain": [
              "                                     trip_id  \\\n",
              "16  e066e483f0fc2a583895d24c9dec9864a6608052   \n",
              "19  5431595d222a3e00a9e4b3e93c928c306dc71be3   \n",
              "20  509e870adce2a514a4287e1a305fe4ddabc59836   \n",
              "22  31004535c12d4372c165e34386cde0521a0a72e8   \n",
              "23  da18ec450c1fed02fbbc675faa621f8ac50ab5dd   \n",
              "\n",
              "                                              taxi_id    trip_start_timestamp  \\\n",
              "16  4794c36af4c1852d90b5c8cf5f9f6cd38a8b9c1b68cf48...  01/01/2019 12:00:00 AM   \n",
              "19  86b0677bb9bcda0454863c70a616d1adc45129237848d1...  01/01/2019 12:00:00 AM   \n",
              "20  38f6145c9a2b848dc1baa16fd91087e606b12bcb8757a9...  01/01/2019 12:00:00 AM   \n",
              "22  ee8a2f86372e99ecf87d44e13a20ebda7db8ae69d5b444...  01/01/2019 12:00:00 AM   \n",
              "23  0013da5489fe976daf4f4a7d246073ecf2caed9b12b3be...  01/01/2019 12:00:00 AM   \n",
              "\n",
              "        trip_end_timestamp  trip_seconds  trip_miles  pickup_census_tract  \\\n",
              "16  01/01/2019 12:15:00 AM         600.0         0.0         1.703108e+10   \n",
              "19  01/01/2019 12:00:00 AM         120.0         0.3         1.703184e+10   \n",
              "20  01/01/2019 12:15:00 AM         360.0         0.8         1.703108e+10   \n",
              "22  01/01/2019 12:15:00 AM         360.0         1.0         1.703108e+10   \n",
              "23  01/01/2019 12:15:00 AM         420.0         0.8         1.703108e+10   \n",
              "\n",
              "    dropoff_census_tract  pickup_community_area  dropoff_community_area  ...  \\\n",
              "16          1.703184e+10                    8.0                    32.0  ...   \n",
              "19          1.703132e+10                   32.0                    32.0  ...   \n",
              "20          1.703108e+10                    8.0                     8.0  ...   \n",
              "22          1.703108e+10                    8.0                     8.0  ...   \n",
              "23          1.703108e+10                    8.0                     8.0  ...   \n",
              "\n",
              "    pickup_centroid_latitude  pickup_centroid_longitude  \\\n",
              "16                 41.891972                 -87.612945   \n",
              "19                 41.880994                 -87.632746   \n",
              "20                 41.898332                 -87.620763   \n",
              "22                 41.890922                 -87.618868   \n",
              "23                 41.898332                 -87.620763   \n",
              "\n",
              "                pickup_centroid_location  dropoff_centroid_latitude  \\\n",
              "16  POINT (-87.6129454143 41.8919715078)                  41.880994   \n",
              "19  POINT (-87.6327464887 41.8809944707)                  41.877406   \n",
              "20  POINT (-87.6207628651 41.8983317935)                  41.892508   \n",
              "22  POINT (-87.6188683546 41.8909220259)                  41.892042   \n",
              "23  POINT (-87.6207628651 41.8983317935)                  41.892508   \n",
              "\n",
              "    dropoff_centroid_longitude            dropoff_centroid__location  \\\n",
              "16                  -87.632746  POINT (-87.6327464887 41.8809944707)   \n",
              "19                  -87.621972  POINT (-87.6219716519 41.8774061234)   \n",
              "20                  -87.626215  POINT (-87.6262149064 41.8925077809)   \n",
              "22                  -87.631864  POINT (-87.6318639497 41.8920421365)   \n",
              "23                  -87.626215  POINT (-87.6262149064 41.8925077809)   \n",
              "\n",
              "   trip_start_dt         trip_end_dt  trip_start_ym trip_end_ym  \n",
              "16    2019-01-01 2019-01-01 00:15:00        2019-01     2019-01  \n",
              "19    2019-01-01 2019-01-01 00:00:00        2019-01     2019-01  \n",
              "20    2019-01-01 2019-01-01 00:15:00        2019-01     2019-01  \n",
              "22    2019-01-01 2019-01-01 00:15:00        2019-01     2019-01  \n",
              "23    2019-01-01 2019-01-01 00:15:00        2019-01     2019-01  \n",
              "\n",
              "[5 rows x 27 columns]"
            ],
            "text/html": [
              "<div>\n",
              "<style scoped>\n",
              "    .dataframe tbody tr th:only-of-type {\n",
              "        vertical-align: middle;\n",
              "    }\n",
              "\n",
              "    .dataframe tbody tr th {\n",
              "        vertical-align: top;\n",
              "    }\n",
              "\n",
              "    .dataframe thead th {\n",
              "        text-align: right;\n",
              "    }\n",
              "</style>\n",
              "<table border=\"1\" class=\"dataframe\">\n",
              "  <thead>\n",
              "    <tr style=\"text-align: right;\">\n",
              "      <th></th>\n",
              "      <th>trip_id</th>\n",
              "      <th>taxi_id</th>\n",
              "      <th>trip_start_timestamp</th>\n",
              "      <th>trip_end_timestamp</th>\n",
              "      <th>trip_seconds</th>\n",
              "      <th>trip_miles</th>\n",
              "      <th>pickup_census_tract</th>\n",
              "      <th>dropoff_census_tract</th>\n",
              "      <th>pickup_community_area</th>\n",
              "      <th>dropoff_community_area</th>\n",
              "      <th>...</th>\n",
              "      <th>pickup_centroid_latitude</th>\n",
              "      <th>pickup_centroid_longitude</th>\n",
              "      <th>pickup_centroid_location</th>\n",
              "      <th>dropoff_centroid_latitude</th>\n",
              "      <th>dropoff_centroid_longitude</th>\n",
              "      <th>dropoff_centroid__location</th>\n",
              "      <th>trip_start_dt</th>\n",
              "      <th>trip_end_dt</th>\n",
              "      <th>trip_start_ym</th>\n",
              "      <th>trip_end_ym</th>\n",
              "    </tr>\n",
              "  </thead>\n",
              "  <tbody>\n",
              "    <tr>\n",
              "      <th>16</th>\n",
              "      <td>e066e483f0fc2a583895d24c9dec9864a6608052</td>\n",
              "      <td>4794c36af4c1852d90b5c8cf5f9f6cd38a8b9c1b68cf48...</td>\n",
              "      <td>01/01/2019 12:00:00 AM</td>\n",
              "      <td>01/01/2019 12:15:00 AM</td>\n",
              "      <td>600.0</td>\n",
              "      <td>0.0</td>\n",
              "      <td>1.703108e+10</td>\n",
              "      <td>1.703184e+10</td>\n",
              "      <td>8.0</td>\n",
              "      <td>32.0</td>\n",
              "      <td>...</td>\n",
              "      <td>41.891972</td>\n",
              "      <td>-87.612945</td>\n",
              "      <td>POINT (-87.6129454143 41.8919715078)</td>\n",
              "      <td>41.880994</td>\n",
              "      <td>-87.632746</td>\n",
              "      <td>POINT (-87.6327464887 41.8809944707)</td>\n",
              "      <td>2019-01-01</td>\n",
              "      <td>2019-01-01 00:15:00</td>\n",
              "      <td>2019-01</td>\n",
              "      <td>2019-01</td>\n",
              "    </tr>\n",
              "    <tr>\n",
              "      <th>19</th>\n",
              "      <td>5431595d222a3e00a9e4b3e93c928c306dc71be3</td>\n",
              "      <td>86b0677bb9bcda0454863c70a616d1adc45129237848d1...</td>\n",
              "      <td>01/01/2019 12:00:00 AM</td>\n",
              "      <td>01/01/2019 12:00:00 AM</td>\n",
              "      <td>120.0</td>\n",
              "      <td>0.3</td>\n",
              "      <td>1.703184e+10</td>\n",
              "      <td>1.703132e+10</td>\n",
              "      <td>32.0</td>\n",
              "      <td>32.0</td>\n",
              "      <td>...</td>\n",
              "      <td>41.880994</td>\n",
              "      <td>-87.632746</td>\n",
              "      <td>POINT (-87.6327464887 41.8809944707)</td>\n",
              "      <td>41.877406</td>\n",
              "      <td>-87.621972</td>\n",
              "      <td>POINT (-87.6219716519 41.8774061234)</td>\n",
              "      <td>2019-01-01</td>\n",
              "      <td>2019-01-01 00:00:00</td>\n",
              "      <td>2019-01</td>\n",
              "      <td>2019-01</td>\n",
              "    </tr>\n",
              "    <tr>\n",
              "      <th>20</th>\n",
              "      <td>509e870adce2a514a4287e1a305fe4ddabc59836</td>\n",
              "      <td>38f6145c9a2b848dc1baa16fd91087e606b12bcb8757a9...</td>\n",
              "      <td>01/01/2019 12:00:00 AM</td>\n",
              "      <td>01/01/2019 12:15:00 AM</td>\n",
              "      <td>360.0</td>\n",
              "      <td>0.8</td>\n",
              "      <td>1.703108e+10</td>\n",
              "      <td>1.703108e+10</td>\n",
              "      <td>8.0</td>\n",
              "      <td>8.0</td>\n",
              "      <td>...</td>\n",
              "      <td>41.898332</td>\n",
              "      <td>-87.620763</td>\n",
              "      <td>POINT (-87.6207628651 41.8983317935)</td>\n",
              "      <td>41.892508</td>\n",
              "      <td>-87.626215</td>\n",
              "      <td>POINT (-87.6262149064 41.8925077809)</td>\n",
              "      <td>2019-01-01</td>\n",
              "      <td>2019-01-01 00:15:00</td>\n",
              "      <td>2019-01</td>\n",
              "      <td>2019-01</td>\n",
              "    </tr>\n",
              "    <tr>\n",
              "      <th>22</th>\n",
              "      <td>31004535c12d4372c165e34386cde0521a0a72e8</td>\n",
              "      <td>ee8a2f86372e99ecf87d44e13a20ebda7db8ae69d5b444...</td>\n",
              "      <td>01/01/2019 12:00:00 AM</td>\n",
              "      <td>01/01/2019 12:15:00 AM</td>\n",
              "      <td>360.0</td>\n",
              "      <td>1.0</td>\n",
              "      <td>1.703108e+10</td>\n",
              "      <td>1.703108e+10</td>\n",
              "      <td>8.0</td>\n",
              "      <td>8.0</td>\n",
              "      <td>...</td>\n",
              "      <td>41.890922</td>\n",
              "      <td>-87.618868</td>\n",
              "      <td>POINT (-87.6188683546 41.8909220259)</td>\n",
              "      <td>41.892042</td>\n",
              "      <td>-87.631864</td>\n",
              "      <td>POINT (-87.6318639497 41.8920421365)</td>\n",
              "      <td>2019-01-01</td>\n",
              "      <td>2019-01-01 00:15:00</td>\n",
              "      <td>2019-01</td>\n",
              "      <td>2019-01</td>\n",
              "    </tr>\n",
              "    <tr>\n",
              "      <th>23</th>\n",
              "      <td>da18ec450c1fed02fbbc675faa621f8ac50ab5dd</td>\n",
              "      <td>0013da5489fe976daf4f4a7d246073ecf2caed9b12b3be...</td>\n",
              "      <td>01/01/2019 12:00:00 AM</td>\n",
              "      <td>01/01/2019 12:15:00 AM</td>\n",
              "      <td>420.0</td>\n",
              "      <td>0.8</td>\n",
              "      <td>1.703108e+10</td>\n",
              "      <td>1.703108e+10</td>\n",
              "      <td>8.0</td>\n",
              "      <td>8.0</td>\n",
              "      <td>...</td>\n",
              "      <td>41.898332</td>\n",
              "      <td>-87.620763</td>\n",
              "      <td>POINT (-87.6207628651 41.8983317935)</td>\n",
              "      <td>41.892508</td>\n",
              "      <td>-87.626215</td>\n",
              "      <td>POINT (-87.6262149064 41.8925077809)</td>\n",
              "      <td>2019-01-01</td>\n",
              "      <td>2019-01-01 00:15:00</td>\n",
              "      <td>2019-01</td>\n",
              "      <td>2019-01</td>\n",
              "    </tr>\n",
              "  </tbody>\n",
              "</table>\n",
              "<p>5 rows × 27 columns</p>\n",
              "</div>"
            ]
          },
          "metadata": {},
          "execution_count": 116
        }
      ]
    },
    {
      "cell_type": "code",
      "source": [
        "# Adding a new column to store datetime version of string datetimes - Terality\n",
        "timer.start()\n",
        "taxi_trips_tdf['trip_start_dt'] = te.to_datetime(taxi_trips_tdf['trip_start_timestamp'], infer_datetime_format=True)\n",
        "taxi_trips_tdf['trip_end_dt'] = te.to_datetime(taxi_trips_tdf['trip_end_timestamp'], infer_datetime_format=True)\n",
        "taxi_trips_tdf['trip_start_ym'] = taxi_trips_tdf['trip_start_dt'].dt.to_period('M')\n",
        "taxi_trips_tdf['trip_end_ym'] = taxi_trips_tdf['trip_end_dt'].dt.to_period('M')\n",
        "timer.stop()"
      ],
      "metadata": {
        "outputId": "25ef56ad-d0c4-462f-f9a5-f9a249a0be79",
        "colab": {
          "base_uri": "https://localhost:8080/"
        },
        "id": "fDlPRoH4bOym"
      },
      "execution_count": 117,
      "outputs": [
        {
          "output_type": "stream",
          "name": "stdout",
          "text": [
            "Elapsed time: 20.9454 seconds\n"
          ]
        },
        {
          "output_type": "execute_result",
          "data": {
            "text/plain": [
              "20.945380599994678"
            ]
          },
          "metadata": {},
          "execution_count": 117
        }
      ],
      "id": "fDlPRoH4bOym"
    },
    {
      "cell_type": "code",
      "execution_count": 118,
      "outputs": [
        {
          "output_type": "execute_result",
          "data": {
            "text/plain": [
              "                                     trip_id  \\\n",
              "16  e066e483f0fc2a583895d24c9dec9864a6608052   \n",
              "19  5431595d222a3e00a9e4b3e93c928c306dc71be3   \n",
              "20  509e870adce2a514a4287e1a305fe4ddabc59836   \n",
              "22  31004535c12d4372c165e34386cde0521a0a72e8   \n",
              "23  da18ec450c1fed02fbbc675faa621f8ac50ab5dd   \n",
              "\n",
              "                                              taxi_id    trip_start_timestamp  \\\n",
              "16  4794c36af4c1852d90b5c8cf5f9f6cd38a8b9c1b68cf48...  01/01/2019 12:00:00 AM   \n",
              "19  86b0677bb9bcda0454863c70a616d1adc45129237848d1...  01/01/2019 12:00:00 AM   \n",
              "20  38f6145c9a2b848dc1baa16fd91087e606b12bcb8757a9...  01/01/2019 12:00:00 AM   \n",
              "22  ee8a2f86372e99ecf87d44e13a20ebda7db8ae69d5b444...  01/01/2019 12:00:00 AM   \n",
              "23  0013da5489fe976daf4f4a7d246073ecf2caed9b12b3be...  01/01/2019 12:00:00 AM   \n",
              "\n",
              "        trip_end_timestamp  trip_seconds  trip_miles  pickup_census_tract  \\\n",
              "16  01/01/2019 12:15:00 AM         600.0         0.0         1.703108e+10   \n",
              "19  01/01/2019 12:00:00 AM         120.0         0.3         1.703184e+10   \n",
              "20  01/01/2019 12:15:00 AM         360.0         0.8         1.703108e+10   \n",
              "22  01/01/2019 12:15:00 AM         360.0         1.0         1.703108e+10   \n",
              "23  01/01/2019 12:15:00 AM         420.0         0.8         1.703108e+10   \n",
              "\n",
              "    dropoff_census_tract  pickup_community_area  dropoff_community_area  ...  \\\n",
              "16          1.703184e+10                    8.0                    32.0  ...   \n",
              "19          1.703132e+10                   32.0                    32.0  ...   \n",
              "20          1.703108e+10                    8.0                     8.0  ...   \n",
              "22          1.703108e+10                    8.0                     8.0  ...   \n",
              "23          1.703108e+10                    8.0                     8.0  ...   \n",
              "\n",
              "    pickup_centroid_latitude  pickup_centroid_longitude  \\\n",
              "16                 41.891972                 -87.612945   \n",
              "19                 41.880994                 -87.632746   \n",
              "20                 41.898332                 -87.620763   \n",
              "22                 41.890922                 -87.618868   \n",
              "23                 41.898332                 -87.620763   \n",
              "\n",
              "                pickup_centroid_location  dropoff_centroid_latitude  \\\n",
              "16  POINT (-87.6129454143 41.8919715078)                  41.880994   \n",
              "19  POINT (-87.6327464887 41.8809944707)                  41.877406   \n",
              "20  POINT (-87.6207628651 41.8983317935)                  41.892508   \n",
              "22  POINT (-87.6188683546 41.8909220259)                  41.892042   \n",
              "23  POINT (-87.6207628651 41.8983317935)                  41.892508   \n",
              "\n",
              "    dropoff_centroid_longitude            dropoff_centroid__location  \\\n",
              "16                  -87.632746  POINT (-87.6327464887 41.8809944707)   \n",
              "19                  -87.621972  POINT (-87.6219716519 41.8774061234)   \n",
              "20                  -87.626215  POINT (-87.6262149064 41.8925077809)   \n",
              "22                  -87.631864  POINT (-87.6318639497 41.8920421365)   \n",
              "23                  -87.626215  POINT (-87.6262149064 41.8925077809)   \n",
              "\n",
              "   trip_start_dt         trip_end_dt  trip_start_ym trip_end_ym  \n",
              "16    2019-01-01 2019-01-01 00:15:00        2019-01     2019-01  \n",
              "19    2019-01-01 2019-01-01 00:00:00        2019-01     2019-01  \n",
              "20    2019-01-01 2019-01-01 00:15:00        2019-01     2019-01  \n",
              "22    2019-01-01 2019-01-01 00:15:00        2019-01     2019-01  \n",
              "23    2019-01-01 2019-01-01 00:15:00        2019-01     2019-01  "
            ],
            "text/html": [
              "<div>\n",
              "<style scoped>\n",
              "    .dataframe tbody tr th:only-of-type {\n",
              "        vertical-align: middle;\n",
              "    }\n",
              "\n",
              "    .dataframe tbody tr th {\n",
              "        vertical-align: top;\n",
              "    }\n",
              "\n",
              "    .dataframe thead th {\n",
              "        text-align: right;\n",
              "    }\n",
              "</style>\n",
              "<table border=\"1\" class=\"dataframe\">\n",
              "  <thead>\n",
              "    <tr style=\"text-align: right;\">\n",
              "      <th></th>\n",
              "      <th>trip_id</th>\n",
              "      <th>taxi_id</th>\n",
              "      <th>trip_start_timestamp</th>\n",
              "      <th>trip_end_timestamp</th>\n",
              "      <th>trip_seconds</th>\n",
              "      <th>trip_miles</th>\n",
              "      <th>pickup_census_tract</th>\n",
              "      <th>dropoff_census_tract</th>\n",
              "      <th>pickup_community_area</th>\n",
              "      <th>dropoff_community_area</th>\n",
              "      <th>...</th>\n",
              "      <th>pickup_centroid_latitude</th>\n",
              "      <th>pickup_centroid_longitude</th>\n",
              "      <th>pickup_centroid_location</th>\n",
              "      <th>dropoff_centroid_latitude</th>\n",
              "      <th>dropoff_centroid_longitude</th>\n",
              "      <th>dropoff_centroid__location</th>\n",
              "      <th>trip_start_dt</th>\n",
              "      <th>trip_end_dt</th>\n",
              "      <th>trip_start_ym</th>\n",
              "      <th>trip_end_ym</th>\n",
              "    </tr>\n",
              "  </thead>\n",
              "  <tbody>\n",
              "    <tr>\n",
              "      <th>16</th>\n",
              "      <td>e066e483f0fc2a583895d24c9dec9864a6608052</td>\n",
              "      <td>4794c36af4c1852d90b5c8cf5f9f6cd38a8b9c1b68cf48...</td>\n",
              "      <td>01/01/2019 12:00:00 AM</td>\n",
              "      <td>01/01/2019 12:15:00 AM</td>\n",
              "      <td>600.0</td>\n",
              "      <td>0.0</td>\n",
              "      <td>1.703108e+10</td>\n",
              "      <td>1.703184e+10</td>\n",
              "      <td>8.0</td>\n",
              "      <td>32.0</td>\n",
              "      <td>...</td>\n",
              "      <td>41.891972</td>\n",
              "      <td>-87.612945</td>\n",
              "      <td>POINT (-87.6129454143 41.8919715078)</td>\n",
              "      <td>41.880994</td>\n",
              "      <td>-87.632746</td>\n",
              "      <td>POINT (-87.6327464887 41.8809944707)</td>\n",
              "      <td>2019-01-01</td>\n",
              "      <td>2019-01-01 00:15:00</td>\n",
              "      <td>2019-01</td>\n",
              "      <td>2019-01</td>\n",
              "    </tr>\n",
              "    <tr>\n",
              "      <th>19</th>\n",
              "      <td>5431595d222a3e00a9e4b3e93c928c306dc71be3</td>\n",
              "      <td>86b0677bb9bcda0454863c70a616d1adc45129237848d1...</td>\n",
              "      <td>01/01/2019 12:00:00 AM</td>\n",
              "      <td>01/01/2019 12:00:00 AM</td>\n",
              "      <td>120.0</td>\n",
              "      <td>0.3</td>\n",
              "      <td>1.703184e+10</td>\n",
              "      <td>1.703132e+10</td>\n",
              "      <td>32.0</td>\n",
              "      <td>32.0</td>\n",
              "      <td>...</td>\n",
              "      <td>41.880994</td>\n",
              "      <td>-87.632746</td>\n",
              "      <td>POINT (-87.6327464887 41.8809944707)</td>\n",
              "      <td>41.877406</td>\n",
              "      <td>-87.621972</td>\n",
              "      <td>POINT (-87.6219716519 41.8774061234)</td>\n",
              "      <td>2019-01-01</td>\n",
              "      <td>2019-01-01 00:00:00</td>\n",
              "      <td>2019-01</td>\n",
              "      <td>2019-01</td>\n",
              "    </tr>\n",
              "    <tr>\n",
              "      <th>20</th>\n",
              "      <td>509e870adce2a514a4287e1a305fe4ddabc59836</td>\n",
              "      <td>38f6145c9a2b848dc1baa16fd91087e606b12bcb8757a9...</td>\n",
              "      <td>01/01/2019 12:00:00 AM</td>\n",
              "      <td>01/01/2019 12:15:00 AM</td>\n",
              "      <td>360.0</td>\n",
              "      <td>0.8</td>\n",
              "      <td>1.703108e+10</td>\n",
              "      <td>1.703108e+10</td>\n",
              "      <td>8.0</td>\n",
              "      <td>8.0</td>\n",
              "      <td>...</td>\n",
              "      <td>41.898332</td>\n",
              "      <td>-87.620763</td>\n",
              "      <td>POINT (-87.6207628651 41.8983317935)</td>\n",
              "      <td>41.892508</td>\n",
              "      <td>-87.626215</td>\n",
              "      <td>POINT (-87.6262149064 41.8925077809)</td>\n",
              "      <td>2019-01-01</td>\n",
              "      <td>2019-01-01 00:15:00</td>\n",
              "      <td>2019-01</td>\n",
              "      <td>2019-01</td>\n",
              "    </tr>\n",
              "    <tr>\n",
              "      <th>22</th>\n",
              "      <td>31004535c12d4372c165e34386cde0521a0a72e8</td>\n",
              "      <td>ee8a2f86372e99ecf87d44e13a20ebda7db8ae69d5b444...</td>\n",
              "      <td>01/01/2019 12:00:00 AM</td>\n",
              "      <td>01/01/2019 12:15:00 AM</td>\n",
              "      <td>360.0</td>\n",
              "      <td>1.0</td>\n",
              "      <td>1.703108e+10</td>\n",
              "      <td>1.703108e+10</td>\n",
              "      <td>8.0</td>\n",
              "      <td>8.0</td>\n",
              "      <td>...</td>\n",
              "      <td>41.890922</td>\n",
              "      <td>-87.618868</td>\n",
              "      <td>POINT (-87.6188683546 41.8909220259)</td>\n",
              "      <td>41.892042</td>\n",
              "      <td>-87.631864</td>\n",
              "      <td>POINT (-87.6318639497 41.8920421365)</td>\n",
              "      <td>2019-01-01</td>\n",
              "      <td>2019-01-01 00:15:00</td>\n",
              "      <td>2019-01</td>\n",
              "      <td>2019-01</td>\n",
              "    </tr>\n",
              "    <tr>\n",
              "      <th>23</th>\n",
              "      <td>da18ec450c1fed02fbbc675faa621f8ac50ab5dd</td>\n",
              "      <td>0013da5489fe976daf4f4a7d246073ecf2caed9b12b3be...</td>\n",
              "      <td>01/01/2019 12:00:00 AM</td>\n",
              "      <td>01/01/2019 12:15:00 AM</td>\n",
              "      <td>420.0</td>\n",
              "      <td>0.8</td>\n",
              "      <td>1.703108e+10</td>\n",
              "      <td>1.703108e+10</td>\n",
              "      <td>8.0</td>\n",
              "      <td>8.0</td>\n",
              "      <td>...</td>\n",
              "      <td>41.898332</td>\n",
              "      <td>-87.620763</td>\n",
              "      <td>POINT (-87.6207628651 41.8983317935)</td>\n",
              "      <td>41.892508</td>\n",
              "      <td>-87.626215</td>\n",
              "      <td>POINT (-87.6262149064 41.8925077809)</td>\n",
              "      <td>2019-01-01</td>\n",
              "      <td>2019-01-01 00:15:00</td>\n",
              "      <td>2019-01</td>\n",
              "      <td>2019-01</td>\n",
              "    </tr>\n",
              "  </tbody>\n",
              "</table>\n",
              "</div>"
            ]
          },
          "metadata": {},
          "execution_count": 118
        }
      ],
      "source": [
        "taxi_trips_tdf.head()\n",
        "# timer.stop()\n"
      ],
      "metadata": {
        "pycharm": {
          "name": "#%%\n"
        },
        "colab": {
          "base_uri": "https://localhost:8080/",
          "height": 313
        },
        "id": "95reatEzzRVd",
        "outputId": "3d21b94f-a46e-40d5-a3c4-1b28b1f87e02"
      },
      "id": "95reatEzzRVd"
    },
    {
      "cell_type": "code",
      "execution_count": 119,
      "id": "bfcff7e9",
      "metadata": {
        "pycharm": {
          "name": "#%%\n"
        },
        "colab": {
          "base_uri": "https://localhost:8080/",
          "height": 300
        },
        "id": "bfcff7e9",
        "outputId": "db3ec399-b750-4e38-a15a-7fcc706ff6c8"
      },
      "outputs": [
        {
          "output_type": "execute_result",
          "data": {
            "text/plain": [
              "       trip_seconds    trip_miles  pickup_census_tract  dropoff_census_tract  \\\n",
              "count  1.219963e+07  1.219963e+07         1.219963e+07          1.219963e+07   \n",
              "mean   7.806322e+02  2.882408e+00         1.703141e+10          1.703138e+10   \n",
              "std    1.207102e+03  5.479885e+00         3.436317e+05          3.341613e+05   \n",
              "min    0.000000e+00  0.000000e+00         1.703101e+10          1.703101e+10   \n",
              "25%    3.400000e+02  5.400000e-01         1.703108e+10          1.703108e+10   \n",
              "50%    5.140000e+02  1.080000e+00         1.703132e+10          1.703128e+10   \n",
              "75%    8.230000e+02  1.900000e+00         1.703184e+10          1.703184e+10   \n",
              "max    8.640000e+04  9.959000e+02         1.703198e+10          1.703198e+10   \n",
              "\n",
              "       pickup_community_area  dropoff_community_area          fare  \\\n",
              "count           1.219963e+07            1.219963e+07  1.219963e+07   \n",
              "mean            2.628359e+01            2.319189e+01  1.279652e+01   \n",
              "std             1.881160e+01            1.634532e+01  6.189516e+01   \n",
              "min             1.000000e+00            1.000000e+00  0.000000e+00   \n",
              "25%             8.000000e+00            8.000000e+00  5.750000e+00   \n",
              "50%             2.800000e+01            2.800000e+01  7.250000e+00   \n",
              "75%             3.200000e+01            3.200000e+01  1.025000e+01   \n",
              "max             7.700000e+01            7.700000e+01  9.800260e+03   \n",
              "\n",
              "               tips         tolls        extras    trip_total  \\\n",
              "count  1.219963e+07  1.219963e+07  1.219963e+07  1.219963e+07   \n",
              "mean   1.781760e+00  7.331033e-04  8.851525e-01  1.560699e+01   \n",
              "std    2.826719e+00  3.181317e-01  1.609252e+01  6.459551e+01   \n",
              "min    0.000000e+00  0.000000e+00  0.000000e+00  0.000000e+00   \n",
              "25%    0.000000e+00  0.000000e+00  0.000000e+00  7.000000e+00   \n",
              "50%    9.000000e-01  0.000000e+00  0.000000e+00  9.000000e+00   \n",
              "75%    2.000000e+00  0.000000e+00  1.000000e+00  1.250000e+01   \n",
              "max    4.000000e+02  9.606800e+02  9.327760e+03  9.800300e+03   \n",
              "\n",
              "       pickup_centroid_latitude  pickup_centroid_longitude  \\\n",
              "count              1.219963e+07               1.219963e+07   \n",
              "mean               4.189265e+01              -8.765359e+01   \n",
              "std                3.113462e-02               7.520429e-02   \n",
              "min                4.165022e+01              -8.790304e+01   \n",
              "25%                4.188099e+01              -8.763784e+01   \n",
              "50%                4.188530e+01              -8.763186e+01   \n",
              "75%                4.189322e+01              -8.762197e+01   \n",
              "max                4.202122e+01              -8.753071e+01   \n",
              "\n",
              "       dropoff_centroid_latitude  dropoff_centroid_longitude  \n",
              "count               1.219963e+07                1.219963e+07  \n",
              "mean                4.189144e+01               -8.764459e+01  \n",
              "std                 2.604625e-02                5.721153e-02  \n",
              "min                 4.166376e+01               -8.790304e+01  \n",
              "25%                 4.188099e+01               -8.764090e+01  \n",
              "50%                 4.188530e+01               -8.763186e+01  \n",
              "75%                 4.189503e+01               -8.762197e+01  \n",
              "max                 4.202122e+01               -8.753071e+01  "
            ],
            "text/html": [
              "<div>\n",
              "<style scoped>\n",
              "    .dataframe tbody tr th:only-of-type {\n",
              "        vertical-align: middle;\n",
              "    }\n",
              "\n",
              "    .dataframe tbody tr th {\n",
              "        vertical-align: top;\n",
              "    }\n",
              "\n",
              "    .dataframe thead th {\n",
              "        text-align: right;\n",
              "    }\n",
              "</style>\n",
              "<table border=\"1\" class=\"dataframe\">\n",
              "  <thead>\n",
              "    <tr style=\"text-align: right;\">\n",
              "      <th></th>\n",
              "      <th>trip_seconds</th>\n",
              "      <th>trip_miles</th>\n",
              "      <th>pickup_census_tract</th>\n",
              "      <th>dropoff_census_tract</th>\n",
              "      <th>pickup_community_area</th>\n",
              "      <th>dropoff_community_area</th>\n",
              "      <th>fare</th>\n",
              "      <th>tips</th>\n",
              "      <th>tolls</th>\n",
              "      <th>extras</th>\n",
              "      <th>trip_total</th>\n",
              "      <th>pickup_centroid_latitude</th>\n",
              "      <th>pickup_centroid_longitude</th>\n",
              "      <th>dropoff_centroid_latitude</th>\n",
              "      <th>dropoff_centroid_longitude</th>\n",
              "    </tr>\n",
              "  </thead>\n",
              "  <tbody>\n",
              "    <tr>\n",
              "      <th>count</th>\n",
              "      <td>1.219963e+07</td>\n",
              "      <td>1.219963e+07</td>\n",
              "      <td>1.219963e+07</td>\n",
              "      <td>1.219963e+07</td>\n",
              "      <td>1.219963e+07</td>\n",
              "      <td>1.219963e+07</td>\n",
              "      <td>1.219963e+07</td>\n",
              "      <td>1.219963e+07</td>\n",
              "      <td>1.219963e+07</td>\n",
              "      <td>1.219963e+07</td>\n",
              "      <td>1.219963e+07</td>\n",
              "      <td>1.219963e+07</td>\n",
              "      <td>1.219963e+07</td>\n",
              "      <td>1.219963e+07</td>\n",
              "      <td>1.219963e+07</td>\n",
              "    </tr>\n",
              "    <tr>\n",
              "      <th>mean</th>\n",
              "      <td>7.806322e+02</td>\n",
              "      <td>2.882408e+00</td>\n",
              "      <td>1.703141e+10</td>\n",
              "      <td>1.703138e+10</td>\n",
              "      <td>2.628359e+01</td>\n",
              "      <td>2.319189e+01</td>\n",
              "      <td>1.279652e+01</td>\n",
              "      <td>1.781760e+00</td>\n",
              "      <td>7.331033e-04</td>\n",
              "      <td>8.851525e-01</td>\n",
              "      <td>1.560699e+01</td>\n",
              "      <td>4.189265e+01</td>\n",
              "      <td>-8.765359e+01</td>\n",
              "      <td>4.189144e+01</td>\n",
              "      <td>-8.764459e+01</td>\n",
              "    </tr>\n",
              "    <tr>\n",
              "      <th>std</th>\n",
              "      <td>1.207102e+03</td>\n",
              "      <td>5.479885e+00</td>\n",
              "      <td>3.436317e+05</td>\n",
              "      <td>3.341613e+05</td>\n",
              "      <td>1.881160e+01</td>\n",
              "      <td>1.634532e+01</td>\n",
              "      <td>6.189516e+01</td>\n",
              "      <td>2.826719e+00</td>\n",
              "      <td>3.181317e-01</td>\n",
              "      <td>1.609252e+01</td>\n",
              "      <td>6.459551e+01</td>\n",
              "      <td>3.113462e-02</td>\n",
              "      <td>7.520429e-02</td>\n",
              "      <td>2.604625e-02</td>\n",
              "      <td>5.721153e-02</td>\n",
              "    </tr>\n",
              "    <tr>\n",
              "      <th>min</th>\n",
              "      <td>0.000000e+00</td>\n",
              "      <td>0.000000e+00</td>\n",
              "      <td>1.703101e+10</td>\n",
              "      <td>1.703101e+10</td>\n",
              "      <td>1.000000e+00</td>\n",
              "      <td>1.000000e+00</td>\n",
              "      <td>0.000000e+00</td>\n",
              "      <td>0.000000e+00</td>\n",
              "      <td>0.000000e+00</td>\n",
              "      <td>0.000000e+00</td>\n",
              "      <td>0.000000e+00</td>\n",
              "      <td>4.165022e+01</td>\n",
              "      <td>-8.790304e+01</td>\n",
              "      <td>4.166376e+01</td>\n",
              "      <td>-8.790304e+01</td>\n",
              "    </tr>\n",
              "    <tr>\n",
              "      <th>25%</th>\n",
              "      <td>3.400000e+02</td>\n",
              "      <td>5.400000e-01</td>\n",
              "      <td>1.703108e+10</td>\n",
              "      <td>1.703108e+10</td>\n",
              "      <td>8.000000e+00</td>\n",
              "      <td>8.000000e+00</td>\n",
              "      <td>5.750000e+00</td>\n",
              "      <td>0.000000e+00</td>\n",
              "      <td>0.000000e+00</td>\n",
              "      <td>0.000000e+00</td>\n",
              "      <td>7.000000e+00</td>\n",
              "      <td>4.188099e+01</td>\n",
              "      <td>-8.763784e+01</td>\n",
              "      <td>4.188099e+01</td>\n",
              "      <td>-8.764090e+01</td>\n",
              "    </tr>\n",
              "    <tr>\n",
              "      <th>50%</th>\n",
              "      <td>5.140000e+02</td>\n",
              "      <td>1.080000e+00</td>\n",
              "      <td>1.703132e+10</td>\n",
              "      <td>1.703128e+10</td>\n",
              "      <td>2.800000e+01</td>\n",
              "      <td>2.800000e+01</td>\n",
              "      <td>7.250000e+00</td>\n",
              "      <td>9.000000e-01</td>\n",
              "      <td>0.000000e+00</td>\n",
              "      <td>0.000000e+00</td>\n",
              "      <td>9.000000e+00</td>\n",
              "      <td>4.188530e+01</td>\n",
              "      <td>-8.763186e+01</td>\n",
              "      <td>4.188530e+01</td>\n",
              "      <td>-8.763186e+01</td>\n",
              "    </tr>\n",
              "    <tr>\n",
              "      <th>75%</th>\n",
              "      <td>8.230000e+02</td>\n",
              "      <td>1.900000e+00</td>\n",
              "      <td>1.703184e+10</td>\n",
              "      <td>1.703184e+10</td>\n",
              "      <td>3.200000e+01</td>\n",
              "      <td>3.200000e+01</td>\n",
              "      <td>1.025000e+01</td>\n",
              "      <td>2.000000e+00</td>\n",
              "      <td>0.000000e+00</td>\n",
              "      <td>1.000000e+00</td>\n",
              "      <td>1.250000e+01</td>\n",
              "      <td>4.189322e+01</td>\n",
              "      <td>-8.762197e+01</td>\n",
              "      <td>4.189503e+01</td>\n",
              "      <td>-8.762197e+01</td>\n",
              "    </tr>\n",
              "    <tr>\n",
              "      <th>max</th>\n",
              "      <td>8.640000e+04</td>\n",
              "      <td>9.959000e+02</td>\n",
              "      <td>1.703198e+10</td>\n",
              "      <td>1.703198e+10</td>\n",
              "      <td>7.700000e+01</td>\n",
              "      <td>7.700000e+01</td>\n",
              "      <td>9.800260e+03</td>\n",
              "      <td>4.000000e+02</td>\n",
              "      <td>9.606800e+02</td>\n",
              "      <td>9.327760e+03</td>\n",
              "      <td>9.800300e+03</td>\n",
              "      <td>4.202122e+01</td>\n",
              "      <td>-8.753071e+01</td>\n",
              "      <td>4.202122e+01</td>\n",
              "      <td>-8.753071e+01</td>\n",
              "    </tr>\n",
              "  </tbody>\n",
              "</table>\n",
              "</div>"
            ]
          },
          "metadata": {},
          "execution_count": 119
        }
      ],
      "source": [
        "# Describe - Pandas\n",
        "timer.start()\n",
        "taxi_trips_pdf.describe()"
      ]
    },
    {
      "cell_type": "code",
      "source": [
        "timer.stop()"
      ],
      "metadata": {
        "colab": {
          "base_uri": "https://localhost:8080/"
        },
        "id": "PWh7yRSX-mzM",
        "outputId": "495e8281-bff4-4f81-8888-1ff5a8fda2dc"
      },
      "id": "PWh7yRSX-mzM",
      "execution_count": 120,
      "outputs": [
        {
          "output_type": "stream",
          "name": "stdout",
          "text": [
            "Elapsed time: 5.1323 seconds\n"
          ]
        },
        {
          "output_type": "execute_result",
          "data": {
            "text/plain": [
              "5.132343800010858"
            ]
          },
          "metadata": {},
          "execution_count": 120
        }
      ]
    },
    {
      "cell_type": "code",
      "source": [
        "# Describe - Terality\n",
        "timer.start()\n",
        "taxi_trips_tdf.describe()"
      ],
      "metadata": {
        "colab": {
          "base_uri": "https://localhost:8080/",
          "height": 300
        },
        "id": "VHJrYq8e_Otk",
        "outputId": "412086c8-8c4b-4592-8112-d24609aa9a2d"
      },
      "id": "VHJrYq8e_Otk",
      "execution_count": 121,
      "outputs": [
        {
          "output_type": "execute_result",
          "data": {
            "text/plain": [
              "       trip_seconds    trip_miles  pickup_census_tract  dropoff_census_tract  \\\n",
              "count  1.219963e+07  1.219963e+07         1.219963e+07          1.219963e+07   \n",
              "mean   7.806322e+02  2.882408e+00         1.703141e+10          1.703138e+10   \n",
              "std    1.207102e+03  5.479885e+00         3.436317e+05          3.341613e+05   \n",
              "min    0.000000e+00  0.000000e+00         1.703101e+10          1.703101e+10   \n",
              "25%    3.400000e+02  5.400000e-01         1.703108e+10          1.703108e+10   \n",
              "50%    5.140000e+02  1.080000e+00         1.703132e+10          1.703128e+10   \n",
              "75%    8.230000e+02  1.900000e+00         1.703184e+10          1.703184e+10   \n",
              "max    8.640000e+04  9.959000e+02         1.703198e+10          1.703198e+10   \n",
              "\n",
              "       pickup_community_area  dropoff_community_area          fare  \\\n",
              "count           1.219963e+07            1.219963e+07  1.219963e+07   \n",
              "mean            2.628359e+01            2.319189e+01  1.279652e+01   \n",
              "std             1.881160e+01            1.634532e+01  6.189516e+01   \n",
              "min             1.000000e+00            1.000000e+00  0.000000e+00   \n",
              "25%             8.000000e+00            8.000000e+00  5.750000e+00   \n",
              "50%             2.800000e+01            2.800000e+01  7.250000e+00   \n",
              "75%             3.200000e+01            3.200000e+01  1.025000e+01   \n",
              "max             7.700000e+01            7.700000e+01  9.800260e+03   \n",
              "\n",
              "               tips         tolls        extras    trip_total  \\\n",
              "count  1.219963e+07  1.219963e+07  1.219963e+07  1.219963e+07   \n",
              "mean   1.781760e+00  7.331033e-04  8.851525e-01  1.560699e+01   \n",
              "std    2.826719e+00  3.181317e-01  1.609252e+01  6.459551e+01   \n",
              "min    0.000000e+00  0.000000e+00  0.000000e+00  0.000000e+00   \n",
              "25%    0.000000e+00  0.000000e+00  0.000000e+00  7.000000e+00   \n",
              "50%    9.000000e-01  0.000000e+00  0.000000e+00  9.000000e+00   \n",
              "75%    2.000000e+00  0.000000e+00  1.000000e+00  1.250000e+01   \n",
              "max    4.000000e+02  9.606800e+02  9.327760e+03  9.800300e+03   \n",
              "\n",
              "       pickup_centroid_latitude  pickup_centroid_longitude  \\\n",
              "count              1.219963e+07               1.219963e+07   \n",
              "mean               4.189265e+01              -8.765359e+01   \n",
              "std                3.113462e-02               7.520429e-02   \n",
              "min                4.165022e+01              -8.790304e+01   \n",
              "25%                4.188099e+01              -8.763784e+01   \n",
              "50%                4.188530e+01              -8.763186e+01   \n",
              "75%                4.189322e+01              -8.762197e+01   \n",
              "max                4.202122e+01              -8.753071e+01   \n",
              "\n",
              "       dropoff_centroid_latitude  dropoff_centroid_longitude  \n",
              "count               1.219963e+07                1.219963e+07  \n",
              "mean                4.189144e+01               -8.764459e+01  \n",
              "std                 2.604625e-02                5.721153e-02  \n",
              "min                 4.166376e+01               -8.790304e+01  \n",
              "25%                 4.188099e+01               -8.764090e+01  \n",
              "50%                 4.188530e+01               -8.763186e+01  \n",
              "75%                 4.189503e+01               -8.762197e+01  \n",
              "max                 4.202122e+01               -8.753071e+01  "
            ],
            "text/html": [
              "<div>\n",
              "<style scoped>\n",
              "    .dataframe tbody tr th:only-of-type {\n",
              "        vertical-align: middle;\n",
              "    }\n",
              "\n",
              "    .dataframe tbody tr th {\n",
              "        vertical-align: top;\n",
              "    }\n",
              "\n",
              "    .dataframe thead th {\n",
              "        text-align: right;\n",
              "    }\n",
              "</style>\n",
              "<table border=\"1\" class=\"dataframe\">\n",
              "  <thead>\n",
              "    <tr style=\"text-align: right;\">\n",
              "      <th></th>\n",
              "      <th>trip_seconds</th>\n",
              "      <th>trip_miles</th>\n",
              "      <th>pickup_census_tract</th>\n",
              "      <th>dropoff_census_tract</th>\n",
              "      <th>pickup_community_area</th>\n",
              "      <th>dropoff_community_area</th>\n",
              "      <th>fare</th>\n",
              "      <th>tips</th>\n",
              "      <th>tolls</th>\n",
              "      <th>extras</th>\n",
              "      <th>trip_total</th>\n",
              "      <th>pickup_centroid_latitude</th>\n",
              "      <th>pickup_centroid_longitude</th>\n",
              "      <th>dropoff_centroid_latitude</th>\n",
              "      <th>dropoff_centroid_longitude</th>\n",
              "    </tr>\n",
              "  </thead>\n",
              "  <tbody>\n",
              "    <tr>\n",
              "      <th>count</th>\n",
              "      <td>1.219963e+07</td>\n",
              "      <td>1.219963e+07</td>\n",
              "      <td>1.219963e+07</td>\n",
              "      <td>1.219963e+07</td>\n",
              "      <td>1.219963e+07</td>\n",
              "      <td>1.219963e+07</td>\n",
              "      <td>1.219963e+07</td>\n",
              "      <td>1.219963e+07</td>\n",
              "      <td>1.219963e+07</td>\n",
              "      <td>1.219963e+07</td>\n",
              "      <td>1.219963e+07</td>\n",
              "      <td>1.219963e+07</td>\n",
              "      <td>1.219963e+07</td>\n",
              "      <td>1.219963e+07</td>\n",
              "      <td>1.219963e+07</td>\n",
              "    </tr>\n",
              "    <tr>\n",
              "      <th>mean</th>\n",
              "      <td>7.806322e+02</td>\n",
              "      <td>2.882408e+00</td>\n",
              "      <td>1.703141e+10</td>\n",
              "      <td>1.703138e+10</td>\n",
              "      <td>2.628359e+01</td>\n",
              "      <td>2.319189e+01</td>\n",
              "      <td>1.279652e+01</td>\n",
              "      <td>1.781760e+00</td>\n",
              "      <td>7.331033e-04</td>\n",
              "      <td>8.851525e-01</td>\n",
              "      <td>1.560699e+01</td>\n",
              "      <td>4.189265e+01</td>\n",
              "      <td>-8.765359e+01</td>\n",
              "      <td>4.189144e+01</td>\n",
              "      <td>-8.764459e+01</td>\n",
              "    </tr>\n",
              "    <tr>\n",
              "      <th>std</th>\n",
              "      <td>1.207102e+03</td>\n",
              "      <td>5.479885e+00</td>\n",
              "      <td>3.436317e+05</td>\n",
              "      <td>3.341613e+05</td>\n",
              "      <td>1.881160e+01</td>\n",
              "      <td>1.634532e+01</td>\n",
              "      <td>6.189516e+01</td>\n",
              "      <td>2.826719e+00</td>\n",
              "      <td>3.181317e-01</td>\n",
              "      <td>1.609252e+01</td>\n",
              "      <td>6.459551e+01</td>\n",
              "      <td>3.113462e-02</td>\n",
              "      <td>7.520429e-02</td>\n",
              "      <td>2.604625e-02</td>\n",
              "      <td>5.721153e-02</td>\n",
              "    </tr>\n",
              "    <tr>\n",
              "      <th>min</th>\n",
              "      <td>0.000000e+00</td>\n",
              "      <td>0.000000e+00</td>\n",
              "      <td>1.703101e+10</td>\n",
              "      <td>1.703101e+10</td>\n",
              "      <td>1.000000e+00</td>\n",
              "      <td>1.000000e+00</td>\n",
              "      <td>0.000000e+00</td>\n",
              "      <td>0.000000e+00</td>\n",
              "      <td>0.000000e+00</td>\n",
              "      <td>0.000000e+00</td>\n",
              "      <td>0.000000e+00</td>\n",
              "      <td>4.165022e+01</td>\n",
              "      <td>-8.790304e+01</td>\n",
              "      <td>4.166376e+01</td>\n",
              "      <td>-8.790304e+01</td>\n",
              "    </tr>\n",
              "    <tr>\n",
              "      <th>25%</th>\n",
              "      <td>3.400000e+02</td>\n",
              "      <td>5.400000e-01</td>\n",
              "      <td>1.703108e+10</td>\n",
              "      <td>1.703108e+10</td>\n",
              "      <td>8.000000e+00</td>\n",
              "      <td>8.000000e+00</td>\n",
              "      <td>5.750000e+00</td>\n",
              "      <td>0.000000e+00</td>\n",
              "      <td>0.000000e+00</td>\n",
              "      <td>0.000000e+00</td>\n",
              "      <td>7.000000e+00</td>\n",
              "      <td>4.188099e+01</td>\n",
              "      <td>-8.763784e+01</td>\n",
              "      <td>4.188099e+01</td>\n",
              "      <td>-8.764090e+01</td>\n",
              "    </tr>\n",
              "    <tr>\n",
              "      <th>50%</th>\n",
              "      <td>5.140000e+02</td>\n",
              "      <td>1.080000e+00</td>\n",
              "      <td>1.703132e+10</td>\n",
              "      <td>1.703128e+10</td>\n",
              "      <td>2.800000e+01</td>\n",
              "      <td>2.800000e+01</td>\n",
              "      <td>7.250000e+00</td>\n",
              "      <td>9.000000e-01</td>\n",
              "      <td>0.000000e+00</td>\n",
              "      <td>0.000000e+00</td>\n",
              "      <td>9.000000e+00</td>\n",
              "      <td>4.188530e+01</td>\n",
              "      <td>-8.763186e+01</td>\n",
              "      <td>4.188530e+01</td>\n",
              "      <td>-8.763186e+01</td>\n",
              "    </tr>\n",
              "    <tr>\n",
              "      <th>75%</th>\n",
              "      <td>8.230000e+02</td>\n",
              "      <td>1.900000e+00</td>\n",
              "      <td>1.703184e+10</td>\n",
              "      <td>1.703184e+10</td>\n",
              "      <td>3.200000e+01</td>\n",
              "      <td>3.200000e+01</td>\n",
              "      <td>1.025000e+01</td>\n",
              "      <td>2.000000e+00</td>\n",
              "      <td>0.000000e+00</td>\n",
              "      <td>1.000000e+00</td>\n",
              "      <td>1.250000e+01</td>\n",
              "      <td>4.189322e+01</td>\n",
              "      <td>-8.762197e+01</td>\n",
              "      <td>4.189503e+01</td>\n",
              "      <td>-8.762197e+01</td>\n",
              "    </tr>\n",
              "    <tr>\n",
              "      <th>max</th>\n",
              "      <td>8.640000e+04</td>\n",
              "      <td>9.959000e+02</td>\n",
              "      <td>1.703198e+10</td>\n",
              "      <td>1.703198e+10</td>\n",
              "      <td>7.700000e+01</td>\n",
              "      <td>7.700000e+01</td>\n",
              "      <td>9.800260e+03</td>\n",
              "      <td>4.000000e+02</td>\n",
              "      <td>9.606800e+02</td>\n",
              "      <td>9.327760e+03</td>\n",
              "      <td>9.800300e+03</td>\n",
              "      <td>4.202122e+01</td>\n",
              "      <td>-8.753071e+01</td>\n",
              "      <td>4.202122e+01</td>\n",
              "      <td>-8.753071e+01</td>\n",
              "    </tr>\n",
              "  </tbody>\n",
              "</table>\n",
              "</div>"
            ]
          },
          "metadata": {},
          "execution_count": 121
        }
      ]
    },
    {
      "cell_type": "code",
      "source": [
        "timer.stop()"
      ],
      "metadata": {
        "colab": {
          "base_uri": "https://localhost:8080/"
        },
        "id": "hd9jHDHm_KX8",
        "outputId": "6f4bb49e-d442-4959-d183-e0a6ee50c7fc"
      },
      "id": "hd9jHDHm_KX8",
      "execution_count": 122,
      "outputs": [
        {
          "output_type": "stream",
          "name": "stdout",
          "text": [
            "Elapsed time: 32.7246 seconds\n"
          ]
        },
        {
          "output_type": "execute_result",
          "data": {
            "text/plain": [
              "32.72464509999554"
            ]
          },
          "metadata": {},
          "execution_count": 122
        }
      ]
    },
    {
      "cell_type": "code",
      "execution_count": 123,
      "id": "88dcdee9",
      "metadata": {
        "pycharm": {
          "name": "#%%\n"
        },
        "colab": {
          "base_uri": "https://localhost:8080/"
        },
        "id": "88dcdee9",
        "outputId": "c52bca71-8f52-4400-ae58-ef400e991c32"
      },
      "outputs": [
        {
          "output_type": "execute_result",
          "data": {
            "text/plain": [
              "taxi_id\n",
              "0008de7a146802839c9e6059f482d292ebdae13c5c31dd6e5983a80882e2a5dbcd6ea098c2fcd56f34ce02645eb94c6b39512e9304837746d4e289b6236c2c5b    3372\n",
              "001330b81e23412049f9c3eff5b6e972a91afe59c9aa36ef29747881b4bf803adfd02b1a71cca5cb8c2214275330aa4520df34d7848100414acb4b4cad642e62    3072\n",
              "0013da5489fe976daf4f4a7d246073ecf2caed9b12b3be70eff37b63ef9ca4102c972145ddd8537811752d51b222b4618dfbae451b966d7a3ad9afa4ec878a6e    4093\n",
              "0041f8f0c91881c1e1913f2548522495fe3c4c719aa67fd2483ebbcc22e0aa1bfff2cddb32c35cde3ad9766b0e8d44c04ff5dfdcf1035462ba81a13e3ba6b8f9    3431\n",
              "0044e6c0d091476299b99345501f756b23632a96cbaf40e872fbf14f976410d3f938aacc643ed608b2aa42809222d4458e1aab5e0848e9b952f35616785c3a36    2104\n",
              "                                                                                                                                    ... \n",
              "ffd70d111c7da2e5eff27ad900c8eb94d74fe286bb7aa58029ee2baac3f3b310dea5da2a6a77a366b7b6d4b104b91ef75e7959ac6b1f558be7844417cbe3e12f     603\n",
              "ffda53354c610fd3af1aee46d723028a49014e35f7280ca3d812716eb3cf1f0a763556368e4139b7183ee1fb36e26104de62bb86601f2fa16e3d96167e25b84e    1236\n",
              "ffe8d8153b8f68cd20871ae5710f9b799bcc517b40ece7cf561407a6cd161f52430890c0ef8402a9152eb6bd24651716504c08a69f3b8c8b7a79a08fae65fc4c      46\n",
              "fff3279af11dfade5e308184a5cc6c1ca2d33764634d962e589f6af2bf844c2dc8e6d8fcf1bf47f4364671bea6c8a8cb8b9990cb9f6dc608079e96aa1fec24e7     914\n",
              "fff84aa08ac78890c6e7da64b817cbd9aad6a124104e099a7482efee1a6bac61a837e1db218e9d38c159f28c8f85187a08a05c8ba54648edc3b91e437357fa84     202\n",
              "Name: trip_id, Length: 5280, dtype: int64"
            ]
          },
          "metadata": {},
          "execution_count": 123
        }
      ],
      "source": [
        "# Query 1: Number of trips grouped by taxi - Using Pandas\n",
        "timer.start()\n",
        "taxi_trips_pdf.groupby('taxi_id').count()['trip_id']\n"
      ]
    },
    {
      "cell_type": "code",
      "source": [
        "timer.stop()"
      ],
      "metadata": {
        "id": "oMFxKORLUBfC",
        "outputId": "1bcc10d9-3b3f-40b4-e484-99f1e55a611a",
        "colab": {
          "base_uri": "https://localhost:8080/"
        }
      },
      "id": "oMFxKORLUBfC",
      "execution_count": 124,
      "outputs": [
        {
          "output_type": "stream",
          "name": "stdout",
          "text": [
            "Elapsed time: 8.2759 seconds\n"
          ]
        },
        {
          "output_type": "execute_result",
          "data": {
            "text/plain": [
              "8.27592949999962"
            ]
          },
          "metadata": {},
          "execution_count": 124
        }
      ]
    },
    {
      "cell_type": "code",
      "execution_count": 125,
      "id": "fc3418f2",
      "metadata": {
        "pycharm": {
          "name": "#%%\n"
        },
        "colab": {
          "base_uri": "https://localhost:8080/"
        },
        "id": "fc3418f2",
        "outputId": "0a0c531e-d479-4e8c-a1e8-5f691a9684e2"
      },
      "outputs": [
        {
          "output_type": "execute_result",
          "data": {
            "text/plain": [
              "taxi_id\n",
              "0008de7a146802839c9e6059f482d292ebdae13c5c31dd6e5983a80882e2a5dbcd6ea098c2fcd56f34ce02645eb94c6b39512e9304837746d4e289b6236c2c5b    3372\n",
              "001330b81e23412049f9c3eff5b6e972a91afe59c9aa36ef29747881b4bf803adfd02b1a71cca5cb8c2214275330aa4520df34d7848100414acb4b4cad642e62    3072\n",
              "0013da5489fe976daf4f4a7d246073ecf2caed9b12b3be70eff37b63ef9ca4102c972145ddd8537811752d51b222b4618dfbae451b966d7a3ad9afa4ec878a6e    4093\n",
              "0041f8f0c91881c1e1913f2548522495fe3c4c719aa67fd2483ebbcc22e0aa1bfff2cddb32c35cde3ad9766b0e8d44c04ff5dfdcf1035462ba81a13e3ba6b8f9    3431\n",
              "0044e6c0d091476299b99345501f756b23632a96cbaf40e872fbf14f976410d3f938aacc643ed608b2aa42809222d4458e1aab5e0848e9b952f35616785c3a36    2104\n",
              "                                                                                                                                    ... \n",
              "ffd70d111c7da2e5eff27ad900c8eb94d74fe286bb7aa58029ee2baac3f3b310dea5da2a6a77a366b7b6d4b104b91ef75e7959ac6b1f558be7844417cbe3e12f     603\n",
              "ffda53354c610fd3af1aee46d723028a49014e35f7280ca3d812716eb3cf1f0a763556368e4139b7183ee1fb36e26104de62bb86601f2fa16e3d96167e25b84e    1236\n",
              "ffe8d8153b8f68cd20871ae5710f9b799bcc517b40ece7cf561407a6cd161f52430890c0ef8402a9152eb6bd24651716504c08a69f3b8c8b7a79a08fae65fc4c      46\n",
              "fff3279af11dfade5e308184a5cc6c1ca2d33764634d962e589f6af2bf844c2dc8e6d8fcf1bf47f4364671bea6c8a8cb8b9990cb9f6dc608079e96aa1fec24e7     914\n",
              "fff84aa08ac78890c6e7da64b817cbd9aad6a124104e099a7482efee1a6bac61a837e1db218e9d38c159f28c8f85187a08a05c8ba54648edc3b91e437357fa84     202\n",
              "Name: trip_id, Length: 5280, dtype: int64"
            ]
          },
          "metadata": {},
          "execution_count": 125
        }
      ],
      "source": [
        "# Query 1: Number of trips grouped by taxi - Using Terality\n",
        "timer.start()\n",
        "taxi_trips_pdf.groupby('taxi_id').count()['trip_id']\n",
        "\n"
      ]
    },
    {
      "cell_type": "code",
      "source": [
        "timer.stop()"
      ],
      "metadata": {
        "id": "CgWQYn-vUQxJ",
        "outputId": "342f296a-7783-4981-eb60-b8c50b4e4a50",
        "colab": {
          "base_uri": "https://localhost:8080/"
        }
      },
      "id": "CgWQYn-vUQxJ",
      "execution_count": 126,
      "outputs": [
        {
          "output_type": "stream",
          "name": "stdout",
          "text": [
            "Elapsed time: 7.9469 seconds\n"
          ]
        },
        {
          "output_type": "execute_result",
          "data": {
            "text/plain": [
              "7.946876800007885"
            ]
          },
          "metadata": {},
          "execution_count": 126
        }
      ]
    },
    {
      "cell_type": "markdown",
      "source": [
        ""
      ],
      "metadata": {
        "collapsed": false,
        "id": "_9w6gg5FzRVf"
      },
      "id": "_9w6gg5FzRVf"
    },
    {
      "cell_type": "code",
      "execution_count": 127,
      "outputs": [
        {
          "output_type": "execute_result",
          "data": {
            "text/plain": [
              "taxi_id                                                                                                                           trip_start_ym\n",
              "0008de7a146802839c9e6059f482d292ebdae13c5c31dd6e5983a80882e2a5dbcd6ea098c2fcd56f34ce02645eb94c6b39512e9304837746d4e289b6236c2c5b  2019-01          230\n",
              "                                                                                                                                  2019-02          248\n",
              "                                                                                                                                  2019-03          212\n",
              "                                                                                                                                  2019-04          202\n",
              "                                                                                                                                  2019-05          270\n",
              "                                                                                                                                                  ... \n",
              "fff84aa08ac78890c6e7da64b817cbd9aad6a124104e099a7482efee1a6bac61a837e1db218e9d38c159f28c8f85187a08a05c8ba54648edc3b91e437357fa84  2020-08            8\n",
              "                                                                                                                                  2020-09           59\n",
              "                                                                                                                                  2020-10           52\n",
              "                                                                                                                                  2020-11           21\n",
              "                                                                                                                                  2020-12           18\n",
              "Name: trip_id, Length: 67069, dtype: int64"
            ]
          },
          "metadata": {},
          "execution_count": 127
        }
      ],
      "source": [
        "# Query 2: Number of trips grouped by taxi and year/month - Using Pandas\n",
        "timer.start()\n",
        "taxi_trips_pdf.groupby(['taxi_id', 'trip_start_ym']).count()['trip_id']"
      ],
      "metadata": {
        "pycharm": {
          "name": "#%%\n"
        },
        "colab": {
          "base_uri": "https://localhost:8080/"
        },
        "id": "RXT0aueNzRVg",
        "outputId": "4e0778c2-4fd2-4002-d92b-002e580960e4"
      },
      "id": "RXT0aueNzRVg"
    },
    {
      "cell_type": "code",
      "execution_count": 128,
      "outputs": [
        {
          "output_type": "stream",
          "name": "stdout",
          "text": [
            "Elapsed time: 8.9333 seconds\n"
          ]
        },
        {
          "output_type": "execute_result",
          "data": {
            "text/plain": [
              "8.93328769999789"
            ]
          },
          "metadata": {},
          "execution_count": 128
        }
      ],
      "source": [
        "timer.stop()"
      ],
      "metadata": {
        "pycharm": {
          "name": "#%%\n"
        },
        "colab": {
          "base_uri": "https://localhost:8080/"
        },
        "id": "HK89Q6CLzRVg",
        "outputId": "05a7a24f-03e9-48e7-aabc-e8d8ffb0e2c9"
      },
      "id": "HK89Q6CLzRVg"
    },
    {
      "cell_type": "code",
      "source": [
        "# Query 2: Number of trips grouped by taxi and year/month - Using Terality\n",
        "timer.start()\n",
        "taxi_trips_tdf.groupby(['taxi_id', 'trip_start_ym']).count()['trip_id']"
      ],
      "metadata": {
        "colab": {
          "base_uri": "https://localhost:8080/"
        },
        "id": "2Abw4afRtccc",
        "outputId": "7017f683-833f-44fa-d65d-f93b6ab4f704"
      },
      "id": "2Abw4afRtccc",
      "execution_count": 129,
      "outputs": [
        {
          "output_type": "execute_result",
          "data": {
            "text/plain": [
              "taxi_id                                                                                                                           trip_start_ym\n",
              "0008de7a146802839c9e6059f482d292ebdae13c5c31dd6e5983a80882e2a5dbcd6ea098c2fcd56f34ce02645eb94c6b39512e9304837746d4e289b6236c2c5b  2019-01          230\n",
              "                                                                                                                                  2019-02          248\n",
              "                                                                                                                                  2019-03          212\n",
              "                                                                                                                                  2019-04          202\n",
              "                                                                                                                                  2019-05          270\n",
              "                                                                                                                                                  ... \n",
              "fff84aa08ac78890c6e7da64b817cbd9aad6a124104e099a7482efee1a6bac61a837e1db218e9d38c159f28c8f85187a08a05c8ba54648edc3b91e437357fa84  2020-08            8\n",
              "                                                                                                                                  2020-09           59\n",
              "                                                                                                                                  2020-10           52\n",
              "                                                                                                                                  2020-11           21\n",
              "                                                                                                                                  2020-12           18\n",
              "Name: trip_id, Length: 67069, dtype: int64"
            ]
          },
          "metadata": {},
          "execution_count": 129
        }
      ]
    },
    {
      "cell_type": "code",
      "source": [
        "timer.stop()"
      ],
      "metadata": {
        "colab": {
          "base_uri": "https://localhost:8080/"
        },
        "id": "GGri5U4xth25",
        "outputId": "7db218d0-1535-439f-80db-e8d3a77bd7e4"
      },
      "id": "GGri5U4xth25",
      "execution_count": 130,
      "outputs": [
        {
          "output_type": "stream",
          "name": "stdout",
          "text": [
            "Elapsed time: 21.3977 seconds\n"
          ]
        },
        {
          "output_type": "execute_result",
          "data": {
            "text/plain": [
              "21.397688299999572"
            ]
          },
          "metadata": {},
          "execution_count": 130
        }
      ]
    },
    {
      "cell_type": "code",
      "execution_count": 131,
      "id": "c87ece3d",
      "metadata": {
        "id": "c87ece3d",
        "outputId": "c0ee2ae2-2f7a-493d-ea75-63c0870e1991",
        "colab": {
          "base_uri": "https://localhost:8080/"
        }
      },
      "outputs": [
        {
          "output_type": "execute_result",
          "data": {
            "text/plain": [
              "company\n",
              "Taxi Affiliation Services            2769009\n",
              "Chicago Carriage Cab Corp            1506931\n",
              "Flash Cab                            1220891\n",
              "Sun Taxi                             1046724\n",
              "Medallion Leasin                      932280\n",
              "City Service                          906870\n",
              "Star North Management LLC             742670\n",
              "Blue Ribbon Taxi Association Inc.     581908\n",
              "Choice Taxi Association               400096\n",
              "Taxicab Insurance Agency, LLC         340868\n",
              "Name: trip_id, dtype: int64"
            ]
          },
          "metadata": {},
          "execution_count": 131
        }
      ],
      "source": [
        "# Query 3: Number of trips by Taxi Company - using Pandas\n",
        "timer.start()\n",
        "taxi_trips_pdf.groupby('company').count()['trip_id'].sort_values(ascending=False).head(10)\n"
      ]
    },
    {
      "cell_type": "code",
      "source": [
        "timer.stop()"
      ],
      "metadata": {
        "colab": {
          "base_uri": "https://localhost:8080/"
        },
        "id": "k956MAzcwu2y",
        "outputId": "6aa93545-6c37-4f04-bb1e-180afec89051"
      },
      "id": "k956MAzcwu2y",
      "execution_count": 132,
      "outputs": [
        {
          "output_type": "stream",
          "name": "stdout",
          "text": [
            "Elapsed time: 5.5310 seconds\n"
          ]
        },
        {
          "output_type": "execute_result",
          "data": {
            "text/plain": [
              "5.5309644999942975"
            ]
          },
          "metadata": {},
          "execution_count": 132
        }
      ]
    },
    {
      "cell_type": "code",
      "execution_count": 133,
      "id": "51d5103a",
      "metadata": {
        "id": "51d5103a",
        "colab": {
          "base_uri": "https://localhost:8080/"
        },
        "outputId": "f63ff67e-d21b-44e4-9404-8ebf1e4050fe"
      },
      "outputs": [
        {
          "output_type": "execute_result",
          "data": {
            "text/plain": [
              "company\n",
              "Taxi Affiliation Services            2769009\n",
              "Chicago Carriage Cab Corp            1506931\n",
              "Flash Cab                            1220891\n",
              "Sun Taxi                             1046724\n",
              "Medallion Leasin                      932280\n",
              "City Service                          906870\n",
              "Star North Management LLC             742670\n",
              "Blue Ribbon Taxi Association Inc.     581908\n",
              "Choice Taxi Association               400096\n",
              "Taxicab Insurance Agency, LLC         340868\n",
              "Name: trip_id, dtype: int64"
            ]
          },
          "metadata": {},
          "execution_count": 133
        }
      ],
      "source": [
        "# Query 3: Number of trips by Taxi Company - using Terality\n",
        "timer.start()\n",
        "taxi_trips_tdf.groupby('company').count()['trip_id'].sort_values(ascending=False).head(10)\n"
      ]
    },
    {
      "cell_type": "code",
      "source": [
        "timer.stop()"
      ],
      "metadata": {
        "colab": {
          "base_uri": "https://localhost:8080/"
        },
        "id": "stMlsqLyI4qb",
        "outputId": "32dbabf1-b5ff-46d5-dc7d-d870914f54b7"
      },
      "id": "stMlsqLyI4qb",
      "execution_count": 134,
      "outputs": [
        {
          "output_type": "stream",
          "name": "stdout",
          "text": [
            "Elapsed time: 23.4792 seconds\n"
          ]
        },
        {
          "output_type": "execute_result",
          "data": {
            "text/plain": [
              "23.479232700003195"
            ]
          },
          "metadata": {},
          "execution_count": 134
        }
      ]
    },
    {
      "cell_type": "code",
      "source": [
        "# Query 4: Sort by Taxi Company - using Pandas\n",
        "timer.start()\n",
        "taxi_trips_pdf.sort_values(by=\"company\")\n",
        "timer.stop()"
      ],
      "metadata": {
        "colab": {
          "base_uri": "https://localhost:8080/"
        },
        "id": "xxCUE6fgI7ga",
        "outputId": "2f2ff39d-e395-40f8-ed3b-4f87345f66b9"
      },
      "id": "xxCUE6fgI7ga",
      "execution_count": 135,
      "outputs": [
        {
          "output_type": "stream",
          "name": "stdout",
          "text": [
            "Elapsed time: 13.7101 seconds\n"
          ]
        },
        {
          "output_type": "execute_result",
          "data": {
            "text/plain": [
              "13.710100900003454"
            ]
          },
          "metadata": {},
          "execution_count": 135
        }
      ]
    },
    {
      "cell_type": "code",
      "source": [
        "# Query 4: Sort by Taxi Company - using Terality\n",
        "timer.start()\n",
        "taxi_trips_tdf.sort_values(by=\"company\")\n",
        "timer.stop()"
      ],
      "metadata": {
        "colab": {
          "base_uri": "https://localhost:8080/"
        },
        "id": "4Bpf2neyJDVT",
        "outputId": "58a178a0-3927-4838-d63c-33d18a19f992"
      },
      "id": "4Bpf2neyJDVT",
      "execution_count": 136,
      "outputs": [
        {
          "output_type": "stream",
          "name": "stdout",
          "text": [
            "Elapsed time: 24.0933 seconds\n"
          ]
        },
        {
          "output_type": "execute_result",
          "data": {
            "text/plain": [
              "24.093318900006125"
            ]
          },
          "metadata": {},
          "execution_count": 136
        }
      ]
    },
    {
      "cell_type": "code",
      "source": [
        "range = get_slice_range(row_count)\n",
        "print(\"Start: %d, End: %d\" % range)\n"
      ],
      "metadata": {
        "colab": {
          "base_uri": "https://localhost:8080/"
        },
        "id": "GYP-ex-GgXyi",
        "outputId": "f410b0f7-1161-4f39-d6fa-143901c62a63"
      },
      "id": "GYP-ex-GgXyi",
      "execution_count": 137,
      "outputs": [
        {
          "output_type": "stream",
          "name": "stdout",
          "text": [
            "Start: 3349112, End: 3349614\n"
          ]
        }
      ]
    },
    {
      "cell_type": "code",
      "source": [
        "# Query 5: Slicing using random numbers for start and end - using Pandas\n",
        "timer.start()\n",
        "taxi_trips_pdf[range[0]:range[1]]"
      ],
      "metadata": {
        "colab": {
          "base_uri": "https://localhost:8080/",
          "height": 617
        },
        "id": "_MVI8zALJFYs",
        "outputId": "4528c264-c137-48e8-fcb4-d462776e5cdc"
      },
      "id": "_MVI8zALJFYs",
      "execution_count": 138,
      "outputs": [
        {
          "output_type": "execute_result",
          "data": {
            "text/plain": [
              "                                          trip_id  \\\n",
              "5518823  6546c749f2ee8d1fbf961a638a38a191988f0483   \n",
              "5518825  5a41ecd1d467e6f8e3cafe9544c42461f97f02f3   \n",
              "5518826  5a624313d6a193a3522a4a50d2bbe68b6754d04c   \n",
              "5518827  5afa5a13c6c3ba2ca2c44cde9886ff3e4bd62281   \n",
              "5518830  662421ff994c16eaa80426ed523d2ef5770e1df9   \n",
              "...                                           ...   \n",
              "5519517  37870628d394ae4668ce89d4fdaf9340a7dca9dd   \n",
              "5519520  389cbd4668b040ae05a61b522062c03bac074c98   \n",
              "5519521  38c4a98e6705a3c30c18e6cf3b05fb9f53a540ed   \n",
              "5519523  38fe56fec319fcd3898a01ab7651feb9ddf02d14   \n",
              "5519524  391fe87c4bd4e7720d368035b325e3c6ffc799e6   \n",
              "\n",
              "                                                   taxi_id  \\\n",
              "5518823  7d72fbc3bf81a1d1cc1e5b812096828df769a74ed08e13...   \n",
              "5518825  059bda2b6b156207134204beed08bb2b9d3c3643c60e1c...   \n",
              "5518826  5e3077a68e0439a1168a98d848e9ae3fd8c74f61bc4323...   \n",
              "5518827  54b032d1527c44cbca520e9af4e89090945868e46dd774...   \n",
              "5518830  a940425dd1a398a41024ee7bb70bbbf66515799b941674...   \n",
              "...                                                    ...   \n",
              "5519517  21c91ae089317069d5b6e18187c887882b0dcce86d9302...   \n",
              "5519520  2d49dd422b09d66e3e2da3120413ee76b8e28e19fd2e21...   \n",
              "5519521  847cf962bd6f62040673e6c24c24940aeb2d7fdaa54677...   \n",
              "5519523  1b2a60b8aca7f106dc2ddcd51b43e9448be7920ca7a24d...   \n",
              "5519524  ad87bd954307e44d386e9f1fe87afb426ca69eb3cb1af5...   \n",
              "\n",
              "           trip_start_timestamp      trip_end_timestamp  trip_seconds  \\\n",
              "5518823  05/01/2019 12:00:00 PM  05/01/2019 12:00:00 PM         180.0   \n",
              "5518825  05/01/2019 12:00:00 PM  05/01/2019 12:15:00 PM         660.0   \n",
              "5518826  05/01/2019 12:00:00 PM  05/01/2019 12:15:00 PM         660.0   \n",
              "5518827  05/01/2019 12:00:00 PM  05/01/2019 12:30:00 PM        1860.0   \n",
              "5518830  05/01/2019 12:00:00 PM  05/01/2019 12:00:00 PM         300.0   \n",
              "...                         ...                     ...           ...   \n",
              "5519517  05/01/2019 12:15:00 PM  05/01/2019 12:15:00 PM         420.0   \n",
              "5519520  05/01/2019 12:15:00 PM  05/01/2019 12:15:00 PM         360.0   \n",
              "5519521  05/01/2019 12:15:00 PM  05/01/2019 12:30:00 PM        1080.0   \n",
              "5519523  05/01/2019 12:15:00 PM  05/01/2019 12:15:00 PM         360.0   \n",
              "5519524  05/01/2019 12:15:00 PM  05/01/2019 12:15:00 PM         182.0   \n",
              "\n",
              "         trip_miles  pickup_census_tract  dropoff_census_tract  \\\n",
              "5518823        0.00         1.703184e+10          1.703184e+10   \n",
              "5518825        1.40         1.703108e+10          1.703132e+10   \n",
              "5518826        1.10         1.703132e+10          1.703184e+10   \n",
              "5518827       17.20         1.703198e+10          1.703108e+10   \n",
              "5518830        1.10         1.703108e+10          1.703108e+10   \n",
              "...             ...                  ...                   ...   \n",
              "5519517        0.90         1.703108e+10          1.703184e+10   \n",
              "5519520        1.00         1.703184e+10          1.703183e+10   \n",
              "5519521        1.40         1.703132e+10          1.703184e+10   \n",
              "5519523        0.70         1.703108e+10          1.703108e+10   \n",
              "5519524        0.41         1.703108e+10          1.703108e+10   \n",
              "\n",
              "         pickup_community_area  dropoff_community_area  ...  \\\n",
              "5518823                   32.0                    32.0  ...   \n",
              "5518825                    8.0                    32.0  ...   \n",
              "5518826                   32.0                    32.0  ...   \n",
              "5518827                   76.0                     8.0  ...   \n",
              "5518830                    8.0                     8.0  ...   \n",
              "...                        ...                     ...  ...   \n",
              "5519517                    8.0                    32.0  ...   \n",
              "5519520                   32.0                    28.0  ...   \n",
              "5519521                   32.0                    32.0  ...   \n",
              "5519523                    8.0                     8.0  ...   \n",
              "5519524                    8.0                     8.0  ...   \n",
              "\n",
              "         pickup_centroid_latitude  pickup_centroid_longitude  \\\n",
              "5518823                 41.880994                 -87.632746   \n",
              "5518825                 41.902788                 -87.626146   \n",
              "5518826                 41.884987                 -87.620993   \n",
              "5518827                 41.979071                 -87.903040   \n",
              "5518830                 41.892042                 -87.631864   \n",
              "...                           ...                        ...   \n",
              "5519517                 41.892042                 -87.631864   \n",
              "5519520                 41.880994                 -87.632746   \n",
              "5519521                 41.877406                 -87.621972   \n",
              "5519523                 41.891972                 -87.612945   \n",
              "5519524                 41.892042                 -87.631864   \n",
              "\n",
              "                     pickup_centroid_location  dropoff_centroid_latitude  \\\n",
              "5518823  POINT (-87.6327464887 41.8809944707)                  41.880994   \n",
              "5518825  POINT (-87.6261455896 41.9027880476)                  41.877406   \n",
              "5518826  POINT (-87.6209929134 41.8849871918)                  41.880994   \n",
              "5518827  POINT (-87.9030396611 41.9790708201)                  41.898332   \n",
              "5518830  POINT (-87.6318639497 41.8920421365)                  41.898332   \n",
              "...                                       ...                        ...   \n",
              "5519517  POINT (-87.6318639497 41.8920421365)                  41.880994   \n",
              "5519520  POINT (-87.6327464887 41.8809944707)                  41.879067   \n",
              "5519521  POINT (-87.6219716519 41.8774061234)                  41.880994   \n",
              "5519523  POINT (-87.6129454143 41.8919715078)                  41.895033   \n",
              "5519524  POINT (-87.6318639497 41.8920421365)                  41.892042   \n",
              "\n",
              "         dropoff_centroid_longitude            dropoff_centroid__location  \\\n",
              "5518823                  -87.632746  POINT (-87.6327464887 41.8809944707)   \n",
              "5518825                  -87.621972  POINT (-87.6219716519 41.8774061234)   \n",
              "5518826                  -87.632746  POINT (-87.6327464887 41.8809944707)   \n",
              "5518827                  -87.620763  POINT (-87.6207628651 41.8983317935)   \n",
              "5518830                  -87.620763  POINT (-87.6207628651 41.8983317935)   \n",
              "...                             ...                                   ...   \n",
              "5519517                  -87.632746  POINT (-87.6327464887 41.8809944707)   \n",
              "5519520                  -87.657005   POINT (-87.657005027 41.8790669938)   \n",
              "5519521                  -87.632746  POINT (-87.6327464887 41.8809944707)   \n",
              "5519523                  -87.619711  POINT (-87.6197106717 41.8950334495)   \n",
              "5519524                  -87.631864  POINT (-87.6318639497 41.8920421365)   \n",
              "\n",
              "              trip_start_dt         trip_end_dt  trip_start_ym trip_end_ym  \n",
              "5518823 2019-05-01 12:00:00 2019-05-01 12:00:00        2019-05     2019-05  \n",
              "5518825 2019-05-01 12:00:00 2019-05-01 12:15:00        2019-05     2019-05  \n",
              "5518826 2019-05-01 12:00:00 2019-05-01 12:15:00        2019-05     2019-05  \n",
              "5518827 2019-05-01 12:00:00 2019-05-01 12:30:00        2019-05     2019-05  \n",
              "5518830 2019-05-01 12:00:00 2019-05-01 12:00:00        2019-05     2019-05  \n",
              "...                     ...                 ...            ...         ...  \n",
              "5519517 2019-05-01 12:15:00 2019-05-01 12:15:00        2019-05     2019-05  \n",
              "5519520 2019-05-01 12:15:00 2019-05-01 12:15:00        2019-05     2019-05  \n",
              "5519521 2019-05-01 12:15:00 2019-05-01 12:30:00        2019-05     2019-05  \n",
              "5519523 2019-05-01 12:15:00 2019-05-01 12:15:00        2019-05     2019-05  \n",
              "5519524 2019-05-01 12:15:00 2019-05-01 12:15:00        2019-05     2019-05  \n",
              "\n",
              "[502 rows x 27 columns]"
            ],
            "text/html": [
              "<div>\n",
              "<style scoped>\n",
              "    .dataframe tbody tr th:only-of-type {\n",
              "        vertical-align: middle;\n",
              "    }\n",
              "\n",
              "    .dataframe tbody tr th {\n",
              "        vertical-align: top;\n",
              "    }\n",
              "\n",
              "    .dataframe thead th {\n",
              "        text-align: right;\n",
              "    }\n",
              "</style>\n",
              "<table border=\"1\" class=\"dataframe\">\n",
              "  <thead>\n",
              "    <tr style=\"text-align: right;\">\n",
              "      <th></th>\n",
              "      <th>trip_id</th>\n",
              "      <th>taxi_id</th>\n",
              "      <th>trip_start_timestamp</th>\n",
              "      <th>trip_end_timestamp</th>\n",
              "      <th>trip_seconds</th>\n",
              "      <th>trip_miles</th>\n",
              "      <th>pickup_census_tract</th>\n",
              "      <th>dropoff_census_tract</th>\n",
              "      <th>pickup_community_area</th>\n",
              "      <th>dropoff_community_area</th>\n",
              "      <th>...</th>\n",
              "      <th>pickup_centroid_latitude</th>\n",
              "      <th>pickup_centroid_longitude</th>\n",
              "      <th>pickup_centroid_location</th>\n",
              "      <th>dropoff_centroid_latitude</th>\n",
              "      <th>dropoff_centroid_longitude</th>\n",
              "      <th>dropoff_centroid__location</th>\n",
              "      <th>trip_start_dt</th>\n",
              "      <th>trip_end_dt</th>\n",
              "      <th>trip_start_ym</th>\n",
              "      <th>trip_end_ym</th>\n",
              "    </tr>\n",
              "  </thead>\n",
              "  <tbody>\n",
              "    <tr>\n",
              "      <th>5518823</th>\n",
              "      <td>6546c749f2ee8d1fbf961a638a38a191988f0483</td>\n",
              "      <td>7d72fbc3bf81a1d1cc1e5b812096828df769a74ed08e13...</td>\n",
              "      <td>05/01/2019 12:00:00 PM</td>\n",
              "      <td>05/01/2019 12:00:00 PM</td>\n",
              "      <td>180.0</td>\n",
              "      <td>0.00</td>\n",
              "      <td>1.703184e+10</td>\n",
              "      <td>1.703184e+10</td>\n",
              "      <td>32.0</td>\n",
              "      <td>32.0</td>\n",
              "      <td>...</td>\n",
              "      <td>41.880994</td>\n",
              "      <td>-87.632746</td>\n",
              "      <td>POINT (-87.6327464887 41.8809944707)</td>\n",
              "      <td>41.880994</td>\n",
              "      <td>-87.632746</td>\n",
              "      <td>POINT (-87.6327464887 41.8809944707)</td>\n",
              "      <td>2019-05-01 12:00:00</td>\n",
              "      <td>2019-05-01 12:00:00</td>\n",
              "      <td>2019-05</td>\n",
              "      <td>2019-05</td>\n",
              "    </tr>\n",
              "    <tr>\n",
              "      <th>5518825</th>\n",
              "      <td>5a41ecd1d467e6f8e3cafe9544c42461f97f02f3</td>\n",
              "      <td>059bda2b6b156207134204beed08bb2b9d3c3643c60e1c...</td>\n",
              "      <td>05/01/2019 12:00:00 PM</td>\n",
              "      <td>05/01/2019 12:15:00 PM</td>\n",
              "      <td>660.0</td>\n",
              "      <td>1.40</td>\n",
              "      <td>1.703108e+10</td>\n",
              "      <td>1.703132e+10</td>\n",
              "      <td>8.0</td>\n",
              "      <td>32.0</td>\n",
              "      <td>...</td>\n",
              "      <td>41.902788</td>\n",
              "      <td>-87.626146</td>\n",
              "      <td>POINT (-87.6261455896 41.9027880476)</td>\n",
              "      <td>41.877406</td>\n",
              "      <td>-87.621972</td>\n",
              "      <td>POINT (-87.6219716519 41.8774061234)</td>\n",
              "      <td>2019-05-01 12:00:00</td>\n",
              "      <td>2019-05-01 12:15:00</td>\n",
              "      <td>2019-05</td>\n",
              "      <td>2019-05</td>\n",
              "    </tr>\n",
              "    <tr>\n",
              "      <th>5518826</th>\n",
              "      <td>5a624313d6a193a3522a4a50d2bbe68b6754d04c</td>\n",
              "      <td>5e3077a68e0439a1168a98d848e9ae3fd8c74f61bc4323...</td>\n",
              "      <td>05/01/2019 12:00:00 PM</td>\n",
              "      <td>05/01/2019 12:15:00 PM</td>\n",
              "      <td>660.0</td>\n",
              "      <td>1.10</td>\n",
              "      <td>1.703132e+10</td>\n",
              "      <td>1.703184e+10</td>\n",
              "      <td>32.0</td>\n",
              "      <td>32.0</td>\n",
              "      <td>...</td>\n",
              "      <td>41.884987</td>\n",
              "      <td>-87.620993</td>\n",
              "      <td>POINT (-87.6209929134 41.8849871918)</td>\n",
              "      <td>41.880994</td>\n",
              "      <td>-87.632746</td>\n",
              "      <td>POINT (-87.6327464887 41.8809944707)</td>\n",
              "      <td>2019-05-01 12:00:00</td>\n",
              "      <td>2019-05-01 12:15:00</td>\n",
              "      <td>2019-05</td>\n",
              "      <td>2019-05</td>\n",
              "    </tr>\n",
              "    <tr>\n",
              "      <th>5518827</th>\n",
              "      <td>5afa5a13c6c3ba2ca2c44cde9886ff3e4bd62281</td>\n",
              "      <td>54b032d1527c44cbca520e9af4e89090945868e46dd774...</td>\n",
              "      <td>05/01/2019 12:00:00 PM</td>\n",
              "      <td>05/01/2019 12:30:00 PM</td>\n",
              "      <td>1860.0</td>\n",
              "      <td>17.20</td>\n",
              "      <td>1.703198e+10</td>\n",
              "      <td>1.703108e+10</td>\n",
              "      <td>76.0</td>\n",
              "      <td>8.0</td>\n",
              "      <td>...</td>\n",
              "      <td>41.979071</td>\n",
              "      <td>-87.903040</td>\n",
              "      <td>POINT (-87.9030396611 41.9790708201)</td>\n",
              "      <td>41.898332</td>\n",
              "      <td>-87.620763</td>\n",
              "      <td>POINT (-87.6207628651 41.8983317935)</td>\n",
              "      <td>2019-05-01 12:00:00</td>\n",
              "      <td>2019-05-01 12:30:00</td>\n",
              "      <td>2019-05</td>\n",
              "      <td>2019-05</td>\n",
              "    </tr>\n",
              "    <tr>\n",
              "      <th>5518830</th>\n",
              "      <td>662421ff994c16eaa80426ed523d2ef5770e1df9</td>\n",
              "      <td>a940425dd1a398a41024ee7bb70bbbf66515799b941674...</td>\n",
              "      <td>05/01/2019 12:00:00 PM</td>\n",
              "      <td>05/01/2019 12:00:00 PM</td>\n",
              "      <td>300.0</td>\n",
              "      <td>1.10</td>\n",
              "      <td>1.703108e+10</td>\n",
              "      <td>1.703108e+10</td>\n",
              "      <td>8.0</td>\n",
              "      <td>8.0</td>\n",
              "      <td>...</td>\n",
              "      <td>41.892042</td>\n",
              "      <td>-87.631864</td>\n",
              "      <td>POINT (-87.6318639497 41.8920421365)</td>\n",
              "      <td>41.898332</td>\n",
              "      <td>-87.620763</td>\n",
              "      <td>POINT (-87.6207628651 41.8983317935)</td>\n",
              "      <td>2019-05-01 12:00:00</td>\n",
              "      <td>2019-05-01 12:00:00</td>\n",
              "      <td>2019-05</td>\n",
              "      <td>2019-05</td>\n",
              "    </tr>\n",
              "    <tr>\n",
              "      <th>...</th>\n",
              "      <td>...</td>\n",
              "      <td>...</td>\n",
              "      <td>...</td>\n",
              "      <td>...</td>\n",
              "      <td>...</td>\n",
              "      <td>...</td>\n",
              "      <td>...</td>\n",
              "      <td>...</td>\n",
              "      <td>...</td>\n",
              "      <td>...</td>\n",
              "      <td>...</td>\n",
              "      <td>...</td>\n",
              "      <td>...</td>\n",
              "      <td>...</td>\n",
              "      <td>...</td>\n",
              "      <td>...</td>\n",
              "      <td>...</td>\n",
              "      <td>...</td>\n",
              "      <td>...</td>\n",
              "      <td>...</td>\n",
              "      <td>...</td>\n",
              "    </tr>\n",
              "    <tr>\n",
              "      <th>5519517</th>\n",
              "      <td>37870628d394ae4668ce89d4fdaf9340a7dca9dd</td>\n",
              "      <td>21c91ae089317069d5b6e18187c887882b0dcce86d9302...</td>\n",
              "      <td>05/01/2019 12:15:00 PM</td>\n",
              "      <td>05/01/2019 12:15:00 PM</td>\n",
              "      <td>420.0</td>\n",
              "      <td>0.90</td>\n",
              "      <td>1.703108e+10</td>\n",
              "      <td>1.703184e+10</td>\n",
              "      <td>8.0</td>\n",
              "      <td>32.0</td>\n",
              "      <td>...</td>\n",
              "      <td>41.892042</td>\n",
              "      <td>-87.631864</td>\n",
              "      <td>POINT (-87.6318639497 41.8920421365)</td>\n",
              "      <td>41.880994</td>\n",
              "      <td>-87.632746</td>\n",
              "      <td>POINT (-87.6327464887 41.8809944707)</td>\n",
              "      <td>2019-05-01 12:15:00</td>\n",
              "      <td>2019-05-01 12:15:00</td>\n",
              "      <td>2019-05</td>\n",
              "      <td>2019-05</td>\n",
              "    </tr>\n",
              "    <tr>\n",
              "      <th>5519520</th>\n",
              "      <td>389cbd4668b040ae05a61b522062c03bac074c98</td>\n",
              "      <td>2d49dd422b09d66e3e2da3120413ee76b8e28e19fd2e21...</td>\n",
              "      <td>05/01/2019 12:15:00 PM</td>\n",
              "      <td>05/01/2019 12:15:00 PM</td>\n",
              "      <td>360.0</td>\n",
              "      <td>1.00</td>\n",
              "      <td>1.703184e+10</td>\n",
              "      <td>1.703183e+10</td>\n",
              "      <td>32.0</td>\n",
              "      <td>28.0</td>\n",
              "      <td>...</td>\n",
              "      <td>41.880994</td>\n",
              "      <td>-87.632746</td>\n",
              "      <td>POINT (-87.6327464887 41.8809944707)</td>\n",
              "      <td>41.879067</td>\n",
              "      <td>-87.657005</td>\n",
              "      <td>POINT (-87.657005027 41.8790669938)</td>\n",
              "      <td>2019-05-01 12:15:00</td>\n",
              "      <td>2019-05-01 12:15:00</td>\n",
              "      <td>2019-05</td>\n",
              "      <td>2019-05</td>\n",
              "    </tr>\n",
              "    <tr>\n",
              "      <th>5519521</th>\n",
              "      <td>38c4a98e6705a3c30c18e6cf3b05fb9f53a540ed</td>\n",
              "      <td>847cf962bd6f62040673e6c24c24940aeb2d7fdaa54677...</td>\n",
              "      <td>05/01/2019 12:15:00 PM</td>\n",
              "      <td>05/01/2019 12:30:00 PM</td>\n",
              "      <td>1080.0</td>\n",
              "      <td>1.40</td>\n",
              "      <td>1.703132e+10</td>\n",
              "      <td>1.703184e+10</td>\n",
              "      <td>32.0</td>\n",
              "      <td>32.0</td>\n",
              "      <td>...</td>\n",
              "      <td>41.877406</td>\n",
              "      <td>-87.621972</td>\n",
              "      <td>POINT (-87.6219716519 41.8774061234)</td>\n",
              "      <td>41.880994</td>\n",
              "      <td>-87.632746</td>\n",
              "      <td>POINT (-87.6327464887 41.8809944707)</td>\n",
              "      <td>2019-05-01 12:15:00</td>\n",
              "      <td>2019-05-01 12:30:00</td>\n",
              "      <td>2019-05</td>\n",
              "      <td>2019-05</td>\n",
              "    </tr>\n",
              "    <tr>\n",
              "      <th>5519523</th>\n",
              "      <td>38fe56fec319fcd3898a01ab7651feb9ddf02d14</td>\n",
              "      <td>1b2a60b8aca7f106dc2ddcd51b43e9448be7920ca7a24d...</td>\n",
              "      <td>05/01/2019 12:15:00 PM</td>\n",
              "      <td>05/01/2019 12:15:00 PM</td>\n",
              "      <td>360.0</td>\n",
              "      <td>0.70</td>\n",
              "      <td>1.703108e+10</td>\n",
              "      <td>1.703108e+10</td>\n",
              "      <td>8.0</td>\n",
              "      <td>8.0</td>\n",
              "      <td>...</td>\n",
              "      <td>41.891972</td>\n",
              "      <td>-87.612945</td>\n",
              "      <td>POINT (-87.6129454143 41.8919715078)</td>\n",
              "      <td>41.895033</td>\n",
              "      <td>-87.619711</td>\n",
              "      <td>POINT (-87.6197106717 41.8950334495)</td>\n",
              "      <td>2019-05-01 12:15:00</td>\n",
              "      <td>2019-05-01 12:15:00</td>\n",
              "      <td>2019-05</td>\n",
              "      <td>2019-05</td>\n",
              "    </tr>\n",
              "    <tr>\n",
              "      <th>5519524</th>\n",
              "      <td>391fe87c4bd4e7720d368035b325e3c6ffc799e6</td>\n",
              "      <td>ad87bd954307e44d386e9f1fe87afb426ca69eb3cb1af5...</td>\n",
              "      <td>05/01/2019 12:15:00 PM</td>\n",
              "      <td>05/01/2019 12:15:00 PM</td>\n",
              "      <td>182.0</td>\n",
              "      <td>0.41</td>\n",
              "      <td>1.703108e+10</td>\n",
              "      <td>1.703108e+10</td>\n",
              "      <td>8.0</td>\n",
              "      <td>8.0</td>\n",
              "      <td>...</td>\n",
              "      <td>41.892042</td>\n",
              "      <td>-87.631864</td>\n",
              "      <td>POINT (-87.6318639497 41.8920421365)</td>\n",
              "      <td>41.892042</td>\n",
              "      <td>-87.631864</td>\n",
              "      <td>POINT (-87.6318639497 41.8920421365)</td>\n",
              "      <td>2019-05-01 12:15:00</td>\n",
              "      <td>2019-05-01 12:15:00</td>\n",
              "      <td>2019-05</td>\n",
              "      <td>2019-05</td>\n",
              "    </tr>\n",
              "  </tbody>\n",
              "</table>\n",
              "<p>502 rows × 27 columns</p>\n",
              "</div>"
            ]
          },
          "metadata": {},
          "execution_count": 138
        }
      ]
    },
    {
      "cell_type": "code",
      "source": [
        "timer.stop()"
      ],
      "metadata": {
        "colab": {
          "base_uri": "https://localhost:8080/"
        },
        "id": "tKkpSvjqgNsA",
        "outputId": "9c13fa3e-b2a2-4742-d73f-745174ac3be6"
      },
      "id": "tKkpSvjqgNsA",
      "execution_count": 139,
      "outputs": [
        {
          "output_type": "stream",
          "name": "stdout",
          "text": [
            "Elapsed time: 0.0486 seconds\n"
          ]
        },
        {
          "output_type": "execute_result",
          "data": {
            "text/plain": [
              "0.04860460000054445"
            ]
          },
          "metadata": {},
          "execution_count": 139
        }
      ]
    },
    {
      "cell_type": "code",
      "source": [
        "# Query 5: Slicing using random numbers for start and end - using Terality\n",
        "timer.start()\n",
        "taxi_trips_tdf[range[0]:range[1]]"
      ],
      "metadata": {
        "colab": {
          "base_uri": "https://localhost:8080/",
          "height": 617
        },
        "id": "08xojzDMJN-U",
        "outputId": "fdafaba7-6e54-448c-c822-fdfd9eb59f3c"
      },
      "id": "08xojzDMJN-U",
      "execution_count": 140,
      "outputs": [
        {
          "output_type": "execute_result",
          "data": {
            "text/plain": [
              "                                          trip_id  \\\n",
              "5518823  6546c749f2ee8d1fbf961a638a38a191988f0483   \n",
              "5518825  5a41ecd1d467e6f8e3cafe9544c42461f97f02f3   \n",
              "5518826  5a624313d6a193a3522a4a50d2bbe68b6754d04c   \n",
              "5518827  5afa5a13c6c3ba2ca2c44cde9886ff3e4bd62281   \n",
              "5518830  662421ff994c16eaa80426ed523d2ef5770e1df9   \n",
              "...                                           ...   \n",
              "5519517  37870628d394ae4668ce89d4fdaf9340a7dca9dd   \n",
              "5519520  389cbd4668b040ae05a61b522062c03bac074c98   \n",
              "5519521  38c4a98e6705a3c30c18e6cf3b05fb9f53a540ed   \n",
              "5519523  38fe56fec319fcd3898a01ab7651feb9ddf02d14   \n",
              "5519524  391fe87c4bd4e7720d368035b325e3c6ffc799e6   \n",
              "\n",
              "                                                   taxi_id  \\\n",
              "5518823  7d72fbc3bf81a1d1cc1e5b812096828df769a74ed08e13...   \n",
              "5518825  059bda2b6b156207134204beed08bb2b9d3c3643c60e1c...   \n",
              "5518826  5e3077a68e0439a1168a98d848e9ae3fd8c74f61bc4323...   \n",
              "5518827  54b032d1527c44cbca520e9af4e89090945868e46dd774...   \n",
              "5518830  a940425dd1a398a41024ee7bb70bbbf66515799b941674...   \n",
              "...                                                    ...   \n",
              "5519517  21c91ae089317069d5b6e18187c887882b0dcce86d9302...   \n",
              "5519520  2d49dd422b09d66e3e2da3120413ee76b8e28e19fd2e21...   \n",
              "5519521  847cf962bd6f62040673e6c24c24940aeb2d7fdaa54677...   \n",
              "5519523  1b2a60b8aca7f106dc2ddcd51b43e9448be7920ca7a24d...   \n",
              "5519524  ad87bd954307e44d386e9f1fe87afb426ca69eb3cb1af5...   \n",
              "\n",
              "           trip_start_timestamp      trip_end_timestamp  trip_seconds  \\\n",
              "5518823  05/01/2019 12:00:00 PM  05/01/2019 12:00:00 PM         180.0   \n",
              "5518825  05/01/2019 12:00:00 PM  05/01/2019 12:15:00 PM         660.0   \n",
              "5518826  05/01/2019 12:00:00 PM  05/01/2019 12:15:00 PM         660.0   \n",
              "5518827  05/01/2019 12:00:00 PM  05/01/2019 12:30:00 PM        1860.0   \n",
              "5518830  05/01/2019 12:00:00 PM  05/01/2019 12:00:00 PM         300.0   \n",
              "...                         ...                     ...           ...   \n",
              "5519517  05/01/2019 12:15:00 PM  05/01/2019 12:15:00 PM         420.0   \n",
              "5519520  05/01/2019 12:15:00 PM  05/01/2019 12:15:00 PM         360.0   \n",
              "5519521  05/01/2019 12:15:00 PM  05/01/2019 12:30:00 PM        1080.0   \n",
              "5519523  05/01/2019 12:15:00 PM  05/01/2019 12:15:00 PM         360.0   \n",
              "5519524  05/01/2019 12:15:00 PM  05/01/2019 12:15:00 PM         182.0   \n",
              "\n",
              "         trip_miles  pickup_census_tract  dropoff_census_tract  \\\n",
              "5518823        0.00         1.703184e+10          1.703184e+10   \n",
              "5518825        1.40         1.703108e+10          1.703132e+10   \n",
              "5518826        1.10         1.703132e+10          1.703184e+10   \n",
              "5518827       17.20         1.703198e+10          1.703108e+10   \n",
              "5518830        1.10         1.703108e+10          1.703108e+10   \n",
              "...             ...                  ...                   ...   \n",
              "5519517        0.90         1.703108e+10          1.703184e+10   \n",
              "5519520        1.00         1.703184e+10          1.703183e+10   \n",
              "5519521        1.40         1.703132e+10          1.703184e+10   \n",
              "5519523        0.70         1.703108e+10          1.703108e+10   \n",
              "5519524        0.41         1.703108e+10          1.703108e+10   \n",
              "\n",
              "         pickup_community_area  dropoff_community_area  ...  \\\n",
              "5518823                   32.0                    32.0  ...   \n",
              "5518825                    8.0                    32.0  ...   \n",
              "5518826                   32.0                    32.0  ...   \n",
              "5518827                   76.0                     8.0  ...   \n",
              "5518830                    8.0                     8.0  ...   \n",
              "...                        ...                     ...  ...   \n",
              "5519517                    8.0                    32.0  ...   \n",
              "5519520                   32.0                    28.0  ...   \n",
              "5519521                   32.0                    32.0  ...   \n",
              "5519523                    8.0                     8.0  ...   \n",
              "5519524                    8.0                     8.0  ...   \n",
              "\n",
              "         pickup_centroid_latitude  pickup_centroid_longitude  \\\n",
              "5518823                 41.880994                 -87.632746   \n",
              "5518825                 41.902788                 -87.626146   \n",
              "5518826                 41.884987                 -87.620993   \n",
              "5518827                 41.979071                 -87.903040   \n",
              "5518830                 41.892042                 -87.631864   \n",
              "...                           ...                        ...   \n",
              "5519517                 41.892042                 -87.631864   \n",
              "5519520                 41.880994                 -87.632746   \n",
              "5519521                 41.877406                 -87.621972   \n",
              "5519523                 41.891972                 -87.612945   \n",
              "5519524                 41.892042                 -87.631864   \n",
              "\n",
              "                     pickup_centroid_location  dropoff_centroid_latitude  \\\n",
              "5518823  POINT (-87.6327464887 41.8809944707)                  41.880994   \n",
              "5518825  POINT (-87.6261455896 41.9027880476)                  41.877406   \n",
              "5518826  POINT (-87.6209929134 41.8849871918)                  41.880994   \n",
              "5518827  POINT (-87.9030396611 41.9790708201)                  41.898332   \n",
              "5518830  POINT (-87.6318639497 41.8920421365)                  41.898332   \n",
              "...                                       ...                        ...   \n",
              "5519517  POINT (-87.6318639497 41.8920421365)                  41.880994   \n",
              "5519520  POINT (-87.6327464887 41.8809944707)                  41.879067   \n",
              "5519521  POINT (-87.6219716519 41.8774061234)                  41.880994   \n",
              "5519523  POINT (-87.6129454143 41.8919715078)                  41.895033   \n",
              "5519524  POINT (-87.6318639497 41.8920421365)                  41.892042   \n",
              "\n",
              "         dropoff_centroid_longitude            dropoff_centroid__location  \\\n",
              "5518823                  -87.632746  POINT (-87.6327464887 41.8809944707)   \n",
              "5518825                  -87.621972  POINT (-87.6219716519 41.8774061234)   \n",
              "5518826                  -87.632746  POINT (-87.6327464887 41.8809944707)   \n",
              "5518827                  -87.620763  POINT (-87.6207628651 41.8983317935)   \n",
              "5518830                  -87.620763  POINT (-87.6207628651 41.8983317935)   \n",
              "...                             ...                                   ...   \n",
              "5519517                  -87.632746  POINT (-87.6327464887 41.8809944707)   \n",
              "5519520                  -87.657005   POINT (-87.657005027 41.8790669938)   \n",
              "5519521                  -87.632746  POINT (-87.6327464887 41.8809944707)   \n",
              "5519523                  -87.619711  POINT (-87.6197106717 41.8950334495)   \n",
              "5519524                  -87.631864  POINT (-87.6318639497 41.8920421365)   \n",
              "\n",
              "              trip_start_dt         trip_end_dt  trip_start_ym trip_end_ym  \n",
              "5518823 2019-05-01 12:00:00 2019-05-01 12:00:00        2019-05     2019-05  \n",
              "5518825 2019-05-01 12:00:00 2019-05-01 12:15:00        2019-05     2019-05  \n",
              "5518826 2019-05-01 12:00:00 2019-05-01 12:15:00        2019-05     2019-05  \n",
              "5518827 2019-05-01 12:00:00 2019-05-01 12:30:00        2019-05     2019-05  \n",
              "5518830 2019-05-01 12:00:00 2019-05-01 12:00:00        2019-05     2019-05  \n",
              "...                     ...                 ...            ...         ...  \n",
              "5519517 2019-05-01 12:15:00 2019-05-01 12:15:00        2019-05     2019-05  \n",
              "5519520 2019-05-01 12:15:00 2019-05-01 12:15:00        2019-05     2019-05  \n",
              "5519521 2019-05-01 12:15:00 2019-05-01 12:30:00        2019-05     2019-05  \n",
              "5519523 2019-05-01 12:15:00 2019-05-01 12:15:00        2019-05     2019-05  \n",
              "5519524 2019-05-01 12:15:00 2019-05-01 12:15:00        2019-05     2019-05  \n",
              "\n",
              "[502 rows x 27 columns]"
            ],
            "text/html": [
              "<div>\n",
              "<style scoped>\n",
              "    .dataframe tbody tr th:only-of-type {\n",
              "        vertical-align: middle;\n",
              "    }\n",
              "\n",
              "    .dataframe tbody tr th {\n",
              "        vertical-align: top;\n",
              "    }\n",
              "\n",
              "    .dataframe thead th {\n",
              "        text-align: right;\n",
              "    }\n",
              "</style>\n",
              "<table border=\"1\" class=\"dataframe\">\n",
              "  <thead>\n",
              "    <tr style=\"text-align: right;\">\n",
              "      <th></th>\n",
              "      <th>trip_id</th>\n",
              "      <th>taxi_id</th>\n",
              "      <th>trip_start_timestamp</th>\n",
              "      <th>trip_end_timestamp</th>\n",
              "      <th>trip_seconds</th>\n",
              "      <th>trip_miles</th>\n",
              "      <th>pickup_census_tract</th>\n",
              "      <th>dropoff_census_tract</th>\n",
              "      <th>pickup_community_area</th>\n",
              "      <th>dropoff_community_area</th>\n",
              "      <th>...</th>\n",
              "      <th>pickup_centroid_latitude</th>\n",
              "      <th>pickup_centroid_longitude</th>\n",
              "      <th>pickup_centroid_location</th>\n",
              "      <th>dropoff_centroid_latitude</th>\n",
              "      <th>dropoff_centroid_longitude</th>\n",
              "      <th>dropoff_centroid__location</th>\n",
              "      <th>trip_start_dt</th>\n",
              "      <th>trip_end_dt</th>\n",
              "      <th>trip_start_ym</th>\n",
              "      <th>trip_end_ym</th>\n",
              "    </tr>\n",
              "  </thead>\n",
              "  <tbody>\n",
              "    <tr>\n",
              "      <th>5518823</th>\n",
              "      <td>6546c749f2ee8d1fbf961a638a38a191988f0483</td>\n",
              "      <td>7d72fbc3bf81a1d1cc1e5b812096828df769a74ed08e13...</td>\n",
              "      <td>05/01/2019 12:00:00 PM</td>\n",
              "      <td>05/01/2019 12:00:00 PM</td>\n",
              "      <td>180.0</td>\n",
              "      <td>0.00</td>\n",
              "      <td>1.703184e+10</td>\n",
              "      <td>1.703184e+10</td>\n",
              "      <td>32.0</td>\n",
              "      <td>32.0</td>\n",
              "      <td>...</td>\n",
              "      <td>41.880994</td>\n",
              "      <td>-87.632746</td>\n",
              "      <td>POINT (-87.6327464887 41.8809944707)</td>\n",
              "      <td>41.880994</td>\n",
              "      <td>-87.632746</td>\n",
              "      <td>POINT (-87.6327464887 41.8809944707)</td>\n",
              "      <td>2019-05-01 12:00:00</td>\n",
              "      <td>2019-05-01 12:00:00</td>\n",
              "      <td>2019-05</td>\n",
              "      <td>2019-05</td>\n",
              "    </tr>\n",
              "    <tr>\n",
              "      <th>5518825</th>\n",
              "      <td>5a41ecd1d467e6f8e3cafe9544c42461f97f02f3</td>\n",
              "      <td>059bda2b6b156207134204beed08bb2b9d3c3643c60e1c...</td>\n",
              "      <td>05/01/2019 12:00:00 PM</td>\n",
              "      <td>05/01/2019 12:15:00 PM</td>\n",
              "      <td>660.0</td>\n",
              "      <td>1.40</td>\n",
              "      <td>1.703108e+10</td>\n",
              "      <td>1.703132e+10</td>\n",
              "      <td>8.0</td>\n",
              "      <td>32.0</td>\n",
              "      <td>...</td>\n",
              "      <td>41.902788</td>\n",
              "      <td>-87.626146</td>\n",
              "      <td>POINT (-87.6261455896 41.9027880476)</td>\n",
              "      <td>41.877406</td>\n",
              "      <td>-87.621972</td>\n",
              "      <td>POINT (-87.6219716519 41.8774061234)</td>\n",
              "      <td>2019-05-01 12:00:00</td>\n",
              "      <td>2019-05-01 12:15:00</td>\n",
              "      <td>2019-05</td>\n",
              "      <td>2019-05</td>\n",
              "    </tr>\n",
              "    <tr>\n",
              "      <th>5518826</th>\n",
              "      <td>5a624313d6a193a3522a4a50d2bbe68b6754d04c</td>\n",
              "      <td>5e3077a68e0439a1168a98d848e9ae3fd8c74f61bc4323...</td>\n",
              "      <td>05/01/2019 12:00:00 PM</td>\n",
              "      <td>05/01/2019 12:15:00 PM</td>\n",
              "      <td>660.0</td>\n",
              "      <td>1.10</td>\n",
              "      <td>1.703132e+10</td>\n",
              "      <td>1.703184e+10</td>\n",
              "      <td>32.0</td>\n",
              "      <td>32.0</td>\n",
              "      <td>...</td>\n",
              "      <td>41.884987</td>\n",
              "      <td>-87.620993</td>\n",
              "      <td>POINT (-87.6209929134 41.8849871918)</td>\n",
              "      <td>41.880994</td>\n",
              "      <td>-87.632746</td>\n",
              "      <td>POINT (-87.6327464887 41.8809944707)</td>\n",
              "      <td>2019-05-01 12:00:00</td>\n",
              "      <td>2019-05-01 12:15:00</td>\n",
              "      <td>2019-05</td>\n",
              "      <td>2019-05</td>\n",
              "    </tr>\n",
              "    <tr>\n",
              "      <th>5518827</th>\n",
              "      <td>5afa5a13c6c3ba2ca2c44cde9886ff3e4bd62281</td>\n",
              "      <td>54b032d1527c44cbca520e9af4e89090945868e46dd774...</td>\n",
              "      <td>05/01/2019 12:00:00 PM</td>\n",
              "      <td>05/01/2019 12:30:00 PM</td>\n",
              "      <td>1860.0</td>\n",
              "      <td>17.20</td>\n",
              "      <td>1.703198e+10</td>\n",
              "      <td>1.703108e+10</td>\n",
              "      <td>76.0</td>\n",
              "      <td>8.0</td>\n",
              "      <td>...</td>\n",
              "      <td>41.979071</td>\n",
              "      <td>-87.903040</td>\n",
              "      <td>POINT (-87.9030396611 41.9790708201)</td>\n",
              "      <td>41.898332</td>\n",
              "      <td>-87.620763</td>\n",
              "      <td>POINT (-87.6207628651 41.8983317935)</td>\n",
              "      <td>2019-05-01 12:00:00</td>\n",
              "      <td>2019-05-01 12:30:00</td>\n",
              "      <td>2019-05</td>\n",
              "      <td>2019-05</td>\n",
              "    </tr>\n",
              "    <tr>\n",
              "      <th>5518830</th>\n",
              "      <td>662421ff994c16eaa80426ed523d2ef5770e1df9</td>\n",
              "      <td>a940425dd1a398a41024ee7bb70bbbf66515799b941674...</td>\n",
              "      <td>05/01/2019 12:00:00 PM</td>\n",
              "      <td>05/01/2019 12:00:00 PM</td>\n",
              "      <td>300.0</td>\n",
              "      <td>1.10</td>\n",
              "      <td>1.703108e+10</td>\n",
              "      <td>1.703108e+10</td>\n",
              "      <td>8.0</td>\n",
              "      <td>8.0</td>\n",
              "      <td>...</td>\n",
              "      <td>41.892042</td>\n",
              "      <td>-87.631864</td>\n",
              "      <td>POINT (-87.6318639497 41.8920421365)</td>\n",
              "      <td>41.898332</td>\n",
              "      <td>-87.620763</td>\n",
              "      <td>POINT (-87.6207628651 41.8983317935)</td>\n",
              "      <td>2019-05-01 12:00:00</td>\n",
              "      <td>2019-05-01 12:00:00</td>\n",
              "      <td>2019-05</td>\n",
              "      <td>2019-05</td>\n",
              "    </tr>\n",
              "    <tr>\n",
              "      <th>...</th>\n",
              "      <td>...</td>\n",
              "      <td>...</td>\n",
              "      <td>...</td>\n",
              "      <td>...</td>\n",
              "      <td>...</td>\n",
              "      <td>...</td>\n",
              "      <td>...</td>\n",
              "      <td>...</td>\n",
              "      <td>...</td>\n",
              "      <td>...</td>\n",
              "      <td>...</td>\n",
              "      <td>...</td>\n",
              "      <td>...</td>\n",
              "      <td>...</td>\n",
              "      <td>...</td>\n",
              "      <td>...</td>\n",
              "      <td>...</td>\n",
              "      <td>...</td>\n",
              "      <td>...</td>\n",
              "      <td>...</td>\n",
              "      <td>...</td>\n",
              "    </tr>\n",
              "    <tr>\n",
              "      <th>5519517</th>\n",
              "      <td>37870628d394ae4668ce89d4fdaf9340a7dca9dd</td>\n",
              "      <td>21c91ae089317069d5b6e18187c887882b0dcce86d9302...</td>\n",
              "      <td>05/01/2019 12:15:00 PM</td>\n",
              "      <td>05/01/2019 12:15:00 PM</td>\n",
              "      <td>420.0</td>\n",
              "      <td>0.90</td>\n",
              "      <td>1.703108e+10</td>\n",
              "      <td>1.703184e+10</td>\n",
              "      <td>8.0</td>\n",
              "      <td>32.0</td>\n",
              "      <td>...</td>\n",
              "      <td>41.892042</td>\n",
              "      <td>-87.631864</td>\n",
              "      <td>POINT (-87.6318639497 41.8920421365)</td>\n",
              "      <td>41.880994</td>\n",
              "      <td>-87.632746</td>\n",
              "      <td>POINT (-87.6327464887 41.8809944707)</td>\n",
              "      <td>2019-05-01 12:15:00</td>\n",
              "      <td>2019-05-01 12:15:00</td>\n",
              "      <td>2019-05</td>\n",
              "      <td>2019-05</td>\n",
              "    </tr>\n",
              "    <tr>\n",
              "      <th>5519520</th>\n",
              "      <td>389cbd4668b040ae05a61b522062c03bac074c98</td>\n",
              "      <td>2d49dd422b09d66e3e2da3120413ee76b8e28e19fd2e21...</td>\n",
              "      <td>05/01/2019 12:15:00 PM</td>\n",
              "      <td>05/01/2019 12:15:00 PM</td>\n",
              "      <td>360.0</td>\n",
              "      <td>1.00</td>\n",
              "      <td>1.703184e+10</td>\n",
              "      <td>1.703183e+10</td>\n",
              "      <td>32.0</td>\n",
              "      <td>28.0</td>\n",
              "      <td>...</td>\n",
              "      <td>41.880994</td>\n",
              "      <td>-87.632746</td>\n",
              "      <td>POINT (-87.6327464887 41.8809944707)</td>\n",
              "      <td>41.879067</td>\n",
              "      <td>-87.657005</td>\n",
              "      <td>POINT (-87.657005027 41.8790669938)</td>\n",
              "      <td>2019-05-01 12:15:00</td>\n",
              "      <td>2019-05-01 12:15:00</td>\n",
              "      <td>2019-05</td>\n",
              "      <td>2019-05</td>\n",
              "    </tr>\n",
              "    <tr>\n",
              "      <th>5519521</th>\n",
              "      <td>38c4a98e6705a3c30c18e6cf3b05fb9f53a540ed</td>\n",
              "      <td>847cf962bd6f62040673e6c24c24940aeb2d7fdaa54677...</td>\n",
              "      <td>05/01/2019 12:15:00 PM</td>\n",
              "      <td>05/01/2019 12:30:00 PM</td>\n",
              "      <td>1080.0</td>\n",
              "      <td>1.40</td>\n",
              "      <td>1.703132e+10</td>\n",
              "      <td>1.703184e+10</td>\n",
              "      <td>32.0</td>\n",
              "      <td>32.0</td>\n",
              "      <td>...</td>\n",
              "      <td>41.877406</td>\n",
              "      <td>-87.621972</td>\n",
              "      <td>POINT (-87.6219716519 41.8774061234)</td>\n",
              "      <td>41.880994</td>\n",
              "      <td>-87.632746</td>\n",
              "      <td>POINT (-87.6327464887 41.8809944707)</td>\n",
              "      <td>2019-05-01 12:15:00</td>\n",
              "      <td>2019-05-01 12:30:00</td>\n",
              "      <td>2019-05</td>\n",
              "      <td>2019-05</td>\n",
              "    </tr>\n",
              "    <tr>\n",
              "      <th>5519523</th>\n",
              "      <td>38fe56fec319fcd3898a01ab7651feb9ddf02d14</td>\n",
              "      <td>1b2a60b8aca7f106dc2ddcd51b43e9448be7920ca7a24d...</td>\n",
              "      <td>05/01/2019 12:15:00 PM</td>\n",
              "      <td>05/01/2019 12:15:00 PM</td>\n",
              "      <td>360.0</td>\n",
              "      <td>0.70</td>\n",
              "      <td>1.703108e+10</td>\n",
              "      <td>1.703108e+10</td>\n",
              "      <td>8.0</td>\n",
              "      <td>8.0</td>\n",
              "      <td>...</td>\n",
              "      <td>41.891972</td>\n",
              "      <td>-87.612945</td>\n",
              "      <td>POINT (-87.6129454143 41.8919715078)</td>\n",
              "      <td>41.895033</td>\n",
              "      <td>-87.619711</td>\n",
              "      <td>POINT (-87.6197106717 41.8950334495)</td>\n",
              "      <td>2019-05-01 12:15:00</td>\n",
              "      <td>2019-05-01 12:15:00</td>\n",
              "      <td>2019-05</td>\n",
              "      <td>2019-05</td>\n",
              "    </tr>\n",
              "    <tr>\n",
              "      <th>5519524</th>\n",
              "      <td>391fe87c4bd4e7720d368035b325e3c6ffc799e6</td>\n",
              "      <td>ad87bd954307e44d386e9f1fe87afb426ca69eb3cb1af5...</td>\n",
              "      <td>05/01/2019 12:15:00 PM</td>\n",
              "      <td>05/01/2019 12:15:00 PM</td>\n",
              "      <td>182.0</td>\n",
              "      <td>0.41</td>\n",
              "      <td>1.703108e+10</td>\n",
              "      <td>1.703108e+10</td>\n",
              "      <td>8.0</td>\n",
              "      <td>8.0</td>\n",
              "      <td>...</td>\n",
              "      <td>41.892042</td>\n",
              "      <td>-87.631864</td>\n",
              "      <td>POINT (-87.6318639497 41.8920421365)</td>\n",
              "      <td>41.892042</td>\n",
              "      <td>-87.631864</td>\n",
              "      <td>POINT (-87.6318639497 41.8920421365)</td>\n",
              "      <td>2019-05-01 12:15:00</td>\n",
              "      <td>2019-05-01 12:15:00</td>\n",
              "      <td>2019-05</td>\n",
              "      <td>2019-05</td>\n",
              "    </tr>\n",
              "  </tbody>\n",
              "</table>\n",
              "<p>502 rows × 27 columns</p>\n",
              "</div>"
            ]
          },
          "metadata": {},
          "execution_count": 140
        }
      ]
    },
    {
      "cell_type": "code",
      "source": [
        "timer.stop()"
      ],
      "metadata": {
        "colab": {
          "base_uri": "https://localhost:8080/"
        },
        "id": "uy5_znBfDjAj",
        "outputId": "570938d6-8325-4f1c-eac4-d15086224fa8"
      },
      "id": "uy5_znBfDjAj",
      "execution_count": 141,
      "outputs": [
        {
          "output_type": "stream",
          "name": "stdout",
          "text": [
            "Elapsed time: 5.4200 seconds\n"
          ]
        },
        {
          "output_type": "execute_result",
          "data": {
            "text/plain": [
              "5.420034500013571"
            ]
          },
          "metadata": {},
          "execution_count": 141
        }
      ]
    },
    {
      "cell_type": "code",
      "source": [
        "# Query 6: Selecting a single row from an unindexed dataframe - using Pandas\n",
        "timer.start()\n",
        "taxi_trips_pdf[taxi_trips_pdf['trip_id'] == 'd3e437e3af9c691e6a9fe1f9802605d989605fdb']"
      ],
      "metadata": {
        "colab": {
          "base_uri": "https://localhost:8080/",
          "height": 147
        },
        "id": "L0g39ImPJPvy",
        "outputId": "c877a3b5-9db6-4182-c595-e01175b6c6aa"
      },
      "id": "L0g39ImPJPvy",
      "execution_count": 142,
      "outputs": [
        {
          "output_type": "execute_result",
          "data": {
            "text/plain": [
              "                                           trip_id  \\\n",
              "13905408  d3e437e3af9c691e6a9fe1f9802605d989605fdb   \n",
              "\n",
              "                                                    taxi_id  \\\n",
              "13905408  ac66734513cb7344a5501fa22f825c940448a4041e0302...   \n",
              "\n",
              "            trip_start_timestamp      trip_end_timestamp  trip_seconds  \\\n",
              "13905408  10/30/2019 05:30:00 PM  10/30/2019 06:00:00 PM        1396.0   \n",
              "\n",
              "          trip_miles  pickup_census_tract  dropoff_census_tract  \\\n",
              "13905408        1.14         1.703108e+10          1.703108e+10   \n",
              "\n",
              "          pickup_community_area  dropoff_community_area  ...  \\\n",
              "13905408                    8.0                     8.0  ...   \n",
              "\n",
              "          pickup_centroid_latitude  pickup_centroid_longitude  \\\n",
              "13905408                 41.902788                 -87.626146   \n",
              "\n",
              "                      pickup_centroid_location  dropoff_centroid_latitude  \\\n",
              "13905408  POINT (-87.6261455896 41.9027880476)                  41.892042   \n",
              "\n",
              "          dropoff_centroid_longitude            dropoff_centroid__location  \\\n",
              "13905408                  -87.631864  POINT (-87.6318639497 41.8920421365)   \n",
              "\n",
              "               trip_start_dt         trip_end_dt  trip_start_ym trip_end_ym  \n",
              "13905408 2019-10-30 17:30:00 2019-10-30 18:00:00        2019-10     2019-10  \n",
              "\n",
              "[1 rows x 27 columns]"
            ],
            "text/html": [
              "<div>\n",
              "<style scoped>\n",
              "    .dataframe tbody tr th:only-of-type {\n",
              "        vertical-align: middle;\n",
              "    }\n",
              "\n",
              "    .dataframe tbody tr th {\n",
              "        vertical-align: top;\n",
              "    }\n",
              "\n",
              "    .dataframe thead th {\n",
              "        text-align: right;\n",
              "    }\n",
              "</style>\n",
              "<table border=\"1\" class=\"dataframe\">\n",
              "  <thead>\n",
              "    <tr style=\"text-align: right;\">\n",
              "      <th></th>\n",
              "      <th>trip_id</th>\n",
              "      <th>taxi_id</th>\n",
              "      <th>trip_start_timestamp</th>\n",
              "      <th>trip_end_timestamp</th>\n",
              "      <th>trip_seconds</th>\n",
              "      <th>trip_miles</th>\n",
              "      <th>pickup_census_tract</th>\n",
              "      <th>dropoff_census_tract</th>\n",
              "      <th>pickup_community_area</th>\n",
              "      <th>dropoff_community_area</th>\n",
              "      <th>...</th>\n",
              "      <th>pickup_centroid_latitude</th>\n",
              "      <th>pickup_centroid_longitude</th>\n",
              "      <th>pickup_centroid_location</th>\n",
              "      <th>dropoff_centroid_latitude</th>\n",
              "      <th>dropoff_centroid_longitude</th>\n",
              "      <th>dropoff_centroid__location</th>\n",
              "      <th>trip_start_dt</th>\n",
              "      <th>trip_end_dt</th>\n",
              "      <th>trip_start_ym</th>\n",
              "      <th>trip_end_ym</th>\n",
              "    </tr>\n",
              "  </thead>\n",
              "  <tbody>\n",
              "    <tr>\n",
              "      <th>13905408</th>\n",
              "      <td>d3e437e3af9c691e6a9fe1f9802605d989605fdb</td>\n",
              "      <td>ac66734513cb7344a5501fa22f825c940448a4041e0302...</td>\n",
              "      <td>10/30/2019 05:30:00 PM</td>\n",
              "      <td>10/30/2019 06:00:00 PM</td>\n",
              "      <td>1396.0</td>\n",
              "      <td>1.14</td>\n",
              "      <td>1.703108e+10</td>\n",
              "      <td>1.703108e+10</td>\n",
              "      <td>8.0</td>\n",
              "      <td>8.0</td>\n",
              "      <td>...</td>\n",
              "      <td>41.902788</td>\n",
              "      <td>-87.626146</td>\n",
              "      <td>POINT (-87.6261455896 41.9027880476)</td>\n",
              "      <td>41.892042</td>\n",
              "      <td>-87.631864</td>\n",
              "      <td>POINT (-87.6318639497 41.8920421365)</td>\n",
              "      <td>2019-10-30 17:30:00</td>\n",
              "      <td>2019-10-30 18:00:00</td>\n",
              "      <td>2019-10</td>\n",
              "      <td>2019-10</td>\n",
              "    </tr>\n",
              "  </tbody>\n",
              "</table>\n",
              "<p>1 rows × 27 columns</p>\n",
              "</div>"
            ]
          },
          "metadata": {},
          "execution_count": 142
        }
      ]
    },
    {
      "cell_type": "code",
      "source": [
        "timer.stop()"
      ],
      "metadata": {
        "colab": {
          "base_uri": "https://localhost:8080/"
        },
        "id": "YT2_7oJiEAz6",
        "outputId": "131b448f-8602-418b-982a-b82c0538639d"
      },
      "id": "YT2_7oJiEAz6",
      "execution_count": 143,
      "outputs": [
        {
          "output_type": "stream",
          "name": "stdout",
          "text": [
            "Elapsed time: 0.8219 seconds\n"
          ]
        },
        {
          "output_type": "execute_result",
          "data": {
            "text/plain": [
              "0.8218952000024728"
            ]
          },
          "metadata": {},
          "execution_count": 143
        }
      ]
    },
    {
      "cell_type": "code",
      "source": [
        "# Query 6: Selecting a single row from an unindexed dataframe - using Terality\n",
        "timer.start()\n",
        "taxi_trips_tdf[taxi_trips_tdf['trip_id'] == 'd3e437e3af9c691e6a9fe1f9802605d989605fdb']"
      ],
      "metadata": {
        "colab": {
          "base_uri": "https://localhost:8080/",
          "height": 118
        },
        "id": "KwI3MZD-JXX5",
        "outputId": "8ee12b09-6709-43ea-b865-4106aad97e52"
      },
      "id": "KwI3MZD-JXX5",
      "execution_count": 144,
      "outputs": [
        {
          "output_type": "execute_result",
          "data": {
            "text/plain": [
              "                                           trip_id  \\\n",
              "13905408  d3e437e3af9c691e6a9fe1f9802605d989605fdb   \n",
              "\n",
              "                                                    taxi_id  \\\n",
              "13905408  ac66734513cb7344a5501fa22f825c940448a4041e0302...   \n",
              "\n",
              "            trip_start_timestamp      trip_end_timestamp  trip_seconds  \\\n",
              "13905408  10/30/2019 05:30:00 PM  10/30/2019 06:00:00 PM        1396.0   \n",
              "\n",
              "          trip_miles  pickup_census_tract  dropoff_census_tract  \\\n",
              "13905408        1.14         1.703108e+10          1.703108e+10   \n",
              "\n",
              "          pickup_community_area  dropoff_community_area  ...  \\\n",
              "13905408                    8.0                     8.0  ...   \n",
              "\n",
              "          pickup_centroid_latitude  pickup_centroid_longitude  \\\n",
              "13905408                 41.902788                 -87.626146   \n",
              "\n",
              "                      pickup_centroid_location  dropoff_centroid_latitude  \\\n",
              "13905408  POINT (-87.6261455896 41.9027880476)                  41.892042   \n",
              "\n",
              "          dropoff_centroid_longitude            dropoff_centroid__location  \\\n",
              "13905408                  -87.631864  POINT (-87.6318639497 41.8920421365)   \n",
              "\n",
              "               trip_start_dt         trip_end_dt  trip_start_ym trip_end_ym  \n",
              "13905408 2019-10-30 17:30:00 2019-10-30 18:00:00        2019-10     2019-10  "
            ],
            "text/html": [
              "<div>\n",
              "<style scoped>\n",
              "    .dataframe tbody tr th:only-of-type {\n",
              "        vertical-align: middle;\n",
              "    }\n",
              "\n",
              "    .dataframe tbody tr th {\n",
              "        vertical-align: top;\n",
              "    }\n",
              "\n",
              "    .dataframe thead th {\n",
              "        text-align: right;\n",
              "    }\n",
              "</style>\n",
              "<table border=\"1\" class=\"dataframe\">\n",
              "  <thead>\n",
              "    <tr style=\"text-align: right;\">\n",
              "      <th></th>\n",
              "      <th>trip_id</th>\n",
              "      <th>taxi_id</th>\n",
              "      <th>trip_start_timestamp</th>\n",
              "      <th>trip_end_timestamp</th>\n",
              "      <th>trip_seconds</th>\n",
              "      <th>trip_miles</th>\n",
              "      <th>pickup_census_tract</th>\n",
              "      <th>dropoff_census_tract</th>\n",
              "      <th>pickup_community_area</th>\n",
              "      <th>dropoff_community_area</th>\n",
              "      <th>...</th>\n",
              "      <th>pickup_centroid_latitude</th>\n",
              "      <th>pickup_centroid_longitude</th>\n",
              "      <th>pickup_centroid_location</th>\n",
              "      <th>dropoff_centroid_latitude</th>\n",
              "      <th>dropoff_centroid_longitude</th>\n",
              "      <th>dropoff_centroid__location</th>\n",
              "      <th>trip_start_dt</th>\n",
              "      <th>trip_end_dt</th>\n",
              "      <th>trip_start_ym</th>\n",
              "      <th>trip_end_ym</th>\n",
              "    </tr>\n",
              "  </thead>\n",
              "  <tbody>\n",
              "    <tr>\n",
              "      <th>13905408</th>\n",
              "      <td>d3e437e3af9c691e6a9fe1f9802605d989605fdb</td>\n",
              "      <td>ac66734513cb7344a5501fa22f825c940448a4041e0302...</td>\n",
              "      <td>10/30/2019 05:30:00 PM</td>\n",
              "      <td>10/30/2019 06:00:00 PM</td>\n",
              "      <td>1396.0</td>\n",
              "      <td>1.14</td>\n",
              "      <td>1.703108e+10</td>\n",
              "      <td>1.703108e+10</td>\n",
              "      <td>8.0</td>\n",
              "      <td>8.0</td>\n",
              "      <td>...</td>\n",
              "      <td>41.902788</td>\n",
              "      <td>-87.626146</td>\n",
              "      <td>POINT (-87.6261455896 41.9027880476)</td>\n",
              "      <td>41.892042</td>\n",
              "      <td>-87.631864</td>\n",
              "      <td>POINT (-87.6318639497 41.8920421365)</td>\n",
              "      <td>2019-10-30 17:30:00</td>\n",
              "      <td>2019-10-30 18:00:00</td>\n",
              "      <td>2019-10</td>\n",
              "      <td>2019-10</td>\n",
              "    </tr>\n",
              "  </tbody>\n",
              "</table>\n",
              "</div>"
            ]
          },
          "metadata": {},
          "execution_count": 144
        }
      ]
    },
    {
      "cell_type": "code",
      "source": [
        "timer.stop()"
      ],
      "metadata": {
        "colab": {
          "base_uri": "https://localhost:8080/"
        },
        "id": "a6B7NrFuEVb4",
        "outputId": "55f8078b-13eb-47e4-846d-19f24a8df630"
      },
      "id": "a6B7NrFuEVb4",
      "execution_count": 145,
      "outputs": [
        {
          "output_type": "stream",
          "name": "stdout",
          "text": [
            "Elapsed time: 7.7843 seconds\n"
          ]
        },
        {
          "output_type": "execute_result",
          "data": {
            "text/plain": [
              "7.78432530000282"
            ]
          },
          "metadata": {},
          "execution_count": 145
        }
      ]
    },
    {
      "cell_type": "code",
      "source": [
        "# Query 7: Range queries using isin() - Using Pandas\n",
        "timer.start()\n",
        "taxi_trips_pdf[taxi_trips_pdf['company'].isin(['Taxi Affiliation Services', 'Blue Diamond', 'Chicago Taxicab', 'Nova Taxi Affiliation Llc', 'U Taxicab'])]"
      ],
      "metadata": {
        "colab": {
          "base_uri": "https://localhost:8080/",
          "height": 617
        },
        "id": "ZF3yyjO9JYK3",
        "outputId": "eef8b070-7bb3-4a51-ea44-b532148cd590"
      },
      "id": "ZF3yyjO9JYK3",
      "execution_count": 146,
      "outputs": [
        {
          "output_type": "execute_result",
          "data": {
            "text/plain": [
              "                                           trip_id  \\\n",
              "20        509e870adce2a514a4287e1a305fe4ddabc59836   \n",
              "22        31004535c12d4372c165e34386cde0521a0a72e8   \n",
              "30        601ea33fd396dadf3c05667ce8badbab55968930   \n",
              "35        d1c76d15cec1a2ee58b408aff06e303aa86dd37f   \n",
              "36        e933481970a4efe76e013706d4056104dbf3a599   \n",
              "...                                            ...   \n",
              "20365970  8b2fb9ed7cb74a7645c95538373111ac90be222a   \n",
              "20366091  91fddaa11017287697ed65e5b6fb6399ea4f7ac4   \n",
              "20366290  debd80beca876e44a7d485a2fd2fd66816f8fc2b   \n",
              "20366292  e9fc3c32d17dd7dcd54cabaca1781d4684b8832d   \n",
              "20366309  a2218747cdec0fcdb86a8f5586c76a8559220ff3   \n",
              "\n",
              "                                                    taxi_id  \\\n",
              "20        38f6145c9a2b848dc1baa16fd91087e606b12bcb8757a9...   \n",
              "22        ee8a2f86372e99ecf87d44e13a20ebda7db8ae69d5b444...   \n",
              "30        72cd7073f26565b4a99646e795893b87b06e8086ad9a49...   \n",
              "35        d38890256d8a1e8146f0b15dc23e3b2a140b4fa3834698...   \n",
              "36        3506f62ee1c70c02fe00b742679684b319d5b712182f82...   \n",
              "...                                                     ...   \n",
              "20365970  7476a493f34aa1075570e89104cdaf3aaf5c0fd4679382...   \n",
              "20366091  5f88daef22c65f61d051338809a96d6bc7f471c4e2cd73...   \n",
              "20366290  42574f4a000f78c9ccbf2cfc282f31617096a9fea4a0d5...   \n",
              "20366292  be2af1b95b937dfe54bf9a4f4331745a673529a7edfab2...   \n",
              "20366309  50fd36d5b8ca93535bfef3269ccd7c0f36dc63e55d503a...   \n",
              "\n",
              "            trip_start_timestamp      trip_end_timestamp  trip_seconds  \\\n",
              "20        01/01/2019 12:00:00 AM  01/01/2019 12:15:00 AM         360.0   \n",
              "22        01/01/2019 12:00:00 AM  01/01/2019 12:15:00 AM         360.0   \n",
              "30        01/01/2019 12:00:00 AM  01/01/2019 12:15:00 AM         180.0   \n",
              "35        01/01/2019 12:00:00 AM  01/01/2019 12:15:00 AM         300.0   \n",
              "36        01/01/2019 12:00:00 AM  01/01/2019 12:15:00 AM         360.0   \n",
              "...                          ...                     ...           ...   \n",
              "20365970  12/31/2020 08:45:00 PM  12/31/2020 09:00:00 PM        1200.0   \n",
              "20366091  12/31/2020 09:30:00 PM  12/31/2020 09:30:00 PM         120.0   \n",
              "20366290  12/31/2020 10:45:00 PM  12/31/2020 11:00:00 PM         180.0   \n",
              "20366292  12/31/2020 10:45:00 PM  12/31/2020 11:00:00 PM         480.0   \n",
              "20366309  12/31/2020 11:00:00 PM  12/31/2020 11:00:00 PM          60.0   \n",
              "\n",
              "          trip_miles  pickup_census_tract  dropoff_census_tract  \\\n",
              "20               0.8         1.703108e+10          1.703108e+10   \n",
              "22               1.0         1.703108e+10          1.703108e+10   \n",
              "30               0.0         1.703108e+10          1.703108e+10   \n",
              "35               0.0         1.703108e+10          1.703108e+10   \n",
              "36               0.0         1.703108e+10          1.703108e+10   \n",
              "...              ...                  ...                   ...   \n",
              "20365970        17.1         1.703198e+10          1.703128e+10   \n",
              "20366091         0.2         1.703132e+10          1.703132e+10   \n",
              "20366290         0.0         1.703198e+10          1.703198e+10   \n",
              "20366292         2.8         1.703198e+10          1.703198e+10   \n",
              "20366309         0.0         1.703198e+10          1.703198e+10   \n",
              "\n",
              "          pickup_community_area  dropoff_community_area  ...  \\\n",
              "20                          8.0                     8.0  ...   \n",
              "22                          8.0                     8.0  ...   \n",
              "30                          8.0                     8.0  ...   \n",
              "35                          8.0                     8.0  ...   \n",
              "36                          8.0                     8.0  ...   \n",
              "...                         ...                     ...  ...   \n",
              "20365970                   76.0                    28.0  ...   \n",
              "20366091                   32.0                    32.0  ...   \n",
              "20366290                   76.0                    76.0  ...   \n",
              "20366292                   76.0                    76.0  ...   \n",
              "20366309                   76.0                    76.0  ...   \n",
              "\n",
              "          pickup_centroid_latitude  pickup_centroid_longitude  \\\n",
              "20                       41.898332                 -87.620763   \n",
              "22                       41.890922                 -87.618868   \n",
              "30                       41.895033                 -87.619711   \n",
              "35                       41.892508                 -87.626215   \n",
              "36                       41.892042                 -87.631864   \n",
              "...                            ...                        ...   \n",
              "20365970                 41.979071                 -87.903040   \n",
              "20366091                 41.884987                 -87.620993   \n",
              "20366290                 41.979071                 -87.903040   \n",
              "20366292                 41.979071                 -87.903040   \n",
              "20366309                 41.979071                 -87.903040   \n",
              "\n",
              "                      pickup_centroid_location  dropoff_centroid_latitude  \\\n",
              "20        POINT (-87.6207628651 41.8983317935)                  41.892508   \n",
              "22        POINT (-87.6188683546 41.8909220259)                  41.892042   \n",
              "30        POINT (-87.6197106717 41.8950334495)                  41.890922   \n",
              "35        POINT (-87.6262149064 41.8925077809)                  41.898332   \n",
              "36        POINT (-87.6318639497 41.8920421365)                  41.892073   \n",
              "...                                        ...                        ...   \n",
              "20365970  POINT (-87.9030396611 41.9790708201)                  41.879255   \n",
              "20366091  POINT (-87.6209929134 41.8849871918)                  41.884987   \n",
              "20366290  POINT (-87.9030396611 41.9790708201)                  41.979071   \n",
              "20366292  POINT (-87.9030396611 41.9790708201)                  41.979071   \n",
              "20366309  POINT (-87.9030396611 41.9790708201)                  41.979071   \n",
              "\n",
              "          dropoff_centroid_longitude            dropoff_centroid__location  \\\n",
              "20                        -87.626215  POINT (-87.6262149064 41.8925077809)   \n",
              "22                        -87.631864  POINT (-87.6318639497 41.8920421365)   \n",
              "30                        -87.618868  POINT (-87.6188683546 41.8909220259)   \n",
              "35                        -87.620763  POINT (-87.6207628651 41.8983317935)   \n",
              "36                        -87.628874  POINT (-87.6288741572 41.8920726347)   \n",
              "...                              ...                                   ...   \n",
              "20365970                  -87.642649   POINT (-87.642648998 41.8792550844)   \n",
              "20366091                  -87.620993  POINT (-87.6209929134 41.8849871918)   \n",
              "20366290                  -87.903040  POINT (-87.9030396611 41.9790708201)   \n",
              "20366292                  -87.903040  POINT (-87.9030396611 41.9790708201)   \n",
              "20366309                  -87.903040  POINT (-87.9030396611 41.9790708201)   \n",
              "\n",
              "               trip_start_dt         trip_end_dt  trip_start_ym trip_end_ym  \n",
              "20       2019-01-01 00:00:00 2019-01-01 00:15:00        2019-01     2019-01  \n",
              "22       2019-01-01 00:00:00 2019-01-01 00:15:00        2019-01     2019-01  \n",
              "30       2019-01-01 00:00:00 2019-01-01 00:15:00        2019-01     2019-01  \n",
              "35       2019-01-01 00:00:00 2019-01-01 00:15:00        2019-01     2019-01  \n",
              "36       2019-01-01 00:00:00 2019-01-01 00:15:00        2019-01     2019-01  \n",
              "...                      ...                 ...            ...         ...  \n",
              "20365970 2020-12-31 20:45:00 2020-12-31 21:00:00        2020-12     2020-12  \n",
              "20366091 2020-12-31 21:30:00 2020-12-31 21:30:00        2020-12     2020-12  \n",
              "20366290 2020-12-31 22:45:00 2020-12-31 23:00:00        2020-12     2020-12  \n",
              "20366292 2020-12-31 22:45:00 2020-12-31 23:00:00        2020-12     2020-12  \n",
              "20366309 2020-12-31 23:00:00 2020-12-31 23:00:00        2020-12     2020-12  \n",
              "\n",
              "[3120950 rows x 27 columns]"
            ],
            "text/html": [
              "<div>\n",
              "<style scoped>\n",
              "    .dataframe tbody tr th:only-of-type {\n",
              "        vertical-align: middle;\n",
              "    }\n",
              "\n",
              "    .dataframe tbody tr th {\n",
              "        vertical-align: top;\n",
              "    }\n",
              "\n",
              "    .dataframe thead th {\n",
              "        text-align: right;\n",
              "    }\n",
              "</style>\n",
              "<table border=\"1\" class=\"dataframe\">\n",
              "  <thead>\n",
              "    <tr style=\"text-align: right;\">\n",
              "      <th></th>\n",
              "      <th>trip_id</th>\n",
              "      <th>taxi_id</th>\n",
              "      <th>trip_start_timestamp</th>\n",
              "      <th>trip_end_timestamp</th>\n",
              "      <th>trip_seconds</th>\n",
              "      <th>trip_miles</th>\n",
              "      <th>pickup_census_tract</th>\n",
              "      <th>dropoff_census_tract</th>\n",
              "      <th>pickup_community_area</th>\n",
              "      <th>dropoff_community_area</th>\n",
              "      <th>...</th>\n",
              "      <th>pickup_centroid_latitude</th>\n",
              "      <th>pickup_centroid_longitude</th>\n",
              "      <th>pickup_centroid_location</th>\n",
              "      <th>dropoff_centroid_latitude</th>\n",
              "      <th>dropoff_centroid_longitude</th>\n",
              "      <th>dropoff_centroid__location</th>\n",
              "      <th>trip_start_dt</th>\n",
              "      <th>trip_end_dt</th>\n",
              "      <th>trip_start_ym</th>\n",
              "      <th>trip_end_ym</th>\n",
              "    </tr>\n",
              "  </thead>\n",
              "  <tbody>\n",
              "    <tr>\n",
              "      <th>20</th>\n",
              "      <td>509e870adce2a514a4287e1a305fe4ddabc59836</td>\n",
              "      <td>38f6145c9a2b848dc1baa16fd91087e606b12bcb8757a9...</td>\n",
              "      <td>01/01/2019 12:00:00 AM</td>\n",
              "      <td>01/01/2019 12:15:00 AM</td>\n",
              "      <td>360.0</td>\n",
              "      <td>0.8</td>\n",
              "      <td>1.703108e+10</td>\n",
              "      <td>1.703108e+10</td>\n",
              "      <td>8.0</td>\n",
              "      <td>8.0</td>\n",
              "      <td>...</td>\n",
              "      <td>41.898332</td>\n",
              "      <td>-87.620763</td>\n",
              "      <td>POINT (-87.6207628651 41.8983317935)</td>\n",
              "      <td>41.892508</td>\n",
              "      <td>-87.626215</td>\n",
              "      <td>POINT (-87.6262149064 41.8925077809)</td>\n",
              "      <td>2019-01-01 00:00:00</td>\n",
              "      <td>2019-01-01 00:15:00</td>\n",
              "      <td>2019-01</td>\n",
              "      <td>2019-01</td>\n",
              "    </tr>\n",
              "    <tr>\n",
              "      <th>22</th>\n",
              "      <td>31004535c12d4372c165e34386cde0521a0a72e8</td>\n",
              "      <td>ee8a2f86372e99ecf87d44e13a20ebda7db8ae69d5b444...</td>\n",
              "      <td>01/01/2019 12:00:00 AM</td>\n",
              "      <td>01/01/2019 12:15:00 AM</td>\n",
              "      <td>360.0</td>\n",
              "      <td>1.0</td>\n",
              "      <td>1.703108e+10</td>\n",
              "      <td>1.703108e+10</td>\n",
              "      <td>8.0</td>\n",
              "      <td>8.0</td>\n",
              "      <td>...</td>\n",
              "      <td>41.890922</td>\n",
              "      <td>-87.618868</td>\n",
              "      <td>POINT (-87.6188683546 41.8909220259)</td>\n",
              "      <td>41.892042</td>\n",
              "      <td>-87.631864</td>\n",
              "      <td>POINT (-87.6318639497 41.8920421365)</td>\n",
              "      <td>2019-01-01 00:00:00</td>\n",
              "      <td>2019-01-01 00:15:00</td>\n",
              "      <td>2019-01</td>\n",
              "      <td>2019-01</td>\n",
              "    </tr>\n",
              "    <tr>\n",
              "      <th>30</th>\n",
              "      <td>601ea33fd396dadf3c05667ce8badbab55968930</td>\n",
              "      <td>72cd7073f26565b4a99646e795893b87b06e8086ad9a49...</td>\n",
              "      <td>01/01/2019 12:00:00 AM</td>\n",
              "      <td>01/01/2019 12:15:00 AM</td>\n",
              "      <td>180.0</td>\n",
              "      <td>0.0</td>\n",
              "      <td>1.703108e+10</td>\n",
              "      <td>1.703108e+10</td>\n",
              "      <td>8.0</td>\n",
              "      <td>8.0</td>\n",
              "      <td>...</td>\n",
              "      <td>41.895033</td>\n",
              "      <td>-87.619711</td>\n",
              "      <td>POINT (-87.6197106717 41.8950334495)</td>\n",
              "      <td>41.890922</td>\n",
              "      <td>-87.618868</td>\n",
              "      <td>POINT (-87.6188683546 41.8909220259)</td>\n",
              "      <td>2019-01-01 00:00:00</td>\n",
              "      <td>2019-01-01 00:15:00</td>\n",
              "      <td>2019-01</td>\n",
              "      <td>2019-01</td>\n",
              "    </tr>\n",
              "    <tr>\n",
              "      <th>35</th>\n",
              "      <td>d1c76d15cec1a2ee58b408aff06e303aa86dd37f</td>\n",
              "      <td>d38890256d8a1e8146f0b15dc23e3b2a140b4fa3834698...</td>\n",
              "      <td>01/01/2019 12:00:00 AM</td>\n",
              "      <td>01/01/2019 12:15:00 AM</td>\n",
              "      <td>300.0</td>\n",
              "      <td>0.0</td>\n",
              "      <td>1.703108e+10</td>\n",
              "      <td>1.703108e+10</td>\n",
              "      <td>8.0</td>\n",
              "      <td>8.0</td>\n",
              "      <td>...</td>\n",
              "      <td>41.892508</td>\n",
              "      <td>-87.626215</td>\n",
              "      <td>POINT (-87.6262149064 41.8925077809)</td>\n",
              "      <td>41.898332</td>\n",
              "      <td>-87.620763</td>\n",
              "      <td>POINT (-87.6207628651 41.8983317935)</td>\n",
              "      <td>2019-01-01 00:00:00</td>\n",
              "      <td>2019-01-01 00:15:00</td>\n",
              "      <td>2019-01</td>\n",
              "      <td>2019-01</td>\n",
              "    </tr>\n",
              "    <tr>\n",
              "      <th>36</th>\n",
              "      <td>e933481970a4efe76e013706d4056104dbf3a599</td>\n",
              "      <td>3506f62ee1c70c02fe00b742679684b319d5b712182f82...</td>\n",
              "      <td>01/01/2019 12:00:00 AM</td>\n",
              "      <td>01/01/2019 12:15:00 AM</td>\n",
              "      <td>360.0</td>\n",
              "      <td>0.0</td>\n",
              "      <td>1.703108e+10</td>\n",
              "      <td>1.703108e+10</td>\n",
              "      <td>8.0</td>\n",
              "      <td>8.0</td>\n",
              "      <td>...</td>\n",
              "      <td>41.892042</td>\n",
              "      <td>-87.631864</td>\n",
              "      <td>POINT (-87.6318639497 41.8920421365)</td>\n",
              "      <td>41.892073</td>\n",
              "      <td>-87.628874</td>\n",
              "      <td>POINT (-87.6288741572 41.8920726347)</td>\n",
              "      <td>2019-01-01 00:00:00</td>\n",
              "      <td>2019-01-01 00:15:00</td>\n",
              "      <td>2019-01</td>\n",
              "      <td>2019-01</td>\n",
              "    </tr>\n",
              "    <tr>\n",
              "      <th>...</th>\n",
              "      <td>...</td>\n",
              "      <td>...</td>\n",
              "      <td>...</td>\n",
              "      <td>...</td>\n",
              "      <td>...</td>\n",
              "      <td>...</td>\n",
              "      <td>...</td>\n",
              "      <td>...</td>\n",
              "      <td>...</td>\n",
              "      <td>...</td>\n",
              "      <td>...</td>\n",
              "      <td>...</td>\n",
              "      <td>...</td>\n",
              "      <td>...</td>\n",
              "      <td>...</td>\n",
              "      <td>...</td>\n",
              "      <td>...</td>\n",
              "      <td>...</td>\n",
              "      <td>...</td>\n",
              "      <td>...</td>\n",
              "      <td>...</td>\n",
              "    </tr>\n",
              "    <tr>\n",
              "      <th>20365970</th>\n",
              "      <td>8b2fb9ed7cb74a7645c95538373111ac90be222a</td>\n",
              "      <td>7476a493f34aa1075570e89104cdaf3aaf5c0fd4679382...</td>\n",
              "      <td>12/31/2020 08:45:00 PM</td>\n",
              "      <td>12/31/2020 09:00:00 PM</td>\n",
              "      <td>1200.0</td>\n",
              "      <td>17.1</td>\n",
              "      <td>1.703198e+10</td>\n",
              "      <td>1.703128e+10</td>\n",
              "      <td>76.0</td>\n",
              "      <td>28.0</td>\n",
              "      <td>...</td>\n",
              "      <td>41.979071</td>\n",
              "      <td>-87.903040</td>\n",
              "      <td>POINT (-87.9030396611 41.9790708201)</td>\n",
              "      <td>41.879255</td>\n",
              "      <td>-87.642649</td>\n",
              "      <td>POINT (-87.642648998 41.8792550844)</td>\n",
              "      <td>2020-12-31 20:45:00</td>\n",
              "      <td>2020-12-31 21:00:00</td>\n",
              "      <td>2020-12</td>\n",
              "      <td>2020-12</td>\n",
              "    </tr>\n",
              "    <tr>\n",
              "      <th>20366091</th>\n",
              "      <td>91fddaa11017287697ed65e5b6fb6399ea4f7ac4</td>\n",
              "      <td>5f88daef22c65f61d051338809a96d6bc7f471c4e2cd73...</td>\n",
              "      <td>12/31/2020 09:30:00 PM</td>\n",
              "      <td>12/31/2020 09:30:00 PM</td>\n",
              "      <td>120.0</td>\n",
              "      <td>0.2</td>\n",
              "      <td>1.703132e+10</td>\n",
              "      <td>1.703132e+10</td>\n",
              "      <td>32.0</td>\n",
              "      <td>32.0</td>\n",
              "      <td>...</td>\n",
              "      <td>41.884987</td>\n",
              "      <td>-87.620993</td>\n",
              "      <td>POINT (-87.6209929134 41.8849871918)</td>\n",
              "      <td>41.884987</td>\n",
              "      <td>-87.620993</td>\n",
              "      <td>POINT (-87.6209929134 41.8849871918)</td>\n",
              "      <td>2020-12-31 21:30:00</td>\n",
              "      <td>2020-12-31 21:30:00</td>\n",
              "      <td>2020-12</td>\n",
              "      <td>2020-12</td>\n",
              "    </tr>\n",
              "    <tr>\n",
              "      <th>20366290</th>\n",
              "      <td>debd80beca876e44a7d485a2fd2fd66816f8fc2b</td>\n",
              "      <td>42574f4a000f78c9ccbf2cfc282f31617096a9fea4a0d5...</td>\n",
              "      <td>12/31/2020 10:45:00 PM</td>\n",
              "      <td>12/31/2020 11:00:00 PM</td>\n",
              "      <td>180.0</td>\n",
              "      <td>0.0</td>\n",
              "      <td>1.703198e+10</td>\n",
              "      <td>1.703198e+10</td>\n",
              "      <td>76.0</td>\n",
              "      <td>76.0</td>\n",
              "      <td>...</td>\n",
              "      <td>41.979071</td>\n",
              "      <td>-87.903040</td>\n",
              "      <td>POINT (-87.9030396611 41.9790708201)</td>\n",
              "      <td>41.979071</td>\n",
              "      <td>-87.903040</td>\n",
              "      <td>POINT (-87.9030396611 41.9790708201)</td>\n",
              "      <td>2020-12-31 22:45:00</td>\n",
              "      <td>2020-12-31 23:00:00</td>\n",
              "      <td>2020-12</td>\n",
              "      <td>2020-12</td>\n",
              "    </tr>\n",
              "    <tr>\n",
              "      <th>20366292</th>\n",
              "      <td>e9fc3c32d17dd7dcd54cabaca1781d4684b8832d</td>\n",
              "      <td>be2af1b95b937dfe54bf9a4f4331745a673529a7edfab2...</td>\n",
              "      <td>12/31/2020 10:45:00 PM</td>\n",
              "      <td>12/31/2020 11:00:00 PM</td>\n",
              "      <td>480.0</td>\n",
              "      <td>2.8</td>\n",
              "      <td>1.703198e+10</td>\n",
              "      <td>1.703198e+10</td>\n",
              "      <td>76.0</td>\n",
              "      <td>76.0</td>\n",
              "      <td>...</td>\n",
              "      <td>41.979071</td>\n",
              "      <td>-87.903040</td>\n",
              "      <td>POINT (-87.9030396611 41.9790708201)</td>\n",
              "      <td>41.979071</td>\n",
              "      <td>-87.903040</td>\n",
              "      <td>POINT (-87.9030396611 41.9790708201)</td>\n",
              "      <td>2020-12-31 22:45:00</td>\n",
              "      <td>2020-12-31 23:00:00</td>\n",
              "      <td>2020-12</td>\n",
              "      <td>2020-12</td>\n",
              "    </tr>\n",
              "    <tr>\n",
              "      <th>20366309</th>\n",
              "      <td>a2218747cdec0fcdb86a8f5586c76a8559220ff3</td>\n",
              "      <td>50fd36d5b8ca93535bfef3269ccd7c0f36dc63e55d503a...</td>\n",
              "      <td>12/31/2020 11:00:00 PM</td>\n",
              "      <td>12/31/2020 11:00:00 PM</td>\n",
              "      <td>60.0</td>\n",
              "      <td>0.0</td>\n",
              "      <td>1.703198e+10</td>\n",
              "      <td>1.703198e+10</td>\n",
              "      <td>76.0</td>\n",
              "      <td>76.0</td>\n",
              "      <td>...</td>\n",
              "      <td>41.979071</td>\n",
              "      <td>-87.903040</td>\n",
              "      <td>POINT (-87.9030396611 41.9790708201)</td>\n",
              "      <td>41.979071</td>\n",
              "      <td>-87.903040</td>\n",
              "      <td>POINT (-87.9030396611 41.9790708201)</td>\n",
              "      <td>2020-12-31 23:00:00</td>\n",
              "      <td>2020-12-31 23:00:00</td>\n",
              "      <td>2020-12</td>\n",
              "      <td>2020-12</td>\n",
              "    </tr>\n",
              "  </tbody>\n",
              "</table>\n",
              "<p>3120950 rows × 27 columns</p>\n",
              "</div>"
            ]
          },
          "metadata": {},
          "execution_count": 146
        }
      ]
    },
    {
      "cell_type": "code",
      "source": [
        "timer.stop()"
      ],
      "metadata": {
        "colab": {
          "base_uri": "https://localhost:8080/"
        },
        "id": "qPDMgQn_LCWR",
        "outputId": "3e3cddf9-6133-4a56-f1cb-24a7cbea74c2"
      },
      "id": "qPDMgQn_LCWR",
      "execution_count": 147,
      "outputs": [
        {
          "output_type": "stream",
          "name": "stdout",
          "text": [
            "Elapsed time: 2.2615 seconds\n"
          ]
        },
        {
          "output_type": "execute_result",
          "data": {
            "text/plain": [
              "2.2614646000001812"
            ]
          },
          "metadata": {},
          "execution_count": 147
        }
      ]
    },
    {
      "cell_type": "code",
      "source": [
        "# Query 7: Range queries using isin() - Using Terality\n",
        "timer.start()\n",
        "taxi_trips_pdf['company'].isin(['Taxi Affiliation Services', 'Blue Diamond', 'Chicago Taxicab', 'Nova Taxi Affiliation Llc', 'U Taxicab'])"
      ],
      "metadata": {
        "colab": {
          "base_uri": "https://localhost:8080/"
        },
        "id": "TFpjjSWrJek1",
        "outputId": "0342feb8-1740-4f81-e8ba-3e2fa72ba38b"
      },
      "id": "TFpjjSWrJek1",
      "execution_count": 148,
      "outputs": [
        {
          "output_type": "execute_result",
          "data": {
            "text/plain": [
              "16          False\n",
              "19          False\n",
              "20           True\n",
              "22           True\n",
              "23          False\n",
              "            ...  \n",
              "20366129    False\n",
              "20366142    False\n",
              "20366290     True\n",
              "20366292     True\n",
              "20366309     True\n",
              "Name: company, Length: 12199631, dtype: bool"
            ]
          },
          "metadata": {},
          "execution_count": 148
        }
      ]
    },
    {
      "cell_type": "code",
      "source": [
        "timer.stop()"
      ],
      "metadata": {
        "colab": {
          "base_uri": "https://localhost:8080/"
        },
        "id": "Az-RzAaHJf8L",
        "outputId": "3eccaa15-164d-4727-b52b-2795be58ded2"
      },
      "id": "Az-RzAaHJf8L",
      "execution_count": 149,
      "outputs": [
        {
          "output_type": "stream",
          "name": "stdout",
          "text": [
            "Elapsed time: 0.5406 seconds\n"
          ]
        },
        {
          "output_type": "execute_result",
          "data": {
            "text/plain": [
              "0.5405892999988282"
            ]
          },
          "metadata": {},
          "execution_count": 149
        }
      ]
    },
    {
      "cell_type": "code",
      "source": [
        ""
      ],
      "metadata": {
        "id": "UVVjA87BKd2K"
      },
      "id": "UVVjA87BKd2K",
      "execution_count": 149,
      "outputs": []
    }
  ],
  "metadata": {
    "kernelspec": {
      "display_name": "Python 3 (ipykernel)",
      "language": "python",
      "name": "python3"
    },
    "language_info": {
      "codemirror_mode": {
        "name": "ipython",
        "version": 3
      },
      "file_extension": ".py",
      "mimetype": "text/x-python",
      "name": "python",
      "nbconvert_exporter": "python",
      "pygments_lexer": "ipython3",
      "version": "3.9.7"
    },
    "colab": {
      "name": "pandas_vs_terality.ipynb",
      "provenance": []
    }
  },
  "nbformat": 4,
  "nbformat_minor": 5
}