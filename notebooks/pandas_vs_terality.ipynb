{
  "cells": [
    {
      "cell_type": "markdown",
      "metadata": {
        "id": "view-in-github",
        "colab_type": "text"
      },
      "source": [
        "<a href=\"https://colab.research.google.com/github/bthodla/pandas_vs_terality/blob/main/notebooks/pandas_vs_terality.ipynb\" target=\"_parent\"><img src=\"https://colab.research.google.com/assets/colab-badge.svg\" alt=\"Open In Colab\"/></a>"
      ]
    },
    {
      "cell_type": "code",
      "execution_count": 63,
      "id": "1b77b18c",
      "metadata": {
        "id": "1b77b18c"
      },
      "outputs": [],
      "source": [
        "import pandas as pd\n",
        "import terality as te\n",
        "from codetiming import Timer\n",
        "import random"
      ]
    },
    {
      "cell_type": "code",
      "execution_count": 2,
      "id": "d645ab8c",
      "metadata": {
        "pycharm": {
          "name": "#%%\n"
        },
        "id": "d645ab8c"
      },
      "outputs": [],
      "source": [
        "file_path = \"C:\\\\\\\\Users\\\\\\\\bhask\\\\\\\\Google Drive\\\\\\\\datasets\\\\\\\\Chicago_taxi_trips\\\\\\\\\"\n",
        "timer = Timer(name=\"Terality Tests\")"
      ]
    },
    {
      "cell_type": "code",
      "execution_count": 3,
      "outputs": [],
      "source": [
        "# Disabling Terality cache for testing\n",
        "# cache_disabler = te.disable_cache()\n",
        "# cache_disabler.__enter__()"
      ],
      "metadata": {
        "pycharm": {
          "name": "#%%\n"
        },
        "id": "3Bq5hN5jzRVV"
      },
      "id": "3Bq5hN5jzRVV"
    },
    {
      "cell_type": "code",
      "execution_count": 4,
      "outputs": [],
      "source": [
        "# A list of dataframe columns renamed by converting to lowercase and replacing spaces with '_'\n",
        "columns = [\n",
        "'trip_id',\n",
        "'taxi_id',\n",
        "'trip_start_timestamp',\n",
        "'trip_end_timestamp',\n",
        "'trip_seconds',\n",
        "'trip_miles',\n",
        "'pickup_census_tract',\n",
        "'dropoff_census_tract',\n",
        "'pickup_community_area',\n",
        "'dropoff_community_area',\n",
        "'fare',\n",
        "'tips',\n",
        "'tolls',\n",
        "'extras',\n",
        "'trip_total',\n",
        "'payment_type',\n",
        "'company',\n",
        "'pickup_centroid_latitude',\n",
        "'pickup_centroid_longitude',\n",
        "'pickup_centroid_location',\n",
        "'dropoff_centroid_latitude',\n",
        "'dropoff_centroid_longitude',\n",
        "'dropoff_centroid__location'\n",
        "]"
      ],
      "metadata": {
        "pycharm": {
          "name": "#%%\n"
        },
        "id": "aty6tzzvxjgk"
      },
      "id": "aty6tzzvxjgk"
    },
    {
      "cell_type": "code",
      "execution_count": 5,
      "outputs": [
        {
          "output_type": "stream",
          "name": "stdout",
          "text": [
            "Elapsed time: 147.5039 seconds\n"
          ]
        },
        {
          "output_type": "execute_result",
          "data": {
            "text/plain": [
              "147.503921"
            ]
          },
          "metadata": {},
          "execution_count": 5
        }
      ],
      "source": [
        "# Loading data into dataframes using Pandas\n",
        "timer.start()\n",
        "taxi_trips_pdf = pd.read_csv(file_path + \"Taxi_Trips_2019_2020.csv\")\n",
        "timer.stop()"
      ],
      "metadata": {
        "pycharm": {
          "name": "#%%\n"
        },
        "id": "5ZPyht2ozRVW",
        "outputId": "a703d446-b6a2-401e-8eb1-1ac239b4c875",
        "colab": {
          "base_uri": "https://localhost:8080/"
        }
      },
      "id": "5ZPyht2ozRVW"
    },
    {
      "cell_type": "code",
      "execution_count": 6,
      "outputs": [
        {
          "output_type": "stream",
          "name": "stderr",
          "text": [
            "C:\\\\Users\\\\bhask\\\\Google Drive\\\\datasets\\\\Chicago_taxi_trips\\\\Taxi_Trips_2019_2020.csv:   0%| | 0.00/8.48G [00:02<?, ?B\n",
            "INFO:terality:The result of te.read_csv was retrieved from cache [docs: https://docs.terality.com/getting-terality/user-guide/caching].\n"
          ]
        },
        {
          "output_type": "stream",
          "name": "stdout",
          "text": [
            "Elapsed time: 47.5288 seconds\n"
          ]
        },
        {
          "output_type": "execute_result",
          "data": {
            "text/plain": [
              "47.52880470000002"
            ]
          },
          "metadata": {},
          "execution_count": 6
        }
      ],
      "source": [
        "# Loading data into dataframes using Terality\n",
        "timer.start()\n",
        "taxi_trips_tdf = te.read_csv(file_path + \"Taxi_Trips_2019_2020.csv\")\n",
        "timer.stop()"
      ],
      "metadata": {
        "pycharm": {
          "name": "#%%\n"
        },
        "id": "ZKX4PZVRzRVY",
        "outputId": "2dbbd71e-97bf-4627-83e1-ef57b2da13d3",
        "colab": {
          "base_uri": "https://localhost:8080/"
        }
      },
      "id": "ZKX4PZVRzRVY"
    },
    {
      "cell_type": "code",
      "execution_count": 7,
      "outputs": [
        {
          "output_type": "stream",
          "name": "stdout",
          "text": [
            "Elapsed time: 0.0015 seconds\n"
          ]
        },
        {
          "output_type": "execute_result",
          "data": {
            "text/plain": [
              "0.0014795999999819287"
            ]
          },
          "metadata": {},
          "execution_count": 7
        }
      ],
      "source": [
        "timer.start()\n",
        "taxi_trips_pdf.head()\n",
        "timer.stop()"
      ],
      "metadata": {
        "pycharm": {
          "name": "#%%\n"
        },
        "id": "zCbVBCJRzRVY",
        "outputId": "211a5154-982a-48bf-9aeb-afa2845d42c5",
        "colab": {
          "base_uri": "https://localhost:8080/"
        }
      },
      "id": "zCbVBCJRzRVY"
    },
    {
      "cell_type": "code",
      "execution_count": 8,
      "outputs": [
        {
          "output_type": "stream",
          "name": "stderr",
          "text": [
            "INFO:terality:The result of te.dataframe.head was retrieved from cache [docs: https://docs.terality.com/getting-terality/user-guide/caching].\n"
          ]
        },
        {
          "output_type": "stream",
          "name": "stdout",
          "text": [
            "Elapsed time: 1.7167 seconds\n"
          ]
        },
        {
          "output_type": "execute_result",
          "data": {
            "text/plain": [
              "1.7166523999999868"
            ]
          },
          "metadata": {},
          "execution_count": 8
        }
      ],
      "source": [
        "timer.start()\n",
        "taxi_trips_tdf.head()\n",
        "timer.stop()"
      ],
      "metadata": {
        "pycharm": {
          "name": "#%%\n"
        },
        "id": "3nv2ZkzLzRVZ",
        "outputId": "b64000ae-2885-4409-fc66-ca09ecf2ab2e",
        "colab": {
          "base_uri": "https://localhost:8080/"
        }
      },
      "id": "3nv2ZkzLzRVZ"
    },
    {
      "cell_type": "code",
      "execution_count": 9,
      "outputs": [
        {
          "output_type": "stream",
          "name": "stdout",
          "text": [
            "Elapsed time: 0.0003 seconds\n"
          ]
        },
        {
          "output_type": "execute_result",
          "data": {
            "text/plain": [
              "0.0003424999999879219"
            ]
          },
          "metadata": {},
          "execution_count": 9
        }
      ],
      "source": [
        "# Rename the columns of the Pandas dataframe\n",
        "timer.start()\n",
        "taxi_trips_pdf.columns = columns\n",
        "timer.stop()"
      ],
      "metadata": {
        "pycharm": {
          "name": "#%%\n"
        },
        "id": "rZZFRDruzRVa",
        "outputId": "ca56d1dd-83ad-4091-afe3-018b12d24ba5",
        "colab": {
          "base_uri": "https://localhost:8080/"
        }
      },
      "id": "rZZFRDruzRVa"
    },
    {
      "cell_type": "code",
      "execution_count": 10,
      "outputs": [
        {
          "output_type": "stream",
          "name": "stderr",
          "text": [
            "INFO:terality:The result of te.dataframe.columns was retrieved from cache [docs: https://docs.terality.com/getting-terality/user-guide/caching].\n"
          ]
        },
        {
          "output_type": "stream",
          "name": "stdout",
          "text": [
            "Elapsed time: 1.4328 seconds\n"
          ]
        },
        {
          "output_type": "execute_result",
          "data": {
            "text/plain": [
              "1.4327554999999847"
            ]
          },
          "metadata": {},
          "execution_count": 10
        }
      ],
      "source": [
        "# Rename the columns of the Terality dataframe\n",
        "timer.start()\n",
        "taxi_trips_tdf.columns = columns\n",
        "timer.stop()"
      ],
      "metadata": {
        "pycharm": {
          "name": "#%%\n"
        },
        "id": "denCFO8hzRVa",
        "outputId": "d113a4ac-8176-47c5-9938-326126dc1fa5",
        "colab": {
          "base_uri": "https://localhost:8080/"
        }
      },
      "id": "denCFO8hzRVa"
    },
    {
      "cell_type": "code",
      "execution_count": 11,
      "outputs": [
        {
          "output_type": "stream",
          "name": "stdout",
          "text": [
            "Pandas DF Row Count before:  20366397\n",
            "Elapsed time: 0.0008 seconds\n"
          ]
        },
        {
          "output_type": "execute_result",
          "data": {
            "text/plain": [
              "0.0008144999999899483"
            ]
          },
          "metadata": {},
          "execution_count": 11
        }
      ],
      "source": [
        "# Row count before cleanup - using Pandas\n",
        "timer.start()\n",
        "print(\"Pandas DF Row Count before: % d\" % taxi_trips_pdf.shape[0])\n",
        "timer.stop()"
      ],
      "metadata": {
        "pycharm": {
          "name": "#%%\n"
        },
        "id": "nwG21e1XzRVb",
        "outputId": "5a7f8a4d-e26a-4990-87ba-6962884b0062",
        "colab": {
          "base_uri": "https://localhost:8080/"
        }
      },
      "id": "nwG21e1XzRVb"
    },
    {
      "cell_type": "code",
      "execution_count": 12,
      "outputs": [
        {
          "output_type": "stream",
          "name": "stdout",
          "text": [
            "Elapsed time: 13.6855 seconds\n"
          ]
        },
        {
          "output_type": "execute_result",
          "data": {
            "text/plain": [
              "13.685485999999969"
            ]
          },
          "metadata": {},
          "execution_count": 12
        }
      ],
      "source": [
        "# Remove all the rows with NaN values using Pandas. There is plenty of data even otherwise\n",
        "timer.start()\n",
        "taxi_trips_pdf.dropna(how='any',axis=0,inplace=True)\n",
        "timer.stop()"
      ],
      "metadata": {
        "pycharm": {
          "name": "#%%\n"
        },
        "id": "-4ag50jDzRVb",
        "outputId": "3133bd89-e1ca-454d-a8dc-135ab306da61",
        "colab": {
          "base_uri": "https://localhost:8080/"
        }
      },
      "id": "-4ag50jDzRVb"
    },
    {
      "cell_type": "code",
      "execution_count": 13,
      "outputs": [
        {
          "output_type": "stream",
          "name": "stdout",
          "text": [
            "Pandas DF Row Count after:  12199631\n",
            "Elapsed time: 0.0003 seconds\n"
          ]
        },
        {
          "output_type": "execute_result",
          "data": {
            "text/plain": [
              "0.00029430000000729706"
            ]
          },
          "metadata": {},
          "execution_count": 13
        }
      ],
      "source": [
        "# Row count after cleanup - using Pandas\n",
        "timer.start()\n",
        "row_count = taxi_trips_pdf.shape[0]\n",
        "print(\"Pandas DF Row Count after: % d\" % row_count)\n",
        "timer.stop()"
      ],
      "metadata": {
        "pycharm": {
          "name": "#%%\n"
        },
        "id": "BcEuxTMGzRVb",
        "outputId": "02ce75c9-cf8b-4f48-8349-df7451c34b89",
        "colab": {
          "base_uri": "https://localhost:8080/"
        }
      },
      "id": "BcEuxTMGzRVb"
    },
    {
      "cell_type": "code",
      "execution_count": 14,
      "outputs": [
        {
          "output_type": "stream",
          "name": "stderr",
          "text": [
            "INFO:terality:The result of te.dataframe.shape was retrieved from cache [docs: https://docs.terality.com/getting-terality/user-guide/caching].\n"
          ]
        },
        {
          "output_type": "stream",
          "name": "stdout",
          "text": [
            "Terality DF Row Count after:  20366397\n",
            "Elapsed time: 1.6042 seconds\n"
          ]
        },
        {
          "output_type": "execute_result",
          "data": {
            "text/plain": [
              "1.6041942999999605"
            ]
          },
          "metadata": {},
          "execution_count": 14
        }
      ],
      "source": [
        "# Row count before cleanup - using Terality\n",
        "timer.start()\n",
        "print(\"Terality DF Row Count after: % d\" % taxi_trips_tdf.shape[0])\n",
        "timer.stop()"
      ],
      "metadata": {
        "pycharm": {
          "name": "#%%\n"
        },
        "id": "Fo9LlA5hzRVc",
        "outputId": "a4134b5f-d6fe-44b4-a6f9-bd6a93284a63",
        "colab": {
          "base_uri": "https://localhost:8080/"
        }
      },
      "id": "Fo9LlA5hzRVc"
    },
    {
      "cell_type": "code",
      "execution_count": 15,
      "outputs": [
        {
          "output_type": "stream",
          "name": "stderr",
          "text": [
            "INFO:terality:The result of te.dataframe.dropna was retrieved from cache [docs: https://docs.terality.com/getting-terality/user-guide/caching].\n"
          ]
        },
        {
          "output_type": "stream",
          "name": "stdout",
          "text": [
            "Elapsed time: 1.1060 seconds\n"
          ]
        },
        {
          "output_type": "execute_result",
          "data": {
            "text/plain": [
              "1.1059541000000195"
            ]
          },
          "metadata": {},
          "execution_count": 15
        }
      ],
      "source": [
        "# Remove all the rows with NaN values using Terality. There is plenty of data even otherwise\n",
        "timer.start()\n",
        "taxi_trips_tdf.dropna(how='any',axis=0,inplace=True)\n",
        "timer.stop()"
      ],
      "metadata": {
        "pycharm": {
          "name": "#%%\n"
        },
        "id": "0NshQeD_zRVc",
        "outputId": "a93ccec9-a336-4d95-ba18-0922259a4d4f",
        "colab": {
          "base_uri": "https://localhost:8080/"
        }
      },
      "id": "0NshQeD_zRVc"
    },
    {
      "cell_type": "code",
      "execution_count": 16,
      "outputs": [
        {
          "output_type": "stream",
          "name": "stderr",
          "text": [
            "INFO:terality:The result of te.dataframe.shape was retrieved from cache [docs: https://docs.terality.com/getting-terality/user-guide/caching].\n"
          ]
        },
        {
          "output_type": "stream",
          "name": "stdout",
          "text": [
            "Terality DF Row Count after:  12199631\n",
            "Elapsed time: 0.8688 seconds\n"
          ]
        },
        {
          "output_type": "execute_result",
          "data": {
            "text/plain": [
              "0.8688448000000335"
            ]
          },
          "metadata": {},
          "execution_count": 16
        }
      ],
      "source": [
        "# Row count after cleanup - using Terality\n",
        "timer.start()\n",
        "print(\"Terality DF Row Count after: % d\" % taxi_trips_tdf.shape[0])\n",
        "timer.stop()"
      ],
      "metadata": {
        "pycharm": {
          "name": "#%%\n"
        },
        "id": "ODvURk5kzRVd",
        "outputId": "a4a31cd8-8900-4e15-f768-3641d4f3d475",
        "colab": {
          "base_uri": "https://localhost:8080/"
        }
      },
      "id": "ODvURk5kzRVd"
    },
    {
      "cell_type": "code",
      "source": [
        "# Adding a new column to store datetime version of string datetimes - Pandas\n",
        "timer.start()\n",
        "taxi_trips_pdf['trip_start_dt'] = pd.to_datetime(taxi_trips_pdf['trip_start_timestamp'], infer_datetime_format=True)\n",
        "taxi_trips_pdf['trip_end_dt'] = pd.to_datetime(taxi_trips_pdf['trip_end_timestamp'], infer_datetime_format=True)\n",
        "taxi_trips_pdf['trip_start_ym'] = taxi_trips_pdf['trip_start_dt'].dt.to_period('M')\n",
        "taxi_trips_pdf['trip_end_ym'] = taxi_trips_pdf['trip_end_dt'].dt.to_period('M')\n",
        "timer.stop()"
      ],
      "metadata": {
        "colab": {
          "base_uri": "https://localhost:8080/"
        },
        "id": "P1Vo-EZnYQBK",
        "outputId": "75bb2f99-ac42-447c-e452-d962bd8e85d1"
      },
      "id": "P1Vo-EZnYQBK",
      "execution_count": 37,
      "outputs": [
        {
          "output_type": "stream",
          "name": "stdout",
          "text": [
            "Elapsed time: 21.8859 seconds\n"
          ]
        },
        {
          "output_type": "execute_result",
          "data": {
            "text/plain": [
              "21.88585409999996"
            ]
          },
          "metadata": {},
          "execution_count": 37
        }
      ]
    },
    {
      "cell_type": "code",
      "source": [
        "taxi_trips_pdf.head()"
      ],
      "metadata": {
        "id": "w8QCplTIbNa1",
        "outputId": "9729c423-c394-4995-db51-c21e305149ef",
        "colab": {
          "base_uri": "https://localhost:8080/",
          "height": 342
        }
      },
      "id": "w8QCplTIbNa1",
      "execution_count": 38,
      "outputs": [
        {
          "output_type": "execute_result",
          "data": {
            "text/plain": [
              "                                     trip_id  \\\n",
              "16  e066e483f0fc2a583895d24c9dec9864a6608052   \n",
              "19  5431595d222a3e00a9e4b3e93c928c306dc71be3   \n",
              "20  509e870adce2a514a4287e1a305fe4ddabc59836   \n",
              "22  31004535c12d4372c165e34386cde0521a0a72e8   \n",
              "23  da18ec450c1fed02fbbc675faa621f8ac50ab5dd   \n",
              "\n",
              "                                              taxi_id    trip_start_timestamp  \\\n",
              "16  4794c36af4c1852d90b5c8cf5f9f6cd38a8b9c1b68cf48...  01/01/2019 12:00:00 AM   \n",
              "19  86b0677bb9bcda0454863c70a616d1adc45129237848d1...  01/01/2019 12:00:00 AM   \n",
              "20  38f6145c9a2b848dc1baa16fd91087e606b12bcb8757a9...  01/01/2019 12:00:00 AM   \n",
              "22  ee8a2f86372e99ecf87d44e13a20ebda7db8ae69d5b444...  01/01/2019 12:00:00 AM   \n",
              "23  0013da5489fe976daf4f4a7d246073ecf2caed9b12b3be...  01/01/2019 12:00:00 AM   \n",
              "\n",
              "        trip_end_timestamp  trip_seconds  trip_miles  pickup_census_tract  \\\n",
              "16  01/01/2019 12:15:00 AM         600.0         0.0         1.703108e+10   \n",
              "19  01/01/2019 12:00:00 AM         120.0         0.3         1.703184e+10   \n",
              "20  01/01/2019 12:15:00 AM         360.0         0.8         1.703108e+10   \n",
              "22  01/01/2019 12:15:00 AM         360.0         1.0         1.703108e+10   \n",
              "23  01/01/2019 12:15:00 AM         420.0         0.8         1.703108e+10   \n",
              "\n",
              "    dropoff_census_tract  pickup_community_area  dropoff_community_area  ...  \\\n",
              "16          1.703184e+10                    8.0                    32.0  ...   \n",
              "19          1.703132e+10                   32.0                    32.0  ...   \n",
              "20          1.703108e+10                    8.0                     8.0  ...   \n",
              "22          1.703108e+10                    8.0                     8.0  ...   \n",
              "23          1.703108e+10                    8.0                     8.0  ...   \n",
              "\n",
              "    pickup_centroid_latitude  pickup_centroid_longitude  \\\n",
              "16                 41.891972                 -87.612945   \n",
              "19                 41.880994                 -87.632746   \n",
              "20                 41.898332                 -87.620763   \n",
              "22                 41.890922                 -87.618868   \n",
              "23                 41.898332                 -87.620763   \n",
              "\n",
              "                pickup_centroid_location  dropoff_centroid_latitude  \\\n",
              "16  POINT (-87.6129454143 41.8919715078)                  41.880994   \n",
              "19  POINT (-87.6327464887 41.8809944707)                  41.877406   \n",
              "20  POINT (-87.6207628651 41.8983317935)                  41.892508   \n",
              "22  POINT (-87.6188683546 41.8909220259)                  41.892042   \n",
              "23  POINT (-87.6207628651 41.8983317935)                  41.892508   \n",
              "\n",
              "    dropoff_centroid_longitude            dropoff_centroid__location  \\\n",
              "16                  -87.632746  POINT (-87.6327464887 41.8809944707)   \n",
              "19                  -87.621972  POINT (-87.6219716519 41.8774061234)   \n",
              "20                  -87.626215  POINT (-87.6262149064 41.8925077809)   \n",
              "22                  -87.631864  POINT (-87.6318639497 41.8920421365)   \n",
              "23                  -87.626215  POINT (-87.6262149064 41.8925077809)   \n",
              "\n",
              "   trip_start_dt         trip_end_dt  trip_start_ym trip_end_ym  \n",
              "16    2019-01-01 2019-01-01 00:15:00        2019-01     2019-01  \n",
              "19    2019-01-01 2019-01-01 00:00:00        2019-01     2019-01  \n",
              "20    2019-01-01 2019-01-01 00:15:00        2019-01     2019-01  \n",
              "22    2019-01-01 2019-01-01 00:15:00        2019-01     2019-01  \n",
              "23    2019-01-01 2019-01-01 00:15:00        2019-01     2019-01  \n",
              "\n",
              "[5 rows x 27 columns]"
            ],
            "text/html": [
              "<div>\n",
              "<style scoped>\n",
              "    .dataframe tbody tr th:only-of-type {\n",
              "        vertical-align: middle;\n",
              "    }\n",
              "\n",
              "    .dataframe tbody tr th {\n",
              "        vertical-align: top;\n",
              "    }\n",
              "\n",
              "    .dataframe thead th {\n",
              "        text-align: right;\n",
              "    }\n",
              "</style>\n",
              "<table border=\"1\" class=\"dataframe\">\n",
              "  <thead>\n",
              "    <tr style=\"text-align: right;\">\n",
              "      <th></th>\n",
              "      <th>trip_id</th>\n",
              "      <th>taxi_id</th>\n",
              "      <th>trip_start_timestamp</th>\n",
              "      <th>trip_end_timestamp</th>\n",
              "      <th>trip_seconds</th>\n",
              "      <th>trip_miles</th>\n",
              "      <th>pickup_census_tract</th>\n",
              "      <th>dropoff_census_tract</th>\n",
              "      <th>pickup_community_area</th>\n",
              "      <th>dropoff_community_area</th>\n",
              "      <th>...</th>\n",
              "      <th>pickup_centroid_latitude</th>\n",
              "      <th>pickup_centroid_longitude</th>\n",
              "      <th>pickup_centroid_location</th>\n",
              "      <th>dropoff_centroid_latitude</th>\n",
              "      <th>dropoff_centroid_longitude</th>\n",
              "      <th>dropoff_centroid__location</th>\n",
              "      <th>trip_start_dt</th>\n",
              "      <th>trip_end_dt</th>\n",
              "      <th>trip_start_ym</th>\n",
              "      <th>trip_end_ym</th>\n",
              "    </tr>\n",
              "  </thead>\n",
              "  <tbody>\n",
              "    <tr>\n",
              "      <th>16</th>\n",
              "      <td>e066e483f0fc2a583895d24c9dec9864a6608052</td>\n",
              "      <td>4794c36af4c1852d90b5c8cf5f9f6cd38a8b9c1b68cf48...</td>\n",
              "      <td>01/01/2019 12:00:00 AM</td>\n",
              "      <td>01/01/2019 12:15:00 AM</td>\n",
              "      <td>600.0</td>\n",
              "      <td>0.0</td>\n",
              "      <td>1.703108e+10</td>\n",
              "      <td>1.703184e+10</td>\n",
              "      <td>8.0</td>\n",
              "      <td>32.0</td>\n",
              "      <td>...</td>\n",
              "      <td>41.891972</td>\n",
              "      <td>-87.612945</td>\n",
              "      <td>POINT (-87.6129454143 41.8919715078)</td>\n",
              "      <td>41.880994</td>\n",
              "      <td>-87.632746</td>\n",
              "      <td>POINT (-87.6327464887 41.8809944707)</td>\n",
              "      <td>2019-01-01</td>\n",
              "      <td>2019-01-01 00:15:00</td>\n",
              "      <td>2019-01</td>\n",
              "      <td>2019-01</td>\n",
              "    </tr>\n",
              "    <tr>\n",
              "      <th>19</th>\n",
              "      <td>5431595d222a3e00a9e4b3e93c928c306dc71be3</td>\n",
              "      <td>86b0677bb9bcda0454863c70a616d1adc45129237848d1...</td>\n",
              "      <td>01/01/2019 12:00:00 AM</td>\n",
              "      <td>01/01/2019 12:00:00 AM</td>\n",
              "      <td>120.0</td>\n",
              "      <td>0.3</td>\n",
              "      <td>1.703184e+10</td>\n",
              "      <td>1.703132e+10</td>\n",
              "      <td>32.0</td>\n",
              "      <td>32.0</td>\n",
              "      <td>...</td>\n",
              "      <td>41.880994</td>\n",
              "      <td>-87.632746</td>\n",
              "      <td>POINT (-87.6327464887 41.8809944707)</td>\n",
              "      <td>41.877406</td>\n",
              "      <td>-87.621972</td>\n",
              "      <td>POINT (-87.6219716519 41.8774061234)</td>\n",
              "      <td>2019-01-01</td>\n",
              "      <td>2019-01-01 00:00:00</td>\n",
              "      <td>2019-01</td>\n",
              "      <td>2019-01</td>\n",
              "    </tr>\n",
              "    <tr>\n",
              "      <th>20</th>\n",
              "      <td>509e870adce2a514a4287e1a305fe4ddabc59836</td>\n",
              "      <td>38f6145c9a2b848dc1baa16fd91087e606b12bcb8757a9...</td>\n",
              "      <td>01/01/2019 12:00:00 AM</td>\n",
              "      <td>01/01/2019 12:15:00 AM</td>\n",
              "      <td>360.0</td>\n",
              "      <td>0.8</td>\n",
              "      <td>1.703108e+10</td>\n",
              "      <td>1.703108e+10</td>\n",
              "      <td>8.0</td>\n",
              "      <td>8.0</td>\n",
              "      <td>...</td>\n",
              "      <td>41.898332</td>\n",
              "      <td>-87.620763</td>\n",
              "      <td>POINT (-87.6207628651 41.8983317935)</td>\n",
              "      <td>41.892508</td>\n",
              "      <td>-87.626215</td>\n",
              "      <td>POINT (-87.6262149064 41.8925077809)</td>\n",
              "      <td>2019-01-01</td>\n",
              "      <td>2019-01-01 00:15:00</td>\n",
              "      <td>2019-01</td>\n",
              "      <td>2019-01</td>\n",
              "    </tr>\n",
              "    <tr>\n",
              "      <th>22</th>\n",
              "      <td>31004535c12d4372c165e34386cde0521a0a72e8</td>\n",
              "      <td>ee8a2f86372e99ecf87d44e13a20ebda7db8ae69d5b444...</td>\n",
              "      <td>01/01/2019 12:00:00 AM</td>\n",
              "      <td>01/01/2019 12:15:00 AM</td>\n",
              "      <td>360.0</td>\n",
              "      <td>1.0</td>\n",
              "      <td>1.703108e+10</td>\n",
              "      <td>1.703108e+10</td>\n",
              "      <td>8.0</td>\n",
              "      <td>8.0</td>\n",
              "      <td>...</td>\n",
              "      <td>41.890922</td>\n",
              "      <td>-87.618868</td>\n",
              "      <td>POINT (-87.6188683546 41.8909220259)</td>\n",
              "      <td>41.892042</td>\n",
              "      <td>-87.631864</td>\n",
              "      <td>POINT (-87.6318639497 41.8920421365)</td>\n",
              "      <td>2019-01-01</td>\n",
              "      <td>2019-01-01 00:15:00</td>\n",
              "      <td>2019-01</td>\n",
              "      <td>2019-01</td>\n",
              "    </tr>\n",
              "    <tr>\n",
              "      <th>23</th>\n",
              "      <td>da18ec450c1fed02fbbc675faa621f8ac50ab5dd</td>\n",
              "      <td>0013da5489fe976daf4f4a7d246073ecf2caed9b12b3be...</td>\n",
              "      <td>01/01/2019 12:00:00 AM</td>\n",
              "      <td>01/01/2019 12:15:00 AM</td>\n",
              "      <td>420.0</td>\n",
              "      <td>0.8</td>\n",
              "      <td>1.703108e+10</td>\n",
              "      <td>1.703108e+10</td>\n",
              "      <td>8.0</td>\n",
              "      <td>8.0</td>\n",
              "      <td>...</td>\n",
              "      <td>41.898332</td>\n",
              "      <td>-87.620763</td>\n",
              "      <td>POINT (-87.6207628651 41.8983317935)</td>\n",
              "      <td>41.892508</td>\n",
              "      <td>-87.626215</td>\n",
              "      <td>POINT (-87.6262149064 41.8925077809)</td>\n",
              "      <td>2019-01-01</td>\n",
              "      <td>2019-01-01 00:15:00</td>\n",
              "      <td>2019-01</td>\n",
              "      <td>2019-01</td>\n",
              "    </tr>\n",
              "  </tbody>\n",
              "</table>\n",
              "<p>5 rows × 27 columns</p>\n",
              "</div>"
            ]
          },
          "metadata": {},
          "execution_count": 38
        }
      ]
    },
    {
      "cell_type": "code",
      "source": [
        "# Adding a new column to store datetime version of string datetimes - Terality\n",
        "timer.start()\n",
        "taxi_trips_tdf['trip_start_dt'] = te.to_datetime(taxi_trips_tdf['trip_start_timestamp'], infer_datetime_format=True)\n",
        "taxi_trips_tdf['trip_end_dt'] = te.to_datetime(taxi_trips_tdf['trip_end_timestamp'], infer_datetime_format=True)\n",
        "taxi_trips_tdf['trip_start_ym'] = taxi_trips_tdf['trip_start_dt'].dt.to_period('M')\n",
        "taxi_trips_tdf['trip_end_ym'] = taxi_trips_tdf['trip_end_dt'].dt.to_period('M')\n",
        "timer.stop()"
      ],
      "metadata": {
        "outputId": "4edc0d6d-6dc1-4c52-ddc0-023a694351ea",
        "colab": {
          "base_uri": "https://localhost:8080/"
        },
        "id": "fDlPRoH4bOym"
      },
      "execution_count": 33,
      "outputs": [
        {
          "output_type": "stream",
          "name": "stdout",
          "text": [
            "Elapsed time: 20.7048 seconds\n"
          ]
        },
        {
          "output_type": "execute_result",
          "data": {
            "text/plain": [
              "20.704838499999823"
            ]
          },
          "metadata": {},
          "execution_count": 33
        }
      ],
      "id": "fDlPRoH4bOym"
    },
    {
      "cell_type": "code",
      "execution_count": 34,
      "outputs": [
        {
          "output_type": "execute_result",
          "data": {
            "text/plain": [
              "                                     trip_id  \\\n",
              "16  e066e483f0fc2a583895d24c9dec9864a6608052   \n",
              "19  5431595d222a3e00a9e4b3e93c928c306dc71be3   \n",
              "20  509e870adce2a514a4287e1a305fe4ddabc59836   \n",
              "22  31004535c12d4372c165e34386cde0521a0a72e8   \n",
              "23  da18ec450c1fed02fbbc675faa621f8ac50ab5dd   \n",
              "\n",
              "                                              taxi_id    trip_start_timestamp  \\\n",
              "16  4794c36af4c1852d90b5c8cf5f9f6cd38a8b9c1b68cf48...  01/01/2019 12:00:00 AM   \n",
              "19  86b0677bb9bcda0454863c70a616d1adc45129237848d1...  01/01/2019 12:00:00 AM   \n",
              "20  38f6145c9a2b848dc1baa16fd91087e606b12bcb8757a9...  01/01/2019 12:00:00 AM   \n",
              "22  ee8a2f86372e99ecf87d44e13a20ebda7db8ae69d5b444...  01/01/2019 12:00:00 AM   \n",
              "23  0013da5489fe976daf4f4a7d246073ecf2caed9b12b3be...  01/01/2019 12:00:00 AM   \n",
              "\n",
              "        trip_end_timestamp  trip_seconds  trip_miles  pickup_census_tract  \\\n",
              "16  01/01/2019 12:15:00 AM         600.0         0.0         1.703108e+10   \n",
              "19  01/01/2019 12:00:00 AM         120.0         0.3         1.703184e+10   \n",
              "20  01/01/2019 12:15:00 AM         360.0         0.8         1.703108e+10   \n",
              "22  01/01/2019 12:15:00 AM         360.0         1.0         1.703108e+10   \n",
              "23  01/01/2019 12:15:00 AM         420.0         0.8         1.703108e+10   \n",
              "\n",
              "    dropoff_census_tract  pickup_community_area  dropoff_community_area  ...  \\\n",
              "16          1.703184e+10                    8.0                    32.0  ...   \n",
              "19          1.703132e+10                   32.0                    32.0  ...   \n",
              "20          1.703108e+10                    8.0                     8.0  ...   \n",
              "22          1.703108e+10                    8.0                     8.0  ...   \n",
              "23          1.703108e+10                    8.0                     8.0  ...   \n",
              "\n",
              "    pickup_centroid_latitude  pickup_centroid_longitude  \\\n",
              "16                 41.891972                 -87.612945   \n",
              "19                 41.880994                 -87.632746   \n",
              "20                 41.898332                 -87.620763   \n",
              "22                 41.890922                 -87.618868   \n",
              "23                 41.898332                 -87.620763   \n",
              "\n",
              "                pickup_centroid_location  dropoff_centroid_latitude  \\\n",
              "16  POINT (-87.6129454143 41.8919715078)                  41.880994   \n",
              "19  POINT (-87.6327464887 41.8809944707)                  41.877406   \n",
              "20  POINT (-87.6207628651 41.8983317935)                  41.892508   \n",
              "22  POINT (-87.6188683546 41.8909220259)                  41.892042   \n",
              "23  POINT (-87.6207628651 41.8983317935)                  41.892508   \n",
              "\n",
              "    dropoff_centroid_longitude            dropoff_centroid__location  \\\n",
              "16                  -87.632746  POINT (-87.6327464887 41.8809944707)   \n",
              "19                  -87.621972  POINT (-87.6219716519 41.8774061234)   \n",
              "20                  -87.626215  POINT (-87.6262149064 41.8925077809)   \n",
              "22                  -87.631864  POINT (-87.6318639497 41.8920421365)   \n",
              "23                  -87.626215  POINT (-87.6262149064 41.8925077809)   \n",
              "\n",
              "   trip_start_dt         trip_end_dt  trip_start_ym trip_end_ym  \n",
              "16    2019-01-01 2019-01-01 00:15:00        2019-01     2019-01  \n",
              "19    2019-01-01 2019-01-01 00:00:00        2019-01     2019-01  \n",
              "20    2019-01-01 2019-01-01 00:15:00        2019-01     2019-01  \n",
              "22    2019-01-01 2019-01-01 00:15:00        2019-01     2019-01  \n",
              "23    2019-01-01 2019-01-01 00:15:00        2019-01     2019-01  "
            ],
            "text/html": [
              "<div>\n",
              "<style scoped>\n",
              "    .dataframe tbody tr th:only-of-type {\n",
              "        vertical-align: middle;\n",
              "    }\n",
              "\n",
              "    .dataframe tbody tr th {\n",
              "        vertical-align: top;\n",
              "    }\n",
              "\n",
              "    .dataframe thead th {\n",
              "        text-align: right;\n",
              "    }\n",
              "</style>\n",
              "<table border=\"1\" class=\"dataframe\">\n",
              "  <thead>\n",
              "    <tr style=\"text-align: right;\">\n",
              "      <th></th>\n",
              "      <th>trip_id</th>\n",
              "      <th>taxi_id</th>\n",
              "      <th>trip_start_timestamp</th>\n",
              "      <th>trip_end_timestamp</th>\n",
              "      <th>trip_seconds</th>\n",
              "      <th>trip_miles</th>\n",
              "      <th>pickup_census_tract</th>\n",
              "      <th>dropoff_census_tract</th>\n",
              "      <th>pickup_community_area</th>\n",
              "      <th>dropoff_community_area</th>\n",
              "      <th>...</th>\n",
              "      <th>pickup_centroid_latitude</th>\n",
              "      <th>pickup_centroid_longitude</th>\n",
              "      <th>pickup_centroid_location</th>\n",
              "      <th>dropoff_centroid_latitude</th>\n",
              "      <th>dropoff_centroid_longitude</th>\n",
              "      <th>dropoff_centroid__location</th>\n",
              "      <th>trip_start_dt</th>\n",
              "      <th>trip_end_dt</th>\n",
              "      <th>trip_start_ym</th>\n",
              "      <th>trip_end_ym</th>\n",
              "    </tr>\n",
              "  </thead>\n",
              "  <tbody>\n",
              "    <tr>\n",
              "      <th>16</th>\n",
              "      <td>e066e483f0fc2a583895d24c9dec9864a6608052</td>\n",
              "      <td>4794c36af4c1852d90b5c8cf5f9f6cd38a8b9c1b68cf48...</td>\n",
              "      <td>01/01/2019 12:00:00 AM</td>\n",
              "      <td>01/01/2019 12:15:00 AM</td>\n",
              "      <td>600.0</td>\n",
              "      <td>0.0</td>\n",
              "      <td>1.703108e+10</td>\n",
              "      <td>1.703184e+10</td>\n",
              "      <td>8.0</td>\n",
              "      <td>32.0</td>\n",
              "      <td>...</td>\n",
              "      <td>41.891972</td>\n",
              "      <td>-87.612945</td>\n",
              "      <td>POINT (-87.6129454143 41.8919715078)</td>\n",
              "      <td>41.880994</td>\n",
              "      <td>-87.632746</td>\n",
              "      <td>POINT (-87.6327464887 41.8809944707)</td>\n",
              "      <td>2019-01-01</td>\n",
              "      <td>2019-01-01 00:15:00</td>\n",
              "      <td>2019-01</td>\n",
              "      <td>2019-01</td>\n",
              "    </tr>\n",
              "    <tr>\n",
              "      <th>19</th>\n",
              "      <td>5431595d222a3e00a9e4b3e93c928c306dc71be3</td>\n",
              "      <td>86b0677bb9bcda0454863c70a616d1adc45129237848d1...</td>\n",
              "      <td>01/01/2019 12:00:00 AM</td>\n",
              "      <td>01/01/2019 12:00:00 AM</td>\n",
              "      <td>120.0</td>\n",
              "      <td>0.3</td>\n",
              "      <td>1.703184e+10</td>\n",
              "      <td>1.703132e+10</td>\n",
              "      <td>32.0</td>\n",
              "      <td>32.0</td>\n",
              "      <td>...</td>\n",
              "      <td>41.880994</td>\n",
              "      <td>-87.632746</td>\n",
              "      <td>POINT (-87.6327464887 41.8809944707)</td>\n",
              "      <td>41.877406</td>\n",
              "      <td>-87.621972</td>\n",
              "      <td>POINT (-87.6219716519 41.8774061234)</td>\n",
              "      <td>2019-01-01</td>\n",
              "      <td>2019-01-01 00:00:00</td>\n",
              "      <td>2019-01</td>\n",
              "      <td>2019-01</td>\n",
              "    </tr>\n",
              "    <tr>\n",
              "      <th>20</th>\n",
              "      <td>509e870adce2a514a4287e1a305fe4ddabc59836</td>\n",
              "      <td>38f6145c9a2b848dc1baa16fd91087e606b12bcb8757a9...</td>\n",
              "      <td>01/01/2019 12:00:00 AM</td>\n",
              "      <td>01/01/2019 12:15:00 AM</td>\n",
              "      <td>360.0</td>\n",
              "      <td>0.8</td>\n",
              "      <td>1.703108e+10</td>\n",
              "      <td>1.703108e+10</td>\n",
              "      <td>8.0</td>\n",
              "      <td>8.0</td>\n",
              "      <td>...</td>\n",
              "      <td>41.898332</td>\n",
              "      <td>-87.620763</td>\n",
              "      <td>POINT (-87.6207628651 41.8983317935)</td>\n",
              "      <td>41.892508</td>\n",
              "      <td>-87.626215</td>\n",
              "      <td>POINT (-87.6262149064 41.8925077809)</td>\n",
              "      <td>2019-01-01</td>\n",
              "      <td>2019-01-01 00:15:00</td>\n",
              "      <td>2019-01</td>\n",
              "      <td>2019-01</td>\n",
              "    </tr>\n",
              "    <tr>\n",
              "      <th>22</th>\n",
              "      <td>31004535c12d4372c165e34386cde0521a0a72e8</td>\n",
              "      <td>ee8a2f86372e99ecf87d44e13a20ebda7db8ae69d5b444...</td>\n",
              "      <td>01/01/2019 12:00:00 AM</td>\n",
              "      <td>01/01/2019 12:15:00 AM</td>\n",
              "      <td>360.0</td>\n",
              "      <td>1.0</td>\n",
              "      <td>1.703108e+10</td>\n",
              "      <td>1.703108e+10</td>\n",
              "      <td>8.0</td>\n",
              "      <td>8.0</td>\n",
              "      <td>...</td>\n",
              "      <td>41.890922</td>\n",
              "      <td>-87.618868</td>\n",
              "      <td>POINT (-87.6188683546 41.8909220259)</td>\n",
              "      <td>41.892042</td>\n",
              "      <td>-87.631864</td>\n",
              "      <td>POINT (-87.6318639497 41.8920421365)</td>\n",
              "      <td>2019-01-01</td>\n",
              "      <td>2019-01-01 00:15:00</td>\n",
              "      <td>2019-01</td>\n",
              "      <td>2019-01</td>\n",
              "    </tr>\n",
              "    <tr>\n",
              "      <th>23</th>\n",
              "      <td>da18ec450c1fed02fbbc675faa621f8ac50ab5dd</td>\n",
              "      <td>0013da5489fe976daf4f4a7d246073ecf2caed9b12b3be...</td>\n",
              "      <td>01/01/2019 12:00:00 AM</td>\n",
              "      <td>01/01/2019 12:15:00 AM</td>\n",
              "      <td>420.0</td>\n",
              "      <td>0.8</td>\n",
              "      <td>1.703108e+10</td>\n",
              "      <td>1.703108e+10</td>\n",
              "      <td>8.0</td>\n",
              "      <td>8.0</td>\n",
              "      <td>...</td>\n",
              "      <td>41.898332</td>\n",
              "      <td>-87.620763</td>\n",
              "      <td>POINT (-87.6207628651 41.8983317935)</td>\n",
              "      <td>41.892508</td>\n",
              "      <td>-87.626215</td>\n",
              "      <td>POINT (-87.6262149064 41.8925077809)</td>\n",
              "      <td>2019-01-01</td>\n",
              "      <td>2019-01-01 00:15:00</td>\n",
              "      <td>2019-01</td>\n",
              "      <td>2019-01</td>\n",
              "    </tr>\n",
              "  </tbody>\n",
              "</table>\n",
              "</div>"
            ]
          },
          "metadata": {},
          "execution_count": 34
        }
      ],
      "source": [
        "taxi_trips_tdf.head()\n",
        "# timer.stop()\n"
      ],
      "metadata": {
        "pycharm": {
          "name": "#%%\n"
        },
        "id": "95reatEzzRVd",
        "outputId": "4e5db913-887a-4722-fc70-9bdcfc6df13e",
        "colab": {
          "base_uri": "https://localhost:8080/",
          "height": 313
        }
      },
      "id": "95reatEzzRVd"
    },
    {
      "cell_type": "code",
      "execution_count": 17,
      "id": "bfcff7e9",
      "metadata": {
        "pycharm": {
          "name": "#%%\n"
        },
        "colab": {
          "base_uri": "https://localhost:8080/",
          "height": 320
        },
        "id": "bfcff7e9",
        "outputId": "74f5160e-c1ef-455d-cb22-d80bd46fc80e"
      },
      "outputs": [
        {
          "output_type": "execute_result",
          "data": {
            "text/plain": [
              "       trip_seconds    trip_miles  pickup_census_tract  dropoff_census_tract  \\\n",
              "count  1.219963e+07  1.219963e+07         1.219963e+07          1.219963e+07   \n",
              "mean   7.806322e+02  2.882408e+00         1.703141e+10          1.703138e+10   \n",
              "std    1.207102e+03  5.479885e+00         3.436317e+05          3.341613e+05   \n",
              "min    0.000000e+00  0.000000e+00         1.703101e+10          1.703101e+10   \n",
              "25%    3.400000e+02  5.400000e-01         1.703108e+10          1.703108e+10   \n",
              "50%    5.140000e+02  1.080000e+00         1.703132e+10          1.703128e+10   \n",
              "75%    8.230000e+02  1.900000e+00         1.703184e+10          1.703184e+10   \n",
              "max    8.640000e+04  9.959000e+02         1.703198e+10          1.703198e+10   \n",
              "\n",
              "       pickup_community_area  dropoff_community_area          fare  \\\n",
              "count           1.219963e+07            1.219963e+07  1.219963e+07   \n",
              "mean            2.628359e+01            2.319189e+01  1.279652e+01   \n",
              "std             1.881160e+01            1.634532e+01  6.189516e+01   \n",
              "min             1.000000e+00            1.000000e+00  0.000000e+00   \n",
              "25%             8.000000e+00            8.000000e+00  5.750000e+00   \n",
              "50%             2.800000e+01            2.800000e+01  7.250000e+00   \n",
              "75%             3.200000e+01            3.200000e+01  1.025000e+01   \n",
              "max             7.700000e+01            7.700000e+01  9.800260e+03   \n",
              "\n",
              "               tips         tolls        extras    trip_total  \\\n",
              "count  1.219963e+07  1.219963e+07  1.219963e+07  1.219963e+07   \n",
              "mean   1.781760e+00  7.331033e-04  8.851525e-01  1.560699e+01   \n",
              "std    2.826719e+00  3.181317e-01  1.609252e+01  6.459551e+01   \n",
              "min    0.000000e+00  0.000000e+00  0.000000e+00  0.000000e+00   \n",
              "25%    0.000000e+00  0.000000e+00  0.000000e+00  7.000000e+00   \n",
              "50%    9.000000e-01  0.000000e+00  0.000000e+00  9.000000e+00   \n",
              "75%    2.000000e+00  0.000000e+00  1.000000e+00  1.250000e+01   \n",
              "max    4.000000e+02  9.606800e+02  9.327760e+03  9.800300e+03   \n",
              "\n",
              "       pickup_centroid_latitude  pickup_centroid_longitude  \\\n",
              "count              1.219963e+07               1.219963e+07   \n",
              "mean               4.189265e+01              -8.765359e+01   \n",
              "std                3.113462e-02               7.520429e-02   \n",
              "min                4.165022e+01              -8.790304e+01   \n",
              "25%                4.188099e+01              -8.763784e+01   \n",
              "50%                4.188530e+01              -8.763186e+01   \n",
              "75%                4.189322e+01              -8.762197e+01   \n",
              "max                4.202122e+01              -8.753071e+01   \n",
              "\n",
              "       dropoff_centroid_latitude  dropoff_centroid_longitude  \n",
              "count               1.219963e+07                1.219963e+07  \n",
              "mean                4.189144e+01               -8.764459e+01  \n",
              "std                 2.604625e-02                5.721153e-02  \n",
              "min                 4.166376e+01               -8.790304e+01  \n",
              "25%                 4.188099e+01               -8.764090e+01  \n",
              "50%                 4.188530e+01               -8.763186e+01  \n",
              "75%                 4.189503e+01               -8.762197e+01  \n",
              "max                 4.202122e+01               -8.753071e+01  "
            ],
            "text/html": [
              "<div>\n",
              "<style scoped>\n",
              "    .dataframe tbody tr th:only-of-type {\n",
              "        vertical-align: middle;\n",
              "    }\n",
              "\n",
              "    .dataframe tbody tr th {\n",
              "        vertical-align: top;\n",
              "    }\n",
              "\n",
              "    .dataframe thead th {\n",
              "        text-align: right;\n",
              "    }\n",
              "</style>\n",
              "<table border=\"1\" class=\"dataframe\">\n",
              "  <thead>\n",
              "    <tr style=\"text-align: right;\">\n",
              "      <th></th>\n",
              "      <th>trip_seconds</th>\n",
              "      <th>trip_miles</th>\n",
              "      <th>pickup_census_tract</th>\n",
              "      <th>dropoff_census_tract</th>\n",
              "      <th>pickup_community_area</th>\n",
              "      <th>dropoff_community_area</th>\n",
              "      <th>fare</th>\n",
              "      <th>tips</th>\n",
              "      <th>tolls</th>\n",
              "      <th>extras</th>\n",
              "      <th>trip_total</th>\n",
              "      <th>pickup_centroid_latitude</th>\n",
              "      <th>pickup_centroid_longitude</th>\n",
              "      <th>dropoff_centroid_latitude</th>\n",
              "      <th>dropoff_centroid_longitude</th>\n",
              "    </tr>\n",
              "  </thead>\n",
              "  <tbody>\n",
              "    <tr>\n",
              "      <th>count</th>\n",
              "      <td>1.219963e+07</td>\n",
              "      <td>1.219963e+07</td>\n",
              "      <td>1.219963e+07</td>\n",
              "      <td>1.219963e+07</td>\n",
              "      <td>1.219963e+07</td>\n",
              "      <td>1.219963e+07</td>\n",
              "      <td>1.219963e+07</td>\n",
              "      <td>1.219963e+07</td>\n",
              "      <td>1.219963e+07</td>\n",
              "      <td>1.219963e+07</td>\n",
              "      <td>1.219963e+07</td>\n",
              "      <td>1.219963e+07</td>\n",
              "      <td>1.219963e+07</td>\n",
              "      <td>1.219963e+07</td>\n",
              "      <td>1.219963e+07</td>\n",
              "    </tr>\n",
              "    <tr>\n",
              "      <th>mean</th>\n",
              "      <td>7.806322e+02</td>\n",
              "      <td>2.882408e+00</td>\n",
              "      <td>1.703141e+10</td>\n",
              "      <td>1.703138e+10</td>\n",
              "      <td>2.628359e+01</td>\n",
              "      <td>2.319189e+01</td>\n",
              "      <td>1.279652e+01</td>\n",
              "      <td>1.781760e+00</td>\n",
              "      <td>7.331033e-04</td>\n",
              "      <td>8.851525e-01</td>\n",
              "      <td>1.560699e+01</td>\n",
              "      <td>4.189265e+01</td>\n",
              "      <td>-8.765359e+01</td>\n",
              "      <td>4.189144e+01</td>\n",
              "      <td>-8.764459e+01</td>\n",
              "    </tr>\n",
              "    <tr>\n",
              "      <th>std</th>\n",
              "      <td>1.207102e+03</td>\n",
              "      <td>5.479885e+00</td>\n",
              "      <td>3.436317e+05</td>\n",
              "      <td>3.341613e+05</td>\n",
              "      <td>1.881160e+01</td>\n",
              "      <td>1.634532e+01</td>\n",
              "      <td>6.189516e+01</td>\n",
              "      <td>2.826719e+00</td>\n",
              "      <td>3.181317e-01</td>\n",
              "      <td>1.609252e+01</td>\n",
              "      <td>6.459551e+01</td>\n",
              "      <td>3.113462e-02</td>\n",
              "      <td>7.520429e-02</td>\n",
              "      <td>2.604625e-02</td>\n",
              "      <td>5.721153e-02</td>\n",
              "    </tr>\n",
              "    <tr>\n",
              "      <th>min</th>\n",
              "      <td>0.000000e+00</td>\n",
              "      <td>0.000000e+00</td>\n",
              "      <td>1.703101e+10</td>\n",
              "      <td>1.703101e+10</td>\n",
              "      <td>1.000000e+00</td>\n",
              "      <td>1.000000e+00</td>\n",
              "      <td>0.000000e+00</td>\n",
              "      <td>0.000000e+00</td>\n",
              "      <td>0.000000e+00</td>\n",
              "      <td>0.000000e+00</td>\n",
              "      <td>0.000000e+00</td>\n",
              "      <td>4.165022e+01</td>\n",
              "      <td>-8.790304e+01</td>\n",
              "      <td>4.166376e+01</td>\n",
              "      <td>-8.790304e+01</td>\n",
              "    </tr>\n",
              "    <tr>\n",
              "      <th>25%</th>\n",
              "      <td>3.400000e+02</td>\n",
              "      <td>5.400000e-01</td>\n",
              "      <td>1.703108e+10</td>\n",
              "      <td>1.703108e+10</td>\n",
              "      <td>8.000000e+00</td>\n",
              "      <td>8.000000e+00</td>\n",
              "      <td>5.750000e+00</td>\n",
              "      <td>0.000000e+00</td>\n",
              "      <td>0.000000e+00</td>\n",
              "      <td>0.000000e+00</td>\n",
              "      <td>7.000000e+00</td>\n",
              "      <td>4.188099e+01</td>\n",
              "      <td>-8.763784e+01</td>\n",
              "      <td>4.188099e+01</td>\n",
              "      <td>-8.764090e+01</td>\n",
              "    </tr>\n",
              "    <tr>\n",
              "      <th>50%</th>\n",
              "      <td>5.140000e+02</td>\n",
              "      <td>1.080000e+00</td>\n",
              "      <td>1.703132e+10</td>\n",
              "      <td>1.703128e+10</td>\n",
              "      <td>2.800000e+01</td>\n",
              "      <td>2.800000e+01</td>\n",
              "      <td>7.250000e+00</td>\n",
              "      <td>9.000000e-01</td>\n",
              "      <td>0.000000e+00</td>\n",
              "      <td>0.000000e+00</td>\n",
              "      <td>9.000000e+00</td>\n",
              "      <td>4.188530e+01</td>\n",
              "      <td>-8.763186e+01</td>\n",
              "      <td>4.188530e+01</td>\n",
              "      <td>-8.763186e+01</td>\n",
              "    </tr>\n",
              "    <tr>\n",
              "      <th>75%</th>\n",
              "      <td>8.230000e+02</td>\n",
              "      <td>1.900000e+00</td>\n",
              "      <td>1.703184e+10</td>\n",
              "      <td>1.703184e+10</td>\n",
              "      <td>3.200000e+01</td>\n",
              "      <td>3.200000e+01</td>\n",
              "      <td>1.025000e+01</td>\n",
              "      <td>2.000000e+00</td>\n",
              "      <td>0.000000e+00</td>\n",
              "      <td>1.000000e+00</td>\n",
              "      <td>1.250000e+01</td>\n",
              "      <td>4.189322e+01</td>\n",
              "      <td>-8.762197e+01</td>\n",
              "      <td>4.189503e+01</td>\n",
              "      <td>-8.762197e+01</td>\n",
              "    </tr>\n",
              "    <tr>\n",
              "      <th>max</th>\n",
              "      <td>8.640000e+04</td>\n",
              "      <td>9.959000e+02</td>\n",
              "      <td>1.703198e+10</td>\n",
              "      <td>1.703198e+10</td>\n",
              "      <td>7.700000e+01</td>\n",
              "      <td>7.700000e+01</td>\n",
              "      <td>9.800260e+03</td>\n",
              "      <td>4.000000e+02</td>\n",
              "      <td>9.606800e+02</td>\n",
              "      <td>9.327760e+03</td>\n",
              "      <td>9.800300e+03</td>\n",
              "      <td>4.202122e+01</td>\n",
              "      <td>-8.753071e+01</td>\n",
              "      <td>4.202122e+01</td>\n",
              "      <td>-8.753071e+01</td>\n",
              "    </tr>\n",
              "  </tbody>\n",
              "</table>\n",
              "</div>"
            ]
          },
          "metadata": {},
          "execution_count": 17
        }
      ],
      "source": [
        "# Describe - Pandas\n",
        "timer.start()\n",
        "taxi_trips_pdf.describe()"
      ]
    },
    {
      "cell_type": "code",
      "source": [
        "timer.stop()"
      ],
      "metadata": {
        "colab": {
          "base_uri": "https://localhost:8080/"
        },
        "id": "PWh7yRSX-mzM",
        "outputId": "58cb073f-96f0-459a-e565-b2fb77039d26"
      },
      "id": "PWh7yRSX-mzM",
      "execution_count": 18,
      "outputs": [
        {
          "output_type": "stream",
          "name": "stdout",
          "text": [
            "Elapsed time: 8.1017 seconds\n"
          ]
        },
        {
          "output_type": "execute_result",
          "data": {
            "text/plain": [
              "8.101670899999988"
            ]
          },
          "metadata": {},
          "execution_count": 18
        }
      ]
    },
    {
      "cell_type": "code",
      "source": [
        "# Describe - Terality\n",
        "timer.start()\n",
        "taxi_trips_tdf.describe()"
      ],
      "metadata": {
        "colab": {
          "base_uri": "https://localhost:8080/",
          "height": 355
        },
        "id": "VHJrYq8e_Otk",
        "outputId": "48cf0007-6910-4624-ae46-7456ad0503a2"
      },
      "id": "VHJrYq8e_Otk",
      "execution_count": 19,
      "outputs": [
        {
          "output_type": "stream",
          "name": "stderr",
          "text": [
            "INFO:terality:The result of te.dataframe.describe was retrieved from cache [docs: https://docs.terality.com/getting-terality/user-guide/caching].\n",
            "INFO:terality:The result of te.dataframe._repr_html_ was retrieved from cache [docs: https://docs.terality.com/getting-terality/user-guide/caching].\n"
          ]
        },
        {
          "output_type": "execute_result",
          "data": {
            "text/plain": [
              "       trip_seconds    trip_miles  pickup_census_tract  dropoff_census_tract  \\\n",
              "count  1.219963e+07  1.219963e+07         1.219963e+07          1.219963e+07   \n",
              "mean   7.806322e+02  2.882408e+00         1.703141e+10          1.703138e+10   \n",
              "std    1.207102e+03  5.479885e+00         3.436317e+05          3.341613e+05   \n",
              "min    0.000000e+00  0.000000e+00         1.703101e+10          1.703101e+10   \n",
              "25%    3.400000e+02  5.400000e-01         1.703108e+10          1.703108e+10   \n",
              "50%    5.140000e+02  1.080000e+00         1.703132e+10          1.703128e+10   \n",
              "75%    8.230000e+02  1.900000e+00         1.703184e+10          1.703184e+10   \n",
              "max    8.640000e+04  9.959000e+02         1.703198e+10          1.703198e+10   \n",
              "\n",
              "       pickup_community_area  dropoff_community_area          fare  \\\n",
              "count           1.219963e+07            1.219963e+07  1.219963e+07   \n",
              "mean            2.628359e+01            2.319189e+01  1.279652e+01   \n",
              "std             1.881160e+01            1.634532e+01  6.189516e+01   \n",
              "min             1.000000e+00            1.000000e+00  0.000000e+00   \n",
              "25%             8.000000e+00            8.000000e+00  5.750000e+00   \n",
              "50%             2.800000e+01            2.800000e+01  7.250000e+00   \n",
              "75%             3.200000e+01            3.200000e+01  1.025000e+01   \n",
              "max             7.700000e+01            7.700000e+01  9.800260e+03   \n",
              "\n",
              "               tips         tolls        extras    trip_total  \\\n",
              "count  1.219963e+07  1.219963e+07  1.219963e+07  1.219963e+07   \n",
              "mean   1.781760e+00  7.331033e-04  8.851525e-01  1.560699e+01   \n",
              "std    2.826719e+00  3.181317e-01  1.609252e+01  6.459551e+01   \n",
              "min    0.000000e+00  0.000000e+00  0.000000e+00  0.000000e+00   \n",
              "25%    0.000000e+00  0.000000e+00  0.000000e+00  7.000000e+00   \n",
              "50%    9.000000e-01  0.000000e+00  0.000000e+00  9.000000e+00   \n",
              "75%    2.000000e+00  0.000000e+00  1.000000e+00  1.250000e+01   \n",
              "max    4.000000e+02  9.606800e+02  9.327760e+03  9.800300e+03   \n",
              "\n",
              "       pickup_centroid_latitude  pickup_centroid_longitude  \\\n",
              "count              1.219963e+07               1.219963e+07   \n",
              "mean               4.189265e+01              -8.765359e+01   \n",
              "std                3.113462e-02               7.520429e-02   \n",
              "min                4.165022e+01              -8.790304e+01   \n",
              "25%                4.188099e+01              -8.763784e+01   \n",
              "50%                4.188530e+01              -8.763186e+01   \n",
              "75%                4.189322e+01              -8.762197e+01   \n",
              "max                4.202122e+01              -8.753071e+01   \n",
              "\n",
              "       dropoff_centroid_latitude  dropoff_centroid_longitude  \n",
              "count               1.219963e+07                1.219963e+07  \n",
              "mean                4.189144e+01               -8.764459e+01  \n",
              "std                 2.604625e-02                5.721153e-02  \n",
              "min                 4.166376e+01               -8.790304e+01  \n",
              "25%                 4.188099e+01               -8.764090e+01  \n",
              "50%                 4.188530e+01               -8.763186e+01  \n",
              "75%                 4.189503e+01               -8.762197e+01  \n",
              "max                 4.202122e+01               -8.753071e+01  "
            ],
            "text/html": [
              "<div>\n",
              "<style scoped>\n",
              "    .dataframe tbody tr th:only-of-type {\n",
              "        vertical-align: middle;\n",
              "    }\n",
              "\n",
              "    .dataframe tbody tr th {\n",
              "        vertical-align: top;\n",
              "    }\n",
              "\n",
              "    .dataframe thead th {\n",
              "        text-align: right;\n",
              "    }\n",
              "</style>\n",
              "<table border=\"1\" class=\"dataframe\">\n",
              "  <thead>\n",
              "    <tr style=\"text-align: right;\">\n",
              "      <th></th>\n",
              "      <th>trip_seconds</th>\n",
              "      <th>trip_miles</th>\n",
              "      <th>pickup_census_tract</th>\n",
              "      <th>dropoff_census_tract</th>\n",
              "      <th>pickup_community_area</th>\n",
              "      <th>dropoff_community_area</th>\n",
              "      <th>fare</th>\n",
              "      <th>tips</th>\n",
              "      <th>tolls</th>\n",
              "      <th>extras</th>\n",
              "      <th>trip_total</th>\n",
              "      <th>pickup_centroid_latitude</th>\n",
              "      <th>pickup_centroid_longitude</th>\n",
              "      <th>dropoff_centroid_latitude</th>\n",
              "      <th>dropoff_centroid_longitude</th>\n",
              "    </tr>\n",
              "  </thead>\n",
              "  <tbody>\n",
              "    <tr>\n",
              "      <th>count</th>\n",
              "      <td>1.219963e+07</td>\n",
              "      <td>1.219963e+07</td>\n",
              "      <td>1.219963e+07</td>\n",
              "      <td>1.219963e+07</td>\n",
              "      <td>1.219963e+07</td>\n",
              "      <td>1.219963e+07</td>\n",
              "      <td>1.219963e+07</td>\n",
              "      <td>1.219963e+07</td>\n",
              "      <td>1.219963e+07</td>\n",
              "      <td>1.219963e+07</td>\n",
              "      <td>1.219963e+07</td>\n",
              "      <td>1.219963e+07</td>\n",
              "      <td>1.219963e+07</td>\n",
              "      <td>1.219963e+07</td>\n",
              "      <td>1.219963e+07</td>\n",
              "    </tr>\n",
              "    <tr>\n",
              "      <th>mean</th>\n",
              "      <td>7.806322e+02</td>\n",
              "      <td>2.882408e+00</td>\n",
              "      <td>1.703141e+10</td>\n",
              "      <td>1.703138e+10</td>\n",
              "      <td>2.628359e+01</td>\n",
              "      <td>2.319189e+01</td>\n",
              "      <td>1.279652e+01</td>\n",
              "      <td>1.781760e+00</td>\n",
              "      <td>7.331033e-04</td>\n",
              "      <td>8.851525e-01</td>\n",
              "      <td>1.560699e+01</td>\n",
              "      <td>4.189265e+01</td>\n",
              "      <td>-8.765359e+01</td>\n",
              "      <td>4.189144e+01</td>\n",
              "      <td>-8.764459e+01</td>\n",
              "    </tr>\n",
              "    <tr>\n",
              "      <th>std</th>\n",
              "      <td>1.207102e+03</td>\n",
              "      <td>5.479885e+00</td>\n",
              "      <td>3.436317e+05</td>\n",
              "      <td>3.341613e+05</td>\n",
              "      <td>1.881160e+01</td>\n",
              "      <td>1.634532e+01</td>\n",
              "      <td>6.189516e+01</td>\n",
              "      <td>2.826719e+00</td>\n",
              "      <td>3.181317e-01</td>\n",
              "      <td>1.609252e+01</td>\n",
              "      <td>6.459551e+01</td>\n",
              "      <td>3.113462e-02</td>\n",
              "      <td>7.520429e-02</td>\n",
              "      <td>2.604625e-02</td>\n",
              "      <td>5.721153e-02</td>\n",
              "    </tr>\n",
              "    <tr>\n",
              "      <th>min</th>\n",
              "      <td>0.000000e+00</td>\n",
              "      <td>0.000000e+00</td>\n",
              "      <td>1.703101e+10</td>\n",
              "      <td>1.703101e+10</td>\n",
              "      <td>1.000000e+00</td>\n",
              "      <td>1.000000e+00</td>\n",
              "      <td>0.000000e+00</td>\n",
              "      <td>0.000000e+00</td>\n",
              "      <td>0.000000e+00</td>\n",
              "      <td>0.000000e+00</td>\n",
              "      <td>0.000000e+00</td>\n",
              "      <td>4.165022e+01</td>\n",
              "      <td>-8.790304e+01</td>\n",
              "      <td>4.166376e+01</td>\n",
              "      <td>-8.790304e+01</td>\n",
              "    </tr>\n",
              "    <tr>\n",
              "      <th>25%</th>\n",
              "      <td>3.400000e+02</td>\n",
              "      <td>5.400000e-01</td>\n",
              "      <td>1.703108e+10</td>\n",
              "      <td>1.703108e+10</td>\n",
              "      <td>8.000000e+00</td>\n",
              "      <td>8.000000e+00</td>\n",
              "      <td>5.750000e+00</td>\n",
              "      <td>0.000000e+00</td>\n",
              "      <td>0.000000e+00</td>\n",
              "      <td>0.000000e+00</td>\n",
              "      <td>7.000000e+00</td>\n",
              "      <td>4.188099e+01</td>\n",
              "      <td>-8.763784e+01</td>\n",
              "      <td>4.188099e+01</td>\n",
              "      <td>-8.764090e+01</td>\n",
              "    </tr>\n",
              "    <tr>\n",
              "      <th>50%</th>\n",
              "      <td>5.140000e+02</td>\n",
              "      <td>1.080000e+00</td>\n",
              "      <td>1.703132e+10</td>\n",
              "      <td>1.703128e+10</td>\n",
              "      <td>2.800000e+01</td>\n",
              "      <td>2.800000e+01</td>\n",
              "      <td>7.250000e+00</td>\n",
              "      <td>9.000000e-01</td>\n",
              "      <td>0.000000e+00</td>\n",
              "      <td>0.000000e+00</td>\n",
              "      <td>9.000000e+00</td>\n",
              "      <td>4.188530e+01</td>\n",
              "      <td>-8.763186e+01</td>\n",
              "      <td>4.188530e+01</td>\n",
              "      <td>-8.763186e+01</td>\n",
              "    </tr>\n",
              "    <tr>\n",
              "      <th>75%</th>\n",
              "      <td>8.230000e+02</td>\n",
              "      <td>1.900000e+00</td>\n",
              "      <td>1.703184e+10</td>\n",
              "      <td>1.703184e+10</td>\n",
              "      <td>3.200000e+01</td>\n",
              "      <td>3.200000e+01</td>\n",
              "      <td>1.025000e+01</td>\n",
              "      <td>2.000000e+00</td>\n",
              "      <td>0.000000e+00</td>\n",
              "      <td>1.000000e+00</td>\n",
              "      <td>1.250000e+01</td>\n",
              "      <td>4.189322e+01</td>\n",
              "      <td>-8.762197e+01</td>\n",
              "      <td>4.189503e+01</td>\n",
              "      <td>-8.762197e+01</td>\n",
              "    </tr>\n",
              "    <tr>\n",
              "      <th>max</th>\n",
              "      <td>8.640000e+04</td>\n",
              "      <td>9.959000e+02</td>\n",
              "      <td>1.703198e+10</td>\n",
              "      <td>1.703198e+10</td>\n",
              "      <td>7.700000e+01</td>\n",
              "      <td>7.700000e+01</td>\n",
              "      <td>9.800260e+03</td>\n",
              "      <td>4.000000e+02</td>\n",
              "      <td>9.606800e+02</td>\n",
              "      <td>9.327760e+03</td>\n",
              "      <td>9.800300e+03</td>\n",
              "      <td>4.202122e+01</td>\n",
              "      <td>-8.753071e+01</td>\n",
              "      <td>4.202122e+01</td>\n",
              "      <td>-8.753071e+01</td>\n",
              "    </tr>\n",
              "  </tbody>\n",
              "</table>\n",
              "</div>"
            ]
          },
          "metadata": {},
          "execution_count": 19
        }
      ]
    },
    {
      "cell_type": "code",
      "source": [
        "timer.stop()"
      ],
      "metadata": {
        "colab": {
          "base_uri": "https://localhost:8080/"
        },
        "id": "hd9jHDHm_KX8",
        "outputId": "2d028759-8af3-429c-bb57-b3c83a04a86d"
      },
      "id": "hd9jHDHm_KX8",
      "execution_count": 20,
      "outputs": [
        {
          "output_type": "stream",
          "name": "stdout",
          "text": [
            "Elapsed time: 3.1106 seconds\n"
          ]
        },
        {
          "output_type": "execute_result",
          "data": {
            "text/plain": [
              "3.110634800000014"
            ]
          },
          "metadata": {},
          "execution_count": 20
        }
      ]
    },
    {
      "cell_type": "code",
      "execution_count": 21,
      "id": "88dcdee9",
      "metadata": {
        "pycharm": {
          "name": "#%%\n"
        },
        "colab": {
          "base_uri": "https://localhost:8080/"
        },
        "id": "88dcdee9",
        "outputId": "dac06986-f6e5-449c-a3c5-5b92d8f834e9"
      },
      "outputs": [
        {
          "output_type": "execute_result",
          "data": {
            "text/plain": [
              "taxi_id\n",
              "0008de7a146802839c9e6059f482d292ebdae13c5c31dd6e5983a80882e2a5dbcd6ea098c2fcd56f34ce02645eb94c6b39512e9304837746d4e289b6236c2c5b    3372\n",
              "001330b81e23412049f9c3eff5b6e972a91afe59c9aa36ef29747881b4bf803adfd02b1a71cca5cb8c2214275330aa4520df34d7848100414acb4b4cad642e62    3072\n",
              "0013da5489fe976daf4f4a7d246073ecf2caed9b12b3be70eff37b63ef9ca4102c972145ddd8537811752d51b222b4618dfbae451b966d7a3ad9afa4ec878a6e    4093\n",
              "0041f8f0c91881c1e1913f2548522495fe3c4c719aa67fd2483ebbcc22e0aa1bfff2cddb32c35cde3ad9766b0e8d44c04ff5dfdcf1035462ba81a13e3ba6b8f9    3431\n",
              "0044e6c0d091476299b99345501f756b23632a96cbaf40e872fbf14f976410d3f938aacc643ed608b2aa42809222d4458e1aab5e0848e9b952f35616785c3a36    2104\n",
              "                                                                                                                                    ... \n",
              "ffd70d111c7da2e5eff27ad900c8eb94d74fe286bb7aa58029ee2baac3f3b310dea5da2a6a77a366b7b6d4b104b91ef75e7959ac6b1f558be7844417cbe3e12f     603\n",
              "ffda53354c610fd3af1aee46d723028a49014e35f7280ca3d812716eb3cf1f0a763556368e4139b7183ee1fb36e26104de62bb86601f2fa16e3d96167e25b84e    1236\n",
              "ffe8d8153b8f68cd20871ae5710f9b799bcc517b40ece7cf561407a6cd161f52430890c0ef8402a9152eb6bd24651716504c08a69f3b8c8b7a79a08fae65fc4c      46\n",
              "fff3279af11dfade5e308184a5cc6c1ca2d33764634d962e589f6af2bf844c2dc8e6d8fcf1bf47f4364671bea6c8a8cb8b9990cb9f6dc608079e96aa1fec24e7     914\n",
              "fff84aa08ac78890c6e7da64b817cbd9aad6a124104e099a7482efee1a6bac61a837e1db218e9d38c159f28c8f85187a08a05c8ba54648edc3b91e437357fa84     202\n",
              "Name: trip_id, Length: 5280, dtype: int64"
            ]
          },
          "metadata": {},
          "execution_count": 21
        }
      ],
      "source": [
        "# Query 1: Number of trips grouped by taxi - Using Pandas\n",
        "timer.start()\n",
        "taxi_trips_pdf.groupby('taxi_id').count()['trip_id']\n"
      ]
    },
    {
      "cell_type": "code",
      "source": [
        "timer.stop()"
      ],
      "metadata": {
        "id": "oMFxKORLUBfC",
        "outputId": "82340de5-4cb0-487a-f3d4-2187ed1f5224",
        "colab": {
          "base_uri": "https://localhost:8080/"
        }
      },
      "id": "oMFxKORLUBfC",
      "execution_count": 22,
      "outputs": [
        {
          "output_type": "stream",
          "name": "stdout",
          "text": [
            "Elapsed time: 14.2906 seconds\n"
          ]
        },
        {
          "output_type": "execute_result",
          "data": {
            "text/plain": [
              "14.290632199999948"
            ]
          },
          "metadata": {},
          "execution_count": 22
        }
      ]
    },
    {
      "cell_type": "code",
      "execution_count": 23,
      "id": "fc3418f2",
      "metadata": {
        "pycharm": {
          "name": "#%%\n"
        },
        "colab": {
          "base_uri": "https://localhost:8080/"
        },
        "id": "fc3418f2",
        "outputId": "332e00db-0320-43e8-ca19-5f50b545ca8f"
      },
      "outputs": [
        {
          "output_type": "execute_result",
          "data": {
            "text/plain": [
              "taxi_id\n",
              "0008de7a146802839c9e6059f482d292ebdae13c5c31dd6e5983a80882e2a5dbcd6ea098c2fcd56f34ce02645eb94c6b39512e9304837746d4e289b6236c2c5b    3372\n",
              "001330b81e23412049f9c3eff5b6e972a91afe59c9aa36ef29747881b4bf803adfd02b1a71cca5cb8c2214275330aa4520df34d7848100414acb4b4cad642e62    3072\n",
              "0013da5489fe976daf4f4a7d246073ecf2caed9b12b3be70eff37b63ef9ca4102c972145ddd8537811752d51b222b4618dfbae451b966d7a3ad9afa4ec878a6e    4093\n",
              "0041f8f0c91881c1e1913f2548522495fe3c4c719aa67fd2483ebbcc22e0aa1bfff2cddb32c35cde3ad9766b0e8d44c04ff5dfdcf1035462ba81a13e3ba6b8f9    3431\n",
              "0044e6c0d091476299b99345501f756b23632a96cbaf40e872fbf14f976410d3f938aacc643ed608b2aa42809222d4458e1aab5e0848e9b952f35616785c3a36    2104\n",
              "                                                                                                                                    ... \n",
              "ffd70d111c7da2e5eff27ad900c8eb94d74fe286bb7aa58029ee2baac3f3b310dea5da2a6a77a366b7b6d4b104b91ef75e7959ac6b1f558be7844417cbe3e12f     603\n",
              "ffda53354c610fd3af1aee46d723028a49014e35f7280ca3d812716eb3cf1f0a763556368e4139b7183ee1fb36e26104de62bb86601f2fa16e3d96167e25b84e    1236\n",
              "ffe8d8153b8f68cd20871ae5710f9b799bcc517b40ece7cf561407a6cd161f52430890c0ef8402a9152eb6bd24651716504c08a69f3b8c8b7a79a08fae65fc4c      46\n",
              "fff3279af11dfade5e308184a5cc6c1ca2d33764634d962e589f6af2bf844c2dc8e6d8fcf1bf47f4364671bea6c8a8cb8b9990cb9f6dc608079e96aa1fec24e7     914\n",
              "fff84aa08ac78890c6e7da64b817cbd9aad6a124104e099a7482efee1a6bac61a837e1db218e9d38c159f28c8f85187a08a05c8ba54648edc3b91e437357fa84     202\n",
              "Name: trip_id, Length: 5280, dtype: int64"
            ]
          },
          "metadata": {},
          "execution_count": 23
        }
      ],
      "source": [
        "# Query 1: Number of trips grouped by taxi - Using Terality\n",
        "timer.start()\n",
        "taxi_trips_pdf.groupby('taxi_id').count()['trip_id']\n",
        "\n"
      ]
    },
    {
      "cell_type": "code",
      "source": [
        "timer.stop()"
      ],
      "metadata": {
        "id": "CgWQYn-vUQxJ",
        "outputId": "5cbf9ffa-fca1-4a25-d6d9-4ac1d17e55d7",
        "colab": {
          "base_uri": "https://localhost:8080/"
        }
      },
      "id": "CgWQYn-vUQxJ",
      "execution_count": 24,
      "outputs": [
        {
          "output_type": "stream",
          "name": "stdout",
          "text": [
            "Elapsed time: 12.3695 seconds\n"
          ]
        },
        {
          "output_type": "execute_result",
          "data": {
            "text/plain": [
              "12.369518699999958"
            ]
          },
          "metadata": {},
          "execution_count": 24
        }
      ]
    },
    {
      "cell_type": "markdown",
      "source": [
        ""
      ],
      "metadata": {
        "collapsed": false,
        "id": "_9w6gg5FzRVf"
      },
      "id": "_9w6gg5FzRVf"
    },
    {
      "cell_type": "code",
      "execution_count": 40,
      "outputs": [
        {
          "output_type": "execute_result",
          "data": {
            "text/plain": [
              "taxi_id                                                                                                                           trip_start_ym\n",
              "0008de7a146802839c9e6059f482d292ebdae13c5c31dd6e5983a80882e2a5dbcd6ea098c2fcd56f34ce02645eb94c6b39512e9304837746d4e289b6236c2c5b  2019-01          230\n",
              "                                                                                                                                  2019-02          248\n",
              "                                                                                                                                  2019-03          212\n",
              "                                                                                                                                  2019-04          202\n",
              "                                                                                                                                  2019-05          270\n",
              "                                                                                                                                                  ... \n",
              "fff84aa08ac78890c6e7da64b817cbd9aad6a124104e099a7482efee1a6bac61a837e1db218e9d38c159f28c8f85187a08a05c8ba54648edc3b91e437357fa84  2020-08            8\n",
              "                                                                                                                                  2020-09           59\n",
              "                                                                                                                                  2020-10           52\n",
              "                                                                                                                                  2020-11           21\n",
              "                                                                                                                                  2020-12           18\n",
              "Name: trip_id, Length: 67069, dtype: int64"
            ]
          },
          "metadata": {},
          "execution_count": 40
        }
      ],
      "source": [
        "# Query 2: Number of trips grouped by taxi and year/month - Using Pandas\n",
        "timer.start()\n",
        "taxi_trips_pdf.groupby(['taxi_id', 'trip_start_ym']).count()['trip_id']"
      ],
      "metadata": {
        "pycharm": {
          "name": "#%%\n"
        },
        "id": "RXT0aueNzRVg",
        "outputId": "660c406a-50cb-437b-e8c2-785cf4289e7d",
        "colab": {
          "base_uri": "https://localhost:8080/"
        }
      },
      "id": "RXT0aueNzRVg"
    },
    {
      "cell_type": "code",
      "execution_count": 47,
      "outputs": [
        {
          "output_type": "stream",
          "name": "stdout",
          "text": [
            "Elapsed time: 25.7059 seconds\n"
          ]
        },
        {
          "output_type": "execute_result",
          "data": {
            "text/plain": [
              "25.7058820000002"
            ]
          },
          "metadata": {},
          "execution_count": 47
        }
      ],
      "source": [
        "timer.stop()"
      ],
      "metadata": {
        "pycharm": {
          "name": "#%%\n"
        },
        "id": "HK89Q6CLzRVg",
        "outputId": "2094a4ac-228d-42da-cbac-3a4fc1319b73",
        "colab": {
          "base_uri": "https://localhost:8080/"
        }
      },
      "id": "HK89Q6CLzRVg"
    },
    {
      "cell_type": "code",
      "source": [
        "# Query 2: Number of trips grouped by taxi and year/month - Using Terality\n",
        "timer.start()\n",
        "taxi_trips_tdf.groupby(['taxi_id', 'trip_start_ym']).count()['trip_id']"
      ],
      "metadata": {
        "id": "2Abw4afRtccc",
        "outputId": "efa5fb00-ba18-4398-962f-fc83614744b9",
        "colab": {
          "base_uri": "https://localhost:8080/"
        }
      },
      "id": "2Abw4afRtccc",
      "execution_count": 43,
      "outputs": [
        {
          "output_type": "execute_result",
          "data": {
            "text/plain": [
              "taxi_id                                                                                                                           trip_start_ym\n",
              "0008de7a146802839c9e6059f482d292ebdae13c5c31dd6e5983a80882e2a5dbcd6ea098c2fcd56f34ce02645eb94c6b39512e9304837746d4e289b6236c2c5b  2019-01          230\n",
              "                                                                                                                                  2019-02          248\n",
              "                                                                                                                                  2019-03          212\n",
              "                                                                                                                                  2019-04          202\n",
              "                                                                                                                                  2019-05          270\n",
              "                                                                                                                                                  ... \n",
              "fff84aa08ac78890c6e7da64b817cbd9aad6a124104e099a7482efee1a6bac61a837e1db218e9d38c159f28c8f85187a08a05c8ba54648edc3b91e437357fa84  2020-08            8\n",
              "                                                                                                                                  2020-09           59\n",
              "                                                                                                                                  2020-10           52\n",
              "                                                                                                                                  2020-11           21\n",
              "                                                                                                                                  2020-12           18\n",
              "Name: trip_id, Length: 67069, dtype: int64"
            ]
          },
          "metadata": {},
          "execution_count": 43
        }
      ]
    },
    {
      "cell_type": "code",
      "source": [
        "timer.stop()"
      ],
      "metadata": {
        "id": "GGri5U4xth25",
        "outputId": "60de3eef-0e7a-4a59-bab3-7aa1ae72b9c0",
        "colab": {
          "base_uri": "https://localhost:8080/"
        }
      },
      "id": "GGri5U4xth25",
      "execution_count": 59,
      "outputs": [
        {
          "output_type": "stream",
          "name": "stdout",
          "text": [
            "Elapsed time: 9.9748 seconds\n"
          ]
        },
        {
          "output_type": "execute_result",
          "data": {
            "text/plain": [
              "9.974799299999177"
            ]
          },
          "metadata": {},
          "execution_count": 59
        }
      ]
    },
    {
      "cell_type": "code",
      "execution_count": 61,
      "id": "c87ece3d",
      "metadata": {
        "id": "c87ece3d",
        "outputId": "77939bbf-5c5a-4e9c-8f6a-67e9636735c2",
        "colab": {
          "base_uri": "https://localhost:8080/"
        }
      },
      "outputs": [
        {
          "output_type": "execute_result",
          "data": {
            "text/plain": [
              "company\n",
              "Taxi Affiliation Services            2769009\n",
              "Chicago Carriage Cab Corp            1506931\n",
              "Flash Cab                            1220891\n",
              "Sun Taxi                             1046724\n",
              "Medallion Leasin                      932280\n",
              "City Service                          906870\n",
              "Star North Management LLC             742670\n",
              "Blue Ribbon Taxi Association Inc.     581908\n",
              "Choice Taxi Association               400096\n",
              "Taxicab Insurance Agency, LLC         340868\n",
              "Name: trip_id, dtype: int64"
            ]
          },
          "metadata": {},
          "execution_count": 61
        }
      ],
      "source": [
        "# Query 3: Number of trips by Taxi Company - using Pandas\n",
        "timer.start()\n",
        "taxi_trips_pdf.groupby('company').count()['trip_id'].sort_values(ascending=False).head(10)\n"
      ]
    },
    {
      "cell_type": "code",
      "source": [
        "timer.stop()"
      ],
      "metadata": {
        "id": "k956MAzcwu2y",
        "outputId": "95786d03-e322-42eb-8b62-cafea5426398",
        "colab": {
          "base_uri": "https://localhost:8080/"
        }
      },
      "id": "k956MAzcwu2y",
      "execution_count": 62,
      "outputs": [
        {
          "output_type": "stream",
          "name": "stdout",
          "text": [
            "Elapsed time: 7.1848 seconds\n"
          ]
        },
        {
          "output_type": "execute_result",
          "data": {
            "text/plain": [
              "7.184787299999698"
            ]
          },
          "metadata": {},
          "execution_count": 62
        }
      ]
    },
    {
      "cell_type": "code",
      "execution_count": null,
      "id": "51d5103a",
      "metadata": {
        "id": "51d5103a"
      },
      "outputs": [],
      "source": [
        "# Query 3: Number of trips by Taxi Company - using Terality\n",
        "timer.start()\n",
        "taxi_trips_tdf.groupby('company').count()['trip_id'].sort_values(ascending=False).head(10)\n"
      ]
    },
    {
      "cell_type": "code",
      "source": [
        "timer.stop()"
      ],
      "metadata": {
        "id": "stMlsqLyI4qb"
      },
      "id": "stMlsqLyI4qb",
      "execution_count": null,
      "outputs": []
    },
    {
      "cell_type": "code",
      "source": [
        "# Query 4: Sort by Taxi Company - using Pandas\n",
        "timer.start()\n",
        "taxi_trips_pdf.sort_values(by=\"company\")\n",
        "timer.stop()"
      ],
      "metadata": {
        "id": "xxCUE6fgI7ga"
      },
      "id": "xxCUE6fgI7ga",
      "execution_count": null,
      "outputs": []
    },
    {
      "cell_type": "code",
      "source": [
        "# Query 4: Sort by Taxi Company - using Terality\n",
        "timer.start()\n",
        "taxi_trips_tdf.sort_values(by=\"company\")\n",
        "timer.stop()"
      ],
      "metadata": {
        "id": "4Bpf2neyJDVT"
      },
      "id": "4Bpf2neyJDVT",
      "execution_count": null,
      "outputs": []
    },
    {
      "cell_type": "code",
      "source": [
        "# Query 5: Slicing using random numbers for start and end - using Pandas\n",
        "start = random.randint(1, taxi_trips_pdf.shape[0])\n",
        "print(start)"
      ],
      "metadata": {
        "id": "_MVI8zALJFYs",
        "outputId": "d6d41e5c-c425-47d4-d222-d90be4ba6444",
        "colab": {
          "base_uri": "https://localhost:8080/"
        }
      },
      "id": "_MVI8zALJFYs",
      "execution_count": 64,
      "outputs": [
        {
          "output_type": "stream",
          "name": "stdout",
          "text": [
            "7397\n"
          ]
        }
      ]
    },
    {
      "cell_type": "code",
      "source": [
        "# Query 5: Slicing using random numbers for start and end - using Terality"
      ],
      "metadata": {
        "id": "08xojzDMJN-U"
      },
      "id": "08xojzDMJN-U",
      "execution_count": null,
      "outputs": []
    },
    {
      "cell_type": "code",
      "source": [
        "# Query 6: Selecting a single row from an unindexed dataframe - using Pandas"
      ],
      "metadata": {
        "id": "L0g39ImPJPvy"
      },
      "id": "L0g39ImPJPvy",
      "execution_count": null,
      "outputs": []
    },
    {
      "cell_type": "code",
      "source": [
        "# Query 6: Selecting a single row from an unindexed dataframe - using Pandas"
      ],
      "metadata": {
        "id": "KwI3MZD-JXX5"
      },
      "id": "KwI3MZD-JXX5",
      "execution_count": null,
      "outputs": []
    },
    {
      "cell_type": "code",
      "source": [
        "# Query 7: Range queries using isin() - Using Pandas"
      ],
      "metadata": {
        "id": "ZF3yyjO9JYK3"
      },
      "id": "ZF3yyjO9JYK3",
      "execution_count": null,
      "outputs": []
    },
    {
      "cell_type": "code",
      "source": [
        "# Query 7: Range queries using isin() - Using Terality"
      ],
      "metadata": {
        "id": "TFpjjSWrJek1"
      },
      "id": "TFpjjSWrJek1",
      "execution_count": null,
      "outputs": []
    },
    {
      "cell_type": "code",
      "source": [
        ""
      ],
      "metadata": {
        "id": "Az-RzAaHJf8L"
      },
      "id": "Az-RzAaHJf8L",
      "execution_count": null,
      "outputs": []
    }
  ],
  "metadata": {
    "kernelspec": {
      "display_name": "Python 3 (ipykernel)",
      "language": "python",
      "name": "python3"
    },
    "language_info": {
      "codemirror_mode": {
        "name": "ipython",
        "version": 3
      },
      "file_extension": ".py",
      "mimetype": "text/x-python",
      "name": "python",
      "nbconvert_exporter": "python",
      "pygments_lexer": "ipython3",
      "version": "3.9.7"
    },
    "colab": {
      "name": "pandas_vs_terality.ipynb",
      "provenance": [],
      "include_colab_link": true
    }
  },
  "nbformat": 4,
  "nbformat_minor": 5
}