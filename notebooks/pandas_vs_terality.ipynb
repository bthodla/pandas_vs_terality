{
  "cells": [
    {
      "cell_type": "code",
      "execution_count": 204,
      "id": "1b77b18c",
      "metadata": {
        "id": "1b77b18c"
      },
      "outputs": [],
      "source": [
        "import pandas as pd\n",
        "import terality as te\n",
        "# from codetiming import Timer\n",
        "import random\n",
        "from datetime import datetime\n"
      ]
    },
    {
      "cell_type": "code",
      "execution_count": 205,
      "id": "d645ab8c",
      "metadata": {
        "pycharm": {
          "name": "#%%\n"
        },
        "id": "d645ab8c"
      },
      "outputs": [],
      "source": [
        "file_path = \"C:\\\\\\\\Users\\\\\\\\bhask\\\\\\\\Google Drive\\\\\\\\datasets\\\\\\\\Chicago_taxi_trips\\\\\\\\\"\n",
        "timer = Timer(name=\"Terality Tests\")"
      ]
    },
    {
      "cell_type": "code",
      "execution_count": 206,
      "outputs": [],
      "source": [
        "# Disabling Terality cache for testing\n",
        "# cache_disabler = te.disable_cache()\n",
        "# cache_disabler.__enter__()"
      ],
      "metadata": {
        "pycharm": {
          "name": "#%%\n"
        },
        "id": "3Bq5hN5jzRVV"
      },
      "id": "3Bq5hN5jzRVV"
    },
    {
      "cell_type": "code",
      "source": [
        "def get_slice_range(limit):\n",
        "    start = random.randint(1, limit)\n",
        "    end = random.randint(start, start + 1000)\n",
        "    return start, end"
      ],
      "metadata": {
        "id": "vhIvTt-ZfNxp"
      },
      "id": "vhIvTt-ZfNxp",
      "execution_count": 207,
      "outputs": []
    },
    {
      "cell_type": "code",
      "source": [
        "def get_time():\n",
        "    return datetime.now()"
      ],
      "metadata": {
        "id": "yxUwTTtlPzB6"
      },
      "id": "yxUwTTtlPzB6",
      "execution_count": 208,
      "outputs": []
    },
    {
      "cell_type": "code",
      "source": [
        "def get_time_diff(start_time, end_time):\n",
        "    return (end_time - start_time).total_seconds()"
      ],
      "metadata": {
        "id": "GsoeI7omP2CH"
      },
      "id": "GsoeI7omP2CH",
      "execution_count": 209,
      "outputs": []
    },
    {
      "cell_type": "code",
      "execution_count": 210,
      "outputs": [],
      "source": [
        "# A list of dataframe columns renamed by converting to lowercase and replacing spaces with '_'\n",
        "columns = [\n",
        "'trip_id',\n",
        "'taxi_id',\n",
        "'trip_start_timestamp',\n",
        "'trip_end_timestamp',\n",
        "'trip_seconds',\n",
        "'trip_miles',\n",
        "'pickup_census_tract',\n",
        "'dropoff_census_tract',\n",
        "'pickup_community_area',\n",
        "'dropoff_community_area',\n",
        "'fare',\n",
        "'tips',\n",
        "'tolls',\n",
        "'extras',\n",
        "'trip_total',\n",
        "'payment_type',\n",
        "'company',\n",
        "'pickup_centroid_latitude',\n",
        "'pickup_centroid_longitude',\n",
        "'pickup_centroid_location',\n",
        "'dropoff_centroid_latitude',\n",
        "'dropoff_centroid_longitude',\n",
        "'dropoff_centroid__location'\n",
        "]"
      ],
      "metadata": {
        "pycharm": {
          "name": "#%%\n"
        },
        "id": "aty6tzzvxjgk"
      },
      "id": "aty6tzzvxjgk"
    },
    {
      "cell_type": "code",
      "execution_count": 211,
      "outputs": [
        {
          "output_type": "stream",
          "name": "stdout",
          "text": [
            "355.504711\n"
          ]
        }
      ],
      "source": [
        "# Loading data into dataframes using Pandas\n",
        "start_time = get_time()\n",
        "taxi_trips_pdf = pd.read_csv(file_path + \"Taxi_Trips_2019_2020.csv\")\n",
        "print(get_time_diff(start_time, get_time()))"
      ],
      "metadata": {
        "pycharm": {
          "name": "#%%\n"
        },
        "colab": {
          "base_uri": "https://localhost:8080/"
        },
        "id": "5ZPyht2ozRVW",
        "outputId": "3ef2b080-4831-430a-f4a0-a433365f1725"
      },
      "id": "5ZPyht2ozRVW"
    },
    {
      "cell_type": "code",
      "execution_count": 156,
      "outputs": [
        {
          "output_type": "stream",
          "name": "stderr",
          "text": [
            "WARNING:urllib3.connectionpool:Retrying (Retry(total=2, connect=None, read=None, redirect=40, status=None)) after connection broken by 'ProtocolError('Connection aborted.', ConnectionResetError(10054, 'An existing connection was forcibly closed by the remote host', None, 10054, None))': /v1/transfers\n",
            "C:\\\\Users\\\\bhask\\\\Google Drive\\\\datasets\\\\Chicago_taxi_trips\\\\Taxi_Trips_2019_2020.csv: 100%|█| 8.48G/8.48G [26:14<00:0\n",
            "WARNING:urllib3.connectionpool:Retrying (Retry(total=2, connect=None, read=None, redirect=40, status=None)) after connection broken by 'ProtocolError('Connection aborted.', ConnectionResetError(10054, 'An existing connection was forcibly closed by the remote host', None, 10054, None))': /v1/compute\n"
          ]
        },
        {
          "output_type": "stream",
          "name": "stdout",
          "text": [
            "Elapsed time: 1664.1247 seconds\n"
          ]
        },
        {
          "output_type": "execute_result",
          "data": {
            "text/plain": [
              "1664.1247297000082"
            ]
          },
          "metadata": {},
          "execution_count": 156
        }
      ],
      "source": [
        "# Loading data into dataframes using Terality\n",
        "start_time = get_time()\n",
        "taxi_trips_tdf = te.read_csv(file_path + \"Taxi_Trips_2019_2020.csv\")\n",
        "print(get_time_diff(start_time, get_time()))"
      ],
      "metadata": {
        "pycharm": {
          "name": "#%%\n"
        },
        "colab": {
          "base_uri": "https://localhost:8080/"
        },
        "id": "ZKX4PZVRzRVY",
        "outputId": "2094369c-f50e-44c3-ffc6-85c1d27c205e"
      },
      "id": "ZKX4PZVRzRVY"
    },
    {
      "cell_type": "code",
      "execution_count": 157,
      "outputs": [
        {
          "output_type": "stream",
          "name": "stdout",
          "text": [
            "Elapsed time: 0.0256 seconds\n"
          ]
        },
        {
          "output_type": "execute_result",
          "data": {
            "text/plain": [
              "0.025595099999918602"
            ]
          },
          "metadata": {},
          "execution_count": 157
        }
      ],
      "source": [
        "start_time = get_time()\n",
        "taxi_trips_pdf.head()\n",
        "print(get_time_diff(start_time, get_time()))"
      ],
      "metadata": {
        "pycharm": {
          "name": "#%%\n"
        },
        "colab": {
          "base_uri": "https://localhost:8080/"
        },
        "id": "zCbVBCJRzRVY",
        "outputId": "f0ef16d5-6d32-41cc-d77f-9831fc7c22dd"
      },
      "id": "zCbVBCJRzRVY"
    },
    {
      "cell_type": "code",
      "execution_count": 158,
      "outputs": [
        {
          "output_type": "stream",
          "name": "stdout",
          "text": [
            "Elapsed time: 4.2939 seconds\n"
          ]
        },
        {
          "output_type": "execute_result",
          "data": {
            "text/plain": [
              "4.293879599994398"
            ]
          },
          "metadata": {},
          "execution_count": 158
        }
      ],
      "source": [
        "start_time = get_time()\n",
        "taxi_trips_tdf.head()\n",
        "print(get_time_diff(start_time, get_time()))"
      ],
      "metadata": {
        "pycharm": {
          "name": "#%%\n"
        },
        "colab": {
          "base_uri": "https://localhost:8080/"
        },
        "id": "3nv2ZkzLzRVZ",
        "outputId": "ca84bd8c-9e67-4393-a999-6c01c7e8a0c0"
      },
      "id": "3nv2ZkzLzRVZ"
    },
    {
      "cell_type": "code",
      "execution_count": 159,
      "outputs": [
        {
          "output_type": "stream",
          "name": "stdout",
          "text": [
            "Elapsed time: 0.0326 seconds\n"
          ]
        },
        {
          "output_type": "execute_result",
          "data": {
            "text/plain": [
              "0.03256360000523273"
            ]
          },
          "metadata": {},
          "execution_count": 159
        }
      ],
      "source": [
        "# Rename the columns of the Pandas dataframe\n",
        "start_time = get_time()\n",
        "taxi_trips_pdf.columns = columns\n",
        "print(get_time_diff(start_time, get_time()))"
      ],
      "metadata": {
        "pycharm": {
          "name": "#%%\n"
        },
        "colab": {
          "base_uri": "https://localhost:8080/"
        },
        "id": "rZZFRDruzRVa",
        "outputId": "582bea8a-a782-4db1-b8de-ab224ab2ec1c"
      },
      "id": "rZZFRDruzRVa"
    },
    {
      "cell_type": "code",
      "execution_count": 160,
      "outputs": [
        {
          "output_type": "stream",
          "name": "stdout",
          "text": [
            "Elapsed time: 2.7427 seconds\n"
          ]
        },
        {
          "output_type": "execute_result",
          "data": {
            "text/plain": [
              "2.7426604999927804"
            ]
          },
          "metadata": {},
          "execution_count": 160
        }
      ],
      "source": [
        "# Rename the columns of the Terality dataframe\n",
        "start_time = get_time()\n",
        "taxi_trips_tdf.columns = columns\n",
        "print(get_time_diff(start_time, get_time()))"
      ],
      "metadata": {
        "pycharm": {
          "name": "#%%\n"
        },
        "colab": {
          "base_uri": "https://localhost:8080/"
        },
        "id": "denCFO8hzRVa",
        "outputId": "2388ebd8-9464-401d-f260-f5ad0c4dd5ee"
      },
      "id": "denCFO8hzRVa"
    },
    {
      "cell_type": "code",
      "execution_count": 161,
      "outputs": [
        {
          "output_type": "stream",
          "name": "stdout",
          "text": [
            "Pandas DF Row Count before:  20366397\n",
            "Elapsed time: 0.0056 seconds\n"
          ]
        },
        {
          "output_type": "execute_result",
          "data": {
            "text/plain": [
              "0.005633799999486655"
            ]
          },
          "metadata": {},
          "execution_count": 161
        }
      ],
      "source": [
        "# Row count before cleanup - using Pandas\n",
        "start_time = get_time()\n",
        "print(\"Pandas DF Row Count before: % d\" % taxi_trips_pdf.shape[0])\n",
        "print(get_time_diff(start_time, get_time()))"
      ],
      "metadata": {
        "pycharm": {
          "name": "#%%\n"
        },
        "colab": {
          "base_uri": "https://localhost:8080/"
        },
        "id": "nwG21e1XzRVb",
        "outputId": "bdb11587-b0b0-4e81-cd8c-cabe581bf2fb"
      },
      "id": "nwG21e1XzRVb"
    },
    {
      "cell_type": "code",
      "execution_count": 162,
      "outputs": [
        {
          "output_type": "stream",
          "name": "stdout",
          "text": [
            "Elapsed time: 55.0317 seconds\n"
          ]
        },
        {
          "output_type": "execute_result",
          "data": {
            "text/plain": [
              "55.03170560000581"
            ]
          },
          "metadata": {},
          "execution_count": 162
        }
      ],
      "source": [
        "# Remove all the rows with NaN values using Pandas. There is plenty of data even otherwise\n",
        "start_time = get_time()\n",
        "taxi_trips_pdf.dropna(how='any',axis=0,inplace=True)\n",
        "print(get_time_diff(start_time, get_time()))"
      ],
      "metadata": {
        "pycharm": {
          "name": "#%%\n"
        },
        "colab": {
          "base_uri": "https://localhost:8080/"
        },
        "id": "-4ag50jDzRVb",
        "outputId": "00c802ca-697e-46b3-8993-6e7df7df2cc3"
      },
      "id": "-4ag50jDzRVb"
    },
    {
      "cell_type": "code",
      "execution_count": 163,
      "outputs": [
        {
          "output_type": "stream",
          "name": "stdout",
          "text": [
            "Pandas DF Row Count after:  12199631\n",
            "Elapsed time: 0.0024 seconds\n"
          ]
        },
        {
          "output_type": "execute_result",
          "data": {
            "text/plain": [
              "0.0023604000016348436"
            ]
          },
          "metadata": {},
          "execution_count": 163
        }
      ],
      "source": [
        "# Row count after cleanup - using Pandas\n",
        "start_time = get_time()\n",
        "row_count = taxi_trips_pdf.shape[0]\n",
        "print(\"Pandas DF Row Count after: % d\" % row_count)\n",
        "print(get_time_diff(start_time, get_time()))"
      ],
      "metadata": {
        "pycharm": {
          "name": "#%%\n"
        },
        "colab": {
          "base_uri": "https://localhost:8080/"
        },
        "id": "BcEuxTMGzRVb",
        "outputId": "b9759fa5-edbe-40b6-a605-fa5ca3147fcc"
      },
      "id": "BcEuxTMGzRVb"
    },
    {
      "cell_type": "code",
      "execution_count": 164,
      "outputs": [
        {
          "output_type": "stream",
          "name": "stdout",
          "text": [
            "Terality DF Row Count after:  20366397\n",
            "Elapsed time: 1.5089 seconds\n"
          ]
        },
        {
          "output_type": "execute_result",
          "data": {
            "text/plain": [
              "1.5089397999981884"
            ]
          },
          "metadata": {},
          "execution_count": 164
        }
      ],
      "source": [
        "# Row count before cleanup - using Terality\n",
        "start_time = get_time()\n",
        "print(\"Terality DF Row Count after: % d\" % taxi_trips_tdf.shape[0])\n",
        "print(get_time_diff(start_time, get_time()))"
      ],
      "metadata": {
        "pycharm": {
          "name": "#%%\n"
        },
        "colab": {
          "base_uri": "https://localhost:8080/"
        },
        "id": "Fo9LlA5hzRVc",
        "outputId": "1a60d374-f16f-4f26-8af4-e815f8d94ac0"
      },
      "id": "Fo9LlA5hzRVc"
    },
    {
      "cell_type": "code",
      "execution_count": 165,
      "outputs": [
        {
          "output_type": "stream",
          "name": "stdout",
          "text": [
            "Elapsed time: 12.4042 seconds\n"
          ]
        },
        {
          "output_type": "execute_result",
          "data": {
            "text/plain": [
              "12.404166700012865"
            ]
          },
          "metadata": {},
          "execution_count": 165
        }
      ],
      "source": [
        "# Remove all the rows with NaN values using Terality. There is plenty of data even otherwise\n",
        "start_time = get_time()\n",
        "taxi_trips_tdf.dropna(how='any',axis=0,inplace=True)\n",
        "print(get_time_diff(start_time, get_time()))"
      ],
      "metadata": {
        "pycharm": {
          "name": "#%%\n"
        },
        "colab": {
          "base_uri": "https://localhost:8080/"
        },
        "id": "0NshQeD_zRVc",
        "outputId": "a7e0e2b1-7ba9-46a1-d08e-536d015f6b37"
      },
      "id": "0NshQeD_zRVc"
    },
    {
      "cell_type": "code",
      "execution_count": 166,
      "outputs": [
        {
          "output_type": "stream",
          "name": "stdout",
          "text": [
            "Terality DF Row Count after:  12199631\n",
            "Elapsed time: 0.6453 seconds\n"
          ]
        },
        {
          "output_type": "execute_result",
          "data": {
            "text/plain": [
              "0.6452872000081697"
            ]
          },
          "metadata": {},
          "execution_count": 166
        }
      ],
      "source": [
        "# Row count after cleanup - using Terality\n",
        "start_time = get_time()\n",
        "print(\"Terality DF Row Count after: % d\" % taxi_trips_tdf.shape[0])\n",
        "print(get_time_diff(start_time, get_time()))"
      ],
      "metadata": {
        "pycharm": {
          "name": "#%%\n"
        },
        "colab": {
          "base_uri": "https://localhost:8080/"
        },
        "id": "ODvURk5kzRVd",
        "outputId": "986d5887-4d92-4bec-8318-eee9e4228daa"
      },
      "id": "ODvURk5kzRVd"
    },
    {
      "cell_type": "code",
      "source": [
        "# Adding a new column to store datetime version of string datetimes - Pandas\n",
        "start_time = get_time()\n",
        "taxi_trips_pdf['trip_start_dt'] = pd.to_datetime(taxi_trips_pdf['trip_start_timestamp'], infer_datetime_format=True)\n",
        "taxi_trips_pdf['trip_end_dt'] = pd.to_datetime(taxi_trips_pdf['trip_end_timestamp'], infer_datetime_format=True)\n",
        "taxi_trips_pdf['trip_start_ym'] = taxi_trips_pdf['trip_start_dt'].dt.to_period('M')\n",
        "taxi_trips_pdf['trip_end_ym'] = taxi_trips_pdf['trip_end_dt'].dt.to_period('M')\n",
        "print(get_time_diff(start_time, get_time()))"
      ],
      "metadata": {
        "colab": {
          "base_uri": "https://localhost:8080/"
        },
        "id": "P1Vo-EZnYQBK",
        "outputId": "62439968-9b9f-4de6-e222-e0a709d47f04"
      },
      "id": "P1Vo-EZnYQBK",
      "execution_count": 167,
      "outputs": [
        {
          "output_type": "stream",
          "name": "stdout",
          "text": [
            "Elapsed time: 15.0774 seconds\n"
          ]
        },
        {
          "output_type": "execute_result",
          "data": {
            "text/plain": [
              "15.077363200005493"
            ]
          },
          "metadata": {},
          "execution_count": 167
        }
      ]
    },
    {
      "cell_type": "code",
      "source": [
        "taxi_trips_pdf.head()"
      ],
      "metadata": {
        "colab": {
          "base_uri": "https://localhost:8080/",
          "height": 342
        },
        "id": "w8QCplTIbNa1",
        "outputId": "3d82361c-4d15-400c-83b1-f5d82cdcc77b"
      },
      "id": "w8QCplTIbNa1",
      "execution_count": 168,
      "outputs": [
        {
          "output_type": "execute_result",
          "data": {
            "text/plain": [
              "                                     trip_id  \\\n",
              "16  e066e483f0fc2a583895d24c9dec9864a6608052   \n",
              "19  5431595d222a3e00a9e4b3e93c928c306dc71be3   \n",
              "20  509e870adce2a514a4287e1a305fe4ddabc59836   \n",
              "22  31004535c12d4372c165e34386cde0521a0a72e8   \n",
              "23  da18ec450c1fed02fbbc675faa621f8ac50ab5dd   \n",
              "\n",
              "                                              taxi_id    trip_start_timestamp  \\\n",
              "16  4794c36af4c1852d90b5c8cf5f9f6cd38a8b9c1b68cf48...  01/01/2019 12:00:00 AM   \n",
              "19  86b0677bb9bcda0454863c70a616d1adc45129237848d1...  01/01/2019 12:00:00 AM   \n",
              "20  38f6145c9a2b848dc1baa16fd91087e606b12bcb8757a9...  01/01/2019 12:00:00 AM   \n",
              "22  ee8a2f86372e99ecf87d44e13a20ebda7db8ae69d5b444...  01/01/2019 12:00:00 AM   \n",
              "23  0013da5489fe976daf4f4a7d246073ecf2caed9b12b3be...  01/01/2019 12:00:00 AM   \n",
              "\n",
              "        trip_end_timestamp  trip_seconds  trip_miles  pickup_census_tract  \\\n",
              "16  01/01/2019 12:15:00 AM         600.0         0.0         1.703108e+10   \n",
              "19  01/01/2019 12:00:00 AM         120.0         0.3         1.703184e+10   \n",
              "20  01/01/2019 12:15:00 AM         360.0         0.8         1.703108e+10   \n",
              "22  01/01/2019 12:15:00 AM         360.0         1.0         1.703108e+10   \n",
              "23  01/01/2019 12:15:00 AM         420.0         0.8         1.703108e+10   \n",
              "\n",
              "    dropoff_census_tract  pickup_community_area  dropoff_community_area  ...  \\\n",
              "16          1.703184e+10                    8.0                    32.0  ...   \n",
              "19          1.703132e+10                   32.0                    32.0  ...   \n",
              "20          1.703108e+10                    8.0                     8.0  ...   \n",
              "22          1.703108e+10                    8.0                     8.0  ...   \n",
              "23          1.703108e+10                    8.0                     8.0  ...   \n",
              "\n",
              "    pickup_centroid_latitude  pickup_centroid_longitude  \\\n",
              "16                 41.891972                 -87.612945   \n",
              "19                 41.880994                 -87.632746   \n",
              "20                 41.898332                 -87.620763   \n",
              "22                 41.890922                 -87.618868   \n",
              "23                 41.898332                 -87.620763   \n",
              "\n",
              "                pickup_centroid_location  dropoff_centroid_latitude  \\\n",
              "16  POINT (-87.6129454143 41.8919715078)                  41.880994   \n",
              "19  POINT (-87.6327464887 41.8809944707)                  41.877406   \n",
              "20  POINT (-87.6207628651 41.8983317935)                  41.892508   \n",
              "22  POINT (-87.6188683546 41.8909220259)                  41.892042   \n",
              "23  POINT (-87.6207628651 41.8983317935)                  41.892508   \n",
              "\n",
              "    dropoff_centroid_longitude            dropoff_centroid__location  \\\n",
              "16                  -87.632746  POINT (-87.6327464887 41.8809944707)   \n",
              "19                  -87.621972  POINT (-87.6219716519 41.8774061234)   \n",
              "20                  -87.626215  POINT (-87.6262149064 41.8925077809)   \n",
              "22                  -87.631864  POINT (-87.6318639497 41.8920421365)   \n",
              "23                  -87.626215  POINT (-87.6262149064 41.8925077809)   \n",
              "\n",
              "   trip_start_dt         trip_end_dt  trip_start_ym trip_end_ym  \n",
              "16    2019-01-01 2019-01-01 00:15:00        2019-01     2019-01  \n",
              "19    2019-01-01 2019-01-01 00:00:00        2019-01     2019-01  \n",
              "20    2019-01-01 2019-01-01 00:15:00        2019-01     2019-01  \n",
              "22    2019-01-01 2019-01-01 00:15:00        2019-01     2019-01  \n",
              "23    2019-01-01 2019-01-01 00:15:00        2019-01     2019-01  \n",
              "\n",
              "[5 rows x 27 columns]"
            ],
            "text/html": [
              "<div>\n",
              "<style scoped>\n",
              "    .dataframe tbody tr th:only-of-type {\n",
              "        vertical-align: middle;\n",
              "    }\n",
              "\n",
              "    .dataframe tbody tr th {\n",
              "        vertical-align: top;\n",
              "    }\n",
              "\n",
              "    .dataframe thead th {\n",
              "        text-align: right;\n",
              "    }\n",
              "</style>\n",
              "<table border=\"1\" class=\"dataframe\">\n",
              "  <thead>\n",
              "    <tr style=\"text-align: right;\">\n",
              "      <th></th>\n",
              "      <th>trip_id</th>\n",
              "      <th>taxi_id</th>\n",
              "      <th>trip_start_timestamp</th>\n",
              "      <th>trip_end_timestamp</th>\n",
              "      <th>trip_seconds</th>\n",
              "      <th>trip_miles</th>\n",
              "      <th>pickup_census_tract</th>\n",
              "      <th>dropoff_census_tract</th>\n",
              "      <th>pickup_community_area</th>\n",
              "      <th>dropoff_community_area</th>\n",
              "      <th>...</th>\n",
              "      <th>pickup_centroid_latitude</th>\n",
              "      <th>pickup_centroid_longitude</th>\n",
              "      <th>pickup_centroid_location</th>\n",
              "      <th>dropoff_centroid_latitude</th>\n",
              "      <th>dropoff_centroid_longitude</th>\n",
              "      <th>dropoff_centroid__location</th>\n",
              "      <th>trip_start_dt</th>\n",
              "      <th>trip_end_dt</th>\n",
              "      <th>trip_start_ym</th>\n",
              "      <th>trip_end_ym</th>\n",
              "    </tr>\n",
              "  </thead>\n",
              "  <tbody>\n",
              "    <tr>\n",
              "      <th>16</th>\n",
              "      <td>e066e483f0fc2a583895d24c9dec9864a6608052</td>\n",
              "      <td>4794c36af4c1852d90b5c8cf5f9f6cd38a8b9c1b68cf48...</td>\n",
              "      <td>01/01/2019 12:00:00 AM</td>\n",
              "      <td>01/01/2019 12:15:00 AM</td>\n",
              "      <td>600.0</td>\n",
              "      <td>0.0</td>\n",
              "      <td>1.703108e+10</td>\n",
              "      <td>1.703184e+10</td>\n",
              "      <td>8.0</td>\n",
              "      <td>32.0</td>\n",
              "      <td>...</td>\n",
              "      <td>41.891972</td>\n",
              "      <td>-87.612945</td>\n",
              "      <td>POINT (-87.6129454143 41.8919715078)</td>\n",
              "      <td>41.880994</td>\n",
              "      <td>-87.632746</td>\n",
              "      <td>POINT (-87.6327464887 41.8809944707)</td>\n",
              "      <td>2019-01-01</td>\n",
              "      <td>2019-01-01 00:15:00</td>\n",
              "      <td>2019-01</td>\n",
              "      <td>2019-01</td>\n",
              "    </tr>\n",
              "    <tr>\n",
              "      <th>19</th>\n",
              "      <td>5431595d222a3e00a9e4b3e93c928c306dc71be3</td>\n",
              "      <td>86b0677bb9bcda0454863c70a616d1adc45129237848d1...</td>\n",
              "      <td>01/01/2019 12:00:00 AM</td>\n",
              "      <td>01/01/2019 12:00:00 AM</td>\n",
              "      <td>120.0</td>\n",
              "      <td>0.3</td>\n",
              "      <td>1.703184e+10</td>\n",
              "      <td>1.703132e+10</td>\n",
              "      <td>32.0</td>\n",
              "      <td>32.0</td>\n",
              "      <td>...</td>\n",
              "      <td>41.880994</td>\n",
              "      <td>-87.632746</td>\n",
              "      <td>POINT (-87.6327464887 41.8809944707)</td>\n",
              "      <td>41.877406</td>\n",
              "      <td>-87.621972</td>\n",
              "      <td>POINT (-87.6219716519 41.8774061234)</td>\n",
              "      <td>2019-01-01</td>\n",
              "      <td>2019-01-01 00:00:00</td>\n",
              "      <td>2019-01</td>\n",
              "      <td>2019-01</td>\n",
              "    </tr>\n",
              "    <tr>\n",
              "      <th>20</th>\n",
              "      <td>509e870adce2a514a4287e1a305fe4ddabc59836</td>\n",
              "      <td>38f6145c9a2b848dc1baa16fd91087e606b12bcb8757a9...</td>\n",
              "      <td>01/01/2019 12:00:00 AM</td>\n",
              "      <td>01/01/2019 12:15:00 AM</td>\n",
              "      <td>360.0</td>\n",
              "      <td>0.8</td>\n",
              "      <td>1.703108e+10</td>\n",
              "      <td>1.703108e+10</td>\n",
              "      <td>8.0</td>\n",
              "      <td>8.0</td>\n",
              "      <td>...</td>\n",
              "      <td>41.898332</td>\n",
              "      <td>-87.620763</td>\n",
              "      <td>POINT (-87.6207628651 41.8983317935)</td>\n",
              "      <td>41.892508</td>\n",
              "      <td>-87.626215</td>\n",
              "      <td>POINT (-87.6262149064 41.8925077809)</td>\n",
              "      <td>2019-01-01</td>\n",
              "      <td>2019-01-01 00:15:00</td>\n",
              "      <td>2019-01</td>\n",
              "      <td>2019-01</td>\n",
              "    </tr>\n",
              "    <tr>\n",
              "      <th>22</th>\n",
              "      <td>31004535c12d4372c165e34386cde0521a0a72e8</td>\n",
              "      <td>ee8a2f86372e99ecf87d44e13a20ebda7db8ae69d5b444...</td>\n",
              "      <td>01/01/2019 12:00:00 AM</td>\n",
              "      <td>01/01/2019 12:15:00 AM</td>\n",
              "      <td>360.0</td>\n",
              "      <td>1.0</td>\n",
              "      <td>1.703108e+10</td>\n",
              "      <td>1.703108e+10</td>\n",
              "      <td>8.0</td>\n",
              "      <td>8.0</td>\n",
              "      <td>...</td>\n",
              "      <td>41.890922</td>\n",
              "      <td>-87.618868</td>\n",
              "      <td>POINT (-87.6188683546 41.8909220259)</td>\n",
              "      <td>41.892042</td>\n",
              "      <td>-87.631864</td>\n",
              "      <td>POINT (-87.6318639497 41.8920421365)</td>\n",
              "      <td>2019-01-01</td>\n",
              "      <td>2019-01-01 00:15:00</td>\n",
              "      <td>2019-01</td>\n",
              "      <td>2019-01</td>\n",
              "    </tr>\n",
              "    <tr>\n",
              "      <th>23</th>\n",
              "      <td>da18ec450c1fed02fbbc675faa621f8ac50ab5dd</td>\n",
              "      <td>0013da5489fe976daf4f4a7d246073ecf2caed9b12b3be...</td>\n",
              "      <td>01/01/2019 12:00:00 AM</td>\n",
              "      <td>01/01/2019 12:15:00 AM</td>\n",
              "      <td>420.0</td>\n",
              "      <td>0.8</td>\n",
              "      <td>1.703108e+10</td>\n",
              "      <td>1.703108e+10</td>\n",
              "      <td>8.0</td>\n",
              "      <td>8.0</td>\n",
              "      <td>...</td>\n",
              "      <td>41.898332</td>\n",
              "      <td>-87.620763</td>\n",
              "      <td>POINT (-87.6207628651 41.8983317935)</td>\n",
              "      <td>41.892508</td>\n",
              "      <td>-87.626215</td>\n",
              "      <td>POINT (-87.6262149064 41.8925077809)</td>\n",
              "      <td>2019-01-01</td>\n",
              "      <td>2019-01-01 00:15:00</td>\n",
              "      <td>2019-01</td>\n",
              "      <td>2019-01</td>\n",
              "    </tr>\n",
              "  </tbody>\n",
              "</table>\n",
              "<p>5 rows × 27 columns</p>\n",
              "</div>"
            ]
          },
          "metadata": {},
          "execution_count": 168
        }
      ]
    },
    {
      "cell_type": "code",
      "source": [
        "# Adding a new column to store datetime version of string datetimes - Terality\n",
        "start_time = get_time()\n",
        "taxi_trips_tdf['trip_start_dt'] = te.to_datetime(taxi_trips_tdf['trip_start_timestamp'], infer_datetime_format=True)\n",
        "taxi_trips_tdf['trip_end_dt'] = te.to_datetime(taxi_trips_tdf['trip_end_timestamp'], infer_datetime_format=True)\n",
        "taxi_trips_tdf['trip_start_ym'] = taxi_trips_tdf['trip_start_dt'].dt.to_period('M')\n",
        "taxi_trips_tdf['trip_end_ym'] = taxi_trips_tdf['trip_end_dt'].dt.to_period('M')\n",
        "print(get_time_diff(start_time, get_time()))"
      ],
      "metadata": {
        "outputId": "aed84af9-ac84-49df-c61d-dff9a698bcb3",
        "colab": {
          "base_uri": "https://localhost:8080/"
        },
        "id": "fDlPRoH4bOym"
      },
      "execution_count": 169,
      "outputs": [
        {
          "output_type": "stream",
          "name": "stdout",
          "text": [
            "Elapsed time: 21.8540 seconds\n"
          ]
        },
        {
          "output_type": "execute_result",
          "data": {
            "text/plain": [
              "21.853961400003755"
            ]
          },
          "metadata": {},
          "execution_count": 169
        }
      ],
      "id": "fDlPRoH4bOym"
    },
    {
      "cell_type": "code",
      "execution_count": 170,
      "outputs": [
        {
          "output_type": "execute_result",
          "data": {
            "text/plain": [
              "                                     trip_id  \\\n",
              "16  e066e483f0fc2a583895d24c9dec9864a6608052   \n",
              "19  5431595d222a3e00a9e4b3e93c928c306dc71be3   \n",
              "20  509e870adce2a514a4287e1a305fe4ddabc59836   \n",
              "22  31004535c12d4372c165e34386cde0521a0a72e8   \n",
              "23  da18ec450c1fed02fbbc675faa621f8ac50ab5dd   \n",
              "\n",
              "                                              taxi_id    trip_start_timestamp  \\\n",
              "16  4794c36af4c1852d90b5c8cf5f9f6cd38a8b9c1b68cf48...  01/01/2019 12:00:00 AM   \n",
              "19  86b0677bb9bcda0454863c70a616d1adc45129237848d1...  01/01/2019 12:00:00 AM   \n",
              "20  38f6145c9a2b848dc1baa16fd91087e606b12bcb8757a9...  01/01/2019 12:00:00 AM   \n",
              "22  ee8a2f86372e99ecf87d44e13a20ebda7db8ae69d5b444...  01/01/2019 12:00:00 AM   \n",
              "23  0013da5489fe976daf4f4a7d246073ecf2caed9b12b3be...  01/01/2019 12:00:00 AM   \n",
              "\n",
              "        trip_end_timestamp  trip_seconds  trip_miles  pickup_census_tract  \\\n",
              "16  01/01/2019 12:15:00 AM         600.0         0.0         1.703108e+10   \n",
              "19  01/01/2019 12:00:00 AM         120.0         0.3         1.703184e+10   \n",
              "20  01/01/2019 12:15:00 AM         360.0         0.8         1.703108e+10   \n",
              "22  01/01/2019 12:15:00 AM         360.0         1.0         1.703108e+10   \n",
              "23  01/01/2019 12:15:00 AM         420.0         0.8         1.703108e+10   \n",
              "\n",
              "    dropoff_census_tract  pickup_community_area  dropoff_community_area  ...  \\\n",
              "16          1.703184e+10                    8.0                    32.0  ...   \n",
              "19          1.703132e+10                   32.0                    32.0  ...   \n",
              "20          1.703108e+10                    8.0                     8.0  ...   \n",
              "22          1.703108e+10                    8.0                     8.0  ...   \n",
              "23          1.703108e+10                    8.0                     8.0  ...   \n",
              "\n",
              "    pickup_centroid_latitude  pickup_centroid_longitude  \\\n",
              "16                 41.891972                 -87.612945   \n",
              "19                 41.880994                 -87.632746   \n",
              "20                 41.898332                 -87.620763   \n",
              "22                 41.890922                 -87.618868   \n",
              "23                 41.898332                 -87.620763   \n",
              "\n",
              "                pickup_centroid_location  dropoff_centroid_latitude  \\\n",
              "16  POINT (-87.6129454143 41.8919715078)                  41.880994   \n",
              "19  POINT (-87.6327464887 41.8809944707)                  41.877406   \n",
              "20  POINT (-87.6207628651 41.8983317935)                  41.892508   \n",
              "22  POINT (-87.6188683546 41.8909220259)                  41.892042   \n",
              "23  POINT (-87.6207628651 41.8983317935)                  41.892508   \n",
              "\n",
              "    dropoff_centroid_longitude            dropoff_centroid__location  \\\n",
              "16                  -87.632746  POINT (-87.6327464887 41.8809944707)   \n",
              "19                  -87.621972  POINT (-87.6219716519 41.8774061234)   \n",
              "20                  -87.626215  POINT (-87.6262149064 41.8925077809)   \n",
              "22                  -87.631864  POINT (-87.6318639497 41.8920421365)   \n",
              "23                  -87.626215  POINT (-87.6262149064 41.8925077809)   \n",
              "\n",
              "   trip_start_dt         trip_end_dt  trip_start_ym trip_end_ym  \n",
              "16    2019-01-01 2019-01-01 00:15:00        2019-01     2019-01  \n",
              "19    2019-01-01 2019-01-01 00:00:00        2019-01     2019-01  \n",
              "20    2019-01-01 2019-01-01 00:15:00        2019-01     2019-01  \n",
              "22    2019-01-01 2019-01-01 00:15:00        2019-01     2019-01  \n",
              "23    2019-01-01 2019-01-01 00:15:00        2019-01     2019-01  "
            ],
            "text/html": [
              "<div>\n",
              "<style scoped>\n",
              "    .dataframe tbody tr th:only-of-type {\n",
              "        vertical-align: middle;\n",
              "    }\n",
              "\n",
              "    .dataframe tbody tr th {\n",
              "        vertical-align: top;\n",
              "    }\n",
              "\n",
              "    .dataframe thead th {\n",
              "        text-align: right;\n",
              "    }\n",
              "</style>\n",
              "<table border=\"1\" class=\"dataframe\">\n",
              "  <thead>\n",
              "    <tr style=\"text-align: right;\">\n",
              "      <th></th>\n",
              "      <th>trip_id</th>\n",
              "      <th>taxi_id</th>\n",
              "      <th>trip_start_timestamp</th>\n",
              "      <th>trip_end_timestamp</th>\n",
              "      <th>trip_seconds</th>\n",
              "      <th>trip_miles</th>\n",
              "      <th>pickup_census_tract</th>\n",
              "      <th>dropoff_census_tract</th>\n",
              "      <th>pickup_community_area</th>\n",
              "      <th>dropoff_community_area</th>\n",
              "      <th>...</th>\n",
              "      <th>pickup_centroid_latitude</th>\n",
              "      <th>pickup_centroid_longitude</th>\n",
              "      <th>pickup_centroid_location</th>\n",
              "      <th>dropoff_centroid_latitude</th>\n",
              "      <th>dropoff_centroid_longitude</th>\n",
              "      <th>dropoff_centroid__location</th>\n",
              "      <th>trip_start_dt</th>\n",
              "      <th>trip_end_dt</th>\n",
              "      <th>trip_start_ym</th>\n",
              "      <th>trip_end_ym</th>\n",
              "    </tr>\n",
              "  </thead>\n",
              "  <tbody>\n",
              "    <tr>\n",
              "      <th>16</th>\n",
              "      <td>e066e483f0fc2a583895d24c9dec9864a6608052</td>\n",
              "      <td>4794c36af4c1852d90b5c8cf5f9f6cd38a8b9c1b68cf48...</td>\n",
              "      <td>01/01/2019 12:00:00 AM</td>\n",
              "      <td>01/01/2019 12:15:00 AM</td>\n",
              "      <td>600.0</td>\n",
              "      <td>0.0</td>\n",
              "      <td>1.703108e+10</td>\n",
              "      <td>1.703184e+10</td>\n",
              "      <td>8.0</td>\n",
              "      <td>32.0</td>\n",
              "      <td>...</td>\n",
              "      <td>41.891972</td>\n",
              "      <td>-87.612945</td>\n",
              "      <td>POINT (-87.6129454143 41.8919715078)</td>\n",
              "      <td>41.880994</td>\n",
              "      <td>-87.632746</td>\n",
              "      <td>POINT (-87.6327464887 41.8809944707)</td>\n",
              "      <td>2019-01-01</td>\n",
              "      <td>2019-01-01 00:15:00</td>\n",
              "      <td>2019-01</td>\n",
              "      <td>2019-01</td>\n",
              "    </tr>\n",
              "    <tr>\n",
              "      <th>19</th>\n",
              "      <td>5431595d222a3e00a9e4b3e93c928c306dc71be3</td>\n",
              "      <td>86b0677bb9bcda0454863c70a616d1adc45129237848d1...</td>\n",
              "      <td>01/01/2019 12:00:00 AM</td>\n",
              "      <td>01/01/2019 12:00:00 AM</td>\n",
              "      <td>120.0</td>\n",
              "      <td>0.3</td>\n",
              "      <td>1.703184e+10</td>\n",
              "      <td>1.703132e+10</td>\n",
              "      <td>32.0</td>\n",
              "      <td>32.0</td>\n",
              "      <td>...</td>\n",
              "      <td>41.880994</td>\n",
              "      <td>-87.632746</td>\n",
              "      <td>POINT (-87.6327464887 41.8809944707)</td>\n",
              "      <td>41.877406</td>\n",
              "      <td>-87.621972</td>\n",
              "      <td>POINT (-87.6219716519 41.8774061234)</td>\n",
              "      <td>2019-01-01</td>\n",
              "      <td>2019-01-01 00:00:00</td>\n",
              "      <td>2019-01</td>\n",
              "      <td>2019-01</td>\n",
              "    </tr>\n",
              "    <tr>\n",
              "      <th>20</th>\n",
              "      <td>509e870adce2a514a4287e1a305fe4ddabc59836</td>\n",
              "      <td>38f6145c9a2b848dc1baa16fd91087e606b12bcb8757a9...</td>\n",
              "      <td>01/01/2019 12:00:00 AM</td>\n",
              "      <td>01/01/2019 12:15:00 AM</td>\n",
              "      <td>360.0</td>\n",
              "      <td>0.8</td>\n",
              "      <td>1.703108e+10</td>\n",
              "      <td>1.703108e+10</td>\n",
              "      <td>8.0</td>\n",
              "      <td>8.0</td>\n",
              "      <td>...</td>\n",
              "      <td>41.898332</td>\n",
              "      <td>-87.620763</td>\n",
              "      <td>POINT (-87.6207628651 41.8983317935)</td>\n",
              "      <td>41.892508</td>\n",
              "      <td>-87.626215</td>\n",
              "      <td>POINT (-87.6262149064 41.8925077809)</td>\n",
              "      <td>2019-01-01</td>\n",
              "      <td>2019-01-01 00:15:00</td>\n",
              "      <td>2019-01</td>\n",
              "      <td>2019-01</td>\n",
              "    </tr>\n",
              "    <tr>\n",
              "      <th>22</th>\n",
              "      <td>31004535c12d4372c165e34386cde0521a0a72e8</td>\n",
              "      <td>ee8a2f86372e99ecf87d44e13a20ebda7db8ae69d5b444...</td>\n",
              "      <td>01/01/2019 12:00:00 AM</td>\n",
              "      <td>01/01/2019 12:15:00 AM</td>\n",
              "      <td>360.0</td>\n",
              "      <td>1.0</td>\n",
              "      <td>1.703108e+10</td>\n",
              "      <td>1.703108e+10</td>\n",
              "      <td>8.0</td>\n",
              "      <td>8.0</td>\n",
              "      <td>...</td>\n",
              "      <td>41.890922</td>\n",
              "      <td>-87.618868</td>\n",
              "      <td>POINT (-87.6188683546 41.8909220259)</td>\n",
              "      <td>41.892042</td>\n",
              "      <td>-87.631864</td>\n",
              "      <td>POINT (-87.6318639497 41.8920421365)</td>\n",
              "      <td>2019-01-01</td>\n",
              "      <td>2019-01-01 00:15:00</td>\n",
              "      <td>2019-01</td>\n",
              "      <td>2019-01</td>\n",
              "    </tr>\n",
              "    <tr>\n",
              "      <th>23</th>\n",
              "      <td>da18ec450c1fed02fbbc675faa621f8ac50ab5dd</td>\n",
              "      <td>0013da5489fe976daf4f4a7d246073ecf2caed9b12b3be...</td>\n",
              "      <td>01/01/2019 12:00:00 AM</td>\n",
              "      <td>01/01/2019 12:15:00 AM</td>\n",
              "      <td>420.0</td>\n",
              "      <td>0.8</td>\n",
              "      <td>1.703108e+10</td>\n",
              "      <td>1.703108e+10</td>\n",
              "      <td>8.0</td>\n",
              "      <td>8.0</td>\n",
              "      <td>...</td>\n",
              "      <td>41.898332</td>\n",
              "      <td>-87.620763</td>\n",
              "      <td>POINT (-87.6207628651 41.8983317935)</td>\n",
              "      <td>41.892508</td>\n",
              "      <td>-87.626215</td>\n",
              "      <td>POINT (-87.6262149064 41.8925077809)</td>\n",
              "      <td>2019-01-01</td>\n",
              "      <td>2019-01-01 00:15:00</td>\n",
              "      <td>2019-01</td>\n",
              "      <td>2019-01</td>\n",
              "    </tr>\n",
              "  </tbody>\n",
              "</table>\n",
              "</div>"
            ]
          },
          "metadata": {},
          "execution_count": 170
        }
      ],
      "source": [
        "taxi_trips_tdf.head()\n",
        "# print(get_time_diff(start_time, get_time()))\n"
      ],
      "metadata": {
        "pycharm": {
          "name": "#%%\n"
        },
        "colab": {
          "base_uri": "https://localhost:8080/",
          "height": 313
        },
        "id": "95reatEzzRVd",
        "outputId": "7c6d6ce0-689e-4fde-b53e-2aa065d6cb71"
      },
      "id": "95reatEzzRVd"
    },
    {
      "cell_type": "code",
      "execution_count": 171,
      "id": "bfcff7e9",
      "metadata": {
        "pycharm": {
          "name": "#%%\n"
        },
        "colab": {
          "base_uri": "https://localhost:8080/",
          "height": 320
        },
        "id": "bfcff7e9",
        "outputId": "591c08f0-8e4f-4b22-cc8f-635e4f3730ae"
      },
      "outputs": [
        {
          "output_type": "execute_result",
          "data": {
            "text/plain": [
              "       trip_seconds    trip_miles  pickup_census_tract  dropoff_census_tract  \\\n",
              "count  1.219963e+07  1.219963e+07         1.219963e+07          1.219963e+07   \n",
              "mean   7.806322e+02  2.882408e+00         1.703141e+10          1.703138e+10   \n",
              "std    1.207102e+03  5.479885e+00         3.436317e+05          3.341613e+05   \n",
              "min    0.000000e+00  0.000000e+00         1.703101e+10          1.703101e+10   \n",
              "25%    3.400000e+02  5.400000e-01         1.703108e+10          1.703108e+10   \n",
              "50%    5.140000e+02  1.080000e+00         1.703132e+10          1.703128e+10   \n",
              "75%    8.230000e+02  1.900000e+00         1.703184e+10          1.703184e+10   \n",
              "max    8.640000e+04  9.959000e+02         1.703198e+10          1.703198e+10   \n",
              "\n",
              "       pickup_community_area  dropoff_community_area          fare  \\\n",
              "count           1.219963e+07            1.219963e+07  1.219963e+07   \n",
              "mean            2.628359e+01            2.319189e+01  1.279652e+01   \n",
              "std             1.881160e+01            1.634532e+01  6.189516e+01   \n",
              "min             1.000000e+00            1.000000e+00  0.000000e+00   \n",
              "25%             8.000000e+00            8.000000e+00  5.750000e+00   \n",
              "50%             2.800000e+01            2.800000e+01  7.250000e+00   \n",
              "75%             3.200000e+01            3.200000e+01  1.025000e+01   \n",
              "max             7.700000e+01            7.700000e+01  9.800260e+03   \n",
              "\n",
              "               tips         tolls        extras    trip_total  \\\n",
              "count  1.219963e+07  1.219963e+07  1.219963e+07  1.219963e+07   \n",
              "mean   1.781760e+00  7.331033e-04  8.851525e-01  1.560699e+01   \n",
              "std    2.826719e+00  3.181317e-01  1.609252e+01  6.459551e+01   \n",
              "min    0.000000e+00  0.000000e+00  0.000000e+00  0.000000e+00   \n",
              "25%    0.000000e+00  0.000000e+00  0.000000e+00  7.000000e+00   \n",
              "50%    9.000000e-01  0.000000e+00  0.000000e+00  9.000000e+00   \n",
              "75%    2.000000e+00  0.000000e+00  1.000000e+00  1.250000e+01   \n",
              "max    4.000000e+02  9.606800e+02  9.327760e+03  9.800300e+03   \n",
              "\n",
              "       pickup_centroid_latitude  pickup_centroid_longitude  \\\n",
              "count              1.219963e+07               1.219963e+07   \n",
              "mean               4.189265e+01              -8.765359e+01   \n",
              "std                3.113462e-02               7.520429e-02   \n",
              "min                4.165022e+01              -8.790304e+01   \n",
              "25%                4.188099e+01              -8.763784e+01   \n",
              "50%                4.188530e+01              -8.763186e+01   \n",
              "75%                4.189322e+01              -8.762197e+01   \n",
              "max                4.202122e+01              -8.753071e+01   \n",
              "\n",
              "       dropoff_centroid_latitude  dropoff_centroid_longitude  \n",
              "count               1.219963e+07                1.219963e+07  \n",
              "mean                4.189144e+01               -8.764459e+01  \n",
              "std                 2.604625e-02                5.721153e-02  \n",
              "min                 4.166376e+01               -8.790304e+01  \n",
              "25%                 4.188099e+01               -8.764090e+01  \n",
              "50%                 4.188530e+01               -8.763186e+01  \n",
              "75%                 4.189503e+01               -8.762197e+01  \n",
              "max                 4.202122e+01               -8.753071e+01  "
            ],
            "text/html": [
              "<div>\n",
              "<style scoped>\n",
              "    .dataframe tbody tr th:only-of-type {\n",
              "        vertical-align: middle;\n",
              "    }\n",
              "\n",
              "    .dataframe tbody tr th {\n",
              "        vertical-align: top;\n",
              "    }\n",
              "\n",
              "    .dataframe thead th {\n",
              "        text-align: right;\n",
              "    }\n",
              "</style>\n",
              "<table border=\"1\" class=\"dataframe\">\n",
              "  <thead>\n",
              "    <tr style=\"text-align: right;\">\n",
              "      <th></th>\n",
              "      <th>trip_seconds</th>\n",
              "      <th>trip_miles</th>\n",
              "      <th>pickup_census_tract</th>\n",
              "      <th>dropoff_census_tract</th>\n",
              "      <th>pickup_community_area</th>\n",
              "      <th>dropoff_community_area</th>\n",
              "      <th>fare</th>\n",
              "      <th>tips</th>\n",
              "      <th>tolls</th>\n",
              "      <th>extras</th>\n",
              "      <th>trip_total</th>\n",
              "      <th>pickup_centroid_latitude</th>\n",
              "      <th>pickup_centroid_longitude</th>\n",
              "      <th>dropoff_centroid_latitude</th>\n",
              "      <th>dropoff_centroid_longitude</th>\n",
              "    </tr>\n",
              "  </thead>\n",
              "  <tbody>\n",
              "    <tr>\n",
              "      <th>count</th>\n",
              "      <td>1.219963e+07</td>\n",
              "      <td>1.219963e+07</td>\n",
              "      <td>1.219963e+07</td>\n",
              "      <td>1.219963e+07</td>\n",
              "      <td>1.219963e+07</td>\n",
              "      <td>1.219963e+07</td>\n",
              "      <td>1.219963e+07</td>\n",
              "      <td>1.219963e+07</td>\n",
              "      <td>1.219963e+07</td>\n",
              "      <td>1.219963e+07</td>\n",
              "      <td>1.219963e+07</td>\n",
              "      <td>1.219963e+07</td>\n",
              "      <td>1.219963e+07</td>\n",
              "      <td>1.219963e+07</td>\n",
              "      <td>1.219963e+07</td>\n",
              "    </tr>\n",
              "    <tr>\n",
              "      <th>mean</th>\n",
              "      <td>7.806322e+02</td>\n",
              "      <td>2.882408e+00</td>\n",
              "      <td>1.703141e+10</td>\n",
              "      <td>1.703138e+10</td>\n",
              "      <td>2.628359e+01</td>\n",
              "      <td>2.319189e+01</td>\n",
              "      <td>1.279652e+01</td>\n",
              "      <td>1.781760e+00</td>\n",
              "      <td>7.331033e-04</td>\n",
              "      <td>8.851525e-01</td>\n",
              "      <td>1.560699e+01</td>\n",
              "      <td>4.189265e+01</td>\n",
              "      <td>-8.765359e+01</td>\n",
              "      <td>4.189144e+01</td>\n",
              "      <td>-8.764459e+01</td>\n",
              "    </tr>\n",
              "    <tr>\n",
              "      <th>std</th>\n",
              "      <td>1.207102e+03</td>\n",
              "      <td>5.479885e+00</td>\n",
              "      <td>3.436317e+05</td>\n",
              "      <td>3.341613e+05</td>\n",
              "      <td>1.881160e+01</td>\n",
              "      <td>1.634532e+01</td>\n",
              "      <td>6.189516e+01</td>\n",
              "      <td>2.826719e+00</td>\n",
              "      <td>3.181317e-01</td>\n",
              "      <td>1.609252e+01</td>\n",
              "      <td>6.459551e+01</td>\n",
              "      <td>3.113462e-02</td>\n",
              "      <td>7.520429e-02</td>\n",
              "      <td>2.604625e-02</td>\n",
              "      <td>5.721153e-02</td>\n",
              "    </tr>\n",
              "    <tr>\n",
              "      <th>min</th>\n",
              "      <td>0.000000e+00</td>\n",
              "      <td>0.000000e+00</td>\n",
              "      <td>1.703101e+10</td>\n",
              "      <td>1.703101e+10</td>\n",
              "      <td>1.000000e+00</td>\n",
              "      <td>1.000000e+00</td>\n",
              "      <td>0.000000e+00</td>\n",
              "      <td>0.000000e+00</td>\n",
              "      <td>0.000000e+00</td>\n",
              "      <td>0.000000e+00</td>\n",
              "      <td>0.000000e+00</td>\n",
              "      <td>4.165022e+01</td>\n",
              "      <td>-8.790304e+01</td>\n",
              "      <td>4.166376e+01</td>\n",
              "      <td>-8.790304e+01</td>\n",
              "    </tr>\n",
              "    <tr>\n",
              "      <th>25%</th>\n",
              "      <td>3.400000e+02</td>\n",
              "      <td>5.400000e-01</td>\n",
              "      <td>1.703108e+10</td>\n",
              "      <td>1.703108e+10</td>\n",
              "      <td>8.000000e+00</td>\n",
              "      <td>8.000000e+00</td>\n",
              "      <td>5.750000e+00</td>\n",
              "      <td>0.000000e+00</td>\n",
              "      <td>0.000000e+00</td>\n",
              "      <td>0.000000e+00</td>\n",
              "      <td>7.000000e+00</td>\n",
              "      <td>4.188099e+01</td>\n",
              "      <td>-8.763784e+01</td>\n",
              "      <td>4.188099e+01</td>\n",
              "      <td>-8.764090e+01</td>\n",
              "    </tr>\n",
              "    <tr>\n",
              "      <th>50%</th>\n",
              "      <td>5.140000e+02</td>\n",
              "      <td>1.080000e+00</td>\n",
              "      <td>1.703132e+10</td>\n",
              "      <td>1.703128e+10</td>\n",
              "      <td>2.800000e+01</td>\n",
              "      <td>2.800000e+01</td>\n",
              "      <td>7.250000e+00</td>\n",
              "      <td>9.000000e-01</td>\n",
              "      <td>0.000000e+00</td>\n",
              "      <td>0.000000e+00</td>\n",
              "      <td>9.000000e+00</td>\n",
              "      <td>4.188530e+01</td>\n",
              "      <td>-8.763186e+01</td>\n",
              "      <td>4.188530e+01</td>\n",
              "      <td>-8.763186e+01</td>\n",
              "    </tr>\n",
              "    <tr>\n",
              "      <th>75%</th>\n",
              "      <td>8.230000e+02</td>\n",
              "      <td>1.900000e+00</td>\n",
              "      <td>1.703184e+10</td>\n",
              "      <td>1.703184e+10</td>\n",
              "      <td>3.200000e+01</td>\n",
              "      <td>3.200000e+01</td>\n",
              "      <td>1.025000e+01</td>\n",
              "      <td>2.000000e+00</td>\n",
              "      <td>0.000000e+00</td>\n",
              "      <td>1.000000e+00</td>\n",
              "      <td>1.250000e+01</td>\n",
              "      <td>4.189322e+01</td>\n",
              "      <td>-8.762197e+01</td>\n",
              "      <td>4.189503e+01</td>\n",
              "      <td>-8.762197e+01</td>\n",
              "    </tr>\n",
              "    <tr>\n",
              "      <th>max</th>\n",
              "      <td>8.640000e+04</td>\n",
              "      <td>9.959000e+02</td>\n",
              "      <td>1.703198e+10</td>\n",
              "      <td>1.703198e+10</td>\n",
              "      <td>7.700000e+01</td>\n",
              "      <td>7.700000e+01</td>\n",
              "      <td>9.800260e+03</td>\n",
              "      <td>4.000000e+02</td>\n",
              "      <td>9.606800e+02</td>\n",
              "      <td>9.327760e+03</td>\n",
              "      <td>9.800300e+03</td>\n",
              "      <td>4.202122e+01</td>\n",
              "      <td>-8.753071e+01</td>\n",
              "      <td>4.202122e+01</td>\n",
              "      <td>-8.753071e+01</td>\n",
              "    </tr>\n",
              "  </tbody>\n",
              "</table>\n",
              "</div>"
            ]
          },
          "metadata": {},
          "execution_count": 171
        }
      ],
      "source": [
        "# Describe - Pandas\n",
        "start_time = get_time()\n",
        "taxi_trips_pdf.describe()"
      ]
    },
    {
      "cell_type": "code",
      "source": [
        "print(get_time_diff(start_time, get_time()))"
      ],
      "metadata": {
        "colab": {
          "base_uri": "https://localhost:8080/"
        },
        "id": "PWh7yRSX-mzM",
        "outputId": "0af40177-d62a-456b-f665-17464bacf424"
      },
      "id": "PWh7yRSX-mzM",
      "execution_count": 172,
      "outputs": [
        {
          "output_type": "stream",
          "name": "stdout",
          "text": [
            "Elapsed time: 6.6500 seconds\n"
          ]
        },
        {
          "output_type": "execute_result",
          "data": {
            "text/plain": [
              "6.650022000001627"
            ]
          },
          "metadata": {},
          "execution_count": 172
        }
      ]
    },
    {
      "cell_type": "code",
      "source": [
        "# Describe - Terality\n",
        "start_time = get_time()\n",
        "taxi_trips_tdf.describe()"
      ],
      "metadata": {
        "colab": {
          "base_uri": "https://localhost:8080/",
          "height": 320
        },
        "id": "VHJrYq8e_Otk",
        "outputId": "e8ac2d06-97ca-410a-8c0f-612ecef10975"
      },
      "id": "VHJrYq8e_Otk",
      "execution_count": 173,
      "outputs": [
        {
          "output_type": "execute_result",
          "data": {
            "text/plain": [
              "       trip_seconds    trip_miles  pickup_census_tract  dropoff_census_tract  \\\n",
              "count  1.219963e+07  1.219963e+07         1.219963e+07          1.219963e+07   \n",
              "mean   7.806322e+02  2.882408e+00         1.703141e+10          1.703138e+10   \n",
              "std    1.207102e+03  5.479885e+00         3.436317e+05          3.341613e+05   \n",
              "min    0.000000e+00  0.000000e+00         1.703101e+10          1.703101e+10   \n",
              "25%    3.400000e+02  5.400000e-01         1.703108e+10          1.703108e+10   \n",
              "50%    5.140000e+02  1.080000e+00         1.703132e+10          1.703128e+10   \n",
              "75%    8.230000e+02  1.900000e+00         1.703184e+10          1.703184e+10   \n",
              "max    8.640000e+04  9.959000e+02         1.703198e+10          1.703198e+10   \n",
              "\n",
              "       pickup_community_area  dropoff_community_area          fare  \\\n",
              "count           1.219963e+07            1.219963e+07  1.219963e+07   \n",
              "mean            2.628359e+01            2.319189e+01  1.279652e+01   \n",
              "std             1.881160e+01            1.634532e+01  6.189516e+01   \n",
              "min             1.000000e+00            1.000000e+00  0.000000e+00   \n",
              "25%             8.000000e+00            8.000000e+00  5.750000e+00   \n",
              "50%             2.800000e+01            2.800000e+01  7.250000e+00   \n",
              "75%             3.200000e+01            3.200000e+01  1.025000e+01   \n",
              "max             7.700000e+01            7.700000e+01  9.800260e+03   \n",
              "\n",
              "               tips         tolls        extras    trip_total  \\\n",
              "count  1.219963e+07  1.219963e+07  1.219963e+07  1.219963e+07   \n",
              "mean   1.781760e+00  7.331033e-04  8.851525e-01  1.560699e+01   \n",
              "std    2.826719e+00  3.181317e-01  1.609252e+01  6.459551e+01   \n",
              "min    0.000000e+00  0.000000e+00  0.000000e+00  0.000000e+00   \n",
              "25%    0.000000e+00  0.000000e+00  0.000000e+00  7.000000e+00   \n",
              "50%    9.000000e-01  0.000000e+00  0.000000e+00  9.000000e+00   \n",
              "75%    2.000000e+00  0.000000e+00  1.000000e+00  1.250000e+01   \n",
              "max    4.000000e+02  9.606800e+02  9.327760e+03  9.800300e+03   \n",
              "\n",
              "       pickup_centroid_latitude  pickup_centroid_longitude  \\\n",
              "count              1.219963e+07               1.219963e+07   \n",
              "mean               4.189265e+01              -8.765359e+01   \n",
              "std                3.113462e-02               7.520429e-02   \n",
              "min                4.165022e+01              -8.790304e+01   \n",
              "25%                4.188099e+01              -8.763784e+01   \n",
              "50%                4.188530e+01              -8.763186e+01   \n",
              "75%                4.189322e+01              -8.762197e+01   \n",
              "max                4.202122e+01              -8.753071e+01   \n",
              "\n",
              "       dropoff_centroid_latitude  dropoff_centroid_longitude  \n",
              "count               1.219963e+07                1.219963e+07  \n",
              "mean                4.189144e+01               -8.764459e+01  \n",
              "std                 2.604625e-02                5.721153e-02  \n",
              "min                 4.166376e+01               -8.790304e+01  \n",
              "25%                 4.188099e+01               -8.764090e+01  \n",
              "50%                 4.188530e+01               -8.763186e+01  \n",
              "75%                 4.189503e+01               -8.762197e+01  \n",
              "max                 4.202122e+01               -8.753071e+01  "
            ],
            "text/html": [
              "<div>\n",
              "<style scoped>\n",
              "    .dataframe tbody tr th:only-of-type {\n",
              "        vertical-align: middle;\n",
              "    }\n",
              "\n",
              "    .dataframe tbody tr th {\n",
              "        vertical-align: top;\n",
              "    }\n",
              "\n",
              "    .dataframe thead th {\n",
              "        text-align: right;\n",
              "    }\n",
              "</style>\n",
              "<table border=\"1\" class=\"dataframe\">\n",
              "  <thead>\n",
              "    <tr style=\"text-align: right;\">\n",
              "      <th></th>\n",
              "      <th>trip_seconds</th>\n",
              "      <th>trip_miles</th>\n",
              "      <th>pickup_census_tract</th>\n",
              "      <th>dropoff_census_tract</th>\n",
              "      <th>pickup_community_area</th>\n",
              "      <th>dropoff_community_area</th>\n",
              "      <th>fare</th>\n",
              "      <th>tips</th>\n",
              "      <th>tolls</th>\n",
              "      <th>extras</th>\n",
              "      <th>trip_total</th>\n",
              "      <th>pickup_centroid_latitude</th>\n",
              "      <th>pickup_centroid_longitude</th>\n",
              "      <th>dropoff_centroid_latitude</th>\n",
              "      <th>dropoff_centroid_longitude</th>\n",
              "    </tr>\n",
              "  </thead>\n",
              "  <tbody>\n",
              "    <tr>\n",
              "      <th>count</th>\n",
              "      <td>1.219963e+07</td>\n",
              "      <td>1.219963e+07</td>\n",
              "      <td>1.219963e+07</td>\n",
              "      <td>1.219963e+07</td>\n",
              "      <td>1.219963e+07</td>\n",
              "      <td>1.219963e+07</td>\n",
              "      <td>1.219963e+07</td>\n",
              "      <td>1.219963e+07</td>\n",
              "      <td>1.219963e+07</td>\n",
              "      <td>1.219963e+07</td>\n",
              "      <td>1.219963e+07</td>\n",
              "      <td>1.219963e+07</td>\n",
              "      <td>1.219963e+07</td>\n",
              "      <td>1.219963e+07</td>\n",
              "      <td>1.219963e+07</td>\n",
              "    </tr>\n",
              "    <tr>\n",
              "      <th>mean</th>\n",
              "      <td>7.806322e+02</td>\n",
              "      <td>2.882408e+00</td>\n",
              "      <td>1.703141e+10</td>\n",
              "      <td>1.703138e+10</td>\n",
              "      <td>2.628359e+01</td>\n",
              "      <td>2.319189e+01</td>\n",
              "      <td>1.279652e+01</td>\n",
              "      <td>1.781760e+00</td>\n",
              "      <td>7.331033e-04</td>\n",
              "      <td>8.851525e-01</td>\n",
              "      <td>1.560699e+01</td>\n",
              "      <td>4.189265e+01</td>\n",
              "      <td>-8.765359e+01</td>\n",
              "      <td>4.189144e+01</td>\n",
              "      <td>-8.764459e+01</td>\n",
              "    </tr>\n",
              "    <tr>\n",
              "      <th>std</th>\n",
              "      <td>1.207102e+03</td>\n",
              "      <td>5.479885e+00</td>\n",
              "      <td>3.436317e+05</td>\n",
              "      <td>3.341613e+05</td>\n",
              "      <td>1.881160e+01</td>\n",
              "      <td>1.634532e+01</td>\n",
              "      <td>6.189516e+01</td>\n",
              "      <td>2.826719e+00</td>\n",
              "      <td>3.181317e-01</td>\n",
              "      <td>1.609252e+01</td>\n",
              "      <td>6.459551e+01</td>\n",
              "      <td>3.113462e-02</td>\n",
              "      <td>7.520429e-02</td>\n",
              "      <td>2.604625e-02</td>\n",
              "      <td>5.721153e-02</td>\n",
              "    </tr>\n",
              "    <tr>\n",
              "      <th>min</th>\n",
              "      <td>0.000000e+00</td>\n",
              "      <td>0.000000e+00</td>\n",
              "      <td>1.703101e+10</td>\n",
              "      <td>1.703101e+10</td>\n",
              "      <td>1.000000e+00</td>\n",
              "      <td>1.000000e+00</td>\n",
              "      <td>0.000000e+00</td>\n",
              "      <td>0.000000e+00</td>\n",
              "      <td>0.000000e+00</td>\n",
              "      <td>0.000000e+00</td>\n",
              "      <td>0.000000e+00</td>\n",
              "      <td>4.165022e+01</td>\n",
              "      <td>-8.790304e+01</td>\n",
              "      <td>4.166376e+01</td>\n",
              "      <td>-8.790304e+01</td>\n",
              "    </tr>\n",
              "    <tr>\n",
              "      <th>25%</th>\n",
              "      <td>3.400000e+02</td>\n",
              "      <td>5.400000e-01</td>\n",
              "      <td>1.703108e+10</td>\n",
              "      <td>1.703108e+10</td>\n",
              "      <td>8.000000e+00</td>\n",
              "      <td>8.000000e+00</td>\n",
              "      <td>5.750000e+00</td>\n",
              "      <td>0.000000e+00</td>\n",
              "      <td>0.000000e+00</td>\n",
              "      <td>0.000000e+00</td>\n",
              "      <td>7.000000e+00</td>\n",
              "      <td>4.188099e+01</td>\n",
              "      <td>-8.763784e+01</td>\n",
              "      <td>4.188099e+01</td>\n",
              "      <td>-8.764090e+01</td>\n",
              "    </tr>\n",
              "    <tr>\n",
              "      <th>50%</th>\n",
              "      <td>5.140000e+02</td>\n",
              "      <td>1.080000e+00</td>\n",
              "      <td>1.703132e+10</td>\n",
              "      <td>1.703128e+10</td>\n",
              "      <td>2.800000e+01</td>\n",
              "      <td>2.800000e+01</td>\n",
              "      <td>7.250000e+00</td>\n",
              "      <td>9.000000e-01</td>\n",
              "      <td>0.000000e+00</td>\n",
              "      <td>0.000000e+00</td>\n",
              "      <td>9.000000e+00</td>\n",
              "      <td>4.188530e+01</td>\n",
              "      <td>-8.763186e+01</td>\n",
              "      <td>4.188530e+01</td>\n",
              "      <td>-8.763186e+01</td>\n",
              "    </tr>\n",
              "    <tr>\n",
              "      <th>75%</th>\n",
              "      <td>8.230000e+02</td>\n",
              "      <td>1.900000e+00</td>\n",
              "      <td>1.703184e+10</td>\n",
              "      <td>1.703184e+10</td>\n",
              "      <td>3.200000e+01</td>\n",
              "      <td>3.200000e+01</td>\n",
              "      <td>1.025000e+01</td>\n",
              "      <td>2.000000e+00</td>\n",
              "      <td>0.000000e+00</td>\n",
              "      <td>1.000000e+00</td>\n",
              "      <td>1.250000e+01</td>\n",
              "      <td>4.189322e+01</td>\n",
              "      <td>-8.762197e+01</td>\n",
              "      <td>4.189503e+01</td>\n",
              "      <td>-8.762197e+01</td>\n",
              "    </tr>\n",
              "    <tr>\n",
              "      <th>max</th>\n",
              "      <td>8.640000e+04</td>\n",
              "      <td>9.959000e+02</td>\n",
              "      <td>1.703198e+10</td>\n",
              "      <td>1.703198e+10</td>\n",
              "      <td>7.700000e+01</td>\n",
              "      <td>7.700000e+01</td>\n",
              "      <td>9.800260e+03</td>\n",
              "      <td>4.000000e+02</td>\n",
              "      <td>9.606800e+02</td>\n",
              "      <td>9.327760e+03</td>\n",
              "      <td>9.800300e+03</td>\n",
              "      <td>4.202122e+01</td>\n",
              "      <td>-8.753071e+01</td>\n",
              "      <td>4.202122e+01</td>\n",
              "      <td>-8.753071e+01</td>\n",
              "    </tr>\n",
              "  </tbody>\n",
              "</table>\n",
              "</div>"
            ]
          },
          "metadata": {},
          "execution_count": 173
        }
      ]
    },
    {
      "cell_type": "code",
      "source": [
        "print(get_time_diff(start_time, get_time()))"
      ],
      "metadata": {
        "colab": {
          "base_uri": "https://localhost:8080/"
        },
        "id": "hd9jHDHm_KX8",
        "outputId": "38ed95ea-7694-48f8-f371-afd76c86cf9d"
      },
      "id": "hd9jHDHm_KX8",
      "execution_count": 174,
      "outputs": [
        {
          "output_type": "stream",
          "name": "stdout",
          "text": [
            "Elapsed time: 21.4492 seconds\n"
          ]
        },
        {
          "output_type": "execute_result",
          "data": {
            "text/plain": [
              "21.449159700001474"
            ]
          },
          "metadata": {},
          "execution_count": 174
        }
      ]
    },
    {
      "cell_type": "code",
      "execution_count": 175,
      "id": "88dcdee9",
      "metadata": {
        "pycharm": {
          "name": "#%%\n"
        },
        "colab": {
          "base_uri": "https://localhost:8080/"
        },
        "id": "88dcdee9",
        "outputId": "04bab0e7-4890-4dc2-f04a-4ad61bcffab5"
      },
      "outputs": [
        {
          "output_type": "execute_result",
          "data": {
            "text/plain": [
              "taxi_id\n",
              "0008de7a146802839c9e6059f482d292ebdae13c5c31dd6e5983a80882e2a5dbcd6ea098c2fcd56f34ce02645eb94c6b39512e9304837746d4e289b6236c2c5b    3372\n",
              "001330b81e23412049f9c3eff5b6e972a91afe59c9aa36ef29747881b4bf803adfd02b1a71cca5cb8c2214275330aa4520df34d7848100414acb4b4cad642e62    3072\n",
              "0013da5489fe976daf4f4a7d246073ecf2caed9b12b3be70eff37b63ef9ca4102c972145ddd8537811752d51b222b4618dfbae451b966d7a3ad9afa4ec878a6e    4093\n",
              "0041f8f0c91881c1e1913f2548522495fe3c4c719aa67fd2483ebbcc22e0aa1bfff2cddb32c35cde3ad9766b0e8d44c04ff5dfdcf1035462ba81a13e3ba6b8f9    3431\n",
              "0044e6c0d091476299b99345501f756b23632a96cbaf40e872fbf14f976410d3f938aacc643ed608b2aa42809222d4458e1aab5e0848e9b952f35616785c3a36    2104\n",
              "                                                                                                                                    ... \n",
              "ffd70d111c7da2e5eff27ad900c8eb94d74fe286bb7aa58029ee2baac3f3b310dea5da2a6a77a366b7b6d4b104b91ef75e7959ac6b1f558be7844417cbe3e12f     603\n",
              "ffda53354c610fd3af1aee46d723028a49014e35f7280ca3d812716eb3cf1f0a763556368e4139b7183ee1fb36e26104de62bb86601f2fa16e3d96167e25b84e    1236\n",
              "ffe8d8153b8f68cd20871ae5710f9b799bcc517b40ece7cf561407a6cd161f52430890c0ef8402a9152eb6bd24651716504c08a69f3b8c8b7a79a08fae65fc4c      46\n",
              "fff3279af11dfade5e308184a5cc6c1ca2d33764634d962e589f6af2bf844c2dc8e6d8fcf1bf47f4364671bea6c8a8cb8b9990cb9f6dc608079e96aa1fec24e7     914\n",
              "fff84aa08ac78890c6e7da64b817cbd9aad6a124104e099a7482efee1a6bac61a837e1db218e9d38c159f28c8f85187a08a05c8ba54648edc3b91e437357fa84     202\n",
              "Name: trip_id, Length: 5280, dtype: int64"
            ]
          },
          "metadata": {},
          "execution_count": 175
        }
      ],
      "source": [
        "# Query 1: Number of trips grouped by taxi - Using Pandas\n",
        "start_time = get_time()\n",
        "taxi_trips_pdf.groupby('taxi_id').count()['trip_id']\n"
      ]
    },
    {
      "cell_type": "code",
      "source": [
        "print(get_time_diff(start_time, get_time()))"
      ],
      "metadata": {
        "id": "oMFxKORLUBfC",
        "outputId": "e87aea07-6544-47ae-aa28-6ef0b8048a6f",
        "colab": {
          "base_uri": "https://localhost:8080/"
        }
      },
      "id": "oMFxKORLUBfC",
      "execution_count": 176,
      "outputs": [
        {
          "output_type": "stream",
          "name": "stdout",
          "text": [
            "Elapsed time: 10.4241 seconds\n"
          ]
        },
        {
          "output_type": "execute_result",
          "data": {
            "text/plain": [
              "10.42411429999629"
            ]
          },
          "metadata": {},
          "execution_count": 176
        }
      ]
    },
    {
      "cell_type": "code",
      "execution_count": 177,
      "id": "fc3418f2",
      "metadata": {
        "pycharm": {
          "name": "#%%\n"
        },
        "colab": {
          "base_uri": "https://localhost:8080/"
        },
        "id": "fc3418f2",
        "outputId": "b4088e04-1a45-4a54-9b54-c4b136bff4e3"
      },
      "outputs": [
        {
          "output_type": "execute_result",
          "data": {
            "text/plain": [
              "taxi_id\n",
              "0008de7a146802839c9e6059f482d292ebdae13c5c31dd6e5983a80882e2a5dbcd6ea098c2fcd56f34ce02645eb94c6b39512e9304837746d4e289b6236c2c5b    3372\n",
              "001330b81e23412049f9c3eff5b6e972a91afe59c9aa36ef29747881b4bf803adfd02b1a71cca5cb8c2214275330aa4520df34d7848100414acb4b4cad642e62    3072\n",
              "0013da5489fe976daf4f4a7d246073ecf2caed9b12b3be70eff37b63ef9ca4102c972145ddd8537811752d51b222b4618dfbae451b966d7a3ad9afa4ec878a6e    4093\n",
              "0041f8f0c91881c1e1913f2548522495fe3c4c719aa67fd2483ebbcc22e0aa1bfff2cddb32c35cde3ad9766b0e8d44c04ff5dfdcf1035462ba81a13e3ba6b8f9    3431\n",
              "0044e6c0d091476299b99345501f756b23632a96cbaf40e872fbf14f976410d3f938aacc643ed608b2aa42809222d4458e1aab5e0848e9b952f35616785c3a36    2104\n",
              "                                                                                                                                    ... \n",
              "ffd70d111c7da2e5eff27ad900c8eb94d74fe286bb7aa58029ee2baac3f3b310dea5da2a6a77a366b7b6d4b104b91ef75e7959ac6b1f558be7844417cbe3e12f     603\n",
              "ffda53354c610fd3af1aee46d723028a49014e35f7280ca3d812716eb3cf1f0a763556368e4139b7183ee1fb36e26104de62bb86601f2fa16e3d96167e25b84e    1236\n",
              "ffe8d8153b8f68cd20871ae5710f9b799bcc517b40ece7cf561407a6cd161f52430890c0ef8402a9152eb6bd24651716504c08a69f3b8c8b7a79a08fae65fc4c      46\n",
              "fff3279af11dfade5e308184a5cc6c1ca2d33764634d962e589f6af2bf844c2dc8e6d8fcf1bf47f4364671bea6c8a8cb8b9990cb9f6dc608079e96aa1fec24e7     914\n",
              "fff84aa08ac78890c6e7da64b817cbd9aad6a124104e099a7482efee1a6bac61a837e1db218e9d38c159f28c8f85187a08a05c8ba54648edc3b91e437357fa84     202\n",
              "Name: trip_id, Length: 5280, dtype: int64"
            ]
          },
          "metadata": {},
          "execution_count": 177
        }
      ],
      "source": [
        "# Query 1: Number of trips grouped by taxi - Using Terality\n",
        "start_time = get_time()\n",
        "taxi_trips_pdf.groupby('taxi_id').count()['trip_id']\n",
        "\n"
      ]
    },
    {
      "cell_type": "code",
      "source": [
        "print(get_time_diff(start_time, get_time()))"
      ],
      "metadata": {
        "id": "CgWQYn-vUQxJ",
        "outputId": "eced7e54-353f-4ce0-d52a-7c9c47511d55",
        "colab": {
          "base_uri": "https://localhost:8080/"
        }
      },
      "id": "CgWQYn-vUQxJ",
      "execution_count": 178,
      "outputs": [
        {
          "output_type": "stream",
          "name": "stdout",
          "text": [
            "Elapsed time: 9.7827 seconds\n"
          ]
        },
        {
          "output_type": "execute_result",
          "data": {
            "text/plain": [
              "9.782682299992302"
            ]
          },
          "metadata": {},
          "execution_count": 178
        }
      ]
    },
    {
      "cell_type": "markdown",
      "source": [
        ""
      ],
      "metadata": {
        "collapsed": false,
        "id": "_9w6gg5FzRVf"
      },
      "id": "_9w6gg5FzRVf"
    },
    {
      "cell_type": "code",
      "execution_count": 179,
      "outputs": [
        {
          "output_type": "execute_result",
          "data": {
            "text/plain": [
              "taxi_id                                                                                                                           trip_start_ym\n",
              "0008de7a146802839c9e6059f482d292ebdae13c5c31dd6e5983a80882e2a5dbcd6ea098c2fcd56f34ce02645eb94c6b39512e9304837746d4e289b6236c2c5b  2019-01          230\n",
              "                                                                                                                                  2019-02          248\n",
              "                                                                                                                                  2019-03          212\n",
              "                                                                                                                                  2019-04          202\n",
              "                                                                                                                                  2019-05          270\n",
              "                                                                                                                                                  ... \n",
              "fff84aa08ac78890c6e7da64b817cbd9aad6a124104e099a7482efee1a6bac61a837e1db218e9d38c159f28c8f85187a08a05c8ba54648edc3b91e437357fa84  2020-08            8\n",
              "                                                                                                                                  2020-09           59\n",
              "                                                                                                                                  2020-10           52\n",
              "                                                                                                                                  2020-11           21\n",
              "                                                                                                                                  2020-12           18\n",
              "Name: trip_id, Length: 67069, dtype: int64"
            ]
          },
          "metadata": {},
          "execution_count": 179
        }
      ],
      "source": [
        "# Query 2: Number of trips grouped by taxi and year/month - Using Pandas\n",
        "start_time = get_time()\n",
        "taxi_trips_pdf.groupby(['taxi_id', 'trip_start_ym']).count()['trip_id']"
      ],
      "metadata": {
        "pycharm": {
          "name": "#%%\n"
        },
        "colab": {
          "base_uri": "https://localhost:8080/"
        },
        "id": "RXT0aueNzRVg",
        "outputId": "364a5a5a-6199-4bbd-d5ec-6c2c4af899ca"
      },
      "id": "RXT0aueNzRVg"
    },
    {
      "cell_type": "code",
      "execution_count": 180,
      "outputs": [
        {
          "output_type": "stream",
          "name": "stdout",
          "text": [
            "Elapsed time: 12.7381 seconds\n"
          ]
        },
        {
          "output_type": "execute_result",
          "data": {
            "text/plain": [
              "12.738141200010432"
            ]
          },
          "metadata": {},
          "execution_count": 180
        }
      ],
      "source": [
        "print(get_time_diff(start_time, get_time()))"
      ],
      "metadata": {
        "pycharm": {
          "name": "#%%\n"
        },
        "colab": {
          "base_uri": "https://localhost:8080/"
        },
        "id": "HK89Q6CLzRVg",
        "outputId": "d5919876-6f8a-4b09-c093-4ff0193fa27e"
      },
      "id": "HK89Q6CLzRVg"
    },
    {
      "cell_type": "code",
      "source": [
        "# Query 2: Number of trips grouped by taxi and year/month - Using Terality\n",
        "start_time = get_time()\n",
        "taxi_trips_tdf.groupby(['taxi_id', 'trip_start_ym']).count()['trip_id']"
      ],
      "metadata": {
        "colab": {
          "base_uri": "https://localhost:8080/"
        },
        "id": "2Abw4afRtccc",
        "outputId": "01f10b96-c49b-48d4-f7f7-38bf35949ff0"
      },
      "id": "2Abw4afRtccc",
      "execution_count": 181,
      "outputs": [
        {
          "output_type": "execute_result",
          "data": {
            "text/plain": [
              "taxi_id                                                                                                                           trip_start_ym\n",
              "0008de7a146802839c9e6059f482d292ebdae13c5c31dd6e5983a80882e2a5dbcd6ea098c2fcd56f34ce02645eb94c6b39512e9304837746d4e289b6236c2c5b  2019-01          230\n",
              "                                                                                                                                  2019-02          248\n",
              "                                                                                                                                  2019-03          212\n",
              "                                                                                                                                  2019-04          202\n",
              "                                                                                                                                  2019-05          270\n",
              "                                                                                                                                                  ... \n",
              "fff84aa08ac78890c6e7da64b817cbd9aad6a124104e099a7482efee1a6bac61a837e1db218e9d38c159f28c8f85187a08a05c8ba54648edc3b91e437357fa84  2020-08            8\n",
              "                                                                                                                                  2020-09           59\n",
              "                                                                                                                                  2020-10           52\n",
              "                                                                                                                                  2020-11           21\n",
              "                                                                                                                                  2020-12           18\n",
              "Name: trip_id, Length: 67069, dtype: int64"
            ]
          },
          "metadata": {},
          "execution_count": 181
        }
      ]
    },
    {
      "cell_type": "code",
      "source": [
        "print(get_time_diff(start_time, get_time()))"
      ],
      "metadata": {
        "colab": {
          "base_uri": "https://localhost:8080/"
        },
        "id": "GGri5U4xth25",
        "outputId": "037315df-e3e3-4e32-ad4e-a05b9fd11b3e"
      },
      "id": "GGri5U4xth25",
      "execution_count": 182,
      "outputs": [
        {
          "output_type": "stream",
          "name": "stdout",
          "text": [
            "Elapsed time: 21.8460 seconds\n"
          ]
        },
        {
          "output_type": "execute_result",
          "data": {
            "text/plain": [
              "21.84595960000297"
            ]
          },
          "metadata": {},
          "execution_count": 182
        }
      ]
    },
    {
      "cell_type": "code",
      "execution_count": 183,
      "id": "c87ece3d",
      "metadata": {
        "id": "c87ece3d",
        "outputId": "a400a74a-b82d-4326-af15-0ac158518b28",
        "colab": {
          "base_uri": "https://localhost:8080/"
        }
      },
      "outputs": [
        {
          "output_type": "execute_result",
          "data": {
            "text/plain": [
              "company\n",
              "Taxi Affiliation Services            2769009\n",
              "Chicago Carriage Cab Corp            1506931\n",
              "Flash Cab                            1220891\n",
              "Sun Taxi                             1046724\n",
              "Medallion Leasin                      932280\n",
              "City Service                          906870\n",
              "Star North Management LLC             742670\n",
              "Blue Ribbon Taxi Association Inc.     581908\n",
              "Choice Taxi Association               400096\n",
              "Taxicab Insurance Agency, LLC         340868\n",
              "Name: trip_id, dtype: int64"
            ]
          },
          "metadata": {},
          "execution_count": 183
        }
      ],
      "source": [
        "# Query 3: Number of trips by Taxi Company - using Pandas\n",
        "start_time = get_time()\n",
        "taxi_trips_pdf.groupby('company').count()['trip_id'].sort_values(ascending=False).head(10)\n"
      ]
    },
    {
      "cell_type": "code",
      "source": [
        "print(get_time_diff(start_time, get_time()))"
      ],
      "metadata": {
        "colab": {
          "base_uri": "https://localhost:8080/"
        },
        "id": "k956MAzcwu2y",
        "outputId": "decf414f-748e-46c8-c4f3-094dc8cf292f"
      },
      "id": "k956MAzcwu2y",
      "execution_count": 184,
      "outputs": [
        {
          "output_type": "stream",
          "name": "stdout",
          "text": [
            "Elapsed time: 6.2821 seconds\n"
          ]
        },
        {
          "output_type": "execute_result",
          "data": {
            "text/plain": [
              "6.282142600000952"
            ]
          },
          "metadata": {},
          "execution_count": 184
        }
      ]
    },
    {
      "cell_type": "code",
      "execution_count": 185,
      "id": "51d5103a",
      "metadata": {
        "id": "51d5103a",
        "colab": {
          "base_uri": "https://localhost:8080/"
        },
        "outputId": "a6e3d82f-0174-4864-bdcb-6a8df46e8680"
      },
      "outputs": [
        {
          "output_type": "execute_result",
          "data": {
            "text/plain": [
              "company\n",
              "Taxi Affiliation Services            2769009\n",
              "Chicago Carriage Cab Corp            1506931\n",
              "Flash Cab                            1220891\n",
              "Sun Taxi                             1046724\n",
              "Medallion Leasin                      932280\n",
              "City Service                          906870\n",
              "Star North Management LLC             742670\n",
              "Blue Ribbon Taxi Association Inc.     581908\n",
              "Choice Taxi Association               400096\n",
              "Taxicab Insurance Agency, LLC         340868\n",
              "Name: trip_id, dtype: int64"
            ]
          },
          "metadata": {},
          "execution_count": 185
        }
      ],
      "source": [
        "# Query 3: Number of trips by Taxi Company - using Terality\n",
        "start_time = get_time()\n",
        "taxi_trips_tdf.groupby('company').count()['trip_id'].sort_values(ascending=False).head(10)\n"
      ]
    },
    {
      "cell_type": "code",
      "source": [
        "print(get_time_diff(start_time, get_time()))"
      ],
      "metadata": {
        "colab": {
          "base_uri": "https://localhost:8080/"
        },
        "id": "stMlsqLyI4qb",
        "outputId": "99840dab-7807-477d-d0c8-966197eaf3ce"
      },
      "id": "stMlsqLyI4qb",
      "execution_count": 186,
      "outputs": [
        {
          "output_type": "stream",
          "name": "stdout",
          "text": [
            "Elapsed time: 26.4996 seconds\n"
          ]
        },
        {
          "output_type": "execute_result",
          "data": {
            "text/plain": [
              "26.49955360000604"
            ]
          },
          "metadata": {},
          "execution_count": 186
        }
      ]
    },
    {
      "cell_type": "code",
      "source": [
        "# Query 4: Sort by Taxi Company - using Pandas\n",
        "start_time = get_time()\n",
        "taxi_trips_pdf.sort_values(by=\"company\")\n",
        "print(get_time_diff(start_time, get_time()))"
      ],
      "metadata": {
        "colab": {
          "base_uri": "https://localhost:8080/"
        },
        "id": "xxCUE6fgI7ga",
        "outputId": "093e6360-b67b-4043-e2d6-b5e08f961016"
      },
      "id": "xxCUE6fgI7ga",
      "execution_count": 187,
      "outputs": [
        {
          "output_type": "stream",
          "name": "stdout",
          "text": [
            "Elapsed time: 14.3080 seconds\n"
          ]
        },
        {
          "output_type": "execute_result",
          "data": {
            "text/plain": [
              "14.307979899997008"
            ]
          },
          "metadata": {},
          "execution_count": 187
        }
      ]
    },
    {
      "cell_type": "code",
      "source": [
        "# Query 4: Sort by Taxi Company - using Terality\n",
        "start_time = get_time()\n",
        "taxi_trips_tdf.sort_values(by=\"company\")\n",
        "print(get_time_diff(start_time, get_time()))"
      ],
      "metadata": {
        "colab": {
          "base_uri": "https://localhost:8080/"
        },
        "id": "4Bpf2neyJDVT",
        "outputId": "e4811c9f-ee6f-4254-974e-65b5c772b831"
      },
      "id": "4Bpf2neyJDVT",
      "execution_count": 188,
      "outputs": [
        {
          "output_type": "stream",
          "name": "stdout",
          "text": [
            "Elapsed time: 17.9864 seconds\n"
          ]
        },
        {
          "output_type": "execute_result",
          "data": {
            "text/plain": [
              "17.986363899995922"
            ]
          },
          "metadata": {},
          "execution_count": 188
        }
      ]
    },
    {
      "cell_type": "code",
      "source": [
        "range = get_slice_range(row_count)\n",
        "print(\"Start: %d, End: %d\" % range)\n"
      ],
      "metadata": {
        "colab": {
          "base_uri": "https://localhost:8080/"
        },
        "id": "GYP-ex-GgXyi",
        "outputId": "58e53585-8c1a-4ac7-dfb9-0ca52041841c"
      },
      "id": "GYP-ex-GgXyi",
      "execution_count": 189,
      "outputs": [
        {
          "output_type": "stream",
          "name": "stdout",
          "text": [
            "Start: 11726145, End: 11726587\n"
          ]
        }
      ]
    },
    {
      "cell_type": "code",
      "source": [
        "# Query 5: Slicing using random numbers for start and end - using Pandas\n",
        "start_time = get_time()\n",
        "taxi_trips_pdf[range[0]:range[1]]"
      ],
      "metadata": {
        "colab": {
          "base_uri": "https://localhost:8080/",
          "height": 617
        },
        "id": "_MVI8zALJFYs",
        "outputId": "87e12766-f823-4b46-8cde-1a86b43ccc07"
      },
      "id": "_MVI8zALJFYs",
      "execution_count": 190,
      "outputs": [
        {
          "output_type": "execute_result",
          "data": {
            "text/plain": [
              "                                           trip_id  \\\n",
              "18534701  9a088fe5e973ea5bfaa2436e4291dfbf464fd5d8   \n",
              "18534703  99733028b7fed5c52fb86b0274e64dcb12307c7c   \n",
              "18534704  99947395f306b17eeb50a9ffbbe11de26f5a4cf1   \n",
              "18534705  98948064165785d24b8d87bc0d01bfa9facc1f8f   \n",
              "18534708  985b84075003d4b7831418e43553039c079f0eae   \n",
              "...                                            ...   \n",
              "18535323  41dd5d8f91b4de1deb5adf1d521bbf27327c273e   \n",
              "18535324  42ebba5e8a082b6c8800904b0a6cdedb7a9fffeb   \n",
              "18535325  406e80a702262eb0bdef0b4515f702977dcc19df   \n",
              "18535327  4268219cee2844941d3c284a1c4909b58af81011   \n",
              "18535328  4175da7b7fb52af32872cfaa96430f03e28f1dc7   \n",
              "\n",
              "                                                    taxi_id  \\\n",
              "18534701  ed5ea8aa629c794c3ecfef8ef582d7b6077a7a4c25e000...   \n",
              "18534703  f8e444c5987ebb8995986108b5cbb0ebade565cf6a9e3f...   \n",
              "18534704  ba48aac1be874e3212623beb83b4538c5567a8676f2cf3...   \n",
              "18534705  99cde37aeabdaa069a6b277bae9976d94d0095aba59302...   \n",
              "18534708  b884dd3799982951b7b1293d92a3e6e90ba3483a6fdbf2...   \n",
              "...                                                     ...   \n",
              "18535323  050533f7d5b99dfd788daf40b484fb43fbb69aeb8c6231...   \n",
              "18535324  e8b30fe3cdcf458994b6943ba607e06f31b92202cab6b7...   \n",
              "18535325  034ec4437f304cffcd4acf850106574343e69d3c5424ac...   \n",
              "18535327  59cfe5aef1ecdd4418c373fe7848fb1f9defcbcfe70f17...   \n",
              "18535328  773cd87ed1c8254ae93716d9edbaede8d97274688541e2...   \n",
              "\n",
              "            trip_start_timestamp      trip_end_timestamp  trip_seconds  \\\n",
              "18534701  02/26/2020 06:15:00 PM  02/26/2020 06:15:00 PM         359.0   \n",
              "18534703  02/26/2020 06:15:00 PM  02/26/2020 06:15:00 PM         360.0   \n",
              "18534704  02/26/2020 06:15:00 PM  02/26/2020 06:30:00 PM        1260.0   \n",
              "18534705  02/26/2020 06:15:00 PM  02/26/2020 06:15:00 PM         480.0   \n",
              "18534708  02/26/2020 06:15:00 PM  02/26/2020 06:30:00 PM         623.0   \n",
              "...                          ...                     ...           ...   \n",
              "18535323  02/26/2020 06:30:00 PM  02/26/2020 07:00:00 PM        1073.0   \n",
              "18535324  02/26/2020 06:30:00 PM  02/26/2020 06:30:00 PM         273.0   \n",
              "18535325  02/26/2020 06:30:00 PM  02/26/2020 06:30:00 PM         525.0   \n",
              "18535327  02/26/2020 06:30:00 PM  02/26/2020 07:15:00 PM        3325.0   \n",
              "18535328  02/26/2020 06:30:00 PM  02/26/2020 06:45:00 PM        1080.0   \n",
              "\n",
              "          trip_miles  pickup_census_tract  dropoff_census_tract  \\\n",
              "18534701        0.78         1.703132e+10          1.703184e+10   \n",
              "18534703        0.50         1.703184e+10          1.703128e+10   \n",
              "18534704        2.70         1.703184e+10          1.703107e+10   \n",
              "18534705        1.00         1.703184e+10          1.703184e+10   \n",
              "18534708        1.59         1.703184e+10          1.703108e+10   \n",
              "...              ...                  ...                   ...   \n",
              "18535323        3.49         1.703128e+10          1.703107e+10   \n",
              "18535324        0.81         1.703108e+10          1.703128e+10   \n",
              "18535325        1.29         1.703128e+10          1.703108e+10   \n",
              "18535327        2.64         1.703108e+10          1.703107e+10   \n",
              "18535328        2.00         1.703128e+10          1.703108e+10   \n",
              "\n",
              "          pickup_community_area  dropoff_community_area  ...  \\\n",
              "18534701                   32.0                    32.0  ...   \n",
              "18534703                   32.0                    28.0  ...   \n",
              "18534704                   32.0                     7.0  ...   \n",
              "18534705                   32.0                    32.0  ...   \n",
              "18534708                   32.0                     8.0  ...   \n",
              "...                         ...                     ...  ...   \n",
              "18535323                   28.0                     7.0  ...   \n",
              "18535324                    8.0                    28.0  ...   \n",
              "18535325                   28.0                     8.0  ...   \n",
              "18535327                    8.0                     7.0  ...   \n",
              "18535328                   28.0                     8.0  ...   \n",
              "\n",
              "          pickup_centroid_latitude  pickup_centroid_longitude  \\\n",
              "18534701                 41.884987                 -87.620993   \n",
              "18534703                 41.880994                 -87.632746   \n",
              "18534704                 41.880994                 -87.632746   \n",
              "18534705                 41.880994                 -87.632746   \n",
              "18534708                 41.880994                 -87.632746   \n",
              "...                            ...                        ...   \n",
              "18535323                 41.885300                 -87.642808   \n",
              "18535324                 41.892042                 -87.631864   \n",
              "18535325                 41.879255                 -87.642649   \n",
              "18535327                 41.895033                 -87.619711   \n",
              "18535328                 41.879255                 -87.642649   \n",
              "\n",
              "                      pickup_centroid_location  dropoff_centroid_latitude  \\\n",
              "18534701  POINT (-87.6209929134 41.8849871918)                  41.880994   \n",
              "18534703  POINT (-87.6327464887 41.8809944707)                  41.879255   \n",
              "18534704  POINT (-87.6327464887 41.8809944707)                  41.914616   \n",
              "18534705  POINT (-87.6327464887 41.8809944707)                  41.880994   \n",
              "18534708  POINT (-87.6327464887 41.8809944707)                  41.899156   \n",
              "...                                        ...                        ...   \n",
              "18535323  POINT (-87.6428084655 41.8853000224)                  41.922083   \n",
              "18535324  POINT (-87.6318639497 41.8920421365)                  41.879255   \n",
              "18535325   POINT (-87.642648998 41.8792550844)                  41.893216   \n",
              "18535327  POINT (-87.6197106717 41.8950334495)                  41.929263   \n",
              "18535328   POINT (-87.642648998 41.8792550844)                  41.900221   \n",
              "\n",
              "          dropoff_centroid_longitude            dropoff_centroid__location  \\\n",
              "18534701                  -87.632746  POINT (-87.6327464887 41.8809944707)   \n",
              "18534703                  -87.642649   POINT (-87.642648998 41.8792550844)   \n",
              "18534704                  -87.631717  POINT (-87.6317173661 41.9146162864)   \n",
              "18534705                  -87.632746  POINT (-87.6327464887 41.8809944707)   \n",
              "18534708                  -87.626211  POINT (-87.6262105324 41.8991556134)   \n",
              "...                              ...                                   ...   \n",
              "18535323                  -87.634156   POINT (-87.6341560931 41.922082541)   \n",
              "18535324                  -87.642649   POINT (-87.642648998 41.8792550844)   \n",
              "18535325                  -87.637844  POINT (-87.6378442095 41.8932163595)   \n",
              "18535327                  -87.635891  POINT (-87.6358909539 41.9292629902)   \n",
              "18535328                  -87.629105  POINT (-87.6291051864 41.9002212967)   \n",
              "\n",
              "               trip_start_dt         trip_end_dt  trip_start_ym trip_end_ym  \n",
              "18534701 2020-02-26 18:15:00 2020-02-26 18:15:00        2020-02     2020-02  \n",
              "18534703 2020-02-26 18:15:00 2020-02-26 18:15:00        2020-02     2020-02  \n",
              "18534704 2020-02-26 18:15:00 2020-02-26 18:30:00        2020-02     2020-02  \n",
              "18534705 2020-02-26 18:15:00 2020-02-26 18:15:00        2020-02     2020-02  \n",
              "18534708 2020-02-26 18:15:00 2020-02-26 18:30:00        2020-02     2020-02  \n",
              "...                      ...                 ...            ...         ...  \n",
              "18535323 2020-02-26 18:30:00 2020-02-26 19:00:00        2020-02     2020-02  \n",
              "18535324 2020-02-26 18:30:00 2020-02-26 18:30:00        2020-02     2020-02  \n",
              "18535325 2020-02-26 18:30:00 2020-02-26 18:30:00        2020-02     2020-02  \n",
              "18535327 2020-02-26 18:30:00 2020-02-26 19:15:00        2020-02     2020-02  \n",
              "18535328 2020-02-26 18:30:00 2020-02-26 18:45:00        2020-02     2020-02  \n",
              "\n",
              "[442 rows x 27 columns]"
            ],
            "text/html": [
              "<div>\n",
              "<style scoped>\n",
              "    .dataframe tbody tr th:only-of-type {\n",
              "        vertical-align: middle;\n",
              "    }\n",
              "\n",
              "    .dataframe tbody tr th {\n",
              "        vertical-align: top;\n",
              "    }\n",
              "\n",
              "    .dataframe thead th {\n",
              "        text-align: right;\n",
              "    }\n",
              "</style>\n",
              "<table border=\"1\" class=\"dataframe\">\n",
              "  <thead>\n",
              "    <tr style=\"text-align: right;\">\n",
              "      <th></th>\n",
              "      <th>trip_id</th>\n",
              "      <th>taxi_id</th>\n",
              "      <th>trip_start_timestamp</th>\n",
              "      <th>trip_end_timestamp</th>\n",
              "      <th>trip_seconds</th>\n",
              "      <th>trip_miles</th>\n",
              "      <th>pickup_census_tract</th>\n",
              "      <th>dropoff_census_tract</th>\n",
              "      <th>pickup_community_area</th>\n",
              "      <th>dropoff_community_area</th>\n",
              "      <th>...</th>\n",
              "      <th>pickup_centroid_latitude</th>\n",
              "      <th>pickup_centroid_longitude</th>\n",
              "      <th>pickup_centroid_location</th>\n",
              "      <th>dropoff_centroid_latitude</th>\n",
              "      <th>dropoff_centroid_longitude</th>\n",
              "      <th>dropoff_centroid__location</th>\n",
              "      <th>trip_start_dt</th>\n",
              "      <th>trip_end_dt</th>\n",
              "      <th>trip_start_ym</th>\n",
              "      <th>trip_end_ym</th>\n",
              "    </tr>\n",
              "  </thead>\n",
              "  <tbody>\n",
              "    <tr>\n",
              "      <th>18534701</th>\n",
              "      <td>9a088fe5e973ea5bfaa2436e4291dfbf464fd5d8</td>\n",
              "      <td>ed5ea8aa629c794c3ecfef8ef582d7b6077a7a4c25e000...</td>\n",
              "      <td>02/26/2020 06:15:00 PM</td>\n",
              "      <td>02/26/2020 06:15:00 PM</td>\n",
              "      <td>359.0</td>\n",
              "      <td>0.78</td>\n",
              "      <td>1.703132e+10</td>\n",
              "      <td>1.703184e+10</td>\n",
              "      <td>32.0</td>\n",
              "      <td>32.0</td>\n",
              "      <td>...</td>\n",
              "      <td>41.884987</td>\n",
              "      <td>-87.620993</td>\n",
              "      <td>POINT (-87.6209929134 41.8849871918)</td>\n",
              "      <td>41.880994</td>\n",
              "      <td>-87.632746</td>\n",
              "      <td>POINT (-87.6327464887 41.8809944707)</td>\n",
              "      <td>2020-02-26 18:15:00</td>\n",
              "      <td>2020-02-26 18:15:00</td>\n",
              "      <td>2020-02</td>\n",
              "      <td>2020-02</td>\n",
              "    </tr>\n",
              "    <tr>\n",
              "      <th>18534703</th>\n",
              "      <td>99733028b7fed5c52fb86b0274e64dcb12307c7c</td>\n",
              "      <td>f8e444c5987ebb8995986108b5cbb0ebade565cf6a9e3f...</td>\n",
              "      <td>02/26/2020 06:15:00 PM</td>\n",
              "      <td>02/26/2020 06:15:00 PM</td>\n",
              "      <td>360.0</td>\n",
              "      <td>0.50</td>\n",
              "      <td>1.703184e+10</td>\n",
              "      <td>1.703128e+10</td>\n",
              "      <td>32.0</td>\n",
              "      <td>28.0</td>\n",
              "      <td>...</td>\n",
              "      <td>41.880994</td>\n",
              "      <td>-87.632746</td>\n",
              "      <td>POINT (-87.6327464887 41.8809944707)</td>\n",
              "      <td>41.879255</td>\n",
              "      <td>-87.642649</td>\n",
              "      <td>POINT (-87.642648998 41.8792550844)</td>\n",
              "      <td>2020-02-26 18:15:00</td>\n",
              "      <td>2020-02-26 18:15:00</td>\n",
              "      <td>2020-02</td>\n",
              "      <td>2020-02</td>\n",
              "    </tr>\n",
              "    <tr>\n",
              "      <th>18534704</th>\n",
              "      <td>99947395f306b17eeb50a9ffbbe11de26f5a4cf1</td>\n",
              "      <td>ba48aac1be874e3212623beb83b4538c5567a8676f2cf3...</td>\n",
              "      <td>02/26/2020 06:15:00 PM</td>\n",
              "      <td>02/26/2020 06:30:00 PM</td>\n",
              "      <td>1260.0</td>\n",
              "      <td>2.70</td>\n",
              "      <td>1.703184e+10</td>\n",
              "      <td>1.703107e+10</td>\n",
              "      <td>32.0</td>\n",
              "      <td>7.0</td>\n",
              "      <td>...</td>\n",
              "      <td>41.880994</td>\n",
              "      <td>-87.632746</td>\n",
              "      <td>POINT (-87.6327464887 41.8809944707)</td>\n",
              "      <td>41.914616</td>\n",
              "      <td>-87.631717</td>\n",
              "      <td>POINT (-87.6317173661 41.9146162864)</td>\n",
              "      <td>2020-02-26 18:15:00</td>\n",
              "      <td>2020-02-26 18:30:00</td>\n",
              "      <td>2020-02</td>\n",
              "      <td>2020-02</td>\n",
              "    </tr>\n",
              "    <tr>\n",
              "      <th>18534705</th>\n",
              "      <td>98948064165785d24b8d87bc0d01bfa9facc1f8f</td>\n",
              "      <td>99cde37aeabdaa069a6b277bae9976d94d0095aba59302...</td>\n",
              "      <td>02/26/2020 06:15:00 PM</td>\n",
              "      <td>02/26/2020 06:15:00 PM</td>\n",
              "      <td>480.0</td>\n",
              "      <td>1.00</td>\n",
              "      <td>1.703184e+10</td>\n",
              "      <td>1.703184e+10</td>\n",
              "      <td>32.0</td>\n",
              "      <td>32.0</td>\n",
              "      <td>...</td>\n",
              "      <td>41.880994</td>\n",
              "      <td>-87.632746</td>\n",
              "      <td>POINT (-87.6327464887 41.8809944707)</td>\n",
              "      <td>41.880994</td>\n",
              "      <td>-87.632746</td>\n",
              "      <td>POINT (-87.6327464887 41.8809944707)</td>\n",
              "      <td>2020-02-26 18:15:00</td>\n",
              "      <td>2020-02-26 18:15:00</td>\n",
              "      <td>2020-02</td>\n",
              "      <td>2020-02</td>\n",
              "    </tr>\n",
              "    <tr>\n",
              "      <th>18534708</th>\n",
              "      <td>985b84075003d4b7831418e43553039c079f0eae</td>\n",
              "      <td>b884dd3799982951b7b1293d92a3e6e90ba3483a6fdbf2...</td>\n",
              "      <td>02/26/2020 06:15:00 PM</td>\n",
              "      <td>02/26/2020 06:30:00 PM</td>\n",
              "      <td>623.0</td>\n",
              "      <td>1.59</td>\n",
              "      <td>1.703184e+10</td>\n",
              "      <td>1.703108e+10</td>\n",
              "      <td>32.0</td>\n",
              "      <td>8.0</td>\n",
              "      <td>...</td>\n",
              "      <td>41.880994</td>\n",
              "      <td>-87.632746</td>\n",
              "      <td>POINT (-87.6327464887 41.8809944707)</td>\n",
              "      <td>41.899156</td>\n",
              "      <td>-87.626211</td>\n",
              "      <td>POINT (-87.6262105324 41.8991556134)</td>\n",
              "      <td>2020-02-26 18:15:00</td>\n",
              "      <td>2020-02-26 18:30:00</td>\n",
              "      <td>2020-02</td>\n",
              "      <td>2020-02</td>\n",
              "    </tr>\n",
              "    <tr>\n",
              "      <th>...</th>\n",
              "      <td>...</td>\n",
              "      <td>...</td>\n",
              "      <td>...</td>\n",
              "      <td>...</td>\n",
              "      <td>...</td>\n",
              "      <td>...</td>\n",
              "      <td>...</td>\n",
              "      <td>...</td>\n",
              "      <td>...</td>\n",
              "      <td>...</td>\n",
              "      <td>...</td>\n",
              "      <td>...</td>\n",
              "      <td>...</td>\n",
              "      <td>...</td>\n",
              "      <td>...</td>\n",
              "      <td>...</td>\n",
              "      <td>...</td>\n",
              "      <td>...</td>\n",
              "      <td>...</td>\n",
              "      <td>...</td>\n",
              "      <td>...</td>\n",
              "    </tr>\n",
              "    <tr>\n",
              "      <th>18535323</th>\n",
              "      <td>41dd5d8f91b4de1deb5adf1d521bbf27327c273e</td>\n",
              "      <td>050533f7d5b99dfd788daf40b484fb43fbb69aeb8c6231...</td>\n",
              "      <td>02/26/2020 06:30:00 PM</td>\n",
              "      <td>02/26/2020 07:00:00 PM</td>\n",
              "      <td>1073.0</td>\n",
              "      <td>3.49</td>\n",
              "      <td>1.703128e+10</td>\n",
              "      <td>1.703107e+10</td>\n",
              "      <td>28.0</td>\n",
              "      <td>7.0</td>\n",
              "      <td>...</td>\n",
              "      <td>41.885300</td>\n",
              "      <td>-87.642808</td>\n",
              "      <td>POINT (-87.6428084655 41.8853000224)</td>\n",
              "      <td>41.922083</td>\n",
              "      <td>-87.634156</td>\n",
              "      <td>POINT (-87.6341560931 41.922082541)</td>\n",
              "      <td>2020-02-26 18:30:00</td>\n",
              "      <td>2020-02-26 19:00:00</td>\n",
              "      <td>2020-02</td>\n",
              "      <td>2020-02</td>\n",
              "    </tr>\n",
              "    <tr>\n",
              "      <th>18535324</th>\n",
              "      <td>42ebba5e8a082b6c8800904b0a6cdedb7a9fffeb</td>\n",
              "      <td>e8b30fe3cdcf458994b6943ba607e06f31b92202cab6b7...</td>\n",
              "      <td>02/26/2020 06:30:00 PM</td>\n",
              "      <td>02/26/2020 06:30:00 PM</td>\n",
              "      <td>273.0</td>\n",
              "      <td>0.81</td>\n",
              "      <td>1.703108e+10</td>\n",
              "      <td>1.703128e+10</td>\n",
              "      <td>8.0</td>\n",
              "      <td>28.0</td>\n",
              "      <td>...</td>\n",
              "      <td>41.892042</td>\n",
              "      <td>-87.631864</td>\n",
              "      <td>POINT (-87.6318639497 41.8920421365)</td>\n",
              "      <td>41.879255</td>\n",
              "      <td>-87.642649</td>\n",
              "      <td>POINT (-87.642648998 41.8792550844)</td>\n",
              "      <td>2020-02-26 18:30:00</td>\n",
              "      <td>2020-02-26 18:30:00</td>\n",
              "      <td>2020-02</td>\n",
              "      <td>2020-02</td>\n",
              "    </tr>\n",
              "    <tr>\n",
              "      <th>18535325</th>\n",
              "      <td>406e80a702262eb0bdef0b4515f702977dcc19df</td>\n",
              "      <td>034ec4437f304cffcd4acf850106574343e69d3c5424ac...</td>\n",
              "      <td>02/26/2020 06:30:00 PM</td>\n",
              "      <td>02/26/2020 06:30:00 PM</td>\n",
              "      <td>525.0</td>\n",
              "      <td>1.29</td>\n",
              "      <td>1.703128e+10</td>\n",
              "      <td>1.703108e+10</td>\n",
              "      <td>28.0</td>\n",
              "      <td>8.0</td>\n",
              "      <td>...</td>\n",
              "      <td>41.879255</td>\n",
              "      <td>-87.642649</td>\n",
              "      <td>POINT (-87.642648998 41.8792550844)</td>\n",
              "      <td>41.893216</td>\n",
              "      <td>-87.637844</td>\n",
              "      <td>POINT (-87.6378442095 41.8932163595)</td>\n",
              "      <td>2020-02-26 18:30:00</td>\n",
              "      <td>2020-02-26 18:30:00</td>\n",
              "      <td>2020-02</td>\n",
              "      <td>2020-02</td>\n",
              "    </tr>\n",
              "    <tr>\n",
              "      <th>18535327</th>\n",
              "      <td>4268219cee2844941d3c284a1c4909b58af81011</td>\n",
              "      <td>59cfe5aef1ecdd4418c373fe7848fb1f9defcbcfe70f17...</td>\n",
              "      <td>02/26/2020 06:30:00 PM</td>\n",
              "      <td>02/26/2020 07:15:00 PM</td>\n",
              "      <td>3325.0</td>\n",
              "      <td>2.64</td>\n",
              "      <td>1.703108e+10</td>\n",
              "      <td>1.703107e+10</td>\n",
              "      <td>8.0</td>\n",
              "      <td>7.0</td>\n",
              "      <td>...</td>\n",
              "      <td>41.895033</td>\n",
              "      <td>-87.619711</td>\n",
              "      <td>POINT (-87.6197106717 41.8950334495)</td>\n",
              "      <td>41.929263</td>\n",
              "      <td>-87.635891</td>\n",
              "      <td>POINT (-87.6358909539 41.9292629902)</td>\n",
              "      <td>2020-02-26 18:30:00</td>\n",
              "      <td>2020-02-26 19:15:00</td>\n",
              "      <td>2020-02</td>\n",
              "      <td>2020-02</td>\n",
              "    </tr>\n",
              "    <tr>\n",
              "      <th>18535328</th>\n",
              "      <td>4175da7b7fb52af32872cfaa96430f03e28f1dc7</td>\n",
              "      <td>773cd87ed1c8254ae93716d9edbaede8d97274688541e2...</td>\n",
              "      <td>02/26/2020 06:30:00 PM</td>\n",
              "      <td>02/26/2020 06:45:00 PM</td>\n",
              "      <td>1080.0</td>\n",
              "      <td>2.00</td>\n",
              "      <td>1.703128e+10</td>\n",
              "      <td>1.703108e+10</td>\n",
              "      <td>28.0</td>\n",
              "      <td>8.0</td>\n",
              "      <td>...</td>\n",
              "      <td>41.879255</td>\n",
              "      <td>-87.642649</td>\n",
              "      <td>POINT (-87.642648998 41.8792550844)</td>\n",
              "      <td>41.900221</td>\n",
              "      <td>-87.629105</td>\n",
              "      <td>POINT (-87.6291051864 41.9002212967)</td>\n",
              "      <td>2020-02-26 18:30:00</td>\n",
              "      <td>2020-02-26 18:45:00</td>\n",
              "      <td>2020-02</td>\n",
              "      <td>2020-02</td>\n",
              "    </tr>\n",
              "  </tbody>\n",
              "</table>\n",
              "<p>442 rows × 27 columns</p>\n",
              "</div>"
            ]
          },
          "metadata": {},
          "execution_count": 190
        }
      ]
    },
    {
      "cell_type": "code",
      "source": [
        "print(get_time_diff(start_time, get_time()))"
      ],
      "metadata": {
        "colab": {
          "base_uri": "https://localhost:8080/"
        },
        "id": "tKkpSvjqgNsA",
        "outputId": "343d8893-de5f-4998-fd4f-e21beceaff5a"
      },
      "id": "tKkpSvjqgNsA",
      "execution_count": 191,
      "outputs": [
        {
          "output_type": "stream",
          "name": "stdout",
          "text": [
            "Elapsed time: 0.0570 seconds\n"
          ]
        },
        {
          "output_type": "execute_result",
          "data": {
            "text/plain": [
              "0.05695739999646321"
            ]
          },
          "metadata": {},
          "execution_count": 191
        }
      ]
    },
    {
      "cell_type": "code",
      "source": [
        "# Query 5: Slicing using random numbers for start and end - using Terality\n",
        "start_time = get_time()\n",
        "taxi_trips_tdf[range[0]:range[1]]"
      ],
      "metadata": {
        "colab": {
          "base_uri": "https://localhost:8080/",
          "height": 617
        },
        "id": "08xojzDMJN-U",
        "outputId": "2a9cfddc-4df0-4e09-a68f-76b4329151f1"
      },
      "id": "08xojzDMJN-U",
      "execution_count": 192,
      "outputs": [
        {
          "output_type": "execute_result",
          "data": {
            "text/plain": [
              "                                           trip_id  \\\n",
              "18534701  9a088fe5e973ea5bfaa2436e4291dfbf464fd5d8   \n",
              "18534703  99733028b7fed5c52fb86b0274e64dcb12307c7c   \n",
              "18534704  99947395f306b17eeb50a9ffbbe11de26f5a4cf1   \n",
              "18534705  98948064165785d24b8d87bc0d01bfa9facc1f8f   \n",
              "18534708  985b84075003d4b7831418e43553039c079f0eae   \n",
              "...                                            ...   \n",
              "18535323  41dd5d8f91b4de1deb5adf1d521bbf27327c273e   \n",
              "18535324  42ebba5e8a082b6c8800904b0a6cdedb7a9fffeb   \n",
              "18535325  406e80a702262eb0bdef0b4515f702977dcc19df   \n",
              "18535327  4268219cee2844941d3c284a1c4909b58af81011   \n",
              "18535328  4175da7b7fb52af32872cfaa96430f03e28f1dc7   \n",
              "\n",
              "                                                    taxi_id  \\\n",
              "18534701  ed5ea8aa629c794c3ecfef8ef582d7b6077a7a4c25e000...   \n",
              "18534703  f8e444c5987ebb8995986108b5cbb0ebade565cf6a9e3f...   \n",
              "18534704  ba48aac1be874e3212623beb83b4538c5567a8676f2cf3...   \n",
              "18534705  99cde37aeabdaa069a6b277bae9976d94d0095aba59302...   \n",
              "18534708  b884dd3799982951b7b1293d92a3e6e90ba3483a6fdbf2...   \n",
              "...                                                     ...   \n",
              "18535323  050533f7d5b99dfd788daf40b484fb43fbb69aeb8c6231...   \n",
              "18535324  e8b30fe3cdcf458994b6943ba607e06f31b92202cab6b7...   \n",
              "18535325  034ec4437f304cffcd4acf850106574343e69d3c5424ac...   \n",
              "18535327  59cfe5aef1ecdd4418c373fe7848fb1f9defcbcfe70f17...   \n",
              "18535328  773cd87ed1c8254ae93716d9edbaede8d97274688541e2...   \n",
              "\n",
              "            trip_start_timestamp      trip_end_timestamp  trip_seconds  \\\n",
              "18534701  02/26/2020 06:15:00 PM  02/26/2020 06:15:00 PM         359.0   \n",
              "18534703  02/26/2020 06:15:00 PM  02/26/2020 06:15:00 PM         360.0   \n",
              "18534704  02/26/2020 06:15:00 PM  02/26/2020 06:30:00 PM        1260.0   \n",
              "18534705  02/26/2020 06:15:00 PM  02/26/2020 06:15:00 PM         480.0   \n",
              "18534708  02/26/2020 06:15:00 PM  02/26/2020 06:30:00 PM         623.0   \n",
              "...                          ...                     ...           ...   \n",
              "18535323  02/26/2020 06:30:00 PM  02/26/2020 07:00:00 PM        1073.0   \n",
              "18535324  02/26/2020 06:30:00 PM  02/26/2020 06:30:00 PM         273.0   \n",
              "18535325  02/26/2020 06:30:00 PM  02/26/2020 06:30:00 PM         525.0   \n",
              "18535327  02/26/2020 06:30:00 PM  02/26/2020 07:15:00 PM        3325.0   \n",
              "18535328  02/26/2020 06:30:00 PM  02/26/2020 06:45:00 PM        1080.0   \n",
              "\n",
              "          trip_miles  pickup_census_tract  dropoff_census_tract  \\\n",
              "18534701        0.78         1.703132e+10          1.703184e+10   \n",
              "18534703        0.50         1.703184e+10          1.703128e+10   \n",
              "18534704        2.70         1.703184e+10          1.703107e+10   \n",
              "18534705        1.00         1.703184e+10          1.703184e+10   \n",
              "18534708        1.59         1.703184e+10          1.703108e+10   \n",
              "...              ...                  ...                   ...   \n",
              "18535323        3.49         1.703128e+10          1.703107e+10   \n",
              "18535324        0.81         1.703108e+10          1.703128e+10   \n",
              "18535325        1.29         1.703128e+10          1.703108e+10   \n",
              "18535327        2.64         1.703108e+10          1.703107e+10   \n",
              "18535328        2.00         1.703128e+10          1.703108e+10   \n",
              "\n",
              "          pickup_community_area  dropoff_community_area  ...  \\\n",
              "18534701                   32.0                    32.0  ...   \n",
              "18534703                   32.0                    28.0  ...   \n",
              "18534704                   32.0                     7.0  ...   \n",
              "18534705                   32.0                    32.0  ...   \n",
              "18534708                   32.0                     8.0  ...   \n",
              "...                         ...                     ...  ...   \n",
              "18535323                   28.0                     7.0  ...   \n",
              "18535324                    8.0                    28.0  ...   \n",
              "18535325                   28.0                     8.0  ...   \n",
              "18535327                    8.0                     7.0  ...   \n",
              "18535328                   28.0                     8.0  ...   \n",
              "\n",
              "          pickup_centroid_latitude  pickup_centroid_longitude  \\\n",
              "18534701                 41.884987                 -87.620993   \n",
              "18534703                 41.880994                 -87.632746   \n",
              "18534704                 41.880994                 -87.632746   \n",
              "18534705                 41.880994                 -87.632746   \n",
              "18534708                 41.880994                 -87.632746   \n",
              "...                            ...                        ...   \n",
              "18535323                 41.885300                 -87.642808   \n",
              "18535324                 41.892042                 -87.631864   \n",
              "18535325                 41.879255                 -87.642649   \n",
              "18535327                 41.895033                 -87.619711   \n",
              "18535328                 41.879255                 -87.642649   \n",
              "\n",
              "                      pickup_centroid_location  dropoff_centroid_latitude  \\\n",
              "18534701  POINT (-87.6209929134 41.8849871918)                  41.880994   \n",
              "18534703  POINT (-87.6327464887 41.8809944707)                  41.879255   \n",
              "18534704  POINT (-87.6327464887 41.8809944707)                  41.914616   \n",
              "18534705  POINT (-87.6327464887 41.8809944707)                  41.880994   \n",
              "18534708  POINT (-87.6327464887 41.8809944707)                  41.899156   \n",
              "...                                        ...                        ...   \n",
              "18535323  POINT (-87.6428084655 41.8853000224)                  41.922083   \n",
              "18535324  POINT (-87.6318639497 41.8920421365)                  41.879255   \n",
              "18535325   POINT (-87.642648998 41.8792550844)                  41.893216   \n",
              "18535327  POINT (-87.6197106717 41.8950334495)                  41.929263   \n",
              "18535328   POINT (-87.642648998 41.8792550844)                  41.900221   \n",
              "\n",
              "          dropoff_centroid_longitude            dropoff_centroid__location  \\\n",
              "18534701                  -87.632746  POINT (-87.6327464887 41.8809944707)   \n",
              "18534703                  -87.642649   POINT (-87.642648998 41.8792550844)   \n",
              "18534704                  -87.631717  POINT (-87.6317173661 41.9146162864)   \n",
              "18534705                  -87.632746  POINT (-87.6327464887 41.8809944707)   \n",
              "18534708                  -87.626211  POINT (-87.6262105324 41.8991556134)   \n",
              "...                              ...                                   ...   \n",
              "18535323                  -87.634156   POINT (-87.6341560931 41.922082541)   \n",
              "18535324                  -87.642649   POINT (-87.642648998 41.8792550844)   \n",
              "18535325                  -87.637844  POINT (-87.6378442095 41.8932163595)   \n",
              "18535327                  -87.635891  POINT (-87.6358909539 41.9292629902)   \n",
              "18535328                  -87.629105  POINT (-87.6291051864 41.9002212967)   \n",
              "\n",
              "               trip_start_dt         trip_end_dt  trip_start_ym trip_end_ym  \n",
              "18534701 2020-02-26 18:15:00 2020-02-26 18:15:00        2020-02     2020-02  \n",
              "18534703 2020-02-26 18:15:00 2020-02-26 18:15:00        2020-02     2020-02  \n",
              "18534704 2020-02-26 18:15:00 2020-02-26 18:30:00        2020-02     2020-02  \n",
              "18534705 2020-02-26 18:15:00 2020-02-26 18:15:00        2020-02     2020-02  \n",
              "18534708 2020-02-26 18:15:00 2020-02-26 18:30:00        2020-02     2020-02  \n",
              "...                      ...                 ...            ...         ...  \n",
              "18535323 2020-02-26 18:30:00 2020-02-26 19:00:00        2020-02     2020-02  \n",
              "18535324 2020-02-26 18:30:00 2020-02-26 18:30:00        2020-02     2020-02  \n",
              "18535325 2020-02-26 18:30:00 2020-02-26 18:30:00        2020-02     2020-02  \n",
              "18535327 2020-02-26 18:30:00 2020-02-26 19:15:00        2020-02     2020-02  \n",
              "18535328 2020-02-26 18:30:00 2020-02-26 18:45:00        2020-02     2020-02  \n",
              "\n",
              "[442 rows x 27 columns]"
            ],
            "text/html": [
              "<div>\n",
              "<style scoped>\n",
              "    .dataframe tbody tr th:only-of-type {\n",
              "        vertical-align: middle;\n",
              "    }\n",
              "\n",
              "    .dataframe tbody tr th {\n",
              "        vertical-align: top;\n",
              "    }\n",
              "\n",
              "    .dataframe thead th {\n",
              "        text-align: right;\n",
              "    }\n",
              "</style>\n",
              "<table border=\"1\" class=\"dataframe\">\n",
              "  <thead>\n",
              "    <tr style=\"text-align: right;\">\n",
              "      <th></th>\n",
              "      <th>trip_id</th>\n",
              "      <th>taxi_id</th>\n",
              "      <th>trip_start_timestamp</th>\n",
              "      <th>trip_end_timestamp</th>\n",
              "      <th>trip_seconds</th>\n",
              "      <th>trip_miles</th>\n",
              "      <th>pickup_census_tract</th>\n",
              "      <th>dropoff_census_tract</th>\n",
              "      <th>pickup_community_area</th>\n",
              "      <th>dropoff_community_area</th>\n",
              "      <th>...</th>\n",
              "      <th>pickup_centroid_latitude</th>\n",
              "      <th>pickup_centroid_longitude</th>\n",
              "      <th>pickup_centroid_location</th>\n",
              "      <th>dropoff_centroid_latitude</th>\n",
              "      <th>dropoff_centroid_longitude</th>\n",
              "      <th>dropoff_centroid__location</th>\n",
              "      <th>trip_start_dt</th>\n",
              "      <th>trip_end_dt</th>\n",
              "      <th>trip_start_ym</th>\n",
              "      <th>trip_end_ym</th>\n",
              "    </tr>\n",
              "  </thead>\n",
              "  <tbody>\n",
              "    <tr>\n",
              "      <th>18534701</th>\n",
              "      <td>9a088fe5e973ea5bfaa2436e4291dfbf464fd5d8</td>\n",
              "      <td>ed5ea8aa629c794c3ecfef8ef582d7b6077a7a4c25e000...</td>\n",
              "      <td>02/26/2020 06:15:00 PM</td>\n",
              "      <td>02/26/2020 06:15:00 PM</td>\n",
              "      <td>359.0</td>\n",
              "      <td>0.78</td>\n",
              "      <td>1.703132e+10</td>\n",
              "      <td>1.703184e+10</td>\n",
              "      <td>32.0</td>\n",
              "      <td>32.0</td>\n",
              "      <td>...</td>\n",
              "      <td>41.884987</td>\n",
              "      <td>-87.620993</td>\n",
              "      <td>POINT (-87.6209929134 41.8849871918)</td>\n",
              "      <td>41.880994</td>\n",
              "      <td>-87.632746</td>\n",
              "      <td>POINT (-87.6327464887 41.8809944707)</td>\n",
              "      <td>2020-02-26 18:15:00</td>\n",
              "      <td>2020-02-26 18:15:00</td>\n",
              "      <td>2020-02</td>\n",
              "      <td>2020-02</td>\n",
              "    </tr>\n",
              "    <tr>\n",
              "      <th>18534703</th>\n",
              "      <td>99733028b7fed5c52fb86b0274e64dcb12307c7c</td>\n",
              "      <td>f8e444c5987ebb8995986108b5cbb0ebade565cf6a9e3f...</td>\n",
              "      <td>02/26/2020 06:15:00 PM</td>\n",
              "      <td>02/26/2020 06:15:00 PM</td>\n",
              "      <td>360.0</td>\n",
              "      <td>0.50</td>\n",
              "      <td>1.703184e+10</td>\n",
              "      <td>1.703128e+10</td>\n",
              "      <td>32.0</td>\n",
              "      <td>28.0</td>\n",
              "      <td>...</td>\n",
              "      <td>41.880994</td>\n",
              "      <td>-87.632746</td>\n",
              "      <td>POINT (-87.6327464887 41.8809944707)</td>\n",
              "      <td>41.879255</td>\n",
              "      <td>-87.642649</td>\n",
              "      <td>POINT (-87.642648998 41.8792550844)</td>\n",
              "      <td>2020-02-26 18:15:00</td>\n",
              "      <td>2020-02-26 18:15:00</td>\n",
              "      <td>2020-02</td>\n",
              "      <td>2020-02</td>\n",
              "    </tr>\n",
              "    <tr>\n",
              "      <th>18534704</th>\n",
              "      <td>99947395f306b17eeb50a9ffbbe11de26f5a4cf1</td>\n",
              "      <td>ba48aac1be874e3212623beb83b4538c5567a8676f2cf3...</td>\n",
              "      <td>02/26/2020 06:15:00 PM</td>\n",
              "      <td>02/26/2020 06:30:00 PM</td>\n",
              "      <td>1260.0</td>\n",
              "      <td>2.70</td>\n",
              "      <td>1.703184e+10</td>\n",
              "      <td>1.703107e+10</td>\n",
              "      <td>32.0</td>\n",
              "      <td>7.0</td>\n",
              "      <td>...</td>\n",
              "      <td>41.880994</td>\n",
              "      <td>-87.632746</td>\n",
              "      <td>POINT (-87.6327464887 41.8809944707)</td>\n",
              "      <td>41.914616</td>\n",
              "      <td>-87.631717</td>\n",
              "      <td>POINT (-87.6317173661 41.9146162864)</td>\n",
              "      <td>2020-02-26 18:15:00</td>\n",
              "      <td>2020-02-26 18:30:00</td>\n",
              "      <td>2020-02</td>\n",
              "      <td>2020-02</td>\n",
              "    </tr>\n",
              "    <tr>\n",
              "      <th>18534705</th>\n",
              "      <td>98948064165785d24b8d87bc0d01bfa9facc1f8f</td>\n",
              "      <td>99cde37aeabdaa069a6b277bae9976d94d0095aba59302...</td>\n",
              "      <td>02/26/2020 06:15:00 PM</td>\n",
              "      <td>02/26/2020 06:15:00 PM</td>\n",
              "      <td>480.0</td>\n",
              "      <td>1.00</td>\n",
              "      <td>1.703184e+10</td>\n",
              "      <td>1.703184e+10</td>\n",
              "      <td>32.0</td>\n",
              "      <td>32.0</td>\n",
              "      <td>...</td>\n",
              "      <td>41.880994</td>\n",
              "      <td>-87.632746</td>\n",
              "      <td>POINT (-87.6327464887 41.8809944707)</td>\n",
              "      <td>41.880994</td>\n",
              "      <td>-87.632746</td>\n",
              "      <td>POINT (-87.6327464887 41.8809944707)</td>\n",
              "      <td>2020-02-26 18:15:00</td>\n",
              "      <td>2020-02-26 18:15:00</td>\n",
              "      <td>2020-02</td>\n",
              "      <td>2020-02</td>\n",
              "    </tr>\n",
              "    <tr>\n",
              "      <th>18534708</th>\n",
              "      <td>985b84075003d4b7831418e43553039c079f0eae</td>\n",
              "      <td>b884dd3799982951b7b1293d92a3e6e90ba3483a6fdbf2...</td>\n",
              "      <td>02/26/2020 06:15:00 PM</td>\n",
              "      <td>02/26/2020 06:30:00 PM</td>\n",
              "      <td>623.0</td>\n",
              "      <td>1.59</td>\n",
              "      <td>1.703184e+10</td>\n",
              "      <td>1.703108e+10</td>\n",
              "      <td>32.0</td>\n",
              "      <td>8.0</td>\n",
              "      <td>...</td>\n",
              "      <td>41.880994</td>\n",
              "      <td>-87.632746</td>\n",
              "      <td>POINT (-87.6327464887 41.8809944707)</td>\n",
              "      <td>41.899156</td>\n",
              "      <td>-87.626211</td>\n",
              "      <td>POINT (-87.6262105324 41.8991556134)</td>\n",
              "      <td>2020-02-26 18:15:00</td>\n",
              "      <td>2020-02-26 18:30:00</td>\n",
              "      <td>2020-02</td>\n",
              "      <td>2020-02</td>\n",
              "    </tr>\n",
              "    <tr>\n",
              "      <th>...</th>\n",
              "      <td>...</td>\n",
              "      <td>...</td>\n",
              "      <td>...</td>\n",
              "      <td>...</td>\n",
              "      <td>...</td>\n",
              "      <td>...</td>\n",
              "      <td>...</td>\n",
              "      <td>...</td>\n",
              "      <td>...</td>\n",
              "      <td>...</td>\n",
              "      <td>...</td>\n",
              "      <td>...</td>\n",
              "      <td>...</td>\n",
              "      <td>...</td>\n",
              "      <td>...</td>\n",
              "      <td>...</td>\n",
              "      <td>...</td>\n",
              "      <td>...</td>\n",
              "      <td>...</td>\n",
              "      <td>...</td>\n",
              "      <td>...</td>\n",
              "    </tr>\n",
              "    <tr>\n",
              "      <th>18535323</th>\n",
              "      <td>41dd5d8f91b4de1deb5adf1d521bbf27327c273e</td>\n",
              "      <td>050533f7d5b99dfd788daf40b484fb43fbb69aeb8c6231...</td>\n",
              "      <td>02/26/2020 06:30:00 PM</td>\n",
              "      <td>02/26/2020 07:00:00 PM</td>\n",
              "      <td>1073.0</td>\n",
              "      <td>3.49</td>\n",
              "      <td>1.703128e+10</td>\n",
              "      <td>1.703107e+10</td>\n",
              "      <td>28.0</td>\n",
              "      <td>7.0</td>\n",
              "      <td>...</td>\n",
              "      <td>41.885300</td>\n",
              "      <td>-87.642808</td>\n",
              "      <td>POINT (-87.6428084655 41.8853000224)</td>\n",
              "      <td>41.922083</td>\n",
              "      <td>-87.634156</td>\n",
              "      <td>POINT (-87.6341560931 41.922082541)</td>\n",
              "      <td>2020-02-26 18:30:00</td>\n",
              "      <td>2020-02-26 19:00:00</td>\n",
              "      <td>2020-02</td>\n",
              "      <td>2020-02</td>\n",
              "    </tr>\n",
              "    <tr>\n",
              "      <th>18535324</th>\n",
              "      <td>42ebba5e8a082b6c8800904b0a6cdedb7a9fffeb</td>\n",
              "      <td>e8b30fe3cdcf458994b6943ba607e06f31b92202cab6b7...</td>\n",
              "      <td>02/26/2020 06:30:00 PM</td>\n",
              "      <td>02/26/2020 06:30:00 PM</td>\n",
              "      <td>273.0</td>\n",
              "      <td>0.81</td>\n",
              "      <td>1.703108e+10</td>\n",
              "      <td>1.703128e+10</td>\n",
              "      <td>8.0</td>\n",
              "      <td>28.0</td>\n",
              "      <td>...</td>\n",
              "      <td>41.892042</td>\n",
              "      <td>-87.631864</td>\n",
              "      <td>POINT (-87.6318639497 41.8920421365)</td>\n",
              "      <td>41.879255</td>\n",
              "      <td>-87.642649</td>\n",
              "      <td>POINT (-87.642648998 41.8792550844)</td>\n",
              "      <td>2020-02-26 18:30:00</td>\n",
              "      <td>2020-02-26 18:30:00</td>\n",
              "      <td>2020-02</td>\n",
              "      <td>2020-02</td>\n",
              "    </tr>\n",
              "    <tr>\n",
              "      <th>18535325</th>\n",
              "      <td>406e80a702262eb0bdef0b4515f702977dcc19df</td>\n",
              "      <td>034ec4437f304cffcd4acf850106574343e69d3c5424ac...</td>\n",
              "      <td>02/26/2020 06:30:00 PM</td>\n",
              "      <td>02/26/2020 06:30:00 PM</td>\n",
              "      <td>525.0</td>\n",
              "      <td>1.29</td>\n",
              "      <td>1.703128e+10</td>\n",
              "      <td>1.703108e+10</td>\n",
              "      <td>28.0</td>\n",
              "      <td>8.0</td>\n",
              "      <td>...</td>\n",
              "      <td>41.879255</td>\n",
              "      <td>-87.642649</td>\n",
              "      <td>POINT (-87.642648998 41.8792550844)</td>\n",
              "      <td>41.893216</td>\n",
              "      <td>-87.637844</td>\n",
              "      <td>POINT (-87.6378442095 41.8932163595)</td>\n",
              "      <td>2020-02-26 18:30:00</td>\n",
              "      <td>2020-02-26 18:30:00</td>\n",
              "      <td>2020-02</td>\n",
              "      <td>2020-02</td>\n",
              "    </tr>\n",
              "    <tr>\n",
              "      <th>18535327</th>\n",
              "      <td>4268219cee2844941d3c284a1c4909b58af81011</td>\n",
              "      <td>59cfe5aef1ecdd4418c373fe7848fb1f9defcbcfe70f17...</td>\n",
              "      <td>02/26/2020 06:30:00 PM</td>\n",
              "      <td>02/26/2020 07:15:00 PM</td>\n",
              "      <td>3325.0</td>\n",
              "      <td>2.64</td>\n",
              "      <td>1.703108e+10</td>\n",
              "      <td>1.703107e+10</td>\n",
              "      <td>8.0</td>\n",
              "      <td>7.0</td>\n",
              "      <td>...</td>\n",
              "      <td>41.895033</td>\n",
              "      <td>-87.619711</td>\n",
              "      <td>POINT (-87.6197106717 41.8950334495)</td>\n",
              "      <td>41.929263</td>\n",
              "      <td>-87.635891</td>\n",
              "      <td>POINT (-87.6358909539 41.9292629902)</td>\n",
              "      <td>2020-02-26 18:30:00</td>\n",
              "      <td>2020-02-26 19:15:00</td>\n",
              "      <td>2020-02</td>\n",
              "      <td>2020-02</td>\n",
              "    </tr>\n",
              "    <tr>\n",
              "      <th>18535328</th>\n",
              "      <td>4175da7b7fb52af32872cfaa96430f03e28f1dc7</td>\n",
              "      <td>773cd87ed1c8254ae93716d9edbaede8d97274688541e2...</td>\n",
              "      <td>02/26/2020 06:30:00 PM</td>\n",
              "      <td>02/26/2020 06:45:00 PM</td>\n",
              "      <td>1080.0</td>\n",
              "      <td>2.00</td>\n",
              "      <td>1.703128e+10</td>\n",
              "      <td>1.703108e+10</td>\n",
              "      <td>28.0</td>\n",
              "      <td>8.0</td>\n",
              "      <td>...</td>\n",
              "      <td>41.879255</td>\n",
              "      <td>-87.642649</td>\n",
              "      <td>POINT (-87.642648998 41.8792550844)</td>\n",
              "      <td>41.900221</td>\n",
              "      <td>-87.629105</td>\n",
              "      <td>POINT (-87.6291051864 41.9002212967)</td>\n",
              "      <td>2020-02-26 18:30:00</td>\n",
              "      <td>2020-02-26 18:45:00</td>\n",
              "      <td>2020-02</td>\n",
              "      <td>2020-02</td>\n",
              "    </tr>\n",
              "  </tbody>\n",
              "</table>\n",
              "<p>442 rows × 27 columns</p>\n",
              "</div>"
            ]
          },
          "metadata": {},
          "execution_count": 192
        }
      ]
    },
    {
      "cell_type": "code",
      "source": [
        "print(get_time_diff(start_time, get_time()))"
      ],
      "metadata": {
        "colab": {
          "base_uri": "https://localhost:8080/"
        },
        "id": "uy5_znBfDjAj",
        "outputId": "b78afc21-e74e-4554-fbeb-202146a56c36"
      },
      "id": "uy5_znBfDjAj",
      "execution_count": 193,
      "outputs": [
        {
          "output_type": "stream",
          "name": "stdout",
          "text": [
            "Elapsed time: 3.9668 seconds\n"
          ]
        },
        {
          "output_type": "execute_result",
          "data": {
            "text/plain": [
              "3.9667974000039976"
            ]
          },
          "metadata": {},
          "execution_count": 193
        }
      ]
    },
    {
      "cell_type": "code",
      "source": [
        "# Query 6: Selecting a single row from an unindexed dataframe - using Pandas\n",
        "start_time = get_time()\n",
        "taxi_trips_pdf[taxi_trips_pdf['trip_id'] == 'd3e437e3af9c691e6a9fe1f9802605d989605fdb']"
      ],
      "metadata": {
        "colab": {
          "base_uri": "https://localhost:8080/",
          "height": 147
        },
        "id": "L0g39ImPJPvy",
        "outputId": "04be4f41-941d-43c8-ca20-94db7c5a5d63"
      },
      "id": "L0g39ImPJPvy",
      "execution_count": 194,
      "outputs": [
        {
          "output_type": "execute_result",
          "data": {
            "text/plain": [
              "                                           trip_id  \\\n",
              "13905408  d3e437e3af9c691e6a9fe1f9802605d989605fdb   \n",
              "\n",
              "                                                    taxi_id  \\\n",
              "13905408  ac66734513cb7344a5501fa22f825c940448a4041e0302...   \n",
              "\n",
              "            trip_start_timestamp      trip_end_timestamp  trip_seconds  \\\n",
              "13905408  10/30/2019 05:30:00 PM  10/30/2019 06:00:00 PM        1396.0   \n",
              "\n",
              "          trip_miles  pickup_census_tract  dropoff_census_tract  \\\n",
              "13905408        1.14         1.703108e+10          1.703108e+10   \n",
              "\n",
              "          pickup_community_area  dropoff_community_area  ...  \\\n",
              "13905408                    8.0                     8.0  ...   \n",
              "\n",
              "          pickup_centroid_latitude  pickup_centroid_longitude  \\\n",
              "13905408                 41.902788                 -87.626146   \n",
              "\n",
              "                      pickup_centroid_location  dropoff_centroid_latitude  \\\n",
              "13905408  POINT (-87.6261455896 41.9027880476)                  41.892042   \n",
              "\n",
              "          dropoff_centroid_longitude            dropoff_centroid__location  \\\n",
              "13905408                  -87.631864  POINT (-87.6318639497 41.8920421365)   \n",
              "\n",
              "               trip_start_dt         trip_end_dt  trip_start_ym trip_end_ym  \n",
              "13905408 2019-10-30 17:30:00 2019-10-30 18:00:00        2019-10     2019-10  \n",
              "\n",
              "[1 rows x 27 columns]"
            ],
            "text/html": [
              "<div>\n",
              "<style scoped>\n",
              "    .dataframe tbody tr th:only-of-type {\n",
              "        vertical-align: middle;\n",
              "    }\n",
              "\n",
              "    .dataframe tbody tr th {\n",
              "        vertical-align: top;\n",
              "    }\n",
              "\n",
              "    .dataframe thead th {\n",
              "        text-align: right;\n",
              "    }\n",
              "</style>\n",
              "<table border=\"1\" class=\"dataframe\">\n",
              "  <thead>\n",
              "    <tr style=\"text-align: right;\">\n",
              "      <th></th>\n",
              "      <th>trip_id</th>\n",
              "      <th>taxi_id</th>\n",
              "      <th>trip_start_timestamp</th>\n",
              "      <th>trip_end_timestamp</th>\n",
              "      <th>trip_seconds</th>\n",
              "      <th>trip_miles</th>\n",
              "      <th>pickup_census_tract</th>\n",
              "      <th>dropoff_census_tract</th>\n",
              "      <th>pickup_community_area</th>\n",
              "      <th>dropoff_community_area</th>\n",
              "      <th>...</th>\n",
              "      <th>pickup_centroid_latitude</th>\n",
              "      <th>pickup_centroid_longitude</th>\n",
              "      <th>pickup_centroid_location</th>\n",
              "      <th>dropoff_centroid_latitude</th>\n",
              "      <th>dropoff_centroid_longitude</th>\n",
              "      <th>dropoff_centroid__location</th>\n",
              "      <th>trip_start_dt</th>\n",
              "      <th>trip_end_dt</th>\n",
              "      <th>trip_start_ym</th>\n",
              "      <th>trip_end_ym</th>\n",
              "    </tr>\n",
              "  </thead>\n",
              "  <tbody>\n",
              "    <tr>\n",
              "      <th>13905408</th>\n",
              "      <td>d3e437e3af9c691e6a9fe1f9802605d989605fdb</td>\n",
              "      <td>ac66734513cb7344a5501fa22f825c940448a4041e0302...</td>\n",
              "      <td>10/30/2019 05:30:00 PM</td>\n",
              "      <td>10/30/2019 06:00:00 PM</td>\n",
              "      <td>1396.0</td>\n",
              "      <td>1.14</td>\n",
              "      <td>1.703108e+10</td>\n",
              "      <td>1.703108e+10</td>\n",
              "      <td>8.0</td>\n",
              "      <td>8.0</td>\n",
              "      <td>...</td>\n",
              "      <td>41.902788</td>\n",
              "      <td>-87.626146</td>\n",
              "      <td>POINT (-87.6261455896 41.9027880476)</td>\n",
              "      <td>41.892042</td>\n",
              "      <td>-87.631864</td>\n",
              "      <td>POINT (-87.6318639497 41.8920421365)</td>\n",
              "      <td>2019-10-30 17:30:00</td>\n",
              "      <td>2019-10-30 18:00:00</td>\n",
              "      <td>2019-10</td>\n",
              "      <td>2019-10</td>\n",
              "    </tr>\n",
              "  </tbody>\n",
              "</table>\n",
              "<p>1 rows × 27 columns</p>\n",
              "</div>"
            ]
          },
          "metadata": {},
          "execution_count": 194
        }
      ]
    },
    {
      "cell_type": "code",
      "source": [
        "print(get_time_diff(start_time, get_time()))"
      ],
      "metadata": {
        "colab": {
          "base_uri": "https://localhost:8080/"
        },
        "id": "YT2_7oJiEAz6",
        "outputId": "66582228-af0f-45f6-d0cd-e2fdbb4bc599"
      },
      "id": "YT2_7oJiEAz6",
      "execution_count": 195,
      "outputs": [
        {
          "output_type": "stream",
          "name": "stdout",
          "text": [
            "Elapsed time: 0.8416 seconds\n"
          ]
        },
        {
          "output_type": "execute_result",
          "data": {
            "text/plain": [
              "0.841567399998894"
            ]
          },
          "metadata": {},
          "execution_count": 195
        }
      ]
    },
    {
      "cell_type": "code",
      "source": [
        "# Query 6: Selecting a single row from an unindexed dataframe - using Terality\n",
        "start_time = get_time()\n",
        "taxi_trips_tdf[taxi_trips_tdf['trip_id'] == 'd3e437e3af9c691e6a9fe1f9802605d989605fdb']"
      ],
      "metadata": {
        "colab": {
          "base_uri": "https://localhost:8080/",
          "height": 118
        },
        "id": "KwI3MZD-JXX5",
        "outputId": "f0bc70a1-7253-493a-aecc-fa6addede8bd"
      },
      "id": "KwI3MZD-JXX5",
      "execution_count": 196,
      "outputs": [
        {
          "output_type": "execute_result",
          "data": {
            "text/plain": [
              "                                           trip_id  \\\n",
              "13905408  d3e437e3af9c691e6a9fe1f9802605d989605fdb   \n",
              "\n",
              "                                                    taxi_id  \\\n",
              "13905408  ac66734513cb7344a5501fa22f825c940448a4041e0302...   \n",
              "\n",
              "            trip_start_timestamp      trip_end_timestamp  trip_seconds  \\\n",
              "13905408  10/30/2019 05:30:00 PM  10/30/2019 06:00:00 PM        1396.0   \n",
              "\n",
              "          trip_miles  pickup_census_tract  dropoff_census_tract  \\\n",
              "13905408        1.14         1.703108e+10          1.703108e+10   \n",
              "\n",
              "          pickup_community_area  dropoff_community_area  ...  \\\n",
              "13905408                    8.0                     8.0  ...   \n",
              "\n",
              "          pickup_centroid_latitude  pickup_centroid_longitude  \\\n",
              "13905408                 41.902788                 -87.626146   \n",
              "\n",
              "                      pickup_centroid_location  dropoff_centroid_latitude  \\\n",
              "13905408  POINT (-87.6261455896 41.9027880476)                  41.892042   \n",
              "\n",
              "          dropoff_centroid_longitude            dropoff_centroid__location  \\\n",
              "13905408                  -87.631864  POINT (-87.6318639497 41.8920421365)   \n",
              "\n",
              "               trip_start_dt         trip_end_dt  trip_start_ym trip_end_ym  \n",
              "13905408 2019-10-30 17:30:00 2019-10-30 18:00:00        2019-10     2019-10  "
            ],
            "text/html": [
              "<div>\n",
              "<style scoped>\n",
              "    .dataframe tbody tr th:only-of-type {\n",
              "        vertical-align: middle;\n",
              "    }\n",
              "\n",
              "    .dataframe tbody tr th {\n",
              "        vertical-align: top;\n",
              "    }\n",
              "\n",
              "    .dataframe thead th {\n",
              "        text-align: right;\n",
              "    }\n",
              "</style>\n",
              "<table border=\"1\" class=\"dataframe\">\n",
              "  <thead>\n",
              "    <tr style=\"text-align: right;\">\n",
              "      <th></th>\n",
              "      <th>trip_id</th>\n",
              "      <th>taxi_id</th>\n",
              "      <th>trip_start_timestamp</th>\n",
              "      <th>trip_end_timestamp</th>\n",
              "      <th>trip_seconds</th>\n",
              "      <th>trip_miles</th>\n",
              "      <th>pickup_census_tract</th>\n",
              "      <th>dropoff_census_tract</th>\n",
              "      <th>pickup_community_area</th>\n",
              "      <th>dropoff_community_area</th>\n",
              "      <th>...</th>\n",
              "      <th>pickup_centroid_latitude</th>\n",
              "      <th>pickup_centroid_longitude</th>\n",
              "      <th>pickup_centroid_location</th>\n",
              "      <th>dropoff_centroid_latitude</th>\n",
              "      <th>dropoff_centroid_longitude</th>\n",
              "      <th>dropoff_centroid__location</th>\n",
              "      <th>trip_start_dt</th>\n",
              "      <th>trip_end_dt</th>\n",
              "      <th>trip_start_ym</th>\n",
              "      <th>trip_end_ym</th>\n",
              "    </tr>\n",
              "  </thead>\n",
              "  <tbody>\n",
              "    <tr>\n",
              "      <th>13905408</th>\n",
              "      <td>d3e437e3af9c691e6a9fe1f9802605d989605fdb</td>\n",
              "      <td>ac66734513cb7344a5501fa22f825c940448a4041e0302...</td>\n",
              "      <td>10/30/2019 05:30:00 PM</td>\n",
              "      <td>10/30/2019 06:00:00 PM</td>\n",
              "      <td>1396.0</td>\n",
              "      <td>1.14</td>\n",
              "      <td>1.703108e+10</td>\n",
              "      <td>1.703108e+10</td>\n",
              "      <td>8.0</td>\n",
              "      <td>8.0</td>\n",
              "      <td>...</td>\n",
              "      <td>41.902788</td>\n",
              "      <td>-87.626146</td>\n",
              "      <td>POINT (-87.6261455896 41.9027880476)</td>\n",
              "      <td>41.892042</td>\n",
              "      <td>-87.631864</td>\n",
              "      <td>POINT (-87.6318639497 41.8920421365)</td>\n",
              "      <td>2019-10-30 17:30:00</td>\n",
              "      <td>2019-10-30 18:00:00</td>\n",
              "      <td>2019-10</td>\n",
              "      <td>2019-10</td>\n",
              "    </tr>\n",
              "  </tbody>\n",
              "</table>\n",
              "</div>"
            ]
          },
          "metadata": {},
          "execution_count": 196
        }
      ]
    },
    {
      "cell_type": "code",
      "source": [
        "print(get_time_diff(start_time, get_time()))"
      ],
      "metadata": {
        "colab": {
          "base_uri": "https://localhost:8080/"
        },
        "id": "a6B7NrFuEVb4",
        "outputId": "e065e893-0e20-46f4-f9e1-06c26a59d888"
      },
      "id": "a6B7NrFuEVb4",
      "execution_count": 197,
      "outputs": [
        {
          "output_type": "stream",
          "name": "stdout",
          "text": [
            "Elapsed time: 9.3218 seconds\n"
          ]
        },
        {
          "output_type": "execute_result",
          "data": {
            "text/plain": [
              "9.32180080001126"
            ]
          },
          "metadata": {},
          "execution_count": 197
        }
      ]
    },
    {
      "cell_type": "code",
      "source": [
        "# Query 7: Range queries using isin() - Using Pandas\n",
        "start_time = get_time()\n",
        "taxi_trips_pdf[taxi_trips_pdf['company'].isin(['Taxi Affiliation Services', 'Blue Diamond', 'Chicago Taxicab', 'Nova Taxi Affiliation Llc', 'U Taxicab'])]"
      ],
      "metadata": {
        "colab": {
          "base_uri": "https://localhost:8080/",
          "height": 617
        },
        "id": "ZF3yyjO9JYK3",
        "outputId": "b0c6246c-ebaa-4859-b6f4-5efb3e3e7e3f"
      },
      "id": "ZF3yyjO9JYK3",
      "execution_count": 198,
      "outputs": [
        {
          "output_type": "execute_result",
          "data": {
            "text/plain": [
              "                                           trip_id  \\\n",
              "20        509e870adce2a514a4287e1a305fe4ddabc59836   \n",
              "22        31004535c12d4372c165e34386cde0521a0a72e8   \n",
              "30        601ea33fd396dadf3c05667ce8badbab55968930   \n",
              "35        d1c76d15cec1a2ee58b408aff06e303aa86dd37f   \n",
              "36        e933481970a4efe76e013706d4056104dbf3a599   \n",
              "...                                            ...   \n",
              "20365970  8b2fb9ed7cb74a7645c95538373111ac90be222a   \n",
              "20366091  91fddaa11017287697ed65e5b6fb6399ea4f7ac4   \n",
              "20366290  debd80beca876e44a7d485a2fd2fd66816f8fc2b   \n",
              "20366292  e9fc3c32d17dd7dcd54cabaca1781d4684b8832d   \n",
              "20366309  a2218747cdec0fcdb86a8f5586c76a8559220ff3   \n",
              "\n",
              "                                                    taxi_id  \\\n",
              "20        38f6145c9a2b848dc1baa16fd91087e606b12bcb8757a9...   \n",
              "22        ee8a2f86372e99ecf87d44e13a20ebda7db8ae69d5b444...   \n",
              "30        72cd7073f26565b4a99646e795893b87b06e8086ad9a49...   \n",
              "35        d38890256d8a1e8146f0b15dc23e3b2a140b4fa3834698...   \n",
              "36        3506f62ee1c70c02fe00b742679684b319d5b712182f82...   \n",
              "...                                                     ...   \n",
              "20365970  7476a493f34aa1075570e89104cdaf3aaf5c0fd4679382...   \n",
              "20366091  5f88daef22c65f61d051338809a96d6bc7f471c4e2cd73...   \n",
              "20366290  42574f4a000f78c9ccbf2cfc282f31617096a9fea4a0d5...   \n",
              "20366292  be2af1b95b937dfe54bf9a4f4331745a673529a7edfab2...   \n",
              "20366309  50fd36d5b8ca93535bfef3269ccd7c0f36dc63e55d503a...   \n",
              "\n",
              "            trip_start_timestamp      trip_end_timestamp  trip_seconds  \\\n",
              "20        01/01/2019 12:00:00 AM  01/01/2019 12:15:00 AM         360.0   \n",
              "22        01/01/2019 12:00:00 AM  01/01/2019 12:15:00 AM         360.0   \n",
              "30        01/01/2019 12:00:00 AM  01/01/2019 12:15:00 AM         180.0   \n",
              "35        01/01/2019 12:00:00 AM  01/01/2019 12:15:00 AM         300.0   \n",
              "36        01/01/2019 12:00:00 AM  01/01/2019 12:15:00 AM         360.0   \n",
              "...                          ...                     ...           ...   \n",
              "20365970  12/31/2020 08:45:00 PM  12/31/2020 09:00:00 PM        1200.0   \n",
              "20366091  12/31/2020 09:30:00 PM  12/31/2020 09:30:00 PM         120.0   \n",
              "20366290  12/31/2020 10:45:00 PM  12/31/2020 11:00:00 PM         180.0   \n",
              "20366292  12/31/2020 10:45:00 PM  12/31/2020 11:00:00 PM         480.0   \n",
              "20366309  12/31/2020 11:00:00 PM  12/31/2020 11:00:00 PM          60.0   \n",
              "\n",
              "          trip_miles  pickup_census_tract  dropoff_census_tract  \\\n",
              "20               0.8         1.703108e+10          1.703108e+10   \n",
              "22               1.0         1.703108e+10          1.703108e+10   \n",
              "30               0.0         1.703108e+10          1.703108e+10   \n",
              "35               0.0         1.703108e+10          1.703108e+10   \n",
              "36               0.0         1.703108e+10          1.703108e+10   \n",
              "...              ...                  ...                   ...   \n",
              "20365970        17.1         1.703198e+10          1.703128e+10   \n",
              "20366091         0.2         1.703132e+10          1.703132e+10   \n",
              "20366290         0.0         1.703198e+10          1.703198e+10   \n",
              "20366292         2.8         1.703198e+10          1.703198e+10   \n",
              "20366309         0.0         1.703198e+10          1.703198e+10   \n",
              "\n",
              "          pickup_community_area  dropoff_community_area  ...  \\\n",
              "20                          8.0                     8.0  ...   \n",
              "22                          8.0                     8.0  ...   \n",
              "30                          8.0                     8.0  ...   \n",
              "35                          8.0                     8.0  ...   \n",
              "36                          8.0                     8.0  ...   \n",
              "...                         ...                     ...  ...   \n",
              "20365970                   76.0                    28.0  ...   \n",
              "20366091                   32.0                    32.0  ...   \n",
              "20366290                   76.0                    76.0  ...   \n",
              "20366292                   76.0                    76.0  ...   \n",
              "20366309                   76.0                    76.0  ...   \n",
              "\n",
              "          pickup_centroid_latitude  pickup_centroid_longitude  \\\n",
              "20                       41.898332                 -87.620763   \n",
              "22                       41.890922                 -87.618868   \n",
              "30                       41.895033                 -87.619711   \n",
              "35                       41.892508                 -87.626215   \n",
              "36                       41.892042                 -87.631864   \n",
              "...                            ...                        ...   \n",
              "20365970                 41.979071                 -87.903040   \n",
              "20366091                 41.884987                 -87.620993   \n",
              "20366290                 41.979071                 -87.903040   \n",
              "20366292                 41.979071                 -87.903040   \n",
              "20366309                 41.979071                 -87.903040   \n",
              "\n",
              "                      pickup_centroid_location  dropoff_centroid_latitude  \\\n",
              "20        POINT (-87.6207628651 41.8983317935)                  41.892508   \n",
              "22        POINT (-87.6188683546 41.8909220259)                  41.892042   \n",
              "30        POINT (-87.6197106717 41.8950334495)                  41.890922   \n",
              "35        POINT (-87.6262149064 41.8925077809)                  41.898332   \n",
              "36        POINT (-87.6318639497 41.8920421365)                  41.892073   \n",
              "...                                        ...                        ...   \n",
              "20365970  POINT (-87.9030396611 41.9790708201)                  41.879255   \n",
              "20366091  POINT (-87.6209929134 41.8849871918)                  41.884987   \n",
              "20366290  POINT (-87.9030396611 41.9790708201)                  41.979071   \n",
              "20366292  POINT (-87.9030396611 41.9790708201)                  41.979071   \n",
              "20366309  POINT (-87.9030396611 41.9790708201)                  41.979071   \n",
              "\n",
              "          dropoff_centroid_longitude            dropoff_centroid__location  \\\n",
              "20                        -87.626215  POINT (-87.6262149064 41.8925077809)   \n",
              "22                        -87.631864  POINT (-87.6318639497 41.8920421365)   \n",
              "30                        -87.618868  POINT (-87.6188683546 41.8909220259)   \n",
              "35                        -87.620763  POINT (-87.6207628651 41.8983317935)   \n",
              "36                        -87.628874  POINT (-87.6288741572 41.8920726347)   \n",
              "...                              ...                                   ...   \n",
              "20365970                  -87.642649   POINT (-87.642648998 41.8792550844)   \n",
              "20366091                  -87.620993  POINT (-87.6209929134 41.8849871918)   \n",
              "20366290                  -87.903040  POINT (-87.9030396611 41.9790708201)   \n",
              "20366292                  -87.903040  POINT (-87.9030396611 41.9790708201)   \n",
              "20366309                  -87.903040  POINT (-87.9030396611 41.9790708201)   \n",
              "\n",
              "               trip_start_dt         trip_end_dt  trip_start_ym trip_end_ym  \n",
              "20       2019-01-01 00:00:00 2019-01-01 00:15:00        2019-01     2019-01  \n",
              "22       2019-01-01 00:00:00 2019-01-01 00:15:00        2019-01     2019-01  \n",
              "30       2019-01-01 00:00:00 2019-01-01 00:15:00        2019-01     2019-01  \n",
              "35       2019-01-01 00:00:00 2019-01-01 00:15:00        2019-01     2019-01  \n",
              "36       2019-01-01 00:00:00 2019-01-01 00:15:00        2019-01     2019-01  \n",
              "...                      ...                 ...            ...         ...  \n",
              "20365970 2020-12-31 20:45:00 2020-12-31 21:00:00        2020-12     2020-12  \n",
              "20366091 2020-12-31 21:30:00 2020-12-31 21:30:00        2020-12     2020-12  \n",
              "20366290 2020-12-31 22:45:00 2020-12-31 23:00:00        2020-12     2020-12  \n",
              "20366292 2020-12-31 22:45:00 2020-12-31 23:00:00        2020-12     2020-12  \n",
              "20366309 2020-12-31 23:00:00 2020-12-31 23:00:00        2020-12     2020-12  \n",
              "\n",
              "[3120950 rows x 27 columns]"
            ],
            "text/html": [
              "<div>\n",
              "<style scoped>\n",
              "    .dataframe tbody tr th:only-of-type {\n",
              "        vertical-align: middle;\n",
              "    }\n",
              "\n",
              "    .dataframe tbody tr th {\n",
              "        vertical-align: top;\n",
              "    }\n",
              "\n",
              "    .dataframe thead th {\n",
              "        text-align: right;\n",
              "    }\n",
              "</style>\n",
              "<table border=\"1\" class=\"dataframe\">\n",
              "  <thead>\n",
              "    <tr style=\"text-align: right;\">\n",
              "      <th></th>\n",
              "      <th>trip_id</th>\n",
              "      <th>taxi_id</th>\n",
              "      <th>trip_start_timestamp</th>\n",
              "      <th>trip_end_timestamp</th>\n",
              "      <th>trip_seconds</th>\n",
              "      <th>trip_miles</th>\n",
              "      <th>pickup_census_tract</th>\n",
              "      <th>dropoff_census_tract</th>\n",
              "      <th>pickup_community_area</th>\n",
              "      <th>dropoff_community_area</th>\n",
              "      <th>...</th>\n",
              "      <th>pickup_centroid_latitude</th>\n",
              "      <th>pickup_centroid_longitude</th>\n",
              "      <th>pickup_centroid_location</th>\n",
              "      <th>dropoff_centroid_latitude</th>\n",
              "      <th>dropoff_centroid_longitude</th>\n",
              "      <th>dropoff_centroid__location</th>\n",
              "      <th>trip_start_dt</th>\n",
              "      <th>trip_end_dt</th>\n",
              "      <th>trip_start_ym</th>\n",
              "      <th>trip_end_ym</th>\n",
              "    </tr>\n",
              "  </thead>\n",
              "  <tbody>\n",
              "    <tr>\n",
              "      <th>20</th>\n",
              "      <td>509e870adce2a514a4287e1a305fe4ddabc59836</td>\n",
              "      <td>38f6145c9a2b848dc1baa16fd91087e606b12bcb8757a9...</td>\n",
              "      <td>01/01/2019 12:00:00 AM</td>\n",
              "      <td>01/01/2019 12:15:00 AM</td>\n",
              "      <td>360.0</td>\n",
              "      <td>0.8</td>\n",
              "      <td>1.703108e+10</td>\n",
              "      <td>1.703108e+10</td>\n",
              "      <td>8.0</td>\n",
              "      <td>8.0</td>\n",
              "      <td>...</td>\n",
              "      <td>41.898332</td>\n",
              "      <td>-87.620763</td>\n",
              "      <td>POINT (-87.6207628651 41.8983317935)</td>\n",
              "      <td>41.892508</td>\n",
              "      <td>-87.626215</td>\n",
              "      <td>POINT (-87.6262149064 41.8925077809)</td>\n",
              "      <td>2019-01-01 00:00:00</td>\n",
              "      <td>2019-01-01 00:15:00</td>\n",
              "      <td>2019-01</td>\n",
              "      <td>2019-01</td>\n",
              "    </tr>\n",
              "    <tr>\n",
              "      <th>22</th>\n",
              "      <td>31004535c12d4372c165e34386cde0521a0a72e8</td>\n",
              "      <td>ee8a2f86372e99ecf87d44e13a20ebda7db8ae69d5b444...</td>\n",
              "      <td>01/01/2019 12:00:00 AM</td>\n",
              "      <td>01/01/2019 12:15:00 AM</td>\n",
              "      <td>360.0</td>\n",
              "      <td>1.0</td>\n",
              "      <td>1.703108e+10</td>\n",
              "      <td>1.703108e+10</td>\n",
              "      <td>8.0</td>\n",
              "      <td>8.0</td>\n",
              "      <td>...</td>\n",
              "      <td>41.890922</td>\n",
              "      <td>-87.618868</td>\n",
              "      <td>POINT (-87.6188683546 41.8909220259)</td>\n",
              "      <td>41.892042</td>\n",
              "      <td>-87.631864</td>\n",
              "      <td>POINT (-87.6318639497 41.8920421365)</td>\n",
              "      <td>2019-01-01 00:00:00</td>\n",
              "      <td>2019-01-01 00:15:00</td>\n",
              "      <td>2019-01</td>\n",
              "      <td>2019-01</td>\n",
              "    </tr>\n",
              "    <tr>\n",
              "      <th>30</th>\n",
              "      <td>601ea33fd396dadf3c05667ce8badbab55968930</td>\n",
              "      <td>72cd7073f26565b4a99646e795893b87b06e8086ad9a49...</td>\n",
              "      <td>01/01/2019 12:00:00 AM</td>\n",
              "      <td>01/01/2019 12:15:00 AM</td>\n",
              "      <td>180.0</td>\n",
              "      <td>0.0</td>\n",
              "      <td>1.703108e+10</td>\n",
              "      <td>1.703108e+10</td>\n",
              "      <td>8.0</td>\n",
              "      <td>8.0</td>\n",
              "      <td>...</td>\n",
              "      <td>41.895033</td>\n",
              "      <td>-87.619711</td>\n",
              "      <td>POINT (-87.6197106717 41.8950334495)</td>\n",
              "      <td>41.890922</td>\n",
              "      <td>-87.618868</td>\n",
              "      <td>POINT (-87.6188683546 41.8909220259)</td>\n",
              "      <td>2019-01-01 00:00:00</td>\n",
              "      <td>2019-01-01 00:15:00</td>\n",
              "      <td>2019-01</td>\n",
              "      <td>2019-01</td>\n",
              "    </tr>\n",
              "    <tr>\n",
              "      <th>35</th>\n",
              "      <td>d1c76d15cec1a2ee58b408aff06e303aa86dd37f</td>\n",
              "      <td>d38890256d8a1e8146f0b15dc23e3b2a140b4fa3834698...</td>\n",
              "      <td>01/01/2019 12:00:00 AM</td>\n",
              "      <td>01/01/2019 12:15:00 AM</td>\n",
              "      <td>300.0</td>\n",
              "      <td>0.0</td>\n",
              "      <td>1.703108e+10</td>\n",
              "      <td>1.703108e+10</td>\n",
              "      <td>8.0</td>\n",
              "      <td>8.0</td>\n",
              "      <td>...</td>\n",
              "      <td>41.892508</td>\n",
              "      <td>-87.626215</td>\n",
              "      <td>POINT (-87.6262149064 41.8925077809)</td>\n",
              "      <td>41.898332</td>\n",
              "      <td>-87.620763</td>\n",
              "      <td>POINT (-87.6207628651 41.8983317935)</td>\n",
              "      <td>2019-01-01 00:00:00</td>\n",
              "      <td>2019-01-01 00:15:00</td>\n",
              "      <td>2019-01</td>\n",
              "      <td>2019-01</td>\n",
              "    </tr>\n",
              "    <tr>\n",
              "      <th>36</th>\n",
              "      <td>e933481970a4efe76e013706d4056104dbf3a599</td>\n",
              "      <td>3506f62ee1c70c02fe00b742679684b319d5b712182f82...</td>\n",
              "      <td>01/01/2019 12:00:00 AM</td>\n",
              "      <td>01/01/2019 12:15:00 AM</td>\n",
              "      <td>360.0</td>\n",
              "      <td>0.0</td>\n",
              "      <td>1.703108e+10</td>\n",
              "      <td>1.703108e+10</td>\n",
              "      <td>8.0</td>\n",
              "      <td>8.0</td>\n",
              "      <td>...</td>\n",
              "      <td>41.892042</td>\n",
              "      <td>-87.631864</td>\n",
              "      <td>POINT (-87.6318639497 41.8920421365)</td>\n",
              "      <td>41.892073</td>\n",
              "      <td>-87.628874</td>\n",
              "      <td>POINT (-87.6288741572 41.8920726347)</td>\n",
              "      <td>2019-01-01 00:00:00</td>\n",
              "      <td>2019-01-01 00:15:00</td>\n",
              "      <td>2019-01</td>\n",
              "      <td>2019-01</td>\n",
              "    </tr>\n",
              "    <tr>\n",
              "      <th>...</th>\n",
              "      <td>...</td>\n",
              "      <td>...</td>\n",
              "      <td>...</td>\n",
              "      <td>...</td>\n",
              "      <td>...</td>\n",
              "      <td>...</td>\n",
              "      <td>...</td>\n",
              "      <td>...</td>\n",
              "      <td>...</td>\n",
              "      <td>...</td>\n",
              "      <td>...</td>\n",
              "      <td>...</td>\n",
              "      <td>...</td>\n",
              "      <td>...</td>\n",
              "      <td>...</td>\n",
              "      <td>...</td>\n",
              "      <td>...</td>\n",
              "      <td>...</td>\n",
              "      <td>...</td>\n",
              "      <td>...</td>\n",
              "      <td>...</td>\n",
              "    </tr>\n",
              "    <tr>\n",
              "      <th>20365970</th>\n",
              "      <td>8b2fb9ed7cb74a7645c95538373111ac90be222a</td>\n",
              "      <td>7476a493f34aa1075570e89104cdaf3aaf5c0fd4679382...</td>\n",
              "      <td>12/31/2020 08:45:00 PM</td>\n",
              "      <td>12/31/2020 09:00:00 PM</td>\n",
              "      <td>1200.0</td>\n",
              "      <td>17.1</td>\n",
              "      <td>1.703198e+10</td>\n",
              "      <td>1.703128e+10</td>\n",
              "      <td>76.0</td>\n",
              "      <td>28.0</td>\n",
              "      <td>...</td>\n",
              "      <td>41.979071</td>\n",
              "      <td>-87.903040</td>\n",
              "      <td>POINT (-87.9030396611 41.9790708201)</td>\n",
              "      <td>41.879255</td>\n",
              "      <td>-87.642649</td>\n",
              "      <td>POINT (-87.642648998 41.8792550844)</td>\n",
              "      <td>2020-12-31 20:45:00</td>\n",
              "      <td>2020-12-31 21:00:00</td>\n",
              "      <td>2020-12</td>\n",
              "      <td>2020-12</td>\n",
              "    </tr>\n",
              "    <tr>\n",
              "      <th>20366091</th>\n",
              "      <td>91fddaa11017287697ed65e5b6fb6399ea4f7ac4</td>\n",
              "      <td>5f88daef22c65f61d051338809a96d6bc7f471c4e2cd73...</td>\n",
              "      <td>12/31/2020 09:30:00 PM</td>\n",
              "      <td>12/31/2020 09:30:00 PM</td>\n",
              "      <td>120.0</td>\n",
              "      <td>0.2</td>\n",
              "      <td>1.703132e+10</td>\n",
              "      <td>1.703132e+10</td>\n",
              "      <td>32.0</td>\n",
              "      <td>32.0</td>\n",
              "      <td>...</td>\n",
              "      <td>41.884987</td>\n",
              "      <td>-87.620993</td>\n",
              "      <td>POINT (-87.6209929134 41.8849871918)</td>\n",
              "      <td>41.884987</td>\n",
              "      <td>-87.620993</td>\n",
              "      <td>POINT (-87.6209929134 41.8849871918)</td>\n",
              "      <td>2020-12-31 21:30:00</td>\n",
              "      <td>2020-12-31 21:30:00</td>\n",
              "      <td>2020-12</td>\n",
              "      <td>2020-12</td>\n",
              "    </tr>\n",
              "    <tr>\n",
              "      <th>20366290</th>\n",
              "      <td>debd80beca876e44a7d485a2fd2fd66816f8fc2b</td>\n",
              "      <td>42574f4a000f78c9ccbf2cfc282f31617096a9fea4a0d5...</td>\n",
              "      <td>12/31/2020 10:45:00 PM</td>\n",
              "      <td>12/31/2020 11:00:00 PM</td>\n",
              "      <td>180.0</td>\n",
              "      <td>0.0</td>\n",
              "      <td>1.703198e+10</td>\n",
              "      <td>1.703198e+10</td>\n",
              "      <td>76.0</td>\n",
              "      <td>76.0</td>\n",
              "      <td>...</td>\n",
              "      <td>41.979071</td>\n",
              "      <td>-87.903040</td>\n",
              "      <td>POINT (-87.9030396611 41.9790708201)</td>\n",
              "      <td>41.979071</td>\n",
              "      <td>-87.903040</td>\n",
              "      <td>POINT (-87.9030396611 41.9790708201)</td>\n",
              "      <td>2020-12-31 22:45:00</td>\n",
              "      <td>2020-12-31 23:00:00</td>\n",
              "      <td>2020-12</td>\n",
              "      <td>2020-12</td>\n",
              "    </tr>\n",
              "    <tr>\n",
              "      <th>20366292</th>\n",
              "      <td>e9fc3c32d17dd7dcd54cabaca1781d4684b8832d</td>\n",
              "      <td>be2af1b95b937dfe54bf9a4f4331745a673529a7edfab2...</td>\n",
              "      <td>12/31/2020 10:45:00 PM</td>\n",
              "      <td>12/31/2020 11:00:00 PM</td>\n",
              "      <td>480.0</td>\n",
              "      <td>2.8</td>\n",
              "      <td>1.703198e+10</td>\n",
              "      <td>1.703198e+10</td>\n",
              "      <td>76.0</td>\n",
              "      <td>76.0</td>\n",
              "      <td>...</td>\n",
              "      <td>41.979071</td>\n",
              "      <td>-87.903040</td>\n",
              "      <td>POINT (-87.9030396611 41.9790708201)</td>\n",
              "      <td>41.979071</td>\n",
              "      <td>-87.903040</td>\n",
              "      <td>POINT (-87.9030396611 41.9790708201)</td>\n",
              "      <td>2020-12-31 22:45:00</td>\n",
              "      <td>2020-12-31 23:00:00</td>\n",
              "      <td>2020-12</td>\n",
              "      <td>2020-12</td>\n",
              "    </tr>\n",
              "    <tr>\n",
              "      <th>20366309</th>\n",
              "      <td>a2218747cdec0fcdb86a8f5586c76a8559220ff3</td>\n",
              "      <td>50fd36d5b8ca93535bfef3269ccd7c0f36dc63e55d503a...</td>\n",
              "      <td>12/31/2020 11:00:00 PM</td>\n",
              "      <td>12/31/2020 11:00:00 PM</td>\n",
              "      <td>60.0</td>\n",
              "      <td>0.0</td>\n",
              "      <td>1.703198e+10</td>\n",
              "      <td>1.703198e+10</td>\n",
              "      <td>76.0</td>\n",
              "      <td>76.0</td>\n",
              "      <td>...</td>\n",
              "      <td>41.979071</td>\n",
              "      <td>-87.903040</td>\n",
              "      <td>POINT (-87.9030396611 41.9790708201)</td>\n",
              "      <td>41.979071</td>\n",
              "      <td>-87.903040</td>\n",
              "      <td>POINT (-87.9030396611 41.9790708201)</td>\n",
              "      <td>2020-12-31 23:00:00</td>\n",
              "      <td>2020-12-31 23:00:00</td>\n",
              "      <td>2020-12</td>\n",
              "      <td>2020-12</td>\n",
              "    </tr>\n",
              "  </tbody>\n",
              "</table>\n",
              "<p>3120950 rows × 27 columns</p>\n",
              "</div>"
            ]
          },
          "metadata": {},
          "execution_count": 198
        }
      ]
    },
    {
      "cell_type": "code",
      "source": [
        "print(get_time_diff(start_time, get_time()))"
      ],
      "metadata": {
        "colab": {
          "base_uri": "https://localhost:8080/"
        },
        "id": "qPDMgQn_LCWR",
        "outputId": "b6b024e1-525b-48d5-ee1d-0e7ce7a0d6e8"
      },
      "id": "qPDMgQn_LCWR",
      "execution_count": 199,
      "outputs": [
        {
          "output_type": "stream",
          "name": "stdout",
          "text": [
            "Elapsed time: 2.5322 seconds\n"
          ]
        },
        {
          "output_type": "execute_result",
          "data": {
            "text/plain": [
              "2.532223599991994"
            ]
          },
          "metadata": {},
          "execution_count": 199
        }
      ]
    },
    {
      "cell_type": "code",
      "source": [
        "# Query 7: Range queries using isin() - Using Terality\n",
        "start_time = get_time()\n",
        "taxi_trips_pdf['company'].isin(['Taxi Affiliation Services', 'Blue Diamond', 'Chicago Taxicab', 'Nova Taxi Affiliation Llc', 'U Taxicab'])"
      ],
      "metadata": {
        "colab": {
          "base_uri": "https://localhost:8080/"
        },
        "id": "TFpjjSWrJek1",
        "outputId": "20f7c93d-1eda-4f96-dcc1-f4d7c5b4ad79"
      },
      "id": "TFpjjSWrJek1",
      "execution_count": 200,
      "outputs": [
        {
          "output_type": "execute_result",
          "data": {
            "text/plain": [
              "16          False\n",
              "19          False\n",
              "20           True\n",
              "22           True\n",
              "23          False\n",
              "            ...  \n",
              "20366129    False\n",
              "20366142    False\n",
              "20366290     True\n",
              "20366292     True\n",
              "20366309     True\n",
              "Name: company, Length: 12199631, dtype: bool"
            ]
          },
          "metadata": {},
          "execution_count": 200
        }
      ]
    },
    {
      "cell_type": "code",
      "source": [
        "print(get_time_diff(start_time, get_time()))"
      ],
      "metadata": {
        "colab": {
          "base_uri": "https://localhost:8080/"
        },
        "id": "Az-RzAaHJf8L",
        "outputId": "11add01b-ec3c-4668-f530-e25072a95b11"
      },
      "id": "Az-RzAaHJf8L",
      "execution_count": 201,
      "outputs": [
        {
          "output_type": "stream",
          "name": "stdout",
          "text": [
            "Elapsed time: 0.5331 seconds\n"
          ]
        },
        {
          "output_type": "execute_result",
          "data": {
            "text/plain": [
              "0.5330955999961589"
            ]
          },
          "metadata": {},
          "execution_count": 201
        }
      ]
    },
    {
      "cell_type": "code",
      "source": [
        ""
      ],
      "metadata": {
        "id": "UVVjA87BKd2K"
      },
      "id": "UVVjA87BKd2K",
      "execution_count": 201,
      "outputs": []
    }
  ],
  "metadata": {
    "kernelspec": {
      "display_name": "Python 3 (ipykernel)",
      "language": "python",
      "name": "python3"
    },
    "language_info": {
      "codemirror_mode": {
        "name": "ipython",
        "version": 3
      },
      "file_extension": ".py",
      "mimetype": "text/x-python",
      "name": "python",
      "nbconvert_exporter": "python",
      "pygments_lexer": "ipython3",
      "version": "3.9.7"
    },
    "colab": {
      "name": "pandas_vs_terality.ipynb",
      "provenance": []
    }
  },
  "nbformat": 4,
  "nbformat_minor": 5
}