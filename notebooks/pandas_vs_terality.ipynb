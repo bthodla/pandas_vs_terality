{
 "cells": [
  {
   "cell_type": "code",
   "execution_count": 56,
   "id": "1b77b18c",
   "metadata": {},
   "outputs": [],
   "source": [
    "import pandas as pd\n",
    "import terality as te\n",
    "import json\n",
    "import pyarrow.parquet as pq\n",
    "from codetiming import Timer\n",
    "import logging\n"
   ]
  },
  {
   "cell_type": "code",
   "execution_count": 57,
   "outputs": [],
   "source": [
    "raw_pdf = {}\n",
    "indexed_pdf = {}\n",
    "raw_tdf = {}\n",
    "indexed_tdf = {}\n",
    "\n",
    "timer = Timer(name=\"Terality Tests\")\n",
    "logging.getLogger(\"terality\").setLevel(logging.WARNING)"
   ],
   "metadata": {
    "collapsed": false,
    "pycharm": {
     "name": "#%%\n"
    }
   }
  },
  {
   "cell_type": "code",
   "execution_count": 58,
   "outputs": [],
   "source": [
    "# timer.stop()"
   ],
   "metadata": {
    "collapsed": false,
    "pycharm": {
     "name": "#%%\n"
    }
   }
  },
  {
   "cell_type": "code",
   "execution_count": 60,
   "outputs": [
    {
     "data": {
      "text/plain": "1"
     },
     "execution_count": 60,
     "metadata": {},
     "output_type": "execute_result"
    }
   ],
   "source": [
    "f = open('..\\\\conf\\\\sales_conf.json')\n",
    "conf_data = json.load(f)"
   ],
   "metadata": {
    "collapsed": false,
    "pycharm": {
     "name": "#%%\n"
    }
   }
  },
  {
   "cell_type": "code",
   "execution_count": 37,
   "outputs": [],
   "source": [
    "def load_data(eval_str: str):\n",
    "    \"\"\"\n",
    "    This function accepts a string representation of a data load command and executes the same and returns a dataframe\n",
    "    :param eval_str: a string representation of a data load command\n",
    "    :return: a Pandas dataframe\n",
    "    \"\"\"\n",
    "    if eval_str.find(\"te.\") < 0:    # Not a terality operation\n",
    "        return eval(eval_str)\n",
    "    else:\n",
    "        with te.disable_cache():\n",
    "            return eval(eval_str)\n"
   ],
   "metadata": {
    "collapsed": false,
    "pycharm": {
     "name": "#%%\n"
    }
   }
  },
  {
   "cell_type": "code",
   "execution_count": 38,
   "outputs": [],
   "source": [
    "def set_key(df, index_col):\n",
    "    \"\"\"\n",
    "    This function accepts a dataframe and a column within it and sets the column as the indexed column\n",
    "    :param df: dataframe that needs its index set\n",
    "    :param index_col: name of the column that should be set as indexed column\n",
    "    :return: a new dataframe with its index set\n",
    "    \"\"\"\n",
    "    return df.set_index(index_col)"
   ],
   "metadata": {
    "collapsed": false,
    "pycharm": {
     "name": "#%%\n"
    }
   }
  },
  {
   "cell_type": "code",
   "execution_count": 53,
   "outputs": [],
   "source": [
    "def print_dict(df_dict):\n",
    "    \"\"\"\n",
    "    This fucntion accepts a dictionary as input and prints its key and the type of its corresponding value\n",
    "    :param df_dict: dictionary\n",
    "    :return: None\n",
    "    \"\"\"\n",
    "    for key, value in df_dict.items():\n",
    "        print(\"Key: \", key)\n",
    "        print(type(value))\n",
    "    print(\"\")\n"
   ],
   "metadata": {
    "collapsed": false,
    "pycharm": {
     "name": "#%%\n"
    }
   }
  },
  {
   "cell_type": "code",
   "execution_count": 40,
   "outputs": [
    {
     "name": "stdout",
     "output_type": "stream",
     "text": [
      "Elapsed time: 0.8125 seconds\n"
     ]
    },
    {
     "data": {
      "text/plain": "0.8125301000000036"
     },
     "execution_count": 40,
     "metadata": {},
     "output_type": "execute_result"
    }
   ],
   "source": [
    "# Loading data into dataframes using Pandas\n",
    "timer.start()\n",
    "\n",
    "for i in conf_data[\"tables\"]:\n",
    "    raw_pdf[i[\"raw_df\"]] = load_data(conf_data[\"pandas_module\"] + i[\"load_func\"] + \"('\" + conf_data[\"file_path\"] + i[\"file_name\"] + \"')\")\n",
    "\n",
    "timer.stop()"
   ],
   "metadata": {
    "collapsed": false,
    "pycharm": {
     "name": "#%%\n"
    }
   }
  },
  {
   "cell_type": "code",
   "execution_count": 41,
   "outputs": [
    {
     "name": "stderr",
     "output_type": "stream",
     "text": [
      "..\\data\\contact.parquet:   0%|          | 0.00/6.68M [00:00<?, ?B/s]\n",
      "INFO:terality:The result of te.read_parquet was retrieved from cache [docs: https://docs.terality.com/getting-terality/user-guide/caching].\n",
      "..\\data\\customer.parquet:   0%|          | 0.00/94.9k [00:00<?, ?B/s]\n",
      "INFO:terality:The result of te.read_parquet was retrieved from cache [docs: https://docs.terality.com/getting-terality/user-guide/caching].\n",
      "..\\data\\product.json:   0%|          | 0.00/79.9k [00:00<?, ?B/s]\n",
      "INFO:terality:The result of te.read_json was retrieved from cache [docs: https://docs.terality.com/getting-terality/user-guide/caching].\n",
      "..\\data\\state.parquet:   0%|          | 0.00/3.18k [00:00<?, ?B/s]\n",
      "INFO:terality:The result of te.read_parquet was retrieved from cache [docs: https://docs.terality.com/getting-terality/user-guide/caching].\n",
      "..\\data\\txn.csv:   0%|          | 0.00/51.4M [00:00<?, ?B/s]\n",
      "INFO:terality:The result of te.read_csv was retrieved from cache [docs: https://docs.terality.com/getting-terality/user-guide/caching].\n",
      "..\\data\\touch.parquet:   0%|          | 0.00/219k [00:00<?, ?B/s]\n",
      "INFO:terality:The result of te.read_parquet was retrieved from cache [docs: https://docs.terality.com/getting-terality/user-guide/caching].\n"
     ]
    },
    {
     "name": "stdout",
     "output_type": "stream",
     "text": [
      "Elapsed time: 2.5701 seconds\n"
     ]
    },
    {
     "data": {
      "text/plain": "2.570144199999959"
     },
     "execution_count": 41,
     "metadata": {},
     "output_type": "execute_result"
    }
   ],
   "source": [
    "# Loading data into dataframes using Terality\n",
    "timer.start()\n",
    "\n",
    "for i in conf_data[\"tables\"]:\n",
    "    raw_tdf[i[\"raw_df\"]] = load_data(conf_data[\"terality_module\"] + i[\"load_func\"] + \"('\" + conf_data[\"file_path\"] + i[\"file_name\"] + \"')\")\n",
    "\n",
    "timer.stop()"
   ],
   "metadata": {
    "collapsed": false,
    "pycharm": {
     "name": "#%%\n"
    }
   }
  },
  {
   "cell_type": "code",
   "execution_count": 42,
   "outputs": [
    {
     "name": "stdout",
     "output_type": "stream",
     "text": [
      "Elapsed time: 0.0298 seconds\n"
     ]
    },
    {
     "data": {
      "text/plain": "0.029794100000799517"
     },
     "execution_count": 42,
     "metadata": {},
     "output_type": "execute_result"
    }
   ],
   "source": [
    "# Setting Index columns using Pandas\n",
    "timer.start()\n",
    "\n",
    "for i in conf_data[\"tables\"]:\n",
    "    indexed_pdf[i[\"indexed_df\"]] = set_key(raw_pdf[i[\"raw_df\"]], i[\"index_col\"])\n",
    "\n",
    "timer.stop()"
   ],
   "metadata": {
    "collapsed": false,
    "pycharm": {
     "name": "#%%\n"
    }
   }
  },
  {
   "cell_type": "code",
   "execution_count": 43,
   "outputs": [
    {
     "name": "stderr",
     "output_type": "stream",
     "text": [
      "INFO:terality:The result of te.dataframe.set_index was retrieved from cache [docs: https://docs.terality.com/getting-terality/user-guide/caching].\n",
      "INFO:terality:The result of te.dataframe.set_index was retrieved from cache [docs: https://docs.terality.com/getting-terality/user-guide/caching].\n",
      "INFO:terality:The result of te.dataframe.set_index was retrieved from cache [docs: https://docs.terality.com/getting-terality/user-guide/caching].\n",
      "INFO:terality:The result of te.dataframe.set_index was retrieved from cache [docs: https://docs.terality.com/getting-terality/user-guide/caching].\n",
      "INFO:terality:The result of te.dataframe.set_index was retrieved from cache [docs: https://docs.terality.com/getting-terality/user-guide/caching].\n",
      "INFO:terality:The result of te.dataframe.set_index was retrieved from cache [docs: https://docs.terality.com/getting-terality/user-guide/caching].\n"
     ]
    },
    {
     "name": "stdout",
     "output_type": "stream",
     "text": [
      "Elapsed time: 1.8076 seconds\n"
     ]
    },
    {
     "data": {
      "text/plain": "1.8076407999997173"
     },
     "execution_count": 43,
     "metadata": {},
     "output_type": "execute_result"
    }
   ],
   "source": [
    "# Setting Index columns using Terality\n",
    "timer.start()\n",
    "\n",
    "for i in conf_data[\"tables\"]:\n",
    "    indexed_tdf[i[\"indexed_df\"]] = set_key(raw_tdf[i[\"raw_df\"]], i[\"index_col\"])\n",
    "\n",
    "timer.stop()"
   ],
   "metadata": {
    "collapsed": false,
    "pycharm": {
     "name": "#%%\n"
    }
   }
  },
  {
   "cell_type": "code",
   "execution_count": 54,
   "outputs": [
    {
     "name": "stdout",
     "output_type": "stream",
     "text": [
      "Key:  contact_df_raw\n",
      "<class 'pandas.core.frame.DataFrame'>\n",
      "Key:  customer_df_raw\n",
      "<class 'pandas.core.frame.DataFrame'>\n",
      "Key:  product_df_raw\n",
      "<class 'pandas.core.frame.DataFrame'>\n",
      "Key:  state_df_raw\n",
      "<class 'pandas.core.frame.DataFrame'>\n",
      "Key:  txn_df_raw\n",
      "<class 'pandas.core.frame.DataFrame'>\n",
      "Key:  touch_df_raw\n",
      "<class 'pandas.core.frame.DataFrame'>\n",
      "\n",
      "Key:  contact_df_raw\n",
      "<class 'terality._terality.terality_structures.dataframe.DataFrame'>\n",
      "Key:  customer_df_raw\n",
      "<class 'terality._terality.terality_structures.dataframe.DataFrame'>\n",
      "Key:  product_df_raw\n",
      "<class 'terality._terality.terality_structures.dataframe.DataFrame'>\n",
      "Key:  state_df_raw\n",
      "<class 'terality._terality.terality_structures.dataframe.DataFrame'>\n",
      "Key:  txn_df_raw\n",
      "<class 'terality._terality.terality_structures.dataframe.DataFrame'>\n",
      "Key:  touch_df_raw\n",
      "<class 'terality._terality.terality_structures.dataframe.DataFrame'>\n",
      "\n",
      "Key:  contact_df\n",
      "<class 'pandas.core.frame.DataFrame'>\n",
      "Key:  customer_df\n",
      "<class 'pandas.core.frame.DataFrame'>\n",
      "Key:  product_df\n",
      "<class 'pandas.core.frame.DataFrame'>\n",
      "Key:  state_df\n",
      "<class 'pandas.core.frame.DataFrame'>\n",
      "Key:  txn_df\n",
      "<class 'pandas.core.frame.DataFrame'>\n",
      "Key:  touch_df\n",
      "<class 'pandas.core.frame.DataFrame'>\n",
      "\n",
      "Key:  contact_df\n",
      "<class 'terality._terality.terality_structures.dataframe.DataFrame'>\n",
      "Key:  customer_df\n",
      "<class 'terality._terality.terality_structures.dataframe.DataFrame'>\n",
      "Key:  product_df\n",
      "<class 'terality._terality.terality_structures.dataframe.DataFrame'>\n",
      "Key:  state_df\n",
      "<class 'terality._terality.terality_structures.dataframe.DataFrame'>\n",
      "Key:  txn_df\n",
      "<class 'terality._terality.terality_structures.dataframe.DataFrame'>\n",
      "Key:  touch_df\n",
      "<class 'terality._terality.terality_structures.dataframe.DataFrame'>\n",
      "\n"
     ]
    }
   ],
   "source": [
    "print_dict(raw_pdf)\n",
    "print_dict(raw_tdf)\n",
    "print_dict(indexed_pdf)\n",
    "print_dict(indexed_tdf)"
   ],
   "metadata": {
    "collapsed": false,
    "pycharm": {
     "name": "#%%\n"
    }
   }
  },
  {
   "cell_type": "code",
   "execution_count": 55,
   "outputs": [
    {
     "name": "stdout",
     "output_type": "stream",
     "text": [
      "Elapsed time: 247.1602 seconds\n"
     ]
    },
    {
     "data": {
      "text/plain": "247.16020070000013"
     },
     "execution_count": 55,
     "metadata": {},
     "output_type": "execute_result"
    }
   ],
   "source": [
    "# Sum a column value across the entire dataframe with about 200k rows - using Pandas\n",
    "timer.start()\n",
    "\n",
    "raw_pdf['contact_df_raw'].sum()['opportunity']\n",
    "\n",
    "timer.stop()"
   ],
   "metadata": {
    "collapsed": false,
    "pycharm": {
     "name": "#%%\n"
    }
   }
  },
  {
   "cell_type": "code",
   "execution_count": 14,
   "outputs": [
    {
     "name": "stderr",
     "output_type": "stream",
     "text": [
      "WARNING:urllib3.connectionpool:Retrying (Retry(total=2, connect=None, read=None, redirect=40, status=None)) after connection broken by 'ProtocolError('Connection aborted.', ConnectionResetError(10054, 'An existing connection was forcibly closed by the remote host', None, 10054, None))': /v1/transfers\n"
     ]
    },
    {
     "name": "stdout",
     "output_type": "stream",
     "text": [
      "33.84886\n"
     ]
    }
   ],
   "source": [
    "# Sum a column value across the entire dataframe with about 200k rows - using Terality\n",
    "timer.start()\n",
    "\n",
    "raw_tdf['contact_df_raw'].sum()['opportunity']\n",
    "\n",
    "timer.stop()"
   ],
   "metadata": {
    "collapsed": false,
    "pycharm": {
     "name": "#%%\n"
    }
   }
  },
  {
   "cell_type": "code",
   "execution_count": 15,
   "outputs": [
    {
     "name": "stdout",
     "output_type": "stream",
     "text": [
      "Net Txn Amount:  19673120943.690998\n",
      "2813.992782\n"
     ]
    }
   ],
   "source": [
    "# Sum a column value across the entire dataframe with about 1M rows - using Pandas\n",
    "timer.start()\n",
    "\n",
    "net_txn_amount = raw_pdf['txn_df_raw'].sum()['sales']\n",
    "print(\"Net Txn Amount: \", net_txn_amount)\n",
    "\n",
    "timer.stop()"
   ],
   "metadata": {
    "collapsed": false,
    "pycharm": {
     "name": "#%%\n"
    }
   }
  },
  {
   "cell_type": "code",
   "execution_count": 16,
   "outputs": [
    {
     "name": "stdout",
     "output_type": "stream",
     "text": [
      "Net Txn Amount:  19673120943.691\n",
      "42.772839\n"
     ]
    }
   ],
   "source": [
    "# Sum a column value across the entire dataframe with about 1M rows - using Terality\n",
    "timer.start()\n",
    "\n",
    "net_txn_amount = raw_tdf['txn_df_raw'].sum()['sales']\n",
    "print(\"Net Txn Amount: \", net_txn_amount)\n",
    "\n",
    "timer.stop()"
   ],
   "metadata": {
    "collapsed": false,
    "pycharm": {
     "name": "#%%\n"
    }
   }
  },
  {
   "cell_type": "code",
   "execution_count": 17,
   "outputs": [
    {
     "name": "stdout",
     "output_type": "stream",
     "text": [
      "0.242996\n"
     ]
    }
   ],
   "source": [
    "# Sum a column value grouped by another column across the entire dataframe with about 1M rows - using Pandas\n",
    "timer.start()\n",
    "\n",
    "raw_pdf['txn_df_raw'].groupby('contact_id').sum()[['sales'] + ['redemptions']]\n",
    "\n",
    "timer.stop()"
   ],
   "metadata": {
    "collapsed": false,
    "pycharm": {
     "name": "#%%\n"
    }
   }
  },
  {
   "cell_type": "code",
   "execution_count": 18,
   "id": "c87ece3d",
   "metadata": {},
   "outputs": [
    {
     "name": "stdout",
     "output_type": "stream",
     "text": [
      "3.164788\n"
     ]
    }
   ],
   "source": [
    "# Sum a column value grouped by another column across the entire dataframe with about 1M rows - using Terality\n",
    "timer.start()\n",
    "\n",
    "raw_tdf['txn_df_raw'].groupby('contact_id').sum()[['sales'] + ['redemptions']]\n",
    "\n",
    "timer.stop()"
   ]
  },
  {
   "cell_type": "code",
   "execution_count": 19,
   "id": "102b12ce",
   "metadata": {},
   "outputs": [
    {
     "name": "stdout",
     "output_type": "stream",
     "text": [
      "0.13332\n"
     ]
    }
   ],
   "source": [
    "# Describes the dataframe columns and their types\n",
    "timer.start()\n",
    "\n",
    "raw_pdf['txn_df_raw'].describe()\n",
    "\n",
    "timer.stop()"
   ]
  },
  {
   "cell_type": "code",
   "execution_count": 20,
   "id": "f01a3c02",
   "metadata": {},
   "outputs": [
    {
     "name": "stdout",
     "output_type": "stream",
     "text": [
      "5.797104\n"
     ]
    }
   ],
   "source": [
    "# Describes the dataframe columns and their types\n",
    "timer.start()\n",
    "\n",
    "raw_tdf['txn_df_raw'].describe()\n",
    "\n",
    "timer.stop()"
   ]
  },
  {
   "cell_type": "code",
   "execution_count": 20,
   "id": "a07c8171",
   "metadata": {},
   "outputs": [
    {
     "name": "stdout",
     "output_type": "stream",
     "text": [
      "0.0\n"
     ]
    }
   ],
   "source": [
    "# Count of rows\n",
    "timer.start()\n",
    "\n",
    "txn_pdf.index.size\n",
    "\n",
    "timer.stop()"
   ]
  },
  {
   "cell_type": "code",
   "execution_count": 21,
   "id": "d3380e97",
   "metadata": {},
   "outputs": [
    {
     "name": "stdout",
     "output_type": "stream",
     "text": [
      "0.598509\n"
     ]
    }
   ],
   "source": [
    "# Count of rows\n",
    "timer.start()\n",
    "txn_tdf.index.size\n",
    "\n",
    "\n",
    "timer.stop()"
   ]
  },
  {
   "cell_type": "code",
   "execution_count": 22,
   "id": "0458510c",
   "metadata": {},
   "outputs": [
    {
     "name": "stdout",
     "output_type": "stream",
     "text": [
      "1.625492\n"
     ]
    }
   ],
   "source": [
    "# Sort by ticker\n",
    "timer.start()\n",
    "txn_pdf.sort_values(by = 'product_id')\n",
    "\n",
    "\n",
    "timer.stop()\n"
   ]
  },
  {
   "cell_type": "code",
   "execution_count": 23,
   "id": "eb196bad",
   "metadata": {},
   "outputs": [
    {
     "name": "stdout",
     "output_type": "stream",
     "text": [
      "5.210178\n"
     ]
    }
   ],
   "source": [
    "# Sort by ticker\n",
    "timer.start()\n",
    "txn_tdf.sort_values(by = 'product_id')\n",
    "\n",
    "\n",
    "timer.stop()\n"
   ]
  },
  {
   "cell_type": "code",
   "execution_count": 24,
   "id": "14d1427b",
   "metadata": {},
   "outputs": [
    {
     "name": "stdout",
     "output_type": "stream",
     "text": [
      "0.0\n"
     ]
    }
   ],
   "source": [
    "# Slicing\n",
    "timer.start()\n",
    "txn_pdf[113:211]\n",
    "\n",
    "\n",
    "timer.stop()\n"
   ]
  },
  {
   "cell_type": "code",
   "execution_count": 25,
   "id": "f55e2548",
   "metadata": {},
   "outputs": [
    {
     "name": "stdout",
     "output_type": "stream",
     "text": [
      "0.952517\n"
     ]
    }
   ],
   "source": [
    "# Slicing\n",
    "timer.start()\n",
    "txn_tdf[113:211]\n",
    "\n",
    "\n",
    "timer.stop()\n"
   ]
  },
  {
   "cell_type": "code",
   "execution_count": 26,
   "id": "65a9a389",
   "metadata": {},
   "outputs": [
    {
     "name": "stdout",
     "output_type": "stream",
     "text": [
      "0.025832\n"
     ]
    }
   ],
   "source": [
    "# Selecting a single row\n",
    "timer.start()\n",
    "txn_pdf[txn_pdf['txn_id'] == 423603758]\n",
    "\n",
    "\n",
    "timer.stop()\n"
   ]
  },
  {
   "cell_type": "code",
   "execution_count": 27,
   "outputs": [
    {
     "name": "stdout",
     "output_type": "stream",
     "text": [
      "2.750294\n"
     ]
    }
   ],
   "source": [
    "# Selecting a single row\n",
    "timer.start()\n",
    "txn_tdf[txn_tdf['txn_id'] == 423603758]\n",
    "\n",
    "\n",
    "timer.stop()\n"
   ],
   "metadata": {
    "collapsed": false,
    "pycharm": {
     "name": "#%%\n"
    }
   }
  },
  {
   "cell_type": "code",
   "execution_count": 28,
   "id": "fd43772b",
   "metadata": {},
   "outputs": [
    {
     "name": "stdout",
     "output_type": "stream",
     "text": [
      "0.086713\n"
     ]
    }
   ],
   "source": [
    "#filters\n",
    "timer.start()\n",
    "txn_pdf[txn_pdf['product_id'].isin(['FPHAX', 'VSIAX', 'PRNHX', 'FKTFX', 'VEIEX'])]\n",
    "\n",
    "\n",
    "timer.stop()\n"
   ]
  },
  {
   "cell_type": "code",
   "execution_count": 29,
   "id": "33af3067",
   "metadata": {},
   "outputs": [
    {
     "name": "stdout",
     "output_type": "stream",
     "text": [
      "2.891353\n"
     ]
    }
   ],
   "source": [
    "#filters\n",
    "timer.start()\n",
    "txn_tdf[txn_tdf['product_id'].isin(['FPHAX', 'VSIAX', 'PRNHX', 'FKTFX', 'VEIEX'])]\n",
    "\n",
    "\n",
    "timer.stop()\n"
   ]
  },
  {
   "cell_type": "code",
   "execution_count": null,
   "id": "dc0f4a87",
   "metadata": {},
   "outputs": [],
   "source": [
    "txn_df1 = txn_df[0:5]\n",
    "#txn_df1\n",
    "type(txn_df1)\n",
    "\n",
    "#txn_df1.head()\n",
    "\n",
    "#txn_df2 = txn_df[6:10]\n",
    "#txn_df3 = txn_df[11:15]\n",
    "\n",
    "#txn_df123 = pd.concat(txn_df1,txn_df2,txn_df3)"
   ]
  },
  {
   "cell_type": "code",
   "execution_count": null,
   "id": "66e2657f",
   "metadata": {},
   "outputs": [],
   "source": [
    "cc_df = pd.merge(contact_df,customer_df, on = 'customer_id')\n",
    "cc_df.head()"
   ]
  },
  {
   "cell_type": "code",
   "execution_count": null,
   "id": "e6c55663",
   "metadata": {},
   "outputs": [],
   "source": [
    "product_df1 = product_df.groupby(['market_cap']).sum()['tna']\n",
    "product_df1.head()"
   ]
  },
  {
   "cell_type": "code",
   "execution_count": null,
   "id": "8dba01db",
   "metadata": {},
   "outputs": [],
   "source": [
    "product_df1 = product_df.groupby(['market_cap','exp_ratio']).sum()['tna']\n",
    "product_df1"
   ]
  },
  {
   "cell_type": "code",
   "execution_count": null,
   "id": "0ac64730",
   "metadata": {
    "scrolled": true
   },
   "outputs": [],
   "source": [
    "#joins 2 dfs on a the mentioned index\n",
    "joint_df = contact_df.set_index('customer_id').join(customer_df.set_index('customer_id'), how = 'inner')\n",
    "\n",
    "joint_df.head()\n"
   ]
  },
  {
   "cell_type": "code",
   "execution_count": null,
   "id": "b6176a2b",
   "metadata": {},
   "outputs": [],
   "source": [
    "\n",
    "joint_df = customer_df.set_index('customer_id').join(contact_df.set_index('customer_id'), how = 'left')\n",
    "\n",
    "joint_df.count()\n"
   ]
  },
  {
   "cell_type": "code",
   "execution_count": null,
   "id": "3e868805",
   "metadata": {},
   "outputs": [],
   "source": [
    "#not specifying how gives inner join\n",
    "#Txn by ms_rating\n",
    "txn_product_df = txn_df.set_index('ticker').join(product_df.set_index('ticker'))\n",
    "txn_product_df.head()\n",
    "\n",
    "txn_product_df1 = txn_product_df[['ms_rating','txn_amount']]\n",
    "txn_product_df2 = txn_product_df1.groupby('ms_rating').sum()['txn_amount']\n",
    "txn_product_df2.head()\n",
    "\n"
   ]
  },
  {
   "cell_type": "code",
   "execution_count": null,
   "id": "53b93432",
   "metadata": {},
   "outputs": [],
   "source": [
    "#Contact Id based txns\n",
    "txn_contact_df = txn_df.set_index('contact_id').join(contact_df.set_index('contact_id'))\n",
    "txn_contact_df.head()\n",
    "\n",
    "txn_contact_df1 = txn_contact_df['txn_amount']\n",
    "txn_contact_df1.head()\n",
    "#txn_contact_df2 = txn_contact_df1.groupby(txn_contact_df1.index).sum()\n",
    "#txn_contact_df2.head()"
   ]
  }
 ],
 "metadata": {
  "kernelspec": {
   "display_name": "Python 3 (ipykernel)",
   "language": "python",
   "name": "python3"
  },
  "language_info": {
   "codemirror_mode": {
    "name": "ipython",
    "version": 3
   },
   "file_extension": ".py",
   "mimetype": "text/x-python",
   "name": "python",
   "nbconvert_exporter": "python",
   "pygments_lexer": "ipython3",
   "version": "3.9.7"
  }
 },
 "nbformat": 4,
 "nbformat_minor": 5
}