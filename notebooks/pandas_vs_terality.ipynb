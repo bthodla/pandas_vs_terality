{
  "cells": [
    {
      "cell_type": "markdown",
      "metadata": {
        "id": "view-in-github",
        "colab_type": "text"
      },
      "source": [
        "<a href=\"https://colab.research.google.com/github/bthodla/pandas_vs_terality/blob/main/notebooks/pandas_vs_terality.ipynb\" target=\"_parent\"><img src=\"https://colab.research.google.com/assets/colab-badge.svg\" alt=\"Open In Colab\"/></a>"
      ]
    },
    {
      "cell_type": "code",
      "execution_count": 1,
      "id": "1b77b18c",
      "metadata": {
        "id": "1b77b18c"
      },
      "outputs": [],
      "source": [
        "import pandas as pd\n",
        "import terality as te\n",
        "from codetiming import Timer\n"
      ]
    },
    {
      "cell_type": "code",
      "execution_count": 4,
      "id": "d645ab8c",
      "metadata": {
        "pycharm": {
          "name": "#%%\n"
        },
        "id": "d645ab8c"
      },
      "outputs": [],
      "source": [
        "file_path = \"C:\\\\\\\\Users\\\\\\\\bhask\\\\\\\\Google Drive\\\\\\\\datasets\\\\\\\\Chicago_taxi_trips\\\\\\\\\"\n",
        "timer = Timer(name=\"Terality Tests\")"
      ]
    },
    {
      "cell_type": "code",
      "execution_count": 5,
      "id": "70defdca",
      "metadata": {
        "pycharm": {
          "name": "#%%\n"
        },
        "colab": {
          "base_uri": "https://localhost:8080/"
        },
        "id": "70defdca",
        "outputId": "5569c77f-496d-425d-b600-993edbb5749d"
      },
      "outputs": [
        {
          "output_type": "stream",
          "name": "stdout",
          "text": [
            "Elapsed time: 224.4380 seconds\n"
          ]
        },
        {
          "output_type": "execute_result",
          "data": {
            "text/plain": [
              "224.4379803"
            ]
          },
          "metadata": {},
          "execution_count": 5
        }
      ],
      "source": [
        "# Loading data into dataframes using Pandas\n",
        "timer.start()\n",
        "taxi_trips_pdf = pd.read_csv(file_path + \"Taxi_Trips_2019_2020.csv\")\n",
        "timer.stop()"
      ]
    },
    {
      "cell_type": "code",
      "source": [
        "# Loading data into dataframes using Pandas\n",
        "timer.start()\n",
        "taxi_trips_tdf = te.read_csv(file_path + \"Taxi_Trips_2019_2020.csv\")\n",
        "timer.stop()"
      ],
      "metadata": {
        "colab": {
          "base_uri": "https://localhost:8080/"
        },
        "id": "g7U_imVXybtx",
        "outputId": "407e7521-c738-458d-8c59-6fd83ed3c05d"
      },
      "id": "g7U_imVXybtx",
      "execution_count": 6,
      "outputs": [
        {
          "output_type": "stream",
          "name": "stderr",
          "text": [
            "C:\\\\Users\\\\bhask\\\\Google Drive\\\\datasets\\\\Chicago_taxi_trips\\\\Taxi_Trips_2019_2020.csv:   0%| | 0.00/8.48G [00:02<?, ?B\n"
          ]
        },
        {
          "output_type": "stream",
          "name": "stdout",
          "text": [
            "Elapsed time: 95.9301 seconds\n"
          ]
        },
        {
          "output_type": "execute_result",
          "data": {
            "text/plain": [
              "95.93005089999997"
            ]
          },
          "metadata": {},
          "execution_count": 6
        }
      ]
    },
    {
      "cell_type": "code",
      "execution_count": 7,
      "outputs": [
        {
          "output_type": "stream",
          "name": "stdout",
          "text": [
            "Row Count (Pandas): 20366397 \n",
            "Elapsed time: 0.0018 seconds\n"
          ]
        },
        {
          "output_type": "execute_result",
          "data": {
            "text/plain": [
              "0.0018355000001974986"
            ]
          },
          "metadata": {},
          "execution_count": 7
        }
      ],
      "source": [
        "timer.start()\n",
        "print(\"Row Count (Pandas): %d \" % taxi_trips_pdf.shape[0])\n",
        "timer.stop()"
      ],
      "metadata": {
        "pycharm": {
          "name": "#%%\n"
        },
        "colab": {
          "base_uri": "https://localhost:8080/"
        },
        "id": "W6tio_vKxjgj",
        "outputId": "a19cb1a0-6a6c-4c77-f918-7cd77917bc72"
      },
      "id": "W6tio_vKxjgj"
    },
    {
      "cell_type": "code",
      "source": [
        "timer.start()\n",
        "print(\"Row Count (Pandas): %d \" % taxi_trips_tdf.shape[0])\n",
        "timer.stop()"
      ],
      "metadata": {
        "colab": {
          "base_uri": "https://localhost:8080/"
        },
        "id": "lpDKOJ9d99jS",
        "outputId": "ff5e3dcf-f437-42b9-de0d-4c1ce0133895"
      },
      "id": "lpDKOJ9d99jS",
      "execution_count": 8,
      "outputs": [
        {
          "output_type": "stream",
          "name": "stdout",
          "text": [
            "Row Count (Pandas): 20366397 \n",
            "Elapsed time: 1.1666 seconds\n"
          ]
        },
        {
          "output_type": "execute_result",
          "data": {
            "text/plain": [
              "1.1666497999999592"
            ]
          },
          "metadata": {},
          "execution_count": 8
        }
      ]
    },
    {
      "cell_type": "code",
      "execution_count": 9,
      "outputs": [],
      "source": [
        "columns = [\n",
        "'trip_id',\n",
        "'taxi_id',\n",
        "'trip_start_timestamp',\n",
        "'trip_end_timestamp',\n",
        "'trip_seconds',\n",
        "'trip_miles',\n",
        "'pickup_census_tract',\n",
        "'dropoff_census_tract',\n",
        "'pickup_community_area',\n",
        "'dropoff_community_area',\n",
        "'fare',\n",
        "'tips',\n",
        "'tolls',\n",
        "'extras',\n",
        "'trip_total',\n",
        "'payment_type',\n",
        "'company',\n",
        "'pickup_centroid_latitude',\n",
        "'pickup_centroid_longitude',\n",
        "'pickup_centroid_location',\n",
        "'dropoff_centroid_latitude',\n",
        "'dropoff_centroid_longitude',\n",
        "'dropoff_centroid__location'\n",
        "]"
      ],
      "metadata": {
        "pycharm": {
          "name": "#%%\n"
        },
        "id": "aty6tzzvxjgk"
      },
      "id": "aty6tzzvxjgk"
    },
    {
      "cell_type": "code",
      "execution_count": 10,
      "outputs": [],
      "source": [
        "taxi_trips_pdf.columns = columns\n",
        "taxi_trips_tdf.columns = columns"
      ],
      "metadata": {
        "pycharm": {
          "name": "#%%\n"
        },
        "id": "ezZOW1a0xjgm"
      },
      "id": "ezZOW1a0xjgm"
    },
    {
      "cell_type": "code",
      "execution_count": 11,
      "outputs": [
        {
          "output_type": "stream",
          "name": "stdout",
          "text": [
            "<class 'pandas.core.frame.DataFrame'>\n",
            "RangeIndex: 20366397 entries, 0 to 20366396\n",
            "Data columns (total 23 columns):\n",
            " #   Column                      Dtype  \n",
            "---  ------                      -----  \n",
            " 0   trip_id                     object \n",
            " 1   taxi_id                     object \n",
            " 2   trip_start_timestamp        object \n",
            " 3   trip_end_timestamp          object \n",
            " 4   trip_seconds                float64\n",
            " 5   trip_miles                  float64\n",
            " 6   pickup_census_tract         float64\n",
            " 7   dropoff_census_tract        float64\n",
            " 8   pickup_community_area       float64\n",
            " 9   dropoff_community_area      float64\n",
            " 10  fare                        float64\n",
            " 11  tips                        float64\n",
            " 12  tolls                       float64\n",
            " 13  extras                      float64\n",
            " 14  trip_total                  float64\n",
            " 15  payment_type                object \n",
            " 16  company                     object \n",
            " 17  pickup_centroid_latitude    float64\n",
            " 18  pickup_centroid_longitude   float64\n",
            " 19  pickup_centroid_location    object \n",
            " 20  dropoff_centroid_latitude   float64\n",
            " 21  dropoff_centroid_longitude  float64\n",
            " 22  dropoff_centroid__location  object \n",
            "dtypes: float64(15), object(8)\n",
            "memory usage: 3.5+ GB\n"
          ]
        }
      ],
      "source": [
        "taxi_trips_pdf.info()"
      ],
      "metadata": {
        "pycharm": {
          "name": "#%%\n"
        },
        "colab": {
          "base_uri": "https://localhost:8080/"
        },
        "id": "pECU7pU7xjgo",
        "outputId": "d18dc03b-34f8-4a07-d696-6d806e330e83"
      },
      "id": "pECU7pU7xjgo"
    },
    {
      "cell_type": "code",
      "execution_count": 12,
      "id": "bfcff7e9",
      "metadata": {
        "pycharm": {
          "name": "#%%\n"
        },
        "colab": {
          "base_uri": "https://localhost:8080/",
          "height": 320
        },
        "id": "bfcff7e9",
        "outputId": "8bbd4dd4-1c18-4cae-e564-384580077f91"
      },
      "outputs": [
        {
          "output_type": "execute_result",
          "data": {
            "text/plain": [
              "       trip_seconds    trip_miles  pickup_census_tract  dropoff_census_tract  \\\n",
              "count  2.036211e+07  2.036582e+07         1.266474e+07          1.255466e+07   \n",
              "mean   8.946767e+02  3.686068e+00         1.703142e+10          1.703139e+10   \n",
              "std    1.570614e+03  6.155975e+00         3.476717e+05          3.348582e+05   \n",
              "min    0.000000e+00  0.000000e+00         1.703101e+10          1.703101e+10   \n",
              "25%    3.600000e+02  5.800000e-01         1.703108e+10          1.703108e+10   \n",
              "50%    6.000000e+02  1.280000e+00         1.703132e+10          1.703128e+10   \n",
              "75%    1.063000e+03  3.440000e+00         1.703184e+10          1.703184e+10   \n",
              "max    8.640000e+04  1.428970e+03         1.703199e+10          1.703199e+10   \n",
              "\n",
              "       pickup_community_area  dropoff_community_area          fare  \\\n",
              "count           1.884950e+07            1.833892e+07  2.036449e+07   \n",
              "mean            2.732747e+01            2.309093e+01  1.505766e+01   \n",
              "std             2.135906e+01            1.795711e+01  6.447253e+01   \n",
              "min             1.000000e+00            1.000000e+00  0.000000e+00   \n",
              "25%             8.000000e+00            8.000000e+00  6.000000e+00   \n",
              "50%             2.800000e+01            2.400000e+01  8.250000e+00   \n",
              "75%             3.200000e+01            3.200000e+01  1.550000e+01   \n",
              "max             7.700000e+01            7.700000e+01  9.955550e+03   \n",
              "\n",
              "               tips         tolls        extras    trip_total  \\\n",
              "count  2.036449e+07  2.010605e+07  2.036449e+07  2.036449e+07   \n",
              "mean   1.773579e+00  2.046028e-03  1.251941e+00  1.821346e+01   \n",
              "std    3.047317e+00  2.925853e-01  1.918910e+01  6.806919e+01   \n",
              "min    0.000000e+00  0.000000e+00  0.000000e+00  0.000000e+00   \n",
              "25%    0.000000e+00  0.000000e+00  0.000000e+00  7.250000e+00   \n",
              "50%    0.000000e+00  0.000000e+00  0.000000e+00  1.000000e+01   \n",
              "75%    2.000000e+00  0.000000e+00  1.000000e+00  1.800000e+01   \n",
              "max    5.120000e+02  9.606800e+02  9.900660e+03  9.955550e+03   \n",
              "\n",
              "       pickup_centroid_latitude  pickup_centroid_longitude  \\\n",
              "count              1.885223e+07               1.885223e+07   \n",
              "mean               4.189809e+01              -8.766601e+01   \n",
              "std                4.484487e-02               8.462348e-02   \n",
              "min                4.165022e+01              -8.791362e+01   \n",
              "25%                4.188099e+01              -8.765600e+01   \n",
              "50%                4.189197e+01              -8.763275e+01   \n",
              "75%                4.190022e+01              -8.762519e+01   \n",
              "max                4.202122e+01              -8.753071e+01   \n",
              "\n",
              "       dropoff_centroid_latitude  dropoff_centroid_longitude  \n",
              "count               1.840468e+07                1.840468e+07  \n",
              "mean                4.189665e+01               -8.765309e+01  \n",
              "std                 4.249673e-02                5.980834e-02  \n",
              "min                 4.166014e+01               -8.791362e+01  \n",
              "25%                 4.188099e+01               -8.765600e+01  \n",
              "50%                 4.189204e+01               -8.763275e+01  \n",
              "75%                 4.190279e+01               -8.762519e+01  \n",
              "max                 4.202122e+01               -8.753071e+01  "
            ],
            "text/html": [
              "<div>\n",
              "<style scoped>\n",
              "    .dataframe tbody tr th:only-of-type {\n",
              "        vertical-align: middle;\n",
              "    }\n",
              "\n",
              "    .dataframe tbody tr th {\n",
              "        vertical-align: top;\n",
              "    }\n",
              "\n",
              "    .dataframe thead th {\n",
              "        text-align: right;\n",
              "    }\n",
              "</style>\n",
              "<table border=\"1\" class=\"dataframe\">\n",
              "  <thead>\n",
              "    <tr style=\"text-align: right;\">\n",
              "      <th></th>\n",
              "      <th>trip_seconds</th>\n",
              "      <th>trip_miles</th>\n",
              "      <th>pickup_census_tract</th>\n",
              "      <th>dropoff_census_tract</th>\n",
              "      <th>pickup_community_area</th>\n",
              "      <th>dropoff_community_area</th>\n",
              "      <th>fare</th>\n",
              "      <th>tips</th>\n",
              "      <th>tolls</th>\n",
              "      <th>extras</th>\n",
              "      <th>trip_total</th>\n",
              "      <th>pickup_centroid_latitude</th>\n",
              "      <th>pickup_centroid_longitude</th>\n",
              "      <th>dropoff_centroid_latitude</th>\n",
              "      <th>dropoff_centroid_longitude</th>\n",
              "    </tr>\n",
              "  </thead>\n",
              "  <tbody>\n",
              "    <tr>\n",
              "      <th>count</th>\n",
              "      <td>2.036211e+07</td>\n",
              "      <td>2.036582e+07</td>\n",
              "      <td>1.266474e+07</td>\n",
              "      <td>1.255466e+07</td>\n",
              "      <td>1.884950e+07</td>\n",
              "      <td>1.833892e+07</td>\n",
              "      <td>2.036449e+07</td>\n",
              "      <td>2.036449e+07</td>\n",
              "      <td>2.010605e+07</td>\n",
              "      <td>2.036449e+07</td>\n",
              "      <td>2.036449e+07</td>\n",
              "      <td>1.885223e+07</td>\n",
              "      <td>1.885223e+07</td>\n",
              "      <td>1.840468e+07</td>\n",
              "      <td>1.840468e+07</td>\n",
              "    </tr>\n",
              "    <tr>\n",
              "      <th>mean</th>\n",
              "      <td>8.946767e+02</td>\n",
              "      <td>3.686068e+00</td>\n",
              "      <td>1.703142e+10</td>\n",
              "      <td>1.703139e+10</td>\n",
              "      <td>2.732747e+01</td>\n",
              "      <td>2.309093e+01</td>\n",
              "      <td>1.505766e+01</td>\n",
              "      <td>1.773579e+00</td>\n",
              "      <td>2.046028e-03</td>\n",
              "      <td>1.251941e+00</td>\n",
              "      <td>1.821346e+01</td>\n",
              "      <td>4.189809e+01</td>\n",
              "      <td>-8.766601e+01</td>\n",
              "      <td>4.189665e+01</td>\n",
              "      <td>-8.765309e+01</td>\n",
              "    </tr>\n",
              "    <tr>\n",
              "      <th>std</th>\n",
              "      <td>1.570614e+03</td>\n",
              "      <td>6.155975e+00</td>\n",
              "      <td>3.476717e+05</td>\n",
              "      <td>3.348582e+05</td>\n",
              "      <td>2.135906e+01</td>\n",
              "      <td>1.795711e+01</td>\n",
              "      <td>6.447253e+01</td>\n",
              "      <td>3.047317e+00</td>\n",
              "      <td>2.925853e-01</td>\n",
              "      <td>1.918910e+01</td>\n",
              "      <td>6.806919e+01</td>\n",
              "      <td>4.484487e-02</td>\n",
              "      <td>8.462348e-02</td>\n",
              "      <td>4.249673e-02</td>\n",
              "      <td>5.980834e-02</td>\n",
              "    </tr>\n",
              "    <tr>\n",
              "      <th>min</th>\n",
              "      <td>0.000000e+00</td>\n",
              "      <td>0.000000e+00</td>\n",
              "      <td>1.703101e+10</td>\n",
              "      <td>1.703101e+10</td>\n",
              "      <td>1.000000e+00</td>\n",
              "      <td>1.000000e+00</td>\n",
              "      <td>0.000000e+00</td>\n",
              "      <td>0.000000e+00</td>\n",
              "      <td>0.000000e+00</td>\n",
              "      <td>0.000000e+00</td>\n",
              "      <td>0.000000e+00</td>\n",
              "      <td>4.165022e+01</td>\n",
              "      <td>-8.791362e+01</td>\n",
              "      <td>4.166014e+01</td>\n",
              "      <td>-8.791362e+01</td>\n",
              "    </tr>\n",
              "    <tr>\n",
              "      <th>25%</th>\n",
              "      <td>3.600000e+02</td>\n",
              "      <td>5.800000e-01</td>\n",
              "      <td>1.703108e+10</td>\n",
              "      <td>1.703108e+10</td>\n",
              "      <td>8.000000e+00</td>\n",
              "      <td>8.000000e+00</td>\n",
              "      <td>6.000000e+00</td>\n",
              "      <td>0.000000e+00</td>\n",
              "      <td>0.000000e+00</td>\n",
              "      <td>0.000000e+00</td>\n",
              "      <td>7.250000e+00</td>\n",
              "      <td>4.188099e+01</td>\n",
              "      <td>-8.765600e+01</td>\n",
              "      <td>4.188099e+01</td>\n",
              "      <td>-8.765600e+01</td>\n",
              "    </tr>\n",
              "    <tr>\n",
              "      <th>50%</th>\n",
              "      <td>6.000000e+02</td>\n",
              "      <td>1.280000e+00</td>\n",
              "      <td>1.703132e+10</td>\n",
              "      <td>1.703128e+10</td>\n",
              "      <td>2.800000e+01</td>\n",
              "      <td>2.400000e+01</td>\n",
              "      <td>8.250000e+00</td>\n",
              "      <td>0.000000e+00</td>\n",
              "      <td>0.000000e+00</td>\n",
              "      <td>0.000000e+00</td>\n",
              "      <td>1.000000e+01</td>\n",
              "      <td>4.189197e+01</td>\n",
              "      <td>-8.763275e+01</td>\n",
              "      <td>4.189204e+01</td>\n",
              "      <td>-8.763275e+01</td>\n",
              "    </tr>\n",
              "    <tr>\n",
              "      <th>75%</th>\n",
              "      <td>1.063000e+03</td>\n",
              "      <td>3.440000e+00</td>\n",
              "      <td>1.703184e+10</td>\n",
              "      <td>1.703184e+10</td>\n",
              "      <td>3.200000e+01</td>\n",
              "      <td>3.200000e+01</td>\n",
              "      <td>1.550000e+01</td>\n",
              "      <td>2.000000e+00</td>\n",
              "      <td>0.000000e+00</td>\n",
              "      <td>1.000000e+00</td>\n",
              "      <td>1.800000e+01</td>\n",
              "      <td>4.190022e+01</td>\n",
              "      <td>-8.762519e+01</td>\n",
              "      <td>4.190279e+01</td>\n",
              "      <td>-8.762519e+01</td>\n",
              "    </tr>\n",
              "    <tr>\n",
              "      <th>max</th>\n",
              "      <td>8.640000e+04</td>\n",
              "      <td>1.428970e+03</td>\n",
              "      <td>1.703199e+10</td>\n",
              "      <td>1.703199e+10</td>\n",
              "      <td>7.700000e+01</td>\n",
              "      <td>7.700000e+01</td>\n",
              "      <td>9.955550e+03</td>\n",
              "      <td>5.120000e+02</td>\n",
              "      <td>9.606800e+02</td>\n",
              "      <td>9.900660e+03</td>\n",
              "      <td>9.955550e+03</td>\n",
              "      <td>4.202122e+01</td>\n",
              "      <td>-8.753071e+01</td>\n",
              "      <td>4.202122e+01</td>\n",
              "      <td>-8.753071e+01</td>\n",
              "    </tr>\n",
              "  </tbody>\n",
              "</table>\n",
              "</div>"
            ]
          },
          "metadata": {},
          "execution_count": 12
        }
      ],
      "source": [
        "# Describe - Pandas\n",
        "timer.start()\n",
        "taxi_trips_pdf.describe()"
      ]
    },
    {
      "cell_type": "code",
      "source": [
        "timer.stop()"
      ],
      "metadata": {
        "id": "PWh7yRSX-mzM",
        "outputId": "77e84c33-26fe-4c57-f99c-746177bf7d57",
        "colab": {
          "base_uri": "https://localhost:8080/"
        }
      },
      "id": "PWh7yRSX-mzM",
      "execution_count": 13,
      "outputs": [
        {
          "output_type": "stream",
          "name": "stdout",
          "text": [
            "Elapsed time: 32.8514 seconds\n"
          ]
        },
        {
          "output_type": "execute_result",
          "data": {
            "text/plain": [
              "32.851358999999775"
            ]
          },
          "metadata": {},
          "execution_count": 13
        }
      ]
    },
    {
      "cell_type": "code",
      "source": [
        ""
      ],
      "metadata": {
        "id": "VHJrYq8e_Otk"
      },
      "id": "VHJrYq8e_Otk",
      "execution_count": null,
      "outputs": []
    },
    {
      "cell_type": "code",
      "source": [
        "timer.stop()"
      ],
      "metadata": {
        "id": "hd9jHDHm_KX8"
      },
      "id": "hd9jHDHm_KX8",
      "execution_count": null,
      "outputs": []
    },
    {
      "cell_type": "code",
      "execution_count": null,
      "id": "88dcdee9",
      "metadata": {
        "pycharm": {
          "is_executing": true,
          "name": "#%%\n"
        },
        "id": "88dcdee9",
        "outputId": "ad151b2d-70fa-41ae-9616-19f63b2676b9"
      },
      "outputs": [
        {
          "name": "stdout",
          "output_type": "stream",
          "text": [
            "Elapsed time: 247.8482 seconds\n"
          ]
        },
        {
          "data": {
            "text/plain": [
              "247.84816089999998"
            ]
          },
          "execution_count": 6,
          "metadata": {},
          "output_type": "execute_result"
        }
      ],
      "source": [
        "# Sum a column value across the entire dataframe with about 200k rows - using Pandas\n",
        "timer.start()\n",
        "\n",
        "contact_pdf.sum()['opportunity']\n",
        "\n",
        "timer.stop()"
      ]
    },
    {
      "cell_type": "code",
      "execution_count": null,
      "id": "fc3418f2",
      "metadata": {
        "pycharm": {
          "name": "#%%\n"
        },
        "id": "fc3418f2",
        "outputId": "586c6037-5340-4230-e343-f212b7b80b42"
      },
      "outputs": [
        {
          "name": "stdout",
          "output_type": "stream",
          "text": [
            "Elapsed time: 10.5582 seconds\n"
          ]
        },
        {
          "data": {
            "text/plain": [
              "10.558202400000027"
            ]
          },
          "execution_count": 7,
          "metadata": {},
          "output_type": "execute_result"
        }
      ],
      "source": [
        "# Sum a column value across the entire dataframe with about 200k rows - using Terality\n",
        "timer.start()\n",
        "\n",
        "contact_tdf.sum()['opportunity']\n",
        "\n",
        "timer.stop()"
      ]
    },
    {
      "cell_type": "code",
      "execution_count": null,
      "id": "e63ad325",
      "metadata": {
        "pycharm": {
          "name": "#%%\n"
        },
        "id": "e63ad325"
      },
      "outputs": [],
      "source": [
        "# Sum a column value across the entire dataframe with about 1M rows - using Pandas\n",
        "timer.start()\n",
        "\n",
        "net_txn_amount = txn_pdf.sum()['sales']\n",
        "print(\"Net Txn Amount: \", net_txn_amount)\n",
        "\n",
        "timer.stop()"
      ]
    },
    {
      "cell_type": "code",
      "execution_count": null,
      "id": "5e36d297",
      "metadata": {
        "pycharm": {
          "name": "#%%\n"
        },
        "id": "5e36d297"
      },
      "outputs": [],
      "source": [
        "# Sum a column value across the entire dataframe with about 1M rows - using Terality\n",
        "timer.start()\n",
        "\n",
        "net_txn_amount = txn_tdf.sum()['sales']\n",
        "print(\"Net Txn Amount: \", net_txn_amount)\n",
        "\n",
        "timer.stop()"
      ]
    },
    {
      "cell_type": "code",
      "execution_count": null,
      "id": "5ace3427",
      "metadata": {
        "pycharm": {
          "name": "#%%\n"
        },
        "id": "5ace3427",
        "outputId": "f29b8ddd-54f7-4014-8f29-4ffaf8640160"
      },
      "outputs": [
        {
          "name": "stdout",
          "output_type": "stream",
          "text": [
            "Elapsed time: 0.3382 seconds\n"
          ]
        },
        {
          "data": {
            "text/plain": [
              "0.33816919999998163"
            ]
          },
          "execution_count": 8,
          "metadata": {},
          "output_type": "execute_result"
        }
      ],
      "source": [
        "# Sum a column value grouped by another column across the entire dataframe with about 1M rows - using Pandas\n",
        "timer.start()\n",
        "\n",
        "txn_pdf.groupby('contact_id').sum()[['sales'] + ['redemptions']]\n",
        "\n",
        "timer.stop()"
      ]
    },
    {
      "cell_type": "code",
      "execution_count": null,
      "id": "c87ece3d",
      "metadata": {
        "id": "c87ece3d",
        "outputId": "adbe0855-ba21-4acd-a0af-5075d2684b52"
      },
      "outputs": [
        {
          "name": "stdout",
          "output_type": "stream",
          "text": [
            "Elapsed time: 3.3017 seconds\n"
          ]
        },
        {
          "data": {
            "text/plain": [
              "3.30167449999999"
            ]
          },
          "execution_count": 9,
          "metadata": {},
          "output_type": "execute_result"
        }
      ],
      "source": [
        "# Sum a column value grouped by another column across the entire dataframe with about 1M rows - using Terality\n",
        "timer.start()\n",
        "\n",
        "txn_tdf.groupby('contact_id').sum()[['sales'] + ['redemptions']]\n",
        "\n",
        "timer.stop()"
      ]
    },
    {
      "cell_type": "code",
      "execution_count": null,
      "id": "102b12ce",
      "metadata": {
        "id": "102b12ce",
        "outputId": "673bf8fc-b35a-4f26-aa05-08b77e2ffad0"
      },
      "outputs": [
        {
          "name": "stdout",
          "output_type": "stream",
          "text": [
            "Elapsed time: 0.2162 seconds\n"
          ]
        },
        {
          "data": {
            "text/plain": [
              "0.21618570000003956"
            ]
          },
          "execution_count": 10,
          "metadata": {},
          "output_type": "execute_result"
        }
      ],
      "source": [
        "# Describe the dataframe columns and their types - using Pandas\n",
        "timer.start()\n",
        "\n",
        "txn_pdf.describe()\n",
        "\n",
        "timer.stop()"
      ]
    },
    {
      "cell_type": "code",
      "execution_count": null,
      "id": "f01a3c02",
      "metadata": {
        "id": "f01a3c02",
        "outputId": "92610add-59d0-48f8-e5dc-de36ff11f231"
      },
      "outputs": [
        {
          "name": "stdout",
          "output_type": "stream",
          "text": [
            "Elapsed time: 5.0994 seconds\n"
          ]
        },
        {
          "data": {
            "text/plain": [
              "5.0994470999999635"
            ]
          },
          "execution_count": 11,
          "metadata": {},
          "output_type": "execute_result"
        }
      ],
      "source": [
        "# Describe the dataframe columns and their types - using Terality\n",
        "timer.start()\n",
        "\n",
        "txn_tdf.describe()\n",
        "\n",
        "timer.stop()"
      ]
    },
    {
      "cell_type": "code",
      "execution_count": null,
      "id": "a07c8171",
      "metadata": {
        "id": "a07c8171",
        "outputId": "7580a5ab-f35e-46d2-d7b0-c4cd9fac663d"
      },
      "outputs": [
        {
          "name": "stdout",
          "output_type": "stream",
          "text": [
            "Elapsed time: 0.0001 seconds\n"
          ]
        },
        {
          "data": {
            "text/plain": [
              "5.649999997103805e-05"
            ]
          },
          "execution_count": 12,
          "metadata": {},
          "output_type": "execute_result"
        }
      ],
      "source": [
        "# Count of rows - using Pandas\n",
        "timer.start()\n",
        "\n",
        "txn_pdf.index.size\n",
        "\n",
        "timer.stop()"
      ]
    },
    {
      "cell_type": "code",
      "execution_count": null,
      "id": "d3380e97",
      "metadata": {
        "id": "d3380e97",
        "outputId": "e93a4ee7-5a0f-4ed1-935b-ecfdaeb72ae7"
      },
      "outputs": [
        {
          "name": "stdout",
          "output_type": "stream",
          "text": [
            "Elapsed time: 0.7884 seconds\n"
          ]
        },
        {
          "data": {
            "text/plain": [
              "0.7883520999999973"
            ]
          },
          "execution_count": 13,
          "metadata": {},
          "output_type": "execute_result"
        }
      ],
      "source": [
        "# Count of rows - using Terality\n",
        "timer.start()\n",
        "\n",
        "txn_tdf.index.size\n",
        "\n",
        "timer.stop()"
      ]
    },
    {
      "cell_type": "code",
      "execution_count": null,
      "id": "0458510c",
      "metadata": {
        "id": "0458510c",
        "outputId": "1b7dc20d-1525-4324-9e1b-8c22dc3c72e4"
      },
      "outputs": [
        {
          "name": "stdout",
          "output_type": "stream",
          "text": [
            "Elapsed time: 2.2027 seconds\n"
          ]
        },
        {
          "data": {
            "text/plain": [
              "2.202657399999964"
            ]
          },
          "execution_count": 14,
          "metadata": {},
          "output_type": "execute_result"
        }
      ],
      "source": [
        "# Sort by ticker - using Pandas\n",
        "timer.start()\n",
        "\n",
        "txn_pdf.sort_values(by = 'product_id')\n",
        "\n",
        "timer.stop()"
      ]
    },
    {
      "cell_type": "code",
      "execution_count": null,
      "id": "eb196bad",
      "metadata": {
        "id": "eb196bad",
        "outputId": "7409d8e7-866e-4f7c-8da4-b6d43e573015"
      },
      "outputs": [
        {
          "name": "stdout",
          "output_type": "stream",
          "text": [
            "Elapsed time: 4.2181 seconds\n"
          ]
        },
        {
          "data": {
            "text/plain": [
              "4.218130400000064"
            ]
          },
          "execution_count": 15,
          "metadata": {},
          "output_type": "execute_result"
        }
      ],
      "source": [
        "# Sort by ticker - using Terality\n",
        "timer.start()\n",
        "\n",
        "txn_tdf.sort_values(by ='product_id')\n",
        "\n",
        "timer.stop()"
      ]
    },
    {
      "cell_type": "code",
      "execution_count": null,
      "id": "14d1427b",
      "metadata": {
        "id": "14d1427b",
        "outputId": "c2a96601-198e-4627-dfce-f60bd33c49c7"
      },
      "outputs": [
        {
          "name": "stdout",
          "output_type": "stream",
          "text": [
            "Elapsed time: 0.0004 seconds\n"
          ]
        },
        {
          "data": {
            "text/plain": [
              "0.00039140000001225417"
            ]
          },
          "execution_count": 16,
          "metadata": {},
          "output_type": "execute_result"
        }
      ],
      "source": [
        "# Slicing - using Pandas\n",
        "timer.start()\n",
        "\n",
        "txn_pdf[113:211]\n",
        "\n",
        "timer.stop()"
      ]
    },
    {
      "cell_type": "code",
      "execution_count": null,
      "id": "f55e2548",
      "metadata": {
        "id": "f55e2548",
        "outputId": "c4568676-bcfe-4a31-a6bd-3c80b5707f35"
      },
      "outputs": [
        {
          "name": "stdout",
          "output_type": "stream",
          "text": [
            "Elapsed time: 0.8531 seconds\n"
          ]
        },
        {
          "data": {
            "text/plain": [
              "0.8531338000000233"
            ]
          },
          "execution_count": 17,
          "metadata": {},
          "output_type": "execute_result"
        }
      ],
      "source": [
        "# Slicing - using Terality\n",
        "timer.start()\n",
        "\n",
        "txn_tdf[113:211]\n",
        "\n",
        "timer.stop()"
      ]
    },
    {
      "cell_type": "code",
      "execution_count": null,
      "id": "65a9a389",
      "metadata": {
        "id": "65a9a389",
        "outputId": "c648e1ab-5e20-4eb2-88a6-3d788998ce50"
      },
      "outputs": [
        {
          "name": "stdout",
          "output_type": "stream",
          "text": [
            "Elapsed time: 0.0036 seconds\n"
          ]
        },
        {
          "data": {
            "text/plain": [
              "0.0036301000000094064"
            ]
          },
          "execution_count": 18,
          "metadata": {},
          "output_type": "execute_result"
        }
      ],
      "source": [
        "# Selecting a single row from an un-indexed dataframe - using Pandas\n",
        "timer.start()\n",
        "\n",
        "txn_pdf[txn_pdf['txn_id'] == 423603758]\n",
        "\n",
        "timer.stop()"
      ]
    },
    {
      "cell_type": "code",
      "execution_count": null,
      "id": "b0ef714a",
      "metadata": {
        "pycharm": {
          "name": "#%%\n"
        },
        "id": "b0ef714a",
        "outputId": "bfadef80-9fa3-449b-87e9-ef83226f82ad"
      },
      "outputs": [
        {
          "name": "stdout",
          "output_type": "stream",
          "text": [
            "Elapsed time: 2.3734 seconds\n"
          ]
        },
        {
          "data": {
            "text/plain": [
              "2.373365100000001"
            ]
          },
          "execution_count": 19,
          "metadata": {},
          "output_type": "execute_result"
        }
      ],
      "source": [
        "# Selecting a single row from an un-indexed dataframe - using Terality\n",
        "timer.start()\n",
        "\n",
        "txn_tdf[txn_tdf['txn_id'] == 423603758]\n",
        "\n",
        "timer.stop()"
      ]
    },
    {
      "cell_type": "code",
      "execution_count": null,
      "id": "fd43772b",
      "metadata": {
        "id": "fd43772b",
        "outputId": "e9ef631d-7918-45c8-aa08-3fa45ec4e826"
      },
      "outputs": [
        {
          "name": "stdout",
          "output_type": "stream",
          "text": [
            "Elapsed time: 0.0993 seconds\n"
          ]
        },
        {
          "data": {
            "text/plain": [
              "0.09928609999997207"
            ]
          },
          "execution_count": 20,
          "metadata": {},
          "output_type": "execute_result"
        }
      ],
      "source": [
        "#filters\n",
        "timer.start()\n",
        "\n",
        "txn_pdf[txn_pdf['product_id'].isin(['FPHAX', 'VSIAX', 'PRNHX', 'FKTFX', 'VEIEX'])]\n",
        "\n",
        "timer.stop()"
      ]
    },
    {
      "cell_type": "code",
      "execution_count": null,
      "id": "33af3067",
      "metadata": {
        "id": "33af3067",
        "outputId": "f8ee908b-b0a5-432d-ccfb-0c3846297568"
      },
      "outputs": [
        {
          "name": "stdout",
          "output_type": "stream",
          "text": [
            "Elapsed time: 2.4200 seconds\n"
          ]
        },
        {
          "data": {
            "text/plain": [
              "2.420022200000062"
            ]
          },
          "execution_count": 21,
          "metadata": {},
          "output_type": "execute_result"
        }
      ],
      "source": [
        "#filters\n",
        "timer.start()\n",
        "\n",
        "txn_tdf[txn_tdf['product_id'].isin(['FPHAX', 'VSIAX', 'PRNHX', 'FKTFX', 'VEIEX'])]\n",
        "\n",
        "timer.stop()"
      ]
    },
    {
      "cell_type": "code",
      "execution_count": null,
      "id": "746ab965",
      "metadata": {
        "pycharm": {
          "name": "#%%\n"
        },
        "id": "746ab965",
        "outputId": "6a312f1d-3ab9-4a07-f80b-17f796a6ae8d"
      },
      "outputs": [
        {
          "name": "stdout",
          "output_type": "stream",
          "text": [
            "Elapsed time: 2.0853 seconds\n"
          ]
        },
        {
          "data": {
            "text/plain": [
              "2.08529580000004"
            ]
          },
          "execution_count": 22,
          "metadata": {},
          "output_type": "execute_result"
        }
      ],
      "source": [
        "# Merging two dataframes - using Pandas\n",
        "timer.start()\n",
        "\n",
        "contact_pdf.merge(txn_pdf, on='contact_id')\n",
        "\n",
        "timer.stop()"
      ]
    },
    {
      "cell_type": "code",
      "execution_count": null,
      "id": "66e2657f",
      "metadata": {
        "id": "66e2657f",
        "outputId": "adbc71c8-ffae-4a29-8108-bbc1cd582b62"
      },
      "outputs": [
        {
          "name": "stdout",
          "output_type": "stream",
          "text": [
            "Elapsed time: 9.0715 seconds\n"
          ]
        },
        {
          "data": {
            "text/plain": [
              "9.071548899999925"
            ]
          },
          "execution_count": 23,
          "metadata": {},
          "output_type": "execute_result"
        }
      ],
      "source": [
        "# Merging two dataframes - using Terality\n",
        "timer.start()\n",
        "\n",
        "contact_tdf.merge(txn_tdf, on='contact_id')\n",
        "\n",
        "timer.stop()"
      ]
    },
    {
      "cell_type": "code",
      "execution_count": null,
      "id": "e6c55663",
      "metadata": {
        "id": "e6c55663",
        "outputId": "7246c7e9-f87e-4291-9798-b72b28d73a5b"
      },
      "outputs": [
        {
          "name": "stdout",
          "output_type": "stream",
          "text": [
            "Elapsed time: 1.0281 seconds\n"
          ]
        },
        {
          "data": {
            "text/plain": [
              "1.0280862000000752"
            ]
          },
          "execution_count": 24,
          "metadata": {},
          "output_type": "execute_result"
        }
      ],
      "source": [
        "# Merging two dataframes and grouping by a single column - using Pandas\n",
        "timer.start()\n",
        "\n",
        "contact_pdf.merge(txn_pdf, on='contact_id').groupby('customer_id').sum()[['sales'] + ['redemptions']]\n",
        "\n",
        "timer.stop()"
      ]
    },
    {
      "cell_type": "code",
      "execution_count": null,
      "id": "8dba01db",
      "metadata": {
        "pycharm": {
          "is_executing": true
        },
        "id": "8dba01db",
        "outputId": "c4370bcc-02d0-41a4-f4f9-f11eb72675d3"
      },
      "outputs": [
        {
          "name": "stdout",
          "output_type": "stream",
          "text": [
            "Elapsed time: 5.7810 seconds\n"
          ]
        },
        {
          "data": {
            "text/plain": [
              "5.78103909999993"
            ]
          },
          "execution_count": 25,
          "metadata": {},
          "output_type": "execute_result"
        }
      ],
      "source": [
        "# Merging two dataframes and grouping by a single column - using Terality\n",
        "timer.start()\n",
        "\n",
        "contact_tdf.merge(txn_tdf, on='contact_id').groupby('customer_id').sum()[['sales'] + ['redemptions']]\n",
        "\n",
        "timer.stop()"
      ]
    },
    {
      "cell_type": "code",
      "execution_count": null,
      "id": "0ac64730",
      "metadata": {
        "pycharm": {
          "name": "#%%\n"
        },
        "scrolled": true,
        "id": "0ac64730",
        "outputId": "7c5e619f-8a91-4abc-c087-5b8aebb2d76c"
      },
      "outputs": [
        {
          "name": "stdout",
          "output_type": "stream",
          "text": [
            "Elapsed time: 6.5483 seconds\n"
          ]
        },
        {
          "data": {
            "text/plain": [
              "6.54834470000003"
            ]
          },
          "execution_count": 26,
          "metadata": {},
          "output_type": "execute_result"
        }
      ],
      "source": [
        "# Merging three dataframes and grouping by two columns - using Pandas\n",
        "timer.start()\n",
        "\n",
        "contact_pdf.merge(txn_pdf, on='contact_id').merge(product_pdf, on='product_id').groupby(['customer_id', 'product_id']).sum()[['sales'] + ['redemptions']]\n",
        "\n",
        "timer.stop()"
      ]
    },
    {
      "cell_type": "code",
      "execution_count": null,
      "id": "a324c32f",
      "metadata": {
        "id": "a324c32f",
        "outputId": "c1800733-b0fe-4615-85fa-2d361731053e"
      },
      "outputs": [
        {
          "name": "stdout",
          "output_type": "stream",
          "text": [
            "Elapsed time: 23.8555 seconds\n"
          ]
        },
        {
          "data": {
            "text/plain": [
              "23.855537199999958"
            ]
          },
          "execution_count": 27,
          "metadata": {},
          "output_type": "execute_result"
        }
      ],
      "source": [
        "# Merging three dataframes and grouping by two columns - using Terality\n",
        "timer.start()\n",
        "\n",
        "contact_tdf.merge(txn_tdf, on='contact_id').merge(product_tdf, on='product_id').groupby(['customer_id', 'product_id']).sum()[['sales'] + ['redemptions']]\n",
        "\n",
        "timer.stop()"
      ]
    },
    {
      "cell_type": "code",
      "execution_count": null,
      "id": "51d5103a",
      "metadata": {
        "id": "51d5103a"
      },
      "outputs": [],
      "source": [
        ""
      ]
    }
  ],
  "metadata": {
    "kernelspec": {
      "display_name": "Python 3 (ipykernel)",
      "language": "python",
      "name": "python3"
    },
    "language_info": {
      "codemirror_mode": {
        "name": "ipython",
        "version": 3
      },
      "file_extension": ".py",
      "mimetype": "text/x-python",
      "name": "python",
      "nbconvert_exporter": "python",
      "pygments_lexer": "ipython3",
      "version": "3.9.7"
    },
    "colab": {
      "name": "pandas_vs_terality.ipynb",
      "provenance": [],
      "include_colab_link": true
    }
  },
  "nbformat": 4,
  "nbformat_minor": 5
}