{
 "cells": [
  {
   "cell_type": "code",
   "execution_count": 51,
   "id": "1b77b18c",
   "metadata": {
    "id": "1b77b18c"
   },
   "outputs": [],
   "source": [
    "import pandas as pd\n",
    "import terality as te\n",
    "from codetiming import Timer\n",
    "import arrow"
   ]
  },
  {
   "cell_type": "code",
   "execution_count": 3,
   "id": "d645ab8c",
   "metadata": {
    "pycharm": {
     "name": "#%%\n"
    },
    "id": "d645ab8c"
   },
   "outputs": [],
   "source": [
    "file_path = \"C:\\\\\\\\Users\\\\\\\\bhask\\\\\\\\Google Drive\\\\\\\\datasets\\\\\\\\Chicago_taxi_trips\\\\\\\\\"\n",
    "timer = Timer(name=\"Terality Tests\")"
   ]
  },
  {
   "cell_type": "code",
   "execution_count": 4,
   "outputs": [],
   "source": [
    "# Disabling Terality cache for testing\n",
    "# cache_disabler = te.disable_cache()\n",
    "# cache_disabler.__enter__()"
   ],
   "metadata": {
    "collapsed": false,
    "pycharm": {
     "name": "#%%\n"
    }
   }
  },
  {
   "cell_type": "code",
   "execution_count": 5,
   "outputs": [],
   "source": [
    "# A list of dataframe columns renamed by converting to lowercase and replacing spaces with '_'\n",
    "columns = [\n",
    "'trip_id',\n",
    "'taxi_id',\n",
    "'trip_start_timestamp',\n",
    "'trip_end_timestamp',\n",
    "'trip_seconds',\n",
    "'trip_miles',\n",
    "'pickup_census_tract',\n",
    "'dropoff_census_tract',\n",
    "'pickup_community_area',\n",
    "'dropoff_community_area',\n",
    "'fare',\n",
    "'tips',\n",
    "'tolls',\n",
    "'extras',\n",
    "'trip_total',\n",
    "'payment_type',\n",
    "'company',\n",
    "'pickup_centroid_latitude',\n",
    "'pickup_centroid_longitude',\n",
    "'pickup_centroid_location',\n",
    "'dropoff_centroid_latitude',\n",
    "'dropoff_centroid_longitude',\n",
    "'dropoff_centroid__location'\n",
    "]"
   ],
   "metadata": {
    "pycharm": {
     "name": "#%%\n"
    },
    "id": "aty6tzzvxjgk"
   },
   "id": "aty6tzzvxjgk"
  },
  {
   "cell_type": "code",
   "execution_count": 6,
   "outputs": [
    {
     "name": "stdout",
     "output_type": "stream",
     "text": [
      "Elapsed time: 74.5499 seconds\n"
     ]
    },
    {
     "data": {
      "text/plain": "74.54994289999999"
     },
     "execution_count": 6,
     "metadata": {},
     "output_type": "execute_result"
    }
   ],
   "source": [
    "# Loading data into dataframes using Pandas\n",
    "timer.start()\n",
    "taxi_trips_pdf = pd.read_csv(file_path + \"Taxi_Trips_2019_2020.csv\")\n",
    "timer.stop()"
   ],
   "metadata": {
    "collapsed": false,
    "pycharm": {
     "name": "#%%\n"
    }
   }
  },
  {
   "cell_type": "code",
   "execution_count": 7,
   "outputs": [
    {
     "name": "stderr",
     "output_type": "stream",
     "text": [
      "C:\\\\Users\\\\bhask\\\\Google Drive\\\\datasets\\\\Chicago_taxi_trips\\\\Taxi_Trips_2019_2020.csv:   0%|          | 0.00/8.48G [00:02<?, ?B/s]\n"
     ]
    },
    {
     "name": "stdout",
     "output_type": "stream",
     "text": [
      "Elapsed time: 40.8557 seconds\n"
     ]
    },
    {
     "data": {
      "text/plain": "40.8557141"
     },
     "execution_count": 7,
     "metadata": {},
     "output_type": "execute_result"
    }
   ],
   "source": [
    "# Loading data into dataframes using Terality\n",
    "timer.start()\n",
    "taxi_trips_tdf = te.read_csv(file_path + \"Taxi_Trips_2019_2020.csv\")\n",
    "timer.stop()"
   ],
   "metadata": {
    "collapsed": false,
    "pycharm": {
     "name": "#%%\n"
    }
   }
  },
  {
   "cell_type": "code",
   "execution_count": 8,
   "outputs": [
    {
     "data": {
      "text/plain": "                                    Trip ID  \\\n0  f24ef1302cd672bbcbeb7dbc60ef78dceeb138b7   \n1  8e40b9c59af7b2897dc7a1163c472903e0dd6e9a   \n2  189631d3891a33361d68ef460c2d3049179f9837   \n3  e4941ac16f2fccf07218d2656a056103a4bf64a6   \n4  57a104b6cf260f117de051e61193e806ceb0f347   \n\n                                             Taxi ID    Trip Start Timestamp  \\\n0  1801165e22d31b0d2557544664d5ac37511b6cd2972126...  01/01/2019 12:00:00 AM   \n1  7a387c4ea03aea6f051c2083737fa232315f8dad35cf36...  01/01/2019 12:00:00 AM   \n2  d1d781b6807176ed53fbb9d0010dd0a87e29c073984bda...  01/01/2019 12:00:00 AM   \n3  6933327f9cc740e893a882282f7d06460207d6d4e084b3...  01/01/2019 12:00:00 AM   \n4  6933327f9cc740e893a882282f7d06460207d6d4e084b3...  01/01/2019 12:00:00 AM   \n\n       Trip End Timestamp  Trip Seconds  Trip Miles  Pickup Census Tract  \\\n0  01/01/2019 12:15:00 AM         885.0        3.45                  NaN   \n1  01/01/2019 12:00:00 AM           8.0        0.00                  NaN   \n2  01/01/2019 12:15:00 AM         960.0        4.90                  NaN   \n3  01/01/2019 12:00:00 AM         420.0        1.50                  NaN   \n4  01/01/2019 12:15:00 AM         420.0        0.50                  NaN   \n\n   Dropoff Census Tract  Pickup Community Area  Dropoff Community Area  ...  \\\n0                   NaN                    NaN                     NaN  ...   \n1                   NaN                    NaN                     NaN  ...   \n2                   NaN                    NaN                     NaN  ...   \n3                   NaN                    NaN                     NaN  ...   \n4                   NaN                    NaN                     NaN  ...   \n\n   Extras  Trip Total  Payment Type                    Company  \\\n0     4.0       16.75          Cash                  Flash Cab   \n1     0.0        3.25          Cash  Chicago Carriage Cab Corp   \n2     1.0       20.10   Credit Card  Star North Management LLC   \n3     0.0        7.50          Cash  Star North Management LLC   \n4     1.0        8.00   Credit Card  Star North Management LLC   \n\n   Pickup Centroid Latitude Pickup Centroid Longitude  \\\n0                       NaN                       NaN   \n1                       NaN                       NaN   \n2                       NaN                       NaN   \n3                       NaN                       NaN   \n4                       NaN                       NaN   \n\n  Pickup Centroid Location  Dropoff Centroid Latitude  \\\n0                      NaN                        NaN   \n1                      NaN                        NaN   \n2                      NaN                        NaN   \n3                      NaN                        NaN   \n4                      NaN                        NaN   \n\n   Dropoff Centroid Longitude Dropoff Centroid  Location  \n0                         NaN                        NaN  \n1                         NaN                        NaN  \n2                         NaN                        NaN  \n3                         NaN                        NaN  \n4                         NaN                        NaN  \n\n[5 rows x 23 columns]",
      "text/html": "<div>\n<style scoped>\n    .dataframe tbody tr th:only-of-type {\n        vertical-align: middle;\n    }\n\n    .dataframe tbody tr th {\n        vertical-align: top;\n    }\n\n    .dataframe thead th {\n        text-align: right;\n    }\n</style>\n<table border=\"1\" class=\"dataframe\">\n  <thead>\n    <tr style=\"text-align: right;\">\n      <th></th>\n      <th>Trip ID</th>\n      <th>Taxi ID</th>\n      <th>Trip Start Timestamp</th>\n      <th>Trip End Timestamp</th>\n      <th>Trip Seconds</th>\n      <th>Trip Miles</th>\n      <th>Pickup Census Tract</th>\n      <th>Dropoff Census Tract</th>\n      <th>Pickup Community Area</th>\n      <th>Dropoff Community Area</th>\n      <th>...</th>\n      <th>Extras</th>\n      <th>Trip Total</th>\n      <th>Payment Type</th>\n      <th>Company</th>\n      <th>Pickup Centroid Latitude</th>\n      <th>Pickup Centroid Longitude</th>\n      <th>Pickup Centroid Location</th>\n      <th>Dropoff Centroid Latitude</th>\n      <th>Dropoff Centroid Longitude</th>\n      <th>Dropoff Centroid  Location</th>\n    </tr>\n  </thead>\n  <tbody>\n    <tr>\n      <th>0</th>\n      <td>f24ef1302cd672bbcbeb7dbc60ef78dceeb138b7</td>\n      <td>1801165e22d31b0d2557544664d5ac37511b6cd2972126...</td>\n      <td>01/01/2019 12:00:00 AM</td>\n      <td>01/01/2019 12:15:00 AM</td>\n      <td>885.0</td>\n      <td>3.45</td>\n      <td>NaN</td>\n      <td>NaN</td>\n      <td>NaN</td>\n      <td>NaN</td>\n      <td>...</td>\n      <td>4.0</td>\n      <td>16.75</td>\n      <td>Cash</td>\n      <td>Flash Cab</td>\n      <td>NaN</td>\n      <td>NaN</td>\n      <td>NaN</td>\n      <td>NaN</td>\n      <td>NaN</td>\n      <td>NaN</td>\n    </tr>\n    <tr>\n      <th>1</th>\n      <td>8e40b9c59af7b2897dc7a1163c472903e0dd6e9a</td>\n      <td>7a387c4ea03aea6f051c2083737fa232315f8dad35cf36...</td>\n      <td>01/01/2019 12:00:00 AM</td>\n      <td>01/01/2019 12:00:00 AM</td>\n      <td>8.0</td>\n      <td>0.00</td>\n      <td>NaN</td>\n      <td>NaN</td>\n      <td>NaN</td>\n      <td>NaN</td>\n      <td>...</td>\n      <td>0.0</td>\n      <td>3.25</td>\n      <td>Cash</td>\n      <td>Chicago Carriage Cab Corp</td>\n      <td>NaN</td>\n      <td>NaN</td>\n      <td>NaN</td>\n      <td>NaN</td>\n      <td>NaN</td>\n      <td>NaN</td>\n    </tr>\n    <tr>\n      <th>2</th>\n      <td>189631d3891a33361d68ef460c2d3049179f9837</td>\n      <td>d1d781b6807176ed53fbb9d0010dd0a87e29c073984bda...</td>\n      <td>01/01/2019 12:00:00 AM</td>\n      <td>01/01/2019 12:15:00 AM</td>\n      <td>960.0</td>\n      <td>4.90</td>\n      <td>NaN</td>\n      <td>NaN</td>\n      <td>NaN</td>\n      <td>NaN</td>\n      <td>...</td>\n      <td>1.0</td>\n      <td>20.10</td>\n      <td>Credit Card</td>\n      <td>Star North Management LLC</td>\n      <td>NaN</td>\n      <td>NaN</td>\n      <td>NaN</td>\n      <td>NaN</td>\n      <td>NaN</td>\n      <td>NaN</td>\n    </tr>\n    <tr>\n      <th>3</th>\n      <td>e4941ac16f2fccf07218d2656a056103a4bf64a6</td>\n      <td>6933327f9cc740e893a882282f7d06460207d6d4e084b3...</td>\n      <td>01/01/2019 12:00:00 AM</td>\n      <td>01/01/2019 12:00:00 AM</td>\n      <td>420.0</td>\n      <td>1.50</td>\n      <td>NaN</td>\n      <td>NaN</td>\n      <td>NaN</td>\n      <td>NaN</td>\n      <td>...</td>\n      <td>0.0</td>\n      <td>7.50</td>\n      <td>Cash</td>\n      <td>Star North Management LLC</td>\n      <td>NaN</td>\n      <td>NaN</td>\n      <td>NaN</td>\n      <td>NaN</td>\n      <td>NaN</td>\n      <td>NaN</td>\n    </tr>\n    <tr>\n      <th>4</th>\n      <td>57a104b6cf260f117de051e61193e806ceb0f347</td>\n      <td>6933327f9cc740e893a882282f7d06460207d6d4e084b3...</td>\n      <td>01/01/2019 12:00:00 AM</td>\n      <td>01/01/2019 12:15:00 AM</td>\n      <td>420.0</td>\n      <td>0.50</td>\n      <td>NaN</td>\n      <td>NaN</td>\n      <td>NaN</td>\n      <td>NaN</td>\n      <td>...</td>\n      <td>1.0</td>\n      <td>8.00</td>\n      <td>Credit Card</td>\n      <td>Star North Management LLC</td>\n      <td>NaN</td>\n      <td>NaN</td>\n      <td>NaN</td>\n      <td>NaN</td>\n      <td>NaN</td>\n      <td>NaN</td>\n    </tr>\n  </tbody>\n</table>\n<p>5 rows × 23 columns</p>\n</div>"
     },
     "execution_count": 8,
     "metadata": {},
     "output_type": "execute_result"
    }
   ],
   "source": [
    "timer.start()\n",
    "taxi_trips_pdf.head()\n",
    "timer.stop()"
   ],
   "metadata": {
    "collapsed": false,
    "pycharm": {
     "name": "#%%\n"
    }
   }
  },
  {
   "cell_type": "code",
   "execution_count": 9,
   "outputs": [
    {
     "data": {
      "text/plain": "                                    Trip ID  \\\n0  f24ef1302cd672bbcbeb7dbc60ef78dceeb138b7   \n1  8e40b9c59af7b2897dc7a1163c472903e0dd6e9a   \n2  189631d3891a33361d68ef460c2d3049179f9837   \n3  e4941ac16f2fccf07218d2656a056103a4bf64a6   \n4  57a104b6cf260f117de051e61193e806ceb0f347   \n\n                                             Taxi ID    Trip Start Timestamp  \\\n0  1801165e22d31b0d2557544664d5ac37511b6cd2972126...  01/01/2019 12:00:00 AM   \n1  7a387c4ea03aea6f051c2083737fa232315f8dad35cf36...  01/01/2019 12:00:00 AM   \n2  d1d781b6807176ed53fbb9d0010dd0a87e29c073984bda...  01/01/2019 12:00:00 AM   \n3  6933327f9cc740e893a882282f7d06460207d6d4e084b3...  01/01/2019 12:00:00 AM   \n4  6933327f9cc740e893a882282f7d06460207d6d4e084b3...  01/01/2019 12:00:00 AM   \n\n       Trip End Timestamp  Trip Seconds  Trip Miles  Pickup Census Tract  \\\n0  01/01/2019 12:15:00 AM         885.0        3.45                  NaN   \n1  01/01/2019 12:00:00 AM           8.0        0.00                  NaN   \n2  01/01/2019 12:15:00 AM         960.0        4.90                  NaN   \n3  01/01/2019 12:00:00 AM         420.0        1.50                  NaN   \n4  01/01/2019 12:15:00 AM         420.0        0.50                  NaN   \n\n   Dropoff Census Tract  Pickup Community Area  Dropoff Community Area  ...  \\\n0                   NaN                    NaN                     NaN  ...   \n1                   NaN                    NaN                     NaN  ...   \n2                   NaN                    NaN                     NaN  ...   \n3                   NaN                    NaN                     NaN  ...   \n4                   NaN                    NaN                     NaN  ...   \n\n   Extras  Trip Total  Payment Type                    Company  \\\n0     4.0       16.75          Cash                  Flash Cab   \n1     0.0        3.25          Cash  Chicago Carriage Cab Corp   \n2     1.0       20.10   Credit Card  Star North Management LLC   \n3     0.0        7.50          Cash  Star North Management LLC   \n4     1.0        8.00   Credit Card  Star North Management LLC   \n\n   Pickup Centroid Latitude Pickup Centroid Longitude  \\\n0                       NaN                       NaN   \n1                       NaN                       NaN   \n2                       NaN                       NaN   \n3                       NaN                       NaN   \n4                       NaN                       NaN   \n\n  Pickup Centroid Location  Dropoff Centroid Latitude  \\\n0                     None                        NaN   \n1                     None                        NaN   \n2                     None                        NaN   \n3                     None                        NaN   \n4                     None                        NaN   \n\n   Dropoff Centroid Longitude Dropoff Centroid  Location  \n0                         NaN                       None  \n1                         NaN                       None  \n2                         NaN                       None  \n3                         NaN                       None  \n4                         NaN                       None  ",
      "text/html": "<div>\n<style scoped>\n    .dataframe tbody tr th:only-of-type {\n        vertical-align: middle;\n    }\n\n    .dataframe tbody tr th {\n        vertical-align: top;\n    }\n\n    .dataframe thead th {\n        text-align: right;\n    }\n</style>\n<table border=\"1\" class=\"dataframe\">\n  <thead>\n    <tr style=\"text-align: right;\">\n      <th></th>\n      <th>Trip ID</th>\n      <th>Taxi ID</th>\n      <th>Trip Start Timestamp</th>\n      <th>Trip End Timestamp</th>\n      <th>Trip Seconds</th>\n      <th>Trip Miles</th>\n      <th>Pickup Census Tract</th>\n      <th>Dropoff Census Tract</th>\n      <th>Pickup Community Area</th>\n      <th>Dropoff Community Area</th>\n      <th>...</th>\n      <th>Extras</th>\n      <th>Trip Total</th>\n      <th>Payment Type</th>\n      <th>Company</th>\n      <th>Pickup Centroid Latitude</th>\n      <th>Pickup Centroid Longitude</th>\n      <th>Pickup Centroid Location</th>\n      <th>Dropoff Centroid Latitude</th>\n      <th>Dropoff Centroid Longitude</th>\n      <th>Dropoff Centroid  Location</th>\n    </tr>\n  </thead>\n  <tbody>\n    <tr>\n      <th>0</th>\n      <td>f24ef1302cd672bbcbeb7dbc60ef78dceeb138b7</td>\n      <td>1801165e22d31b0d2557544664d5ac37511b6cd2972126...</td>\n      <td>01/01/2019 12:00:00 AM</td>\n      <td>01/01/2019 12:15:00 AM</td>\n      <td>885.0</td>\n      <td>3.45</td>\n      <td>NaN</td>\n      <td>NaN</td>\n      <td>NaN</td>\n      <td>NaN</td>\n      <td>...</td>\n      <td>4.0</td>\n      <td>16.75</td>\n      <td>Cash</td>\n      <td>Flash Cab</td>\n      <td>NaN</td>\n      <td>NaN</td>\n      <td>None</td>\n      <td>NaN</td>\n      <td>NaN</td>\n      <td>None</td>\n    </tr>\n    <tr>\n      <th>1</th>\n      <td>8e40b9c59af7b2897dc7a1163c472903e0dd6e9a</td>\n      <td>7a387c4ea03aea6f051c2083737fa232315f8dad35cf36...</td>\n      <td>01/01/2019 12:00:00 AM</td>\n      <td>01/01/2019 12:00:00 AM</td>\n      <td>8.0</td>\n      <td>0.00</td>\n      <td>NaN</td>\n      <td>NaN</td>\n      <td>NaN</td>\n      <td>NaN</td>\n      <td>...</td>\n      <td>0.0</td>\n      <td>3.25</td>\n      <td>Cash</td>\n      <td>Chicago Carriage Cab Corp</td>\n      <td>NaN</td>\n      <td>NaN</td>\n      <td>None</td>\n      <td>NaN</td>\n      <td>NaN</td>\n      <td>None</td>\n    </tr>\n    <tr>\n      <th>2</th>\n      <td>189631d3891a33361d68ef460c2d3049179f9837</td>\n      <td>d1d781b6807176ed53fbb9d0010dd0a87e29c073984bda...</td>\n      <td>01/01/2019 12:00:00 AM</td>\n      <td>01/01/2019 12:15:00 AM</td>\n      <td>960.0</td>\n      <td>4.90</td>\n      <td>NaN</td>\n      <td>NaN</td>\n      <td>NaN</td>\n      <td>NaN</td>\n      <td>...</td>\n      <td>1.0</td>\n      <td>20.10</td>\n      <td>Credit Card</td>\n      <td>Star North Management LLC</td>\n      <td>NaN</td>\n      <td>NaN</td>\n      <td>None</td>\n      <td>NaN</td>\n      <td>NaN</td>\n      <td>None</td>\n    </tr>\n    <tr>\n      <th>3</th>\n      <td>e4941ac16f2fccf07218d2656a056103a4bf64a6</td>\n      <td>6933327f9cc740e893a882282f7d06460207d6d4e084b3...</td>\n      <td>01/01/2019 12:00:00 AM</td>\n      <td>01/01/2019 12:00:00 AM</td>\n      <td>420.0</td>\n      <td>1.50</td>\n      <td>NaN</td>\n      <td>NaN</td>\n      <td>NaN</td>\n      <td>NaN</td>\n      <td>...</td>\n      <td>0.0</td>\n      <td>7.50</td>\n      <td>Cash</td>\n      <td>Star North Management LLC</td>\n      <td>NaN</td>\n      <td>NaN</td>\n      <td>None</td>\n      <td>NaN</td>\n      <td>NaN</td>\n      <td>None</td>\n    </tr>\n    <tr>\n      <th>4</th>\n      <td>57a104b6cf260f117de051e61193e806ceb0f347</td>\n      <td>6933327f9cc740e893a882282f7d06460207d6d4e084b3...</td>\n      <td>01/01/2019 12:00:00 AM</td>\n      <td>01/01/2019 12:15:00 AM</td>\n      <td>420.0</td>\n      <td>0.50</td>\n      <td>NaN</td>\n      <td>NaN</td>\n      <td>NaN</td>\n      <td>NaN</td>\n      <td>...</td>\n      <td>1.0</td>\n      <td>8.00</td>\n      <td>Credit Card</td>\n      <td>Star North Management LLC</td>\n      <td>NaN</td>\n      <td>NaN</td>\n      <td>None</td>\n      <td>NaN</td>\n      <td>NaN</td>\n      <td>None</td>\n    </tr>\n  </tbody>\n</table>\n</div>"
     },
     "execution_count": 9,
     "metadata": {},
     "output_type": "execute_result"
    }
   ],
   "source": [
    "timer.start()\n",
    "taxi_trips_tdf.head()\n",
    "timer.stop()"
   ],
   "metadata": {
    "collapsed": false,
    "pycharm": {
     "name": "#%%\n"
    }
   }
  },
  {
   "cell_type": "code",
   "execution_count": 10,
   "outputs": [
    {
     "name": "stdout",
     "output_type": "stream",
     "text": [
      "Elapsed time: 0.0026 seconds\n"
     ]
    },
    {
     "data": {
      "text/plain": "0.0026454999999714346"
     },
     "execution_count": 10,
     "metadata": {},
     "output_type": "execute_result"
    }
   ],
   "source": [
    "# Rename the columns of the Pandas dataframe\n",
    "timer.start()\n",
    "taxi_trips_pdf.columns = columns\n",
    "timer.stop()"
   ],
   "metadata": {
    "collapsed": false,
    "pycharm": {
     "name": "#%%\n"
    }
   }
  },
  {
   "cell_type": "code",
   "execution_count": 11,
   "outputs": [
    {
     "name": "stdout",
     "output_type": "stream",
     "text": [
      "Elapsed time: 2.3837 seconds\n"
     ]
    },
    {
     "data": {
      "text/plain": "2.3836875999999734"
     },
     "execution_count": 11,
     "metadata": {},
     "output_type": "execute_result"
    }
   ],
   "source": [
    "# Rename the columns of the Terality dataframe\n",
    "timer.start()\n",
    "taxi_trips_tdf.columns = columns\n",
    "timer.stop()"
   ],
   "metadata": {
    "collapsed": false,
    "pycharm": {
     "name": "#%%\n"
    }
   }
  },
  {
   "cell_type": "code",
   "execution_count": 12,
   "outputs": [
    {
     "name": "stdout",
     "output_type": "stream",
     "text": [
      "Pandas DF Row Count before:  20366397\n",
      "Elapsed time: 0.0011 seconds\n"
     ]
    },
    {
     "data": {
      "text/plain": "0.001109899999960362"
     },
     "execution_count": 12,
     "metadata": {},
     "output_type": "execute_result"
    }
   ],
   "source": [
    "# Row count before cleanup - using Pandas\n",
    "timer.start()\n",
    "print(\"Pandas DF Row Count before: % d\" % taxi_trips_pdf.shape[0])\n",
    "timer.stop()"
   ],
   "metadata": {
    "collapsed": false,
    "pycharm": {
     "name": "#%%\n"
    }
   }
  },
  {
   "cell_type": "code",
   "execution_count": 13,
   "outputs": [
    {
     "name": "stdout",
     "output_type": "stream",
     "text": [
      "Elapsed time: 8.2620 seconds\n"
     ]
    },
    {
     "data": {
      "text/plain": "8.26195359999997"
     },
     "execution_count": 13,
     "metadata": {},
     "output_type": "execute_result"
    }
   ],
   "source": [
    "# Remove all the rows with NaN values using Pandas. There is plenty of data even otherwise\n",
    "timer.start()\n",
    "taxi_trips_pdf.dropna(how='any',axis=0,inplace=True)\n",
    "timer.stop()"
   ],
   "metadata": {
    "collapsed": false,
    "pycharm": {
     "name": "#%%\n"
    }
   }
  },
  {
   "cell_type": "code",
   "execution_count": 14,
   "outputs": [
    {
     "name": "stdout",
     "output_type": "stream",
     "text": [
      "Pandas DF Row Count after:  12199631\n",
      "Elapsed time: 0.0008 seconds\n"
     ]
    },
    {
     "data": {
      "text/plain": "0.000750400000015361"
     },
     "execution_count": 14,
     "metadata": {},
     "output_type": "execute_result"
    }
   ],
   "source": [
    "# Row count after cleanup - using Pandas\n",
    "timer.start()\n",
    "print(\"Pandas DF Row Count after: % d\" % taxi_trips_pdf.shape[0])\n",
    "timer.stop()"
   ],
   "metadata": {
    "collapsed": false,
    "pycharm": {
     "name": "#%%\n"
    }
   }
  },
  {
   "cell_type": "code",
   "execution_count": 15,
   "outputs": [
    {
     "name": "stderr",
     "output_type": "stream",
     "text": [
      "INFO:terality:The result of te.dataframe.shape was retrieved from cache [docs: https://docs.terality.com/getting-terality/user-guide/caching].\n"
     ]
    },
    {
     "name": "stdout",
     "output_type": "stream",
     "text": [
      "Terality DF Row Count after:  20366397\n",
      "Elapsed time: 2.1879 seconds\n"
     ]
    },
    {
     "data": {
      "text/plain": "2.187936899999954"
     },
     "execution_count": 15,
     "metadata": {},
     "output_type": "execute_result"
    }
   ],
   "source": [
    "# Row count before cleanup - using Terality\n",
    "timer.start()\n",
    "print(\"Terality DF Row Count after: % d\" % taxi_trips_tdf.shape[0])\n",
    "timer.stop()"
   ],
   "metadata": {
    "collapsed": false,
    "pycharm": {
     "name": "#%%\n"
    }
   }
  },
  {
   "cell_type": "code",
   "execution_count": 16,
   "outputs": [
    {
     "name": "stdout",
     "output_type": "stream",
     "text": [
      "Elapsed time: 8.0396 seconds\n"
     ]
    },
    {
     "data": {
      "text/plain": "8.039634100000058"
     },
     "execution_count": 16,
     "metadata": {},
     "output_type": "execute_result"
    }
   ],
   "source": [
    "# Remove all the rows with NaN values using Terality. There is plenty of data even otherwise\n",
    "timer.start()\n",
    "taxi_trips_tdf.dropna(how='any',axis=0,inplace=True)\n",
    "timer.stop()"
   ],
   "metadata": {
    "collapsed": false,
    "pycharm": {
     "name": "#%%\n"
    }
   }
  },
  {
   "cell_type": "code",
   "execution_count": 17,
   "outputs": [
    {
     "name": "stderr",
     "output_type": "stream",
     "text": [
      "INFO:terality:The result of te.dataframe.shape was retrieved from cache [docs: https://docs.terality.com/getting-terality/user-guide/caching].\n"
     ]
    },
    {
     "name": "stdout",
     "output_type": "stream",
     "text": [
      "Terality DF Row Count after:  12199631\n",
      "Elapsed time: 0.6467 seconds\n"
     ]
    },
    {
     "data": {
      "text/plain": "0.6466738000000305"
     },
     "execution_count": 17,
     "metadata": {},
     "output_type": "execute_result"
    }
   ],
   "source": [
    "# Row count after cleanup - using Terality\n",
    "timer.start()\n",
    "print(\"Terality DF Row Count after: % d\" % taxi_trips_tdf.shape[0])\n",
    "timer.stop()"
   ],
   "metadata": {
    "collapsed": false,
    "pycharm": {
     "name": "#%%\n"
    }
   }
  },
  {
   "cell_type": "code",
   "execution_count": 34,
   "outputs": [
    {
     "name": "stdout",
     "output_type": "stream",
     "text": [
      "Elapsed time: 50.3989 seconds\n"
     ]
    },
    {
     "data": {
      "text/plain": "50.39894499999991"
     },
     "execution_count": 34,
     "metadata": {},
     "output_type": "execute_result"
    }
   ],
   "source": [
    "timer.stop()\n"
   ],
   "metadata": {
    "collapsed": false,
    "pycharm": {
     "name": "#%%\n"
    }
   }
  },
  {
   "cell_type": "code",
   "execution_count": 18,
   "id": "bfcff7e9",
   "metadata": {
    "pycharm": {
     "name": "#%%\n"
    },
    "colab": {
     "base_uri": "https://localhost:8080/",
     "height": 320
    },
    "id": "bfcff7e9",
    "outputId": "744fc850-5728-479e-8c22-40f0930c9968"
   },
   "outputs": [
    {
     "data": {
      "text/plain": "       trip_seconds    trip_miles  pickup_census_tract  dropoff_census_tract  \\\ncount  1.219963e+07  1.219963e+07         1.219963e+07          1.219963e+07   \nmean   7.806322e+02  2.882408e+00         1.703141e+10          1.703138e+10   \nstd    1.207102e+03  5.479885e+00         3.436317e+05          3.341613e+05   \nmin    0.000000e+00  0.000000e+00         1.703101e+10          1.703101e+10   \n25%    3.400000e+02  5.400000e-01         1.703108e+10          1.703108e+10   \n50%    5.140000e+02  1.080000e+00         1.703132e+10          1.703128e+10   \n75%    8.230000e+02  1.900000e+00         1.703184e+10          1.703184e+10   \nmax    8.640000e+04  9.959000e+02         1.703198e+10          1.703198e+10   \n\n       pickup_community_area  dropoff_community_area          fare  \\\ncount           1.219963e+07            1.219963e+07  1.219963e+07   \nmean            2.628359e+01            2.319189e+01  1.279652e+01   \nstd             1.881160e+01            1.634532e+01  6.189516e+01   \nmin             1.000000e+00            1.000000e+00  0.000000e+00   \n25%             8.000000e+00            8.000000e+00  5.750000e+00   \n50%             2.800000e+01            2.800000e+01  7.250000e+00   \n75%             3.200000e+01            3.200000e+01  1.025000e+01   \nmax             7.700000e+01            7.700000e+01  9.800260e+03   \n\n               tips         tolls        extras    trip_total  \\\ncount  1.219963e+07  1.219963e+07  1.219963e+07  1.219963e+07   \nmean   1.781760e+00  7.331033e-04  8.851525e-01  1.560699e+01   \nstd    2.826719e+00  3.181317e-01  1.609252e+01  6.459551e+01   \nmin    0.000000e+00  0.000000e+00  0.000000e+00  0.000000e+00   \n25%    0.000000e+00  0.000000e+00  0.000000e+00  7.000000e+00   \n50%    9.000000e-01  0.000000e+00  0.000000e+00  9.000000e+00   \n75%    2.000000e+00  0.000000e+00  1.000000e+00  1.250000e+01   \nmax    4.000000e+02  9.606800e+02  9.327760e+03  9.800300e+03   \n\n       pickup_centroid_latitude  pickup_centroid_longitude  \\\ncount              1.219963e+07               1.219963e+07   \nmean               4.189265e+01              -8.765359e+01   \nstd                3.113462e-02               7.520429e-02   \nmin                4.165022e+01              -8.790304e+01   \n25%                4.188099e+01              -8.763784e+01   \n50%                4.188530e+01              -8.763186e+01   \n75%                4.189322e+01              -8.762197e+01   \nmax                4.202122e+01              -8.753071e+01   \n\n       dropoff_centroid_latitude  dropoff_centroid_longitude  \ncount               1.219963e+07                1.219963e+07  \nmean                4.189144e+01               -8.764459e+01  \nstd                 2.604625e-02                5.721153e-02  \nmin                 4.166376e+01               -8.790304e+01  \n25%                 4.188099e+01               -8.764090e+01  \n50%                 4.188530e+01               -8.763186e+01  \n75%                 4.189503e+01               -8.762197e+01  \nmax                 4.202122e+01               -8.753071e+01  ",
      "text/html": "<div>\n<style scoped>\n    .dataframe tbody tr th:only-of-type {\n        vertical-align: middle;\n    }\n\n    .dataframe tbody tr th {\n        vertical-align: top;\n    }\n\n    .dataframe thead th {\n        text-align: right;\n    }\n</style>\n<table border=\"1\" class=\"dataframe\">\n  <thead>\n    <tr style=\"text-align: right;\">\n      <th></th>\n      <th>trip_seconds</th>\n      <th>trip_miles</th>\n      <th>pickup_census_tract</th>\n      <th>dropoff_census_tract</th>\n      <th>pickup_community_area</th>\n      <th>dropoff_community_area</th>\n      <th>fare</th>\n      <th>tips</th>\n      <th>tolls</th>\n      <th>extras</th>\n      <th>trip_total</th>\n      <th>pickup_centroid_latitude</th>\n      <th>pickup_centroid_longitude</th>\n      <th>dropoff_centroid_latitude</th>\n      <th>dropoff_centroid_longitude</th>\n    </tr>\n  </thead>\n  <tbody>\n    <tr>\n      <th>count</th>\n      <td>1.219963e+07</td>\n      <td>1.219963e+07</td>\n      <td>1.219963e+07</td>\n      <td>1.219963e+07</td>\n      <td>1.219963e+07</td>\n      <td>1.219963e+07</td>\n      <td>1.219963e+07</td>\n      <td>1.219963e+07</td>\n      <td>1.219963e+07</td>\n      <td>1.219963e+07</td>\n      <td>1.219963e+07</td>\n      <td>1.219963e+07</td>\n      <td>1.219963e+07</td>\n      <td>1.219963e+07</td>\n      <td>1.219963e+07</td>\n    </tr>\n    <tr>\n      <th>mean</th>\n      <td>7.806322e+02</td>\n      <td>2.882408e+00</td>\n      <td>1.703141e+10</td>\n      <td>1.703138e+10</td>\n      <td>2.628359e+01</td>\n      <td>2.319189e+01</td>\n      <td>1.279652e+01</td>\n      <td>1.781760e+00</td>\n      <td>7.331033e-04</td>\n      <td>8.851525e-01</td>\n      <td>1.560699e+01</td>\n      <td>4.189265e+01</td>\n      <td>-8.765359e+01</td>\n      <td>4.189144e+01</td>\n      <td>-8.764459e+01</td>\n    </tr>\n    <tr>\n      <th>std</th>\n      <td>1.207102e+03</td>\n      <td>5.479885e+00</td>\n      <td>3.436317e+05</td>\n      <td>3.341613e+05</td>\n      <td>1.881160e+01</td>\n      <td>1.634532e+01</td>\n      <td>6.189516e+01</td>\n      <td>2.826719e+00</td>\n      <td>3.181317e-01</td>\n      <td>1.609252e+01</td>\n      <td>6.459551e+01</td>\n      <td>3.113462e-02</td>\n      <td>7.520429e-02</td>\n      <td>2.604625e-02</td>\n      <td>5.721153e-02</td>\n    </tr>\n    <tr>\n      <th>min</th>\n      <td>0.000000e+00</td>\n      <td>0.000000e+00</td>\n      <td>1.703101e+10</td>\n      <td>1.703101e+10</td>\n      <td>1.000000e+00</td>\n      <td>1.000000e+00</td>\n      <td>0.000000e+00</td>\n      <td>0.000000e+00</td>\n      <td>0.000000e+00</td>\n      <td>0.000000e+00</td>\n      <td>0.000000e+00</td>\n      <td>4.165022e+01</td>\n      <td>-8.790304e+01</td>\n      <td>4.166376e+01</td>\n      <td>-8.790304e+01</td>\n    </tr>\n    <tr>\n      <th>25%</th>\n      <td>3.400000e+02</td>\n      <td>5.400000e-01</td>\n      <td>1.703108e+10</td>\n      <td>1.703108e+10</td>\n      <td>8.000000e+00</td>\n      <td>8.000000e+00</td>\n      <td>5.750000e+00</td>\n      <td>0.000000e+00</td>\n      <td>0.000000e+00</td>\n      <td>0.000000e+00</td>\n      <td>7.000000e+00</td>\n      <td>4.188099e+01</td>\n      <td>-8.763784e+01</td>\n      <td>4.188099e+01</td>\n      <td>-8.764090e+01</td>\n    </tr>\n    <tr>\n      <th>50%</th>\n      <td>5.140000e+02</td>\n      <td>1.080000e+00</td>\n      <td>1.703132e+10</td>\n      <td>1.703128e+10</td>\n      <td>2.800000e+01</td>\n      <td>2.800000e+01</td>\n      <td>7.250000e+00</td>\n      <td>9.000000e-01</td>\n      <td>0.000000e+00</td>\n      <td>0.000000e+00</td>\n      <td>9.000000e+00</td>\n      <td>4.188530e+01</td>\n      <td>-8.763186e+01</td>\n      <td>4.188530e+01</td>\n      <td>-8.763186e+01</td>\n    </tr>\n    <tr>\n      <th>75%</th>\n      <td>8.230000e+02</td>\n      <td>1.900000e+00</td>\n      <td>1.703184e+10</td>\n      <td>1.703184e+10</td>\n      <td>3.200000e+01</td>\n      <td>3.200000e+01</td>\n      <td>1.025000e+01</td>\n      <td>2.000000e+00</td>\n      <td>0.000000e+00</td>\n      <td>1.000000e+00</td>\n      <td>1.250000e+01</td>\n      <td>4.189322e+01</td>\n      <td>-8.762197e+01</td>\n      <td>4.189503e+01</td>\n      <td>-8.762197e+01</td>\n    </tr>\n    <tr>\n      <th>max</th>\n      <td>8.640000e+04</td>\n      <td>9.959000e+02</td>\n      <td>1.703198e+10</td>\n      <td>1.703198e+10</td>\n      <td>7.700000e+01</td>\n      <td>7.700000e+01</td>\n      <td>9.800260e+03</td>\n      <td>4.000000e+02</td>\n      <td>9.606800e+02</td>\n      <td>9.327760e+03</td>\n      <td>9.800300e+03</td>\n      <td>4.202122e+01</td>\n      <td>-8.753071e+01</td>\n      <td>4.202122e+01</td>\n      <td>-8.753071e+01</td>\n    </tr>\n  </tbody>\n</table>\n</div>"
     },
     "execution_count": 18,
     "metadata": {},
     "output_type": "execute_result"
    }
   ],
   "source": [
    "# Describe - Pandas\n",
    "timer.start()\n",
    "taxi_trips_pdf.describe()"
   ]
  },
  {
   "cell_type": "code",
   "source": [
    "timer.stop()"
   ],
   "metadata": {
    "colab": {
     "base_uri": "https://localhost:8080/"
    },
    "id": "PWh7yRSX-mzM",
    "outputId": "dacfac39-ad24-4030-fe26-a64a601f319a"
   },
   "id": "PWh7yRSX-mzM",
   "execution_count": 19,
   "outputs": [
    {
     "name": "stdout",
     "output_type": "stream",
     "text": [
      "Elapsed time: 16.7656 seconds\n"
     ]
    },
    {
     "data": {
      "text/plain": "16.765642200000002"
     },
     "execution_count": 19,
     "metadata": {},
     "output_type": "execute_result"
    }
   ]
  },
  {
   "cell_type": "code",
   "source": [
    "# Describe - Terality\n",
    "timer.start()\n",
    "taxi_trips_tdf.describe()"
   ],
   "metadata": {
    "colab": {
     "base_uri": "https://localhost:8080/",
     "height": 355
    },
    "id": "VHJrYq8e_Otk",
    "outputId": "d18a9a45-0018-49b4-b66e-874ff106001f"
   },
   "id": "VHJrYq8e_Otk",
   "execution_count": 20,
   "outputs": [
    {
     "data": {
      "text/plain": "       trip_seconds    trip_miles  pickup_census_tract  dropoff_census_tract  \\\ncount  1.219963e+07  1.219963e+07         1.219963e+07          1.219963e+07   \nmean   7.806322e+02  2.882408e+00         1.703141e+10          1.703138e+10   \nstd    1.207102e+03  5.479885e+00         3.436317e+05          3.341613e+05   \nmin    0.000000e+00  0.000000e+00         1.703101e+10          1.703101e+10   \n25%    3.400000e+02  5.400000e-01         1.703108e+10          1.703108e+10   \n50%    5.140000e+02  1.080000e+00         1.703132e+10          1.703128e+10   \n75%    8.230000e+02  1.900000e+00         1.703184e+10          1.703184e+10   \nmax    8.640000e+04  9.959000e+02         1.703198e+10          1.703198e+10   \n\n       pickup_community_area  dropoff_community_area          fare  \\\ncount           1.219963e+07            1.219963e+07  1.219963e+07   \nmean            2.628359e+01            2.319189e+01  1.279652e+01   \nstd             1.881160e+01            1.634532e+01  6.189516e+01   \nmin             1.000000e+00            1.000000e+00  0.000000e+00   \n25%             8.000000e+00            8.000000e+00  5.750000e+00   \n50%             2.800000e+01            2.800000e+01  7.250000e+00   \n75%             3.200000e+01            3.200000e+01  1.025000e+01   \nmax             7.700000e+01            7.700000e+01  9.800260e+03   \n\n               tips         tolls        extras    trip_total  \\\ncount  1.219963e+07  1.219963e+07  1.219963e+07  1.219963e+07   \nmean   1.781760e+00  7.331033e-04  8.851525e-01  1.560699e+01   \nstd    2.826719e+00  3.181317e-01  1.609252e+01  6.459551e+01   \nmin    0.000000e+00  0.000000e+00  0.000000e+00  0.000000e+00   \n25%    0.000000e+00  0.000000e+00  0.000000e+00  7.000000e+00   \n50%    9.000000e-01  0.000000e+00  0.000000e+00  9.000000e+00   \n75%    2.000000e+00  0.000000e+00  1.000000e+00  1.250000e+01   \nmax    4.000000e+02  9.606800e+02  9.327760e+03  9.800300e+03   \n\n       pickup_centroid_latitude  pickup_centroid_longitude  \\\ncount              1.219963e+07               1.219963e+07   \nmean               4.189265e+01              -8.765359e+01   \nstd                3.113462e-02               7.520429e-02   \nmin                4.165022e+01              -8.790304e+01   \n25%                4.188099e+01              -8.763784e+01   \n50%                4.188530e+01              -8.763186e+01   \n75%                4.189322e+01              -8.762197e+01   \nmax                4.202122e+01              -8.753071e+01   \n\n       dropoff_centroid_latitude  dropoff_centroid_longitude  \ncount               1.219963e+07                1.219963e+07  \nmean                4.189144e+01               -8.764459e+01  \nstd                 2.604625e-02                5.721153e-02  \nmin                 4.166376e+01               -8.790304e+01  \n25%                 4.188099e+01               -8.764090e+01  \n50%                 4.188530e+01               -8.763186e+01  \n75%                 4.189503e+01               -8.762197e+01  \nmax                 4.202122e+01               -8.753071e+01  ",
      "text/html": "<div>\n<style scoped>\n    .dataframe tbody tr th:only-of-type {\n        vertical-align: middle;\n    }\n\n    .dataframe tbody tr th {\n        vertical-align: top;\n    }\n\n    .dataframe thead th {\n        text-align: right;\n    }\n</style>\n<table border=\"1\" class=\"dataframe\">\n  <thead>\n    <tr style=\"text-align: right;\">\n      <th></th>\n      <th>trip_seconds</th>\n      <th>trip_miles</th>\n      <th>pickup_census_tract</th>\n      <th>dropoff_census_tract</th>\n      <th>pickup_community_area</th>\n      <th>dropoff_community_area</th>\n      <th>fare</th>\n      <th>tips</th>\n      <th>tolls</th>\n      <th>extras</th>\n      <th>trip_total</th>\n      <th>pickup_centroid_latitude</th>\n      <th>pickup_centroid_longitude</th>\n      <th>dropoff_centroid_latitude</th>\n      <th>dropoff_centroid_longitude</th>\n    </tr>\n  </thead>\n  <tbody>\n    <tr>\n      <th>count</th>\n      <td>1.219963e+07</td>\n      <td>1.219963e+07</td>\n      <td>1.219963e+07</td>\n      <td>1.219963e+07</td>\n      <td>1.219963e+07</td>\n      <td>1.219963e+07</td>\n      <td>1.219963e+07</td>\n      <td>1.219963e+07</td>\n      <td>1.219963e+07</td>\n      <td>1.219963e+07</td>\n      <td>1.219963e+07</td>\n      <td>1.219963e+07</td>\n      <td>1.219963e+07</td>\n      <td>1.219963e+07</td>\n      <td>1.219963e+07</td>\n    </tr>\n    <tr>\n      <th>mean</th>\n      <td>7.806322e+02</td>\n      <td>2.882408e+00</td>\n      <td>1.703141e+10</td>\n      <td>1.703138e+10</td>\n      <td>2.628359e+01</td>\n      <td>2.319189e+01</td>\n      <td>1.279652e+01</td>\n      <td>1.781760e+00</td>\n      <td>7.331033e-04</td>\n      <td>8.851525e-01</td>\n      <td>1.560699e+01</td>\n      <td>4.189265e+01</td>\n      <td>-8.765359e+01</td>\n      <td>4.189144e+01</td>\n      <td>-8.764459e+01</td>\n    </tr>\n    <tr>\n      <th>std</th>\n      <td>1.207102e+03</td>\n      <td>5.479885e+00</td>\n      <td>3.436317e+05</td>\n      <td>3.341613e+05</td>\n      <td>1.881160e+01</td>\n      <td>1.634532e+01</td>\n      <td>6.189516e+01</td>\n      <td>2.826719e+00</td>\n      <td>3.181317e-01</td>\n      <td>1.609252e+01</td>\n      <td>6.459551e+01</td>\n      <td>3.113462e-02</td>\n      <td>7.520429e-02</td>\n      <td>2.604625e-02</td>\n      <td>5.721153e-02</td>\n    </tr>\n    <tr>\n      <th>min</th>\n      <td>0.000000e+00</td>\n      <td>0.000000e+00</td>\n      <td>1.703101e+10</td>\n      <td>1.703101e+10</td>\n      <td>1.000000e+00</td>\n      <td>1.000000e+00</td>\n      <td>0.000000e+00</td>\n      <td>0.000000e+00</td>\n      <td>0.000000e+00</td>\n      <td>0.000000e+00</td>\n      <td>0.000000e+00</td>\n      <td>4.165022e+01</td>\n      <td>-8.790304e+01</td>\n      <td>4.166376e+01</td>\n      <td>-8.790304e+01</td>\n    </tr>\n    <tr>\n      <th>25%</th>\n      <td>3.400000e+02</td>\n      <td>5.400000e-01</td>\n      <td>1.703108e+10</td>\n      <td>1.703108e+10</td>\n      <td>8.000000e+00</td>\n      <td>8.000000e+00</td>\n      <td>5.750000e+00</td>\n      <td>0.000000e+00</td>\n      <td>0.000000e+00</td>\n      <td>0.000000e+00</td>\n      <td>7.000000e+00</td>\n      <td>4.188099e+01</td>\n      <td>-8.763784e+01</td>\n      <td>4.188099e+01</td>\n      <td>-8.764090e+01</td>\n    </tr>\n    <tr>\n      <th>50%</th>\n      <td>5.140000e+02</td>\n      <td>1.080000e+00</td>\n      <td>1.703132e+10</td>\n      <td>1.703128e+10</td>\n      <td>2.800000e+01</td>\n      <td>2.800000e+01</td>\n      <td>7.250000e+00</td>\n      <td>9.000000e-01</td>\n      <td>0.000000e+00</td>\n      <td>0.000000e+00</td>\n      <td>9.000000e+00</td>\n      <td>4.188530e+01</td>\n      <td>-8.763186e+01</td>\n      <td>4.188530e+01</td>\n      <td>-8.763186e+01</td>\n    </tr>\n    <tr>\n      <th>75%</th>\n      <td>8.230000e+02</td>\n      <td>1.900000e+00</td>\n      <td>1.703184e+10</td>\n      <td>1.703184e+10</td>\n      <td>3.200000e+01</td>\n      <td>3.200000e+01</td>\n      <td>1.025000e+01</td>\n      <td>2.000000e+00</td>\n      <td>0.000000e+00</td>\n      <td>1.000000e+00</td>\n      <td>1.250000e+01</td>\n      <td>4.189322e+01</td>\n      <td>-8.762197e+01</td>\n      <td>4.189503e+01</td>\n      <td>-8.762197e+01</td>\n    </tr>\n    <tr>\n      <th>max</th>\n      <td>8.640000e+04</td>\n      <td>9.959000e+02</td>\n      <td>1.703198e+10</td>\n      <td>1.703198e+10</td>\n      <td>7.700000e+01</td>\n      <td>7.700000e+01</td>\n      <td>9.800260e+03</td>\n      <td>4.000000e+02</td>\n      <td>9.606800e+02</td>\n      <td>9.327760e+03</td>\n      <td>9.800300e+03</td>\n      <td>4.202122e+01</td>\n      <td>-8.753071e+01</td>\n      <td>4.202122e+01</td>\n      <td>-8.753071e+01</td>\n    </tr>\n  </tbody>\n</table>\n</div>"
     },
     "execution_count": 20,
     "metadata": {},
     "output_type": "execute_result"
    }
   ]
  },
  {
   "cell_type": "code",
   "source": [
    "timer.stop()"
   ],
   "metadata": {
    "colab": {
     "base_uri": "https://localhost:8080/"
    },
    "id": "hd9jHDHm_KX8",
    "outputId": "6f263ccb-32e7-42a9-a979-2ccabcf49df8"
   },
   "id": "hd9jHDHm_KX8",
   "execution_count": 21,
   "outputs": [
    {
     "name": "stdout",
     "output_type": "stream",
     "text": [
      "Elapsed time: 36.7078 seconds\n"
     ]
    },
    {
     "data": {
      "text/plain": "36.707805699999994"
     },
     "execution_count": 21,
     "metadata": {},
     "output_type": "execute_result"
    }
   ]
  },
  {
   "cell_type": "code",
   "execution_count": 27,
   "id": "88dcdee9",
   "metadata": {
    "pycharm": {
     "name": "#%%\n"
    },
    "colab": {
     "base_uri": "https://localhost:8080/"
    },
    "id": "88dcdee9",
    "outputId": "928d091f-3f01-4736-cbb1-6f40b9ca675b"
   },
   "outputs": [
    {
     "data": {
      "text/plain": "taxi_id\n0008de7a146802839c9e6059f482d292ebdae13c5c31dd6e5983a80882e2a5dbcd6ea098c2fcd56f34ce02645eb94c6b39512e9304837746d4e289b6236c2c5b    3372\n001330b81e23412049f9c3eff5b6e972a91afe59c9aa36ef29747881b4bf803adfd02b1a71cca5cb8c2214275330aa4520df34d7848100414acb4b4cad642e62    3072\n0013da5489fe976daf4f4a7d246073ecf2caed9b12b3be70eff37b63ef9ca4102c972145ddd8537811752d51b222b4618dfbae451b966d7a3ad9afa4ec878a6e    4093\n0041f8f0c91881c1e1913f2548522495fe3c4c719aa67fd2483ebbcc22e0aa1bfff2cddb32c35cde3ad9766b0e8d44c04ff5dfdcf1035462ba81a13e3ba6b8f9    3431\n0044e6c0d091476299b99345501f756b23632a96cbaf40e872fbf14f976410d3f938aacc643ed608b2aa42809222d4458e1aab5e0848e9b952f35616785c3a36    2104\n                                                                                                                                    ... \nffd70d111c7da2e5eff27ad900c8eb94d74fe286bb7aa58029ee2baac3f3b310dea5da2a6a77a366b7b6d4b104b91ef75e7959ac6b1f558be7844417cbe3e12f     603\nffda53354c610fd3af1aee46d723028a49014e35f7280ca3d812716eb3cf1f0a763556368e4139b7183ee1fb36e26104de62bb86601f2fa16e3d96167e25b84e    1236\nffe8d8153b8f68cd20871ae5710f9b799bcc517b40ece7cf561407a6cd161f52430890c0ef8402a9152eb6bd24651716504c08a69f3b8c8b7a79a08fae65fc4c      46\nfff3279af11dfade5e308184a5cc6c1ca2d33764634d962e589f6af2bf844c2dc8e6d8fcf1bf47f4364671bea6c8a8cb8b9990cb9f6dc608079e96aa1fec24e7     914\nfff84aa08ac78890c6e7da64b817cbd9aad6a124104e099a7482efee1a6bac61a837e1db218e9d38c159f28c8f85187a08a05c8ba54648edc3b91e437357fa84     202\nName: trip_id, Length: 5280, dtype: int64"
     },
     "execution_count": 27,
     "metadata": {},
     "output_type": "execute_result"
    }
   ],
   "source": [
    "# Query 1: Number of trips grouped by taxi - Using Pandas\n",
    "timer.start()\n",
    "taxi_trips_pdf.groupby('taxi_id').count()['trip_id']\n"
   ]
  },
  {
   "cell_type": "code",
   "source": [
    "timer.stop()"
   ],
   "metadata": {
    "id": "oMFxKORLUBfC",
    "outputId": "e0d9a3c5-d488-4e01-acbf-b02aa9750a30",
    "colab": {
     "base_uri": "https://localhost:8080/"
    }
   },
   "id": "oMFxKORLUBfC",
   "execution_count": 28,
   "outputs": [
    {
     "name": "stdout",
     "output_type": "stream",
     "text": [
      "Elapsed time: 18.6076 seconds\n"
     ]
    },
    {
     "data": {
      "text/plain": "18.60761199999979"
     },
     "execution_count": 28,
     "metadata": {},
     "output_type": "execute_result"
    }
   ]
  },
  {
   "cell_type": "code",
   "execution_count": 29,
   "id": "fc3418f2",
   "metadata": {
    "pycharm": {
     "name": "#%%\n"
    },
    "colab": {
     "base_uri": "https://localhost:8080/"
    },
    "id": "fc3418f2",
    "outputId": "cd43d55a-078f-4137-930e-7d8dadde9115"
   },
   "outputs": [
    {
     "data": {
      "text/plain": "taxi_id\n0008de7a146802839c9e6059f482d292ebdae13c5c31dd6e5983a80882e2a5dbcd6ea098c2fcd56f34ce02645eb94c6b39512e9304837746d4e289b6236c2c5b    3372\n001330b81e23412049f9c3eff5b6e972a91afe59c9aa36ef29747881b4bf803adfd02b1a71cca5cb8c2214275330aa4520df34d7848100414acb4b4cad642e62    3072\n0013da5489fe976daf4f4a7d246073ecf2caed9b12b3be70eff37b63ef9ca4102c972145ddd8537811752d51b222b4618dfbae451b966d7a3ad9afa4ec878a6e    4093\n0041f8f0c91881c1e1913f2548522495fe3c4c719aa67fd2483ebbcc22e0aa1bfff2cddb32c35cde3ad9766b0e8d44c04ff5dfdcf1035462ba81a13e3ba6b8f9    3431\n0044e6c0d091476299b99345501f756b23632a96cbaf40e872fbf14f976410d3f938aacc643ed608b2aa42809222d4458e1aab5e0848e9b952f35616785c3a36    2104\n                                                                                                                                    ... \nffd70d111c7da2e5eff27ad900c8eb94d74fe286bb7aa58029ee2baac3f3b310dea5da2a6a77a366b7b6d4b104b91ef75e7959ac6b1f558be7844417cbe3e12f     603\nffda53354c610fd3af1aee46d723028a49014e35f7280ca3d812716eb3cf1f0a763556368e4139b7183ee1fb36e26104de62bb86601f2fa16e3d96167e25b84e    1236\nffe8d8153b8f68cd20871ae5710f9b799bcc517b40ece7cf561407a6cd161f52430890c0ef8402a9152eb6bd24651716504c08a69f3b8c8b7a79a08fae65fc4c      46\nfff3279af11dfade5e308184a5cc6c1ca2d33764634d962e589f6af2bf844c2dc8e6d8fcf1bf47f4364671bea6c8a8cb8b9990cb9f6dc608079e96aa1fec24e7     914\nfff84aa08ac78890c6e7da64b817cbd9aad6a124104e099a7482efee1a6bac61a837e1db218e9d38c159f28c8f85187a08a05c8ba54648edc3b91e437357fa84     202\nName: trip_id, Length: 5280, dtype: int64"
     },
     "execution_count": 29,
     "metadata": {},
     "output_type": "execute_result"
    }
   ],
   "source": [
    "# Query 1: Number of trips grouped by taxi - Using Terality\n",
    "timer.start()\n",
    "taxi_trips_pdf.groupby('taxi_id').count()['trip_id']\n",
    "\n"
   ]
  },
  {
   "cell_type": "code",
   "source": [
    "timer.stop()"
   ],
   "metadata": {
    "id": "CgWQYn-vUQxJ",
    "outputId": "44c97161-db9d-4344-bbc2-c68636acb037",
    "colab": {
     "base_uri": "https://localhost:8080/"
    }
   },
   "id": "CgWQYn-vUQxJ",
   "execution_count": 30,
   "outputs": [
    {
     "name": "stdout",
     "output_type": "stream",
     "text": [
      "Elapsed time: 18.3740 seconds\n"
     ]
    },
    {
     "data": {
      "text/plain": "18.37397369999985"
     },
     "execution_count": 30,
     "metadata": {},
     "output_type": "execute_result"
    }
   ]
  },
  {
   "cell_type": "markdown",
   "source": [],
   "metadata": {
    "collapsed": false
   }
  },
  {
   "cell_type": "code",
   "execution_count": 60,
   "outputs": [],
   "source": [
    "taxi_trips_pdf['trip_start_yymm'] = pd.to_datetime(taxi_trips_pdf['trip_start_timestamp'], infer_datetime_format=True)"
   ],
   "metadata": {
    "collapsed": false,
    "pycharm": {
     "name": "#%%\n"
    }
   }
  },
  {
   "cell_type": "code",
   "execution_count": 61,
   "outputs": [
    {
     "data": {
      "text/plain": "                                     trip_id  \\\n16  e066e483f0fc2a583895d24c9dec9864a6608052   \n19  5431595d222a3e00a9e4b3e93c928c306dc71be3   \n20  509e870adce2a514a4287e1a305fe4ddabc59836   \n22  31004535c12d4372c165e34386cde0521a0a72e8   \n23  da18ec450c1fed02fbbc675faa621f8ac50ab5dd   \n\n                                              taxi_id    trip_start_timestamp  \\\n16  4794c36af4c1852d90b5c8cf5f9f6cd38a8b9c1b68cf48...  01/01/2019 12:00:00 AM   \n19  86b0677bb9bcda0454863c70a616d1adc45129237848d1...  01/01/2019 12:00:00 AM   \n20  38f6145c9a2b848dc1baa16fd91087e606b12bcb8757a9...  01/01/2019 12:00:00 AM   \n22  ee8a2f86372e99ecf87d44e13a20ebda7db8ae69d5b444...  01/01/2019 12:00:00 AM   \n23  0013da5489fe976daf4f4a7d246073ecf2caed9b12b3be...  01/01/2019 12:00:00 AM   \n\n        trip_end_timestamp  trip_seconds  trip_miles  pickup_census_tract  \\\n16  01/01/2019 12:15:00 AM         600.0         0.0         1.703108e+10   \n19  01/01/2019 12:00:00 AM         120.0         0.3         1.703184e+10   \n20  01/01/2019 12:15:00 AM         360.0         0.8         1.703108e+10   \n22  01/01/2019 12:15:00 AM         360.0         1.0         1.703108e+10   \n23  01/01/2019 12:15:00 AM         420.0         0.8         1.703108e+10   \n\n    dropoff_census_tract  pickup_community_area  dropoff_community_area  ...  \\\n16          1.703184e+10                    8.0                    32.0  ...   \n19          1.703132e+10                   32.0                    32.0  ...   \n20          1.703108e+10                    8.0                     8.0  ...   \n22          1.703108e+10                    8.0                     8.0  ...   \n23          1.703108e+10                    8.0                     8.0  ...   \n\n    trip_total  payment_type                            company  \\\n16       13.00   Credit Card  Blue Ribbon Taxi Association Inc.   \n19        6.00   Credit Card          Star North Management LLC   \n20        9.25   Credit Card          Taxi Affiliation Services   \n22        8.25   Credit Card          Taxi Affiliation Services   \n23       10.50   Credit Card      Taxicab Insurance Agency, LLC   \n\n    pickup_centroid_latitude  pickup_centroid_longitude  \\\n16                 41.891972                 -87.612945   \n19                 41.880994                 -87.632746   \n20                 41.898332                 -87.620763   \n22                 41.890922                 -87.618868   \n23                 41.898332                 -87.620763   \n\n                pickup_centroid_location dropoff_centroid_latitude  \\\n16  POINT (-87.6129454143 41.8919715078)                 41.880994   \n19  POINT (-87.6327464887 41.8809944707)                 41.877406   \n20  POINT (-87.6207628651 41.8983317935)                 41.892508   \n22  POINT (-87.6188683546 41.8909220259)                 41.892042   \n23  POINT (-87.6207628651 41.8983317935)                 41.892508   \n\n    dropoff_centroid_longitude            dropoff_centroid__location  \\\n16                  -87.632746  POINT (-87.6327464887 41.8809944707)   \n19                  -87.621972  POINT (-87.6219716519 41.8774061234)   \n20                  -87.626215  POINT (-87.6262149064 41.8925077809)   \n22                  -87.631864  POINT (-87.6318639497 41.8920421365)   \n23                  -87.626215  POINT (-87.6262149064 41.8925077809)   \n\n   trip_start_yymm  \n16      2019-01-01  \n19      2019-01-01  \n20      2019-01-01  \n22      2019-01-01  \n23      2019-01-01  \n\n[5 rows x 24 columns]",
      "text/html": "<div>\n<style scoped>\n    .dataframe tbody tr th:only-of-type {\n        vertical-align: middle;\n    }\n\n    .dataframe tbody tr th {\n        vertical-align: top;\n    }\n\n    .dataframe thead th {\n        text-align: right;\n    }\n</style>\n<table border=\"1\" class=\"dataframe\">\n  <thead>\n    <tr style=\"text-align: right;\">\n      <th></th>\n      <th>trip_id</th>\n      <th>taxi_id</th>\n      <th>trip_start_timestamp</th>\n      <th>trip_end_timestamp</th>\n      <th>trip_seconds</th>\n      <th>trip_miles</th>\n      <th>pickup_census_tract</th>\n      <th>dropoff_census_tract</th>\n      <th>pickup_community_area</th>\n      <th>dropoff_community_area</th>\n      <th>...</th>\n      <th>trip_total</th>\n      <th>payment_type</th>\n      <th>company</th>\n      <th>pickup_centroid_latitude</th>\n      <th>pickup_centroid_longitude</th>\n      <th>pickup_centroid_location</th>\n      <th>dropoff_centroid_latitude</th>\n      <th>dropoff_centroid_longitude</th>\n      <th>dropoff_centroid__location</th>\n      <th>trip_start_yymm</th>\n    </tr>\n  </thead>\n  <tbody>\n    <tr>\n      <th>16</th>\n      <td>e066e483f0fc2a583895d24c9dec9864a6608052</td>\n      <td>4794c36af4c1852d90b5c8cf5f9f6cd38a8b9c1b68cf48...</td>\n      <td>01/01/2019 12:00:00 AM</td>\n      <td>01/01/2019 12:15:00 AM</td>\n      <td>600.0</td>\n      <td>0.0</td>\n      <td>1.703108e+10</td>\n      <td>1.703184e+10</td>\n      <td>8.0</td>\n      <td>32.0</td>\n      <td>...</td>\n      <td>13.00</td>\n      <td>Credit Card</td>\n      <td>Blue Ribbon Taxi Association Inc.</td>\n      <td>41.891972</td>\n      <td>-87.612945</td>\n      <td>POINT (-87.6129454143 41.8919715078)</td>\n      <td>41.880994</td>\n      <td>-87.632746</td>\n      <td>POINT (-87.6327464887 41.8809944707)</td>\n      <td>2019-01-01</td>\n    </tr>\n    <tr>\n      <th>19</th>\n      <td>5431595d222a3e00a9e4b3e93c928c306dc71be3</td>\n      <td>86b0677bb9bcda0454863c70a616d1adc45129237848d1...</td>\n      <td>01/01/2019 12:00:00 AM</td>\n      <td>01/01/2019 12:00:00 AM</td>\n      <td>120.0</td>\n      <td>0.3</td>\n      <td>1.703184e+10</td>\n      <td>1.703132e+10</td>\n      <td>32.0</td>\n      <td>32.0</td>\n      <td>...</td>\n      <td>6.00</td>\n      <td>Credit Card</td>\n      <td>Star North Management LLC</td>\n      <td>41.880994</td>\n      <td>-87.632746</td>\n      <td>POINT (-87.6327464887 41.8809944707)</td>\n      <td>41.877406</td>\n      <td>-87.621972</td>\n      <td>POINT (-87.6219716519 41.8774061234)</td>\n      <td>2019-01-01</td>\n    </tr>\n    <tr>\n      <th>20</th>\n      <td>509e870adce2a514a4287e1a305fe4ddabc59836</td>\n      <td>38f6145c9a2b848dc1baa16fd91087e606b12bcb8757a9...</td>\n      <td>01/01/2019 12:00:00 AM</td>\n      <td>01/01/2019 12:15:00 AM</td>\n      <td>360.0</td>\n      <td>0.8</td>\n      <td>1.703108e+10</td>\n      <td>1.703108e+10</td>\n      <td>8.0</td>\n      <td>8.0</td>\n      <td>...</td>\n      <td>9.25</td>\n      <td>Credit Card</td>\n      <td>Taxi Affiliation Services</td>\n      <td>41.898332</td>\n      <td>-87.620763</td>\n      <td>POINT (-87.6207628651 41.8983317935)</td>\n      <td>41.892508</td>\n      <td>-87.626215</td>\n      <td>POINT (-87.6262149064 41.8925077809)</td>\n      <td>2019-01-01</td>\n    </tr>\n    <tr>\n      <th>22</th>\n      <td>31004535c12d4372c165e34386cde0521a0a72e8</td>\n      <td>ee8a2f86372e99ecf87d44e13a20ebda7db8ae69d5b444...</td>\n      <td>01/01/2019 12:00:00 AM</td>\n      <td>01/01/2019 12:15:00 AM</td>\n      <td>360.0</td>\n      <td>1.0</td>\n      <td>1.703108e+10</td>\n      <td>1.703108e+10</td>\n      <td>8.0</td>\n      <td>8.0</td>\n      <td>...</td>\n      <td>8.25</td>\n      <td>Credit Card</td>\n      <td>Taxi Affiliation Services</td>\n      <td>41.890922</td>\n      <td>-87.618868</td>\n      <td>POINT (-87.6188683546 41.8909220259)</td>\n      <td>41.892042</td>\n      <td>-87.631864</td>\n      <td>POINT (-87.6318639497 41.8920421365)</td>\n      <td>2019-01-01</td>\n    </tr>\n    <tr>\n      <th>23</th>\n      <td>da18ec450c1fed02fbbc675faa621f8ac50ab5dd</td>\n      <td>0013da5489fe976daf4f4a7d246073ecf2caed9b12b3be...</td>\n      <td>01/01/2019 12:00:00 AM</td>\n      <td>01/01/2019 12:15:00 AM</td>\n      <td>420.0</td>\n      <td>0.8</td>\n      <td>1.703108e+10</td>\n      <td>1.703108e+10</td>\n      <td>8.0</td>\n      <td>8.0</td>\n      <td>...</td>\n      <td>10.50</td>\n      <td>Credit Card</td>\n      <td>Taxicab Insurance Agency, LLC</td>\n      <td>41.898332</td>\n      <td>-87.620763</td>\n      <td>POINT (-87.6207628651 41.8983317935)</td>\n      <td>41.892508</td>\n      <td>-87.626215</td>\n      <td>POINT (-87.6262149064 41.8925077809)</td>\n      <td>2019-01-01</td>\n    </tr>\n  </tbody>\n</table>\n<p>5 rows × 24 columns</p>\n</div>"
     },
     "execution_count": 61,
     "metadata": {},
     "output_type": "execute_result"
    }
   ],
   "source": [
    "taxi_trips_pdf.head()"
   ],
   "metadata": {
    "collapsed": false,
    "pycharm": {
     "name": "#%%\n"
    }
   }
  },
  {
   "cell_type": "code",
   "execution_count": null,
   "id": "c87ece3d",
   "metadata": {
    "id": "c87ece3d",
    "outputId": "adbe0855-ba21-4acd-a0af-5075d2684b52"
   },
   "outputs": [
    {
     "name": "stdout",
     "output_type": "stream",
     "text": [
      "Elapsed time: 3.3017 seconds\n"
     ]
    },
    {
     "data": {
      "text/plain": [
       "3.30167449999999"
      ]
     },
     "execution_count": 9,
     "metadata": {},
     "output_type": "execute_result"
    }
   ],
   "source": [
    "# Sum a column value grouped by another column across the entire dataframe with about 1M rows - using Terality\n",
    "timer.start()\n",
    "\n",
    "txn_tdf.groupby('contact_id').sum()[['sales'] + ['redemptions']]\n",
    "\n",
    "timer.stop()"
   ]
  },
  {
   "cell_type": "code",
   "execution_count": null,
   "id": "102b12ce",
   "metadata": {
    "id": "102b12ce",
    "outputId": "673bf8fc-b35a-4f26-aa05-08b77e2ffad0"
   },
   "outputs": [
    {
     "name": "stdout",
     "output_type": "stream",
     "text": [
      "Elapsed time: 0.2162 seconds\n"
     ]
    },
    {
     "data": {
      "text/plain": [
       "0.21618570000003956"
      ]
     },
     "execution_count": 10,
     "metadata": {},
     "output_type": "execute_result"
    }
   ],
   "source": [
    "# Describe the dataframe columns and their types - using Pandas\n",
    "timer.start()\n",
    "\n",
    "txn_pdf.describe()\n",
    "\n",
    "timer.stop()"
   ]
  },
  {
   "cell_type": "code",
   "execution_count": null,
   "id": "f01a3c02",
   "metadata": {
    "id": "f01a3c02",
    "outputId": "92610add-59d0-48f8-e5dc-de36ff11f231"
   },
   "outputs": [
    {
     "name": "stdout",
     "output_type": "stream",
     "text": [
      "Elapsed time: 5.0994 seconds\n"
     ]
    },
    {
     "data": {
      "text/plain": [
       "5.0994470999999635"
      ]
     },
     "execution_count": 11,
     "metadata": {},
     "output_type": "execute_result"
    }
   ],
   "source": [
    "# Describe the dataframe columns and their types - using Terality\n",
    "timer.start()\n",
    "\n",
    "txn_tdf.describe()\n",
    "\n",
    "timer.stop()"
   ]
  },
  {
   "cell_type": "code",
   "execution_count": null,
   "id": "a07c8171",
   "metadata": {
    "id": "a07c8171",
    "outputId": "7580a5ab-f35e-46d2-d7b0-c4cd9fac663d"
   },
   "outputs": [
    {
     "name": "stdout",
     "output_type": "stream",
     "text": [
      "Elapsed time: 0.0001 seconds\n"
     ]
    },
    {
     "data": {
      "text/plain": [
       "5.649999997103805e-05"
      ]
     },
     "execution_count": 12,
     "metadata": {},
     "output_type": "execute_result"
    }
   ],
   "source": [
    "# Count of rows - using Pandas\n",
    "timer.start()\n",
    "\n",
    "txn_pdf.index.size\n",
    "\n",
    "timer.stop()"
   ]
  },
  {
   "cell_type": "code",
   "execution_count": null,
   "id": "d3380e97",
   "metadata": {
    "id": "d3380e97",
    "outputId": "e93a4ee7-5a0f-4ed1-935b-ecfdaeb72ae7"
   },
   "outputs": [
    {
     "name": "stdout",
     "output_type": "stream",
     "text": [
      "Elapsed time: 0.7884 seconds\n"
     ]
    },
    {
     "data": {
      "text/plain": [
       "0.7883520999999973"
      ]
     },
     "execution_count": 13,
     "metadata": {},
     "output_type": "execute_result"
    }
   ],
   "source": [
    "# Count of rows - using Terality\n",
    "timer.start()\n",
    "\n",
    "txn_tdf.index.size\n",
    "\n",
    "timer.stop()"
   ]
  },
  {
   "cell_type": "code",
   "execution_count": null,
   "id": "0458510c",
   "metadata": {
    "id": "0458510c",
    "outputId": "1b7dc20d-1525-4324-9e1b-8c22dc3c72e4"
   },
   "outputs": [
    {
     "name": "stdout",
     "output_type": "stream",
     "text": [
      "Elapsed time: 2.2027 seconds\n"
     ]
    },
    {
     "data": {
      "text/plain": [
       "2.202657399999964"
      ]
     },
     "execution_count": 14,
     "metadata": {},
     "output_type": "execute_result"
    }
   ],
   "source": [
    "# Sort by ticker - using Pandas\n",
    "timer.start()\n",
    "\n",
    "txn_pdf.sort_values(by = 'product_id')\n",
    "\n",
    "timer.stop()"
   ]
  },
  {
   "cell_type": "code",
   "execution_count": null,
   "id": "eb196bad",
   "metadata": {
    "id": "eb196bad",
    "outputId": "7409d8e7-866e-4f7c-8da4-b6d43e573015"
   },
   "outputs": [
    {
     "name": "stdout",
     "output_type": "stream",
     "text": [
      "Elapsed time: 4.2181 seconds\n"
     ]
    },
    {
     "data": {
      "text/plain": [
       "4.218130400000064"
      ]
     },
     "execution_count": 15,
     "metadata": {},
     "output_type": "execute_result"
    }
   ],
   "source": [
    "# Sort by ticker - using Terality\n",
    "timer.start()\n",
    "\n",
    "txn_tdf.sort_values(by ='product_id')\n",
    "\n",
    "timer.stop()"
   ]
  },
  {
   "cell_type": "code",
   "execution_count": null,
   "id": "14d1427b",
   "metadata": {
    "id": "14d1427b",
    "outputId": "c2a96601-198e-4627-dfce-f60bd33c49c7"
   },
   "outputs": [
    {
     "name": "stdout",
     "output_type": "stream",
     "text": [
      "Elapsed time: 0.0004 seconds\n"
     ]
    },
    {
     "data": {
      "text/plain": [
       "0.00039140000001225417"
      ]
     },
     "execution_count": 16,
     "metadata": {},
     "output_type": "execute_result"
    }
   ],
   "source": [
    "# Slicing - using Pandas\n",
    "timer.start()\n",
    "\n",
    "txn_pdf[113:211]\n",
    "\n",
    "timer.stop()"
   ]
  },
  {
   "cell_type": "code",
   "execution_count": null,
   "id": "f55e2548",
   "metadata": {
    "id": "f55e2548",
    "outputId": "c4568676-bcfe-4a31-a6bd-3c80b5707f35"
   },
   "outputs": [
    {
     "name": "stdout",
     "output_type": "stream",
     "text": [
      "Elapsed time: 0.8531 seconds\n"
     ]
    },
    {
     "data": {
      "text/plain": [
       "0.8531338000000233"
      ]
     },
     "execution_count": 17,
     "metadata": {},
     "output_type": "execute_result"
    }
   ],
   "source": [
    "# Slicing - using Terality\n",
    "timer.start()\n",
    "\n",
    "txn_tdf[113:211]\n",
    "\n",
    "timer.stop()"
   ]
  },
  {
   "cell_type": "code",
   "execution_count": null,
   "id": "65a9a389",
   "metadata": {
    "id": "65a9a389",
    "outputId": "c648e1ab-5e20-4eb2-88a6-3d788998ce50"
   },
   "outputs": [
    {
     "name": "stdout",
     "output_type": "stream",
     "text": [
      "Elapsed time: 0.0036 seconds\n"
     ]
    },
    {
     "data": {
      "text/plain": [
       "0.0036301000000094064"
      ]
     },
     "execution_count": 18,
     "metadata": {},
     "output_type": "execute_result"
    }
   ],
   "source": [
    "# Selecting a single row from an un-indexed dataframe - using Pandas\n",
    "timer.start()\n",
    "\n",
    "txn_pdf[txn_pdf['txn_id'] == 423603758]\n",
    "\n",
    "timer.stop()"
   ]
  },
  {
   "cell_type": "code",
   "execution_count": null,
   "id": "b0ef714a",
   "metadata": {
    "pycharm": {
     "name": "#%%\n"
    },
    "id": "b0ef714a",
    "outputId": "bfadef80-9fa3-449b-87e9-ef83226f82ad"
   },
   "outputs": [
    {
     "name": "stdout",
     "output_type": "stream",
     "text": [
      "Elapsed time: 2.3734 seconds\n"
     ]
    },
    {
     "data": {
      "text/plain": [
       "2.373365100000001"
      ]
     },
     "execution_count": 19,
     "metadata": {},
     "output_type": "execute_result"
    }
   ],
   "source": [
    "# Selecting a single row from an un-indexed dataframe - using Terality\n",
    "timer.start()\n",
    "\n",
    "txn_tdf[txn_tdf['txn_id'] == 423603758]\n",
    "\n",
    "timer.stop()"
   ]
  },
  {
   "cell_type": "code",
   "execution_count": null,
   "id": "fd43772b",
   "metadata": {
    "id": "fd43772b",
    "outputId": "e9ef631d-7918-45c8-aa08-3fa45ec4e826"
   },
   "outputs": [
    {
     "name": "stdout",
     "output_type": "stream",
     "text": [
      "Elapsed time: 0.0993 seconds\n"
     ]
    },
    {
     "data": {
      "text/plain": [
       "0.09928609999997207"
      ]
     },
     "execution_count": 20,
     "metadata": {},
     "output_type": "execute_result"
    }
   ],
   "source": [
    "#filters\n",
    "timer.start()\n",
    "\n",
    "txn_pdf[txn_pdf['product_id'].isin(['FPHAX', 'VSIAX', 'PRNHX', 'FKTFX', 'VEIEX'])]\n",
    "\n",
    "timer.stop()"
   ]
  },
  {
   "cell_type": "code",
   "execution_count": null,
   "id": "33af3067",
   "metadata": {
    "id": "33af3067",
    "outputId": "f8ee908b-b0a5-432d-ccfb-0c3846297568"
   },
   "outputs": [
    {
     "name": "stdout",
     "output_type": "stream",
     "text": [
      "Elapsed time: 2.4200 seconds\n"
     ]
    },
    {
     "data": {
      "text/plain": [
       "2.420022200000062"
      ]
     },
     "execution_count": 21,
     "metadata": {},
     "output_type": "execute_result"
    }
   ],
   "source": [
    "#filters\n",
    "timer.start()\n",
    "\n",
    "txn_tdf[txn_tdf['product_id'].isin(['FPHAX', 'VSIAX', 'PRNHX', 'FKTFX', 'VEIEX'])]\n",
    "\n",
    "timer.stop()"
   ]
  },
  {
   "cell_type": "code",
   "execution_count": null,
   "id": "746ab965",
   "metadata": {
    "pycharm": {
     "name": "#%%\n"
    },
    "id": "746ab965",
    "outputId": "6a312f1d-3ab9-4a07-f80b-17f796a6ae8d"
   },
   "outputs": [
    {
     "name": "stdout",
     "output_type": "stream",
     "text": [
      "Elapsed time: 2.0853 seconds\n"
     ]
    },
    {
     "data": {
      "text/plain": [
       "2.08529580000004"
      ]
     },
     "execution_count": 22,
     "metadata": {},
     "output_type": "execute_result"
    }
   ],
   "source": [
    "# Merging two dataframes - using Pandas\n",
    "timer.start()\n",
    "\n",
    "taxi_trips_pdf.merge(txn_pdf, on='contact_id')\n",
    "\n",
    "timer.stop()"
   ]
  },
  {
   "cell_type": "code",
   "execution_count": null,
   "id": "66e2657f",
   "metadata": {
    "id": "66e2657f",
    "outputId": "adbc71c8-ffae-4a29-8108-bbc1cd582b62"
   },
   "outputs": [
    {
     "name": "stdout",
     "output_type": "stream",
     "text": [
      "Elapsed time: 9.0715 seconds\n"
     ]
    },
    {
     "data": {
      "text/plain": [
       "9.071548899999925"
      ]
     },
     "execution_count": 23,
     "metadata": {},
     "output_type": "execute_result"
    }
   ],
   "source": [
    "# Merging two dataframes - using Terality\n",
    "timer.start()\n",
    "\n",
    "taxi_trips_tdf.merge(txn_tdf, on='contact_id')\n",
    "\n",
    "timer.stop()"
   ]
  },
  {
   "cell_type": "code",
   "execution_count": null,
   "id": "e6c55663",
   "metadata": {
    "id": "e6c55663",
    "outputId": "7246c7e9-f87e-4291-9798-b72b28d73a5b"
   },
   "outputs": [
    {
     "name": "stdout",
     "output_type": "stream",
     "text": [
      "Elapsed time: 1.0281 seconds\n"
     ]
    },
    {
     "data": {
      "text/plain": [
       "1.0280862000000752"
      ]
     },
     "execution_count": 24,
     "metadata": {},
     "output_type": "execute_result"
    }
   ],
   "source": [
    "# Merging two dataframes and grouping by a single column - using Pandas\n",
    "timer.start()\n",
    "\n",
    "taxi_trips_pdf.merge(txn_pdf, on='contact_id').groupby('customer_id').sum()[['sales'] + ['redemptions']]\n",
    "\n",
    "timer.stop()"
   ]
  },
  {
   "cell_type": "code",
   "execution_count": null,
   "id": "8dba01db",
   "metadata": {
    "pycharm": {
     "is_executing": true
    },
    "id": "8dba01db",
    "outputId": "c4370bcc-02d0-41a4-f4f9-f11eb72675d3"
   },
   "outputs": [
    {
     "name": "stdout",
     "output_type": "stream",
     "text": [
      "Elapsed time: 5.7810 seconds\n"
     ]
    },
    {
     "data": {
      "text/plain": [
       "5.78103909999993"
      ]
     },
     "execution_count": 25,
     "metadata": {},
     "output_type": "execute_result"
    }
   ],
   "source": [
    "# Merging two dataframes and grouping by a single column - using Terality\n",
    "timer.start()\n",
    "\n",
    "taxi_trips_tdf.merge(txn_tdf, on='contact_id').groupby('customer_id').sum()[['sales'] + ['redemptions']]\n",
    "\n",
    "timer.stop()"
   ]
  },
  {
   "cell_type": "code",
   "execution_count": null,
   "id": "0ac64730",
   "metadata": {
    "pycharm": {
     "name": "#%%\n"
    },
    "scrolled": true,
    "id": "0ac64730",
    "outputId": "7c5e619f-8a91-4abc-c087-5b8aebb2d76c"
   },
   "outputs": [
    {
     "name": "stdout",
     "output_type": "stream",
     "text": [
      "Elapsed time: 6.5483 seconds\n"
     ]
    },
    {
     "data": {
      "text/plain": [
       "6.54834470000003"
      ]
     },
     "execution_count": 26,
     "metadata": {},
     "output_type": "execute_result"
    }
   ],
   "source": [
    "# Merging three dataframes and grouping by two columns - using Pandas\n",
    "timer.start()\n",
    "\n",
    "taxi_trips_pdf.merge(txn_pdf, on='contact_id').merge(product_pdf, on='product_id').groupby(['customer_id', 'product_id']).sum()[['sales'] + ['redemptions']]\n",
    "\n",
    "timer.stop()"
   ]
  },
  {
   "cell_type": "code",
   "execution_count": null,
   "id": "a324c32f",
   "metadata": {
    "id": "a324c32f",
    "outputId": "c1800733-b0fe-4615-85fa-2d361731053e"
   },
   "outputs": [
    {
     "name": "stdout",
     "output_type": "stream",
     "text": [
      "Elapsed time: 23.8555 seconds\n"
     ]
    },
    {
     "data": {
      "text/plain": [
       "23.855537199999958"
      ]
     },
     "execution_count": 27,
     "metadata": {},
     "output_type": "execute_result"
    }
   ],
   "source": [
    "# Merging three dataframes and grouping by two columns - using Terality\n",
    "timer.start()\n",
    "\n",
    "taxi_trips_tdf.merge(txn_tdf, on='contact_id').merge(product_tdf, on='product_id').groupby(['customer_id', 'product_id']).sum()[['sales'] + ['redemptions']]\n",
    "\n",
    "timer.stop()"
   ]
  },
  {
   "cell_type": "code",
   "execution_count": null,
   "id": "51d5103a",
   "metadata": {
    "id": "51d5103a"
   },
   "outputs": [],
   "source": [
    ""
   ]
  }
 ],
 "metadata": {
  "kernelspec": {
   "display_name": "Python 3 (ipykernel)",
   "language": "python",
   "name": "python3"
  },
  "language_info": {
   "codemirror_mode": {
    "name": "ipython",
    "version": 3
   },
   "file_extension": ".py",
   "mimetype": "text/x-python",
   "name": "python",
   "nbconvert_exporter": "python",
   "pygments_lexer": "ipython3",
   "version": "3.9.7"
  },
  "colab": {
   "name": "pandas_vs_terality.ipynb",
   "provenance": [],
   "include_colab_link": true
  }
 },
 "nbformat": 4,
 "nbformat_minor": 5
}