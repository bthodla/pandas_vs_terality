{
 "cells": [
  {
   "cell_type": "code",
   "execution_count": 1,
   "id": "1b77b18c",
   "metadata": {},
   "outputs": [],
   "source": [
    "import pandas as pd\n",
    "import terality as tr\n",
    "import time\n",
    "from datetime import datetime\n"
   ]
  },
  {
   "cell_type": "code",
   "execution_count": 2,
   "outputs": [],
   "source": [
    "def get_time():\n",
    "    return datetime.now()"
   ],
   "metadata": {
    "collapsed": false,
    "pycharm": {
     "name": "#%%\n"
    }
   }
  },
  {
   "cell_type": "code",
   "execution_count": 3,
   "outputs": [],
   "source": [
    "def get_time_diff(start_time, end_time):\n",
    "    return (end_time - start_time).total_seconds()"
   ],
   "metadata": {
    "collapsed": false,
    "pycharm": {
     "name": "#%%\n"
    }
   }
  },
  {
   "cell_type": "code",
   "execution_count": 4,
   "outputs": [],
   "source": [
    "def load_data(file_path, file_format = 'CSV', use_lib = 'PANDAS'):\n",
    "    if file_format == 'PARQUET':\n",
    "        if use_lib == 'PANDAS':\n",
    "            df = pd.read_parquet(file_path)\n",
    "        else:\n",
    "            df = tr.read_parquet(file_path)\n",
    "    else:\n",
    "        if use_lib == 'PANDAS':\n",
    "            df = pd.read_csv(file_path)\n",
    "        else:\n",
    "            df = tr.read_csv(file_path)\n",
    "    return df\n"
   ],
   "metadata": {
    "collapsed": false,
    "pycharm": {
     "name": "#%%\n"
    }
   }
  },
  {
   "cell_type": "code",
   "execution_count": 5,
   "id": "d71524c0",
   "metadata": {},
   "outputs": [],
   "source": [
    "def set_key(df, index):\n",
    "    df_indexed = df.set_index(index)\n",
    "    return df_indexed"
   ]
  },
  {
   "cell_type": "code",
   "execution_count": 6,
   "outputs": [
    {
     "name": "stdout",
     "output_type": "stream",
     "text": [
      "1.437863\n"
     ]
    }
   ],
   "source": [
    "start_time = get_time()\n",
    "\n",
    "contact_pdf = load_data('..\\\\data\\\\contact.parquet', 'PARQUET', 'PANDAS')\n",
    "customer_pdf = load_data('..\\\\data\\\\customer.parquet', 'PARQUET', 'PANDAS')\n",
    "product_pdf = load_data('..\\\\data\\\\product.parquet', 'PARQUET', 'PANDAS')\n",
    "state_pdf = load_data('..\\\\data\\\\state.parquet', 'PARQUET', 'PANDAS')\n",
    "txn_pdf = load_data('..\\\\data\\\\txn.csv', 'CSV', 'PANDAS')\n",
    "touch_pdf = load_data('..\\\\data\\\\touch.parquet', 'PARQUET', 'PANDAS')\n",
    "\n",
    "end_time = get_time()\n",
    "print(get_time_diff(start_time, end_time))"
   ],
   "metadata": {
    "collapsed": false,
    "pycharm": {
     "name": "#%%\n"
    }
   }
  },
  {
   "cell_type": "code",
   "execution_count": 7,
   "outputs": [
    {
     "name": "stderr",
     "output_type": "stream",
     "text": [
      "INFO:terality:The result of te.read_parquet was retrieved from cache [docs: https://docs.terality.com/getting-terality/user-guide/caching].\n",
      "INFO:terality:The result of te.read_parquet was retrieved from cache [docs: https://docs.terality.com/getting-terality/user-guide/caching].\n",
      "INFO:terality:The result of te.read_parquet was retrieved from cache [docs: https://docs.terality.com/getting-terality/user-guide/caching].\n",
      "INFO:terality:The result of te.read_parquet was retrieved from cache [docs: https://docs.terality.com/getting-terality/user-guide/caching].\n",
      "INFO:terality:The result of te.read_csv was retrieved from cache [docs: https://docs.terality.com/getting-terality/user-guide/caching].\n",
      "INFO:terality:The result of te.read_parquet was retrieved from cache [docs: https://docs.terality.com/getting-terality/user-guide/caching].\n"
     ]
    },
    {
     "name": "stdout",
     "output_type": "stream",
     "text": [
      "4.757181\n"
     ]
    }
   ],
   "source": [
    "start_time = get_time()\n",
    "\n",
    "contact_tdf = load_data('..\\\\data\\\\contact.parquet', 'PARQUET', 'TERALITY')\n",
    "customer_tdf = load_data('..\\\\data\\\\customer.parquet', 'PARQUET', 'TERALITY')\n",
    "product_tdf = load_data('..\\\\data\\\\product.parquet', 'PARQUET', 'TERALITY')\n",
    "state_tdf = load_data('..\\\\data\\\\state.parquet', 'PARQUET', 'TERALITY')\n",
    "txn_tdf = load_data('..\\\\data\\\\txn.csv', 'CSV', 'TERALITY')\n",
    "touch_tdf = load_data('..\\\\data\\\\touch.parquet', 'PARQUET', 'TERALITY')\n",
    "\n",
    "end_time = get_time()\n",
    "print(get_time_diff(start_time, end_time))"
   ],
   "metadata": {
    "collapsed": false,
    "pycharm": {
     "name": "#%%\n"
    }
   }
  },
  {
   "cell_type": "code",
   "execution_count": null,
   "outputs": [],
   "source": [
    "start_time = get_time()\n",
    "contact_pdf.sum()['opportunity']\n",
    "end_time = get_time()\n",
    "\n",
    "print(get_time_diff(start_time, end_time))"
   ],
   "metadata": {
    "collapsed": false,
    "pycharm": {
     "name": "#%%\n"
    }
   }
  },
  {
   "cell_type": "code",
   "execution_count": null,
   "outputs": [],
   "source": [
    "start_time = get_time()\n",
    "contact_tdf.sum()['opportunity']\n",
    "end_time = get_time()\n",
    "\n",
    "print(get_time_diff(start_time, end_time))"
   ],
   "metadata": {
    "collapsed": false,
    "pycharm": {
     "name": "#%%\n"
    }
   }
  },
  {
   "cell_type": "code",
   "execution_count": null,
   "outputs": [],
   "source": [
    "start_time = get_time()\n",
    "net_txn_amount = txn_pdf.sum()['sales']\n",
    "print(\"Net Txn Amount: \", net_txn_amount)\n",
    "end_time = get_time()\n",
    "\n",
    "print(get_time_diff(start_time, end_time))"
   ],
   "metadata": {
    "collapsed": false,
    "pycharm": {
     "name": "#%%\n"
    }
   }
  },
  {
   "cell_type": "code",
   "execution_count": null,
   "outputs": [],
   "source": [
    "start_time = get_time()\n",
    "net_txn_amount = txn_tdf.sum()['sales']\n",
    "print(\"Net Txn Amount: \", net_txn_amount)\n",
    "end_time = get_time()\n",
    "\n",
    "print(get_time_diff(start_time, end_time))"
   ],
   "metadata": {
    "collapsed": false,
    "pycharm": {
     "name": "#%%\n"
    }
   }
  },
  {
   "cell_type": "code",
   "execution_count": 8,
   "outputs": [
    {
     "name": "stdout",
     "output_type": "stream",
     "text": [
      "0.526584\n"
     ]
    }
   ],
   "source": [
    "start_time = get_time()\n",
    "txn_pdf.groupby('contact_id').sum()[['sales'] + ['redemptions']]\n",
    "end_time = get_time()\n",
    "\n",
    "print(get_time_diff(start_time, end_time))"
   ],
   "metadata": {
    "collapsed": false,
    "pycharm": {
     "name": "#%%\n"
    }
   }
  },
  {
   "cell_type": "code",
   "execution_count": 9,
   "id": "c87ece3d",
   "metadata": {},
   "outputs": [
    {
     "name": "stderr",
     "output_type": "stream",
     "text": [
      "INFO:terality:The result of te.dataframe.groupby was retrieved from cache [docs: https://docs.terality.com/getting-terality/user-guide/caching].\n",
      "INFO:terality:The result of te.dataframe_groupby.sum was retrieved from cache [docs: https://docs.terality.com/getting-terality/user-guide/caching].\n"
     ]
    },
    {
     "name": "stdout",
     "output_type": "stream",
     "text": [
      "0.556725\n"
     ]
    }
   ],
   "source": [
    "start_time = get_time()\n",
    "txn_tdf.groupby('contact_id').sum()[['sales'] + ['redemptions']]\n",
    "end_time = get_time()\n",
    "\n",
    "print(get_time_diff(start_time, end_time))"
   ]
  },
  {
   "cell_type": "code",
   "execution_count": null,
   "id": "7125eefa",
   "metadata": {},
   "outputs": [],
   "source": [
    "customer_df.head()"
   ]
  },
  {
   "cell_type": "code",
   "execution_count": null,
   "id": "21a4719a",
   "metadata": {},
   "outputs": [],
   "source": [
    "contact_df_raw = load_data(contact_file)\n",
    "contact_df_raw.head()"
   ]
  },
  {
   "cell_type": "code",
   "execution_count": null,
   "id": "785dab60",
   "metadata": {},
   "outputs": [],
   "source": [
    "contact_df = set_key(contact_df_raw,'contact_id')\n",
    "\n",
    "contact_df.head()"
   ]
  },
  {
   "cell_type": "code",
   "execution_count": null,
   "id": "3e1d48ec",
   "metadata": {},
   "outputs": [],
   "source": [
    "#set_key()\n",
    "contact_df_raw.head()"
   ]
  },
  {
   "cell_type": "code",
   "execution_count": null,
   "id": "06afc84d",
   "metadata": {
    "scrolled": false
   },
   "outputs": [],
   "source": [
    "# Reads contents of a CSV file into a Pandas dataframe\n",
    "# Any operation on a dataframe results in another dataframe\n",
    "#contact_df = pd.read_csv('C:\\\\Users\\\\sanja\\\\Documents\\\\GitHub\\\\python_learning\\\\data\\\\contact.csv')\n",
    "\n",
    "# Print the type of a dataframe\n",
    "# type(contact_df)\n",
    "# type(contact_df.head(10))\n",
    "\n",
    "# To get the top 10 rows of a df\n",
    "# To store the resulting df, assign it to a variable\n",
    "top10_contact_df=contact_df.head(10)\n",
    "top10_contact_df.head()\n",
    "\n",
    "# To get the bottom 10 rows\n",
    "# contact_df.tail(10)\n",
    "\n",
    "# Make a copy of a df\n",
    "copy_contact_df=contact_df\n",
    "copy_contact_df"
   ]
  },
  {
   "cell_type": "code",
   "execution_count": null,
   "id": "540d09a2",
   "metadata": {},
   "outputs": [],
   "source": [
    "#Reads contents of a CSV file into a Pandas dataframe\n",
    "# Any operation on a dataframe results in another dataframe\n",
    "customer_df = pd.read_csv('C:\\\\Users\\\\sanja\\\\Documents\\\\GitHub\\\\python_learning\\\\data\\\\customer.csv')\n",
    "\n",
    "# Print the type of a dataframe\n",
    "# type(contact_df)\n",
    "# type(contact_df.head(10))\n",
    "\n",
    "# To get the top 10 rows of a df\n",
    "# To store the resulting df, assign it to a variable\n",
    "top10_customer_df=customer_df.head(10)\n",
    "top10_customer_df.head()\n",
    "\n",
    "# To get the bottom 10 rows\n",
    "# customer_df.tail(10)\n",
    "\n",
    "# Make a copy of a df\n",
    "copy_customer_df=customer_df.copy()\n",
    "copy_customer_df"
   ]
  },
  {
   "cell_type": "code",
   "execution_count": null,
   "id": "a53a99af",
   "metadata": {},
   "outputs": [],
   "source": [
    "#Reads contents of a CSV file into a Pandas dataframe\n",
    "# Any operation on a dataframe results in another dataframe\n",
    "txn_df = pd.read_csv('C:\\\\Users\\\\sanja\\\\Documents\\\\GitHub\\\\python_learning\\\\data\\\\txn.csv')\n",
    "\n",
    "# Print the type of a dataframe\n",
    "# type(txn_df)\n",
    "# type(txn_df.head(10))\n",
    "\n",
    "# To get the top 10 rows of a df\n",
    "# To store the resulting df, assign it to a variable\n",
    "#top10_txn_df=txn_df.head(10)\n",
    "#top10_txn_df.head()\n",
    "\n",
    "# To get the bottom 10 rows\n",
    "# customer_df.tail(10)\n",
    "\n",
    "# Make a copy of a df\n",
    "copy_txn_df=txn_df.copy()\n",
    "copy_txn_df"
   ]
  },
  {
   "cell_type": "code",
   "execution_count": null,
   "id": "360231e8",
   "metadata": {},
   "outputs": [],
   "source": [
    "#Reads contents of a CSV file into a Pandas dataframe\n",
    "# Any operation on a dataframe results in another dataframe\n",
    "product_df = pd.read_csv('C:\\\\Users\\\\sanja\\\\Documents\\\\GitHub\\\\python_learning\\\\data\\\\product.csv')\n",
    "\n",
    "# Print the type of a dataframe\n",
    "# type(product_df)\n",
    "# type(product_df.head(10))\n",
    "\n",
    "# To get the top 10 rows of a df\n",
    "# To store the resulting df, assign it to a variable\n",
    "#top10_product_df=product_df.head(10)\n",
    "#top10_product_df.head()\n",
    "\n",
    "# To get the bottom 10 rows\n",
    "# product_df.tail(10)\n",
    "\n",
    "# Make a copy of a df\n",
    "copy_product_df=product_df.copy()\n",
    "copy_product_df"
   ]
  },
  {
   "cell_type": "code",
   "execution_count": null,
   "id": "b4a74e2f",
   "metadata": {},
   "outputs": [],
   "source": [
    "#Reads contents of a CSV file into a Pandas dataframe\n",
    "# Any operation on a dataframe results in another dataframe\n",
    "state_df = pd.read_csv('C:\\\\Users\\\\sanja\\\\Documents\\\\GitHub\\\\python_learning\\\\data\\\\state.csv')\n",
    "\n",
    "# Print the type of a dataframe\n",
    "# type(state_df)\n",
    "# type(state_df.head(10))\n",
    "\n",
    "# To get the top 10 rows of a df\n",
    "# To store the resulting df, assign it to a variable\n",
    "#top10_state_df=state_df.head(10)\n",
    "#top10_state_df.head()\n",
    "\n",
    "# To get the bottom 10 rows\n",
    "# state_df.tail(10)\n",
    "\n",
    "# Make a copy of a df\n",
    "copy_state_df=state_df.copy()\n",
    "copy_state_df"
   ]
  },
  {
   "cell_type": "code",
   "execution_count": null,
   "id": "ef2a48db",
   "metadata": {},
   "outputs": [],
   "source": [
    "#Reads contents of a CSV file into a Pandas dataframe\n",
    "# Any operation on a dataframe results in another dataframe\n",
    "touch_df = pd.read_csv('C:\\\\Users\\\\sanja\\\\Documents\\\\GitHub\\\\python_learning\\\\data\\\\touch.csv')\n",
    "\n",
    "# Print the type of a dataframe\n",
    "# type(touch_df)\n",
    "# type(touch_df.head(10))\n",
    "\n",
    "# To get the top 10 rows of a df\n",
    "# To store the resulting df, assign it to a variable\n",
    "#top10_touch_df=touch_df.head(10)\n",
    "#top10_touch_df.head()\n",
    "\n",
    "# To get the bottom 10 rows\n",
    "# touch_df.tail(10)\n",
    "\n",
    "# Make a copy of a df\n",
    "copy_touch_df=touch_df.copy()\n",
    "copy_touch_df"
   ]
  },
  {
   "cell_type": "code",
   "execution_count": null,
   "id": "9ce1443b",
   "metadata": {},
   "outputs": [],
   "source": [
    "# Describes the dataframe columns and their types\n",
    "contact_df.info()"
   ]
  },
  {
   "cell_type": "code",
   "execution_count": null,
   "id": "af2347d0",
   "metadata": {
    "scrolled": true
   },
   "outputs": [],
   "source": [
    "product_df.info()"
   ]
  },
  {
   "cell_type": "code",
   "execution_count": null,
   "id": "102b12ce",
   "metadata": {},
   "outputs": [],
   "source": [
    "customer_df.info()"
   ]
  },
  {
   "cell_type": "code",
   "execution_count": null,
   "id": "f01a3c02",
   "metadata": {},
   "outputs": [],
   "source": [
    "txn_df.info()"
   ]
  },
  {
   "cell_type": "code",
   "execution_count": null,
   "id": "9781ce96",
   "metadata": {},
   "outputs": [],
   "source": [
    "state_df.info()"
   ]
  },
  {
   "cell_type": "code",
   "execution_count": null,
   "id": "4ab6291a",
   "metadata": {},
   "outputs": [],
   "source": [
    "touch_df.info()"
   ]
  },
  {
   "cell_type": "code",
   "execution_count": null,
   "id": "c2c047b3",
   "metadata": {},
   "outputs": [],
   "source": [
    "contact_df.count()['contact_id']"
   ]
  },
  {
   "cell_type": "code",
   "execution_count": null,
   "id": "ab8bda86",
   "metadata": {},
   "outputs": [],
   "source": [
    "contact_df.sum()['opportunity']"
   ]
  },
  {
   "cell_type": "code",
   "execution_count": null,
   "id": "a07c8171",
   "metadata": {},
   "outputs": [],
   "source": [
    "contact_df.head().sum()['opportunity']"
   ]
  },
  {
   "cell_type": "code",
   "execution_count": null,
   "id": "d3380e97",
   "metadata": {},
   "outputs": [],
   "source": [
    "contact_df.describe()['zip']"
   ]
  },
  {
   "cell_type": "code",
   "execution_count": null,
   "id": "0458510c",
   "metadata": {},
   "outputs": [],
   "source": [
    "contact_df.sort_values(by = 'last_name')"
   ]
  },
  {
   "cell_type": "code",
   "execution_count": null,
   "id": "eb196bad",
   "metadata": {},
   "outputs": [],
   "source": [
    "contact_df[15:20]"
   ]
  },
  {
   "cell_type": "code",
   "execution_count": null,
   "id": "14d1427b",
   "metadata": {},
   "outputs": [],
   "source": [
    "column_list=['contact_id','first_name','last_name']\n",
    "contact_df[column_list].head()\n",
    "contact_df[column_list][12:13]"
   ]
  },
  {
   "cell_type": "code",
   "execution_count": null,
   "id": "f55e2548",
   "metadata": {},
   "outputs": [],
   "source": [
    "column_list=['contact_id','opportunity']\n",
    "contact_df[column_list][12:20].sum()['opportunity']"
   ]
  },
  {
   "cell_type": "code",
   "execution_count": null,
   "id": "9db4f906",
   "metadata": {},
   "outputs": [],
   "source": [
    "customer_df_raw = pd.read_csv('C:\\\\Users\\\\sanja\\\\Documents\\\\GitHub\\\\python_learning\\\\data\\\\customer.csv')\n",
    "customer_df= customer_df_copy.set_index('customer_id')\n",
    "#customer_df_copy = customer_df_copy.index('contact_id')\n",
    "customer_df.head()"
   ]
  },
  {
   "cell_type": "code",
   "execution_count": null,
   "id": "65a9a389",
   "metadata": {},
   "outputs": [],
   "source": [
    "contact_df[contact_df['contact_id'] == 100000339]"
   ]
  },
  {
   "cell_type": "code",
   "execution_count": null,
   "id": "fd43772b",
   "metadata": {},
   "outputs": [],
   "source": [
    "#filters market cap in given criteria\n",
    "product_df[~product_df['market_cap'].isin(['Large','Small'])]\n",
    "\n",
    "#filters market cap not in a given criteria\n",
    "product_df[~product_df['market_cap'].isin(['Large','Small'])]"
   ]
  },
  {
   "cell_type": "code",
   "execution_count": null,
   "id": "33af3067",
   "metadata": {},
   "outputs": [],
   "source": [
    "#isna() to identify missing values. notna() is the reverse of it\n",
    "\n",
    "product_df[product_df['market_cap'].isin(['Large','Small'])].isna()\n",
    "#product_df[product_df['market_cap'].isin(['Large','Small'])].notna()"
   ]
  },
  {
   "cell_type": "code",
   "execution_count": null,
   "id": "dc0f4a87",
   "metadata": {},
   "outputs": [],
   "source": [
    "txn_df1 = txn_df[0:5]\n",
    "#txn_df1\n",
    "type(txn_df1)\n",
    "\n",
    "#txn_df1.head()\n",
    "\n",
    "#txn_df2 = txn_df[6:10]\n",
    "#txn_df3 = txn_df[11:15]\n",
    "\n",
    "#txn_df123 = pd.concat(txn_df1,txn_df2,txn_df3)"
   ]
  },
  {
   "cell_type": "code",
   "execution_count": null,
   "id": "66e2657f",
   "metadata": {},
   "outputs": [],
   "source": [
    "cc_df = pd.merge(contact_df,customer_df, on = 'customer_id')\n",
    "cc_df.head()"
   ]
  },
  {
   "cell_type": "code",
   "execution_count": null,
   "id": "e6c55663",
   "metadata": {},
   "outputs": [],
   "source": [
    "product_df1 = product_df.groupby(['market_cap']).sum()['tna']\n",
    "product_df1.head()"
   ]
  },
  {
   "cell_type": "code",
   "execution_count": null,
   "id": "8dba01db",
   "metadata": {},
   "outputs": [],
   "source": [
    "product_df1 = product_df.groupby(['market_cap','exp_ratio']).sum()['tna']\n",
    "product_df1"
   ]
  },
  {
   "cell_type": "code",
   "execution_count": null,
   "id": "0ac64730",
   "metadata": {
    "scrolled": true
   },
   "outputs": [],
   "source": [
    "#joins 2 dfs on a the mentioned index\n",
    "joint_df = contact_df.set_index('customer_id').join(customer_df.set_index('customer_id'), how = 'inner')\n",
    "\n",
    "joint_df.head()\n"
   ]
  },
  {
   "cell_type": "code",
   "execution_count": null,
   "id": "b6176a2b",
   "metadata": {},
   "outputs": [],
   "source": [
    "\n",
    "joint_df = customer_df.set_index('customer_id').join(contact_df.set_index('customer_id'), how = 'left')\n",
    "\n",
    "joint_df.count()\n"
   ]
  },
  {
   "cell_type": "code",
   "execution_count": null,
   "id": "3e868805",
   "metadata": {},
   "outputs": [],
   "source": [
    "#not specifying how gives inner join\n",
    "#Txn by ms_rating\n",
    "txn_product_df = txn_df.set_index('ticker').join(product_df.set_index('ticker'))\n",
    "txn_product_df.head()\n",
    "\n",
    "txn_product_df1 = txn_product_df[['ms_rating','txn_amount']]\n",
    "txn_product_df2 = txn_product_df1.groupby('ms_rating').sum()['txn_amount']\n",
    "txn_product_df2.head()\n",
    "\n"
   ]
  },
  {
   "cell_type": "code",
   "execution_count": null,
   "id": "53b93432",
   "metadata": {},
   "outputs": [],
   "source": [
    "#Contact Id based txns\n",
    "txn_contact_df = txn_df.set_index('contact_id').join(contact_df.set_index('contact_id'))\n",
    "txn_contact_df.head()\n",
    "\n",
    "txn_contact_df1 = txn_contact_df['txn_amount']\n",
    "txn_contact_df1.head()\n",
    "#txn_contact_df2 = txn_contact_df1.groupby(txn_contact_df1.index).sum()\n",
    "#txn_contact_df2.head()"
   ]
  }
 ],
 "metadata": {
  "kernelspec": {
   "display_name": "Python 3 (ipykernel)",
   "language": "python",
   "name": "python3"
  },
  "language_info": {
   "codemirror_mode": {
    "name": "ipython",
    "version": 3
   },
   "file_extension": ".py",
   "mimetype": "text/x-python",
   "name": "python",
   "nbconvert_exporter": "python",
   "pygments_lexer": "ipython3",
   "version": "3.9.7"
  }
 },
 "nbformat": 4,
 "nbformat_minor": 5
}