{
 "cells": [
  {
   "cell_type": "code",
   "execution_count": 1,
   "id": "1b77b18c",
   "metadata": {},
   "outputs": [],
   "source": [
    "import pandas as pd\n",
    "import terality as te\n",
    "import json\n",
    "import pyarrow.parquet as pq\n",
    "from codetiming import Timer\n",
    "import logging\n"
   ]
  },
  {
   "cell_type": "code",
   "execution_count": 2,
   "id": "d645ab8c",
   "metadata": {
    "pycharm": {
     "name": "#%%\n"
    }
   },
   "outputs": [],
   "source": [
    "file_path = \"..\\\\\\\\data\\\\\\\\\"\n",
    "timer = Timer(name=\"Terality Tests\")\n",
    "logging.getLogger(\"terality\").setLevel(logging.WARNING)"
   ]
  },
  {
   "cell_type": "code",
   "execution_count": 3,
   "id": "9e999fc5",
   "metadata": {
    "pycharm": {
     "name": "#%%\n"
    }
   },
   "outputs": [],
   "source": [
    "# timer.stop()\n",
    "# product_tdf.info()"
   ]
  },
  {
   "cell_type": "code",
   "execution_count": 4,
   "id": "70defdca",
   "metadata": {
    "pycharm": {
     "name": "#%%\n"
    }
   },
   "outputs": [
    {
     "name": "stdout",
     "output_type": "stream",
     "text": [
      "Elapsed time: 2.4221 seconds\n"
     ]
    },
    {
     "data": {
      "text/plain": [
       "2.422119200000001"
      ]
     },
     "execution_count": 4,
     "metadata": {},
     "output_type": "execute_result"
    }
   ],
   "source": [
    "# Loading data into dataframes using Pandas\n",
    "timer.start()\n",
    "\n",
    "contact_pdf = pd.read_parquet(file_path + \"contact.parquet\")\n",
    "product_pdf = pd.read_json(file_path + \"product.json\")\n",
    "txn_pdf = pd.read_csv(file_path + 'txn.csv')\n",
    "\n",
    "timer.stop()"
   ]
  },
  {
   "cell_type": "code",
   "execution_count": 5,
   "id": "bfcff7e9",
   "metadata": {
    "pycharm": {
     "name": "#%%\n"
    }
   },
   "outputs": [
    {
     "name": "stderr",
     "output_type": "stream",
     "text": [
      "..\\\\data\\\\contact.parquet: 100%|███████████████████████████████████████████████████| 6.68M/6.68M [00:12<00:00, 545kB/s]\n",
      "..\\\\data\\\\product.json: 100%|██████████████████████████████████████████████████████| 79.9k/79.9k [00:00<00:00, 209kB/s]\n",
      "WARNING:terality:Slow operation: pandas.read_json was executed on our non-parallelized engine [https://www.terality.com/post/inside-terality-the-non-parallelized-engine]. Please reach out to support@terality.com if you’d like us to prioritise the implementation of the function.\n",
      "..\\\\data\\\\txn.csv: 100%|██████████████████████████████████████████████████████████| 51.4M/51.4M [00:16<00:00, 3.06MB/s]\n"
     ]
    },
    {
     "name": "stdout",
     "output_type": "stream",
     "text": [
      "Elapsed time: 35.8867 seconds\n"
     ]
    },
    {
     "data": {
      "text/plain": [
       "35.8866762"
      ]
     },
     "execution_count": 5,
     "metadata": {},
     "output_type": "execute_result"
    }
   ],
   "source": [
    "# Loading data into dataframes using Terality\n",
    "timer.start()\n",
    "\n",
    "with te.disable_cache():\n",
    "    contact_tdf = te.read_parquet(file_path + \"contact.parquet\")\n",
    "    product_tdf = te.read_json(file_path + \"product.json\")\n",
    "    txn_tdf = te.read_csv(file_path + 'txn.csv')\n",
    "\n",
    "timer.stop()"
   ]
  },
  {
   "cell_type": "code",
   "execution_count": 6,
   "id": "88dcdee9",
   "metadata": {
    "pycharm": {
     "is_executing": true,
     "name": "#%%\n"
    }
   },
   "outputs": [
    {
     "name": "stdout",
     "output_type": "stream",
     "text": [
      "Elapsed time: 247.8482 seconds\n"
     ]
    },
    {
     "data": {
      "text/plain": [
       "247.84816089999998"
      ]
     },
     "execution_count": 6,
     "metadata": {},
     "output_type": "execute_result"
    }
   ],
   "source": [
    "# Sum a column value across the entire dataframe with about 200k rows - using Pandas\n",
    "timer.start()\n",
    "\n",
    "contact_pdf.sum()['opportunity']\n",
    "\n",
    "timer.stop()"
   ]
  },
  {
   "cell_type": "code",
   "execution_count": 7,
   "id": "fc3418f2",
   "metadata": {
    "pycharm": {
     "name": "#%%\n"
    }
   },
   "outputs": [
    {
     "name": "stdout",
     "output_type": "stream",
     "text": [
      "Elapsed time: 10.5582 seconds\n"
     ]
    },
    {
     "data": {
      "text/plain": [
       "10.558202400000027"
      ]
     },
     "execution_count": 7,
     "metadata": {},
     "output_type": "execute_result"
    }
   ],
   "source": [
    "# Sum a column value across the entire dataframe with about 200k rows - using Terality\n",
    "timer.start()\n",
    "\n",
    "contact_tdf.sum()['opportunity']\n",
    "\n",
    "timer.stop()"
   ]
  },
  {
   "cell_type": "code",
   "execution_count": null,
   "id": "e63ad325",
   "metadata": {
    "pycharm": {
     "name": "#%%\n"
    }
   },
   "outputs": [],
   "source": [
    "# Sum a column value across the entire dataframe with about 1M rows - using Pandas\n",
    "timer.start()\n",
    "\n",
    "net_txn_amount = txn_pdf.sum()['sales']\n",
    "print(\"Net Txn Amount: \", net_txn_amount)\n",
    "\n",
    "timer.stop()"
   ]
  },
  {
   "cell_type": "code",
   "execution_count": null,
   "id": "5e36d297",
   "metadata": {
    "pycharm": {
     "name": "#%%\n"
    }
   },
   "outputs": [],
   "source": [
    "# Sum a column value across the entire dataframe with about 1M rows - using Terality\n",
    "timer.start()\n",
    "\n",
    "net_txn_amount = txn_tdf.sum()['sales']\n",
    "print(\"Net Txn Amount: \", net_txn_amount)\n",
    "\n",
    "timer.stop()"
   ]
  },
  {
   "cell_type": "code",
   "execution_count": 8,
   "id": "5ace3427",
   "metadata": {
    "pycharm": {
     "name": "#%%\n"
    }
   },
   "outputs": [
    {
     "name": "stdout",
     "output_type": "stream",
     "text": [
      "Elapsed time: 0.3382 seconds\n"
     ]
    },
    {
     "data": {
      "text/plain": [
       "0.33816919999998163"
      ]
     },
     "execution_count": 8,
     "metadata": {},
     "output_type": "execute_result"
    }
   ],
   "source": [
    "# Sum a column value grouped by another column across the entire dataframe with about 1M rows - using Pandas\n",
    "timer.start()\n",
    "\n",
    "txn_pdf.groupby('contact_id').sum()[['sales'] + ['redemptions']]\n",
    "\n",
    "timer.stop()"
   ]
  },
  {
   "cell_type": "code",
   "execution_count": 9,
   "id": "c87ece3d",
   "metadata": {},
   "outputs": [
    {
     "name": "stdout",
     "output_type": "stream",
     "text": [
      "Elapsed time: 3.3017 seconds\n"
     ]
    },
    {
     "data": {
      "text/plain": [
       "3.30167449999999"
      ]
     },
     "execution_count": 9,
     "metadata": {},
     "output_type": "execute_result"
    }
   ],
   "source": [
    "# Sum a column value grouped by another column across the entire dataframe with about 1M rows - using Terality\n",
    "timer.start()\n",
    "\n",
    "txn_tdf.groupby('contact_id').sum()[['sales'] + ['redemptions']]\n",
    "\n",
    "timer.stop()"
   ]
  },
  {
   "cell_type": "code",
   "execution_count": 10,
   "id": "102b12ce",
   "metadata": {},
   "outputs": [
    {
     "name": "stdout",
     "output_type": "stream",
     "text": [
      "Elapsed time: 0.2162 seconds\n"
     ]
    },
    {
     "data": {
      "text/plain": [
       "0.21618570000003956"
      ]
     },
     "execution_count": 10,
     "metadata": {},
     "output_type": "execute_result"
    }
   ],
   "source": [
    "# Describe the dataframe columns and their types - using Pandas\n",
    "timer.start()\n",
    "\n",
    "txn_pdf.describe()\n",
    "\n",
    "timer.stop()"
   ]
  },
  {
   "cell_type": "code",
   "execution_count": 11,
   "id": "f01a3c02",
   "metadata": {},
   "outputs": [
    {
     "name": "stdout",
     "output_type": "stream",
     "text": [
      "Elapsed time: 5.0994 seconds\n"
     ]
    },
    {
     "data": {
      "text/plain": [
       "5.0994470999999635"
      ]
     },
     "execution_count": 11,
     "metadata": {},
     "output_type": "execute_result"
    }
   ],
   "source": [
    "# Describe the dataframe columns and their types - using Terality\n",
    "timer.start()\n",
    "\n",
    "txn_tdf.describe()\n",
    "\n",
    "timer.stop()"
   ]
  },
  {
   "cell_type": "code",
   "execution_count": 12,
   "id": "a07c8171",
   "metadata": {},
   "outputs": [
    {
     "name": "stdout",
     "output_type": "stream",
     "text": [
      "Elapsed time: 0.0001 seconds\n"
     ]
    },
    {
     "data": {
      "text/plain": [
       "5.649999997103805e-05"
      ]
     },
     "execution_count": 12,
     "metadata": {},
     "output_type": "execute_result"
    }
   ],
   "source": [
    "# Count of rows - using Pandas\n",
    "timer.start()\n",
    "\n",
    "txn_pdf.index.size\n",
    "\n",
    "timer.stop()"
   ]
  },
  {
   "cell_type": "code",
   "execution_count": 13,
   "id": "d3380e97",
   "metadata": {},
   "outputs": [
    {
     "name": "stdout",
     "output_type": "stream",
     "text": [
      "Elapsed time: 0.7884 seconds\n"
     ]
    },
    {
     "data": {
      "text/plain": [
       "0.7883520999999973"
      ]
     },
     "execution_count": 13,
     "metadata": {},
     "output_type": "execute_result"
    }
   ],
   "source": [
    "# Count of rows - using Terality\n",
    "timer.start()\n",
    "\n",
    "txn_tdf.index.size\n",
    "\n",
    "timer.stop()"
   ]
  },
  {
   "cell_type": "code",
   "execution_count": 14,
   "id": "0458510c",
   "metadata": {},
   "outputs": [
    {
     "name": "stdout",
     "output_type": "stream",
     "text": [
      "Elapsed time: 2.2027 seconds\n"
     ]
    },
    {
     "data": {
      "text/plain": [
       "2.202657399999964"
      ]
     },
     "execution_count": 14,
     "metadata": {},
     "output_type": "execute_result"
    }
   ],
   "source": [
    "# Sort by ticker - using Pandas\n",
    "timer.start()\n",
    "\n",
    "txn_pdf.sort_values(by = 'product_id')\n",
    "\n",
    "timer.stop()"
   ]
  },
  {
   "cell_type": "code",
   "execution_count": 15,
   "id": "eb196bad",
   "metadata": {},
   "outputs": [
    {
     "name": "stdout",
     "output_type": "stream",
     "text": [
      "Elapsed time: 4.2181 seconds\n"
     ]
    },
    {
     "data": {
      "text/plain": [
       "4.218130400000064"
      ]
     },
     "execution_count": 15,
     "metadata": {},
     "output_type": "execute_result"
    }
   ],
   "source": [
    "# Sort by ticker - using Terality\n",
    "timer.start()\n",
    "\n",
    "txn_tdf.sort_values(by ='product_id')\n",
    "\n",
    "timer.stop()"
   ]
  },
  {
   "cell_type": "code",
   "execution_count": 16,
   "id": "14d1427b",
   "metadata": {},
   "outputs": [
    {
     "name": "stdout",
     "output_type": "stream",
     "text": [
      "Elapsed time: 0.0004 seconds\n"
     ]
    },
    {
     "data": {
      "text/plain": [
       "0.00039140000001225417"
      ]
     },
     "execution_count": 16,
     "metadata": {},
     "output_type": "execute_result"
    }
   ],
   "source": [
    "# Slicing - using Pandas\n",
    "timer.start()\n",
    "\n",
    "txn_pdf[113:211]\n",
    "\n",
    "timer.stop()"
   ]
  },
  {
   "cell_type": "code",
   "execution_count": 17,
   "id": "f55e2548",
   "metadata": {},
   "outputs": [
    {
     "name": "stdout",
     "output_type": "stream",
     "text": [
      "Elapsed time: 0.8531 seconds\n"
     ]
    },
    {
     "data": {
      "text/plain": [
       "0.8531338000000233"
      ]
     },
     "execution_count": 17,
     "metadata": {},
     "output_type": "execute_result"
    }
   ],
   "source": [
    "# Slicing - using Terality\n",
    "timer.start()\n",
    "\n",
    "txn_tdf[113:211]\n",
    "\n",
    "timer.stop()"
   ]
  },
  {
   "cell_type": "code",
   "execution_count": 18,
   "id": "65a9a389",
   "metadata": {},
   "outputs": [
    {
     "name": "stdout",
     "output_type": "stream",
     "text": [
      "Elapsed time: 0.0036 seconds\n"
     ]
    },
    {
     "data": {
      "text/plain": [
       "0.0036301000000094064"
      ]
     },
     "execution_count": 18,
     "metadata": {},
     "output_type": "execute_result"
    }
   ],
   "source": [
    "# Selecting a single row from an un-indexed dataframe - using Pandas\n",
    "timer.start()\n",
    "\n",
    "txn_pdf[txn_pdf['txn_id'] == 423603758]\n",
    "\n",
    "timer.stop()"
   ]
  },
  {
   "cell_type": "code",
   "execution_count": 19,
   "id": "b0ef714a",
   "metadata": {
    "pycharm": {
     "name": "#%%\n"
    }
   },
   "outputs": [
    {
     "name": "stdout",
     "output_type": "stream",
     "text": [
      "Elapsed time: 2.3734 seconds\n"
     ]
    },
    {
     "data": {
      "text/plain": [
       "2.373365100000001"
      ]
     },
     "execution_count": 19,
     "metadata": {},
     "output_type": "execute_result"
    }
   ],
   "source": [
    "# Selecting a single row from an un-indexed dataframe - using Terality\n",
    "timer.start()\n",
    "\n",
    "txn_tdf[txn_tdf['txn_id'] == 423603758]\n",
    "\n",
    "timer.stop()"
   ]
  },
  {
   "cell_type": "code",
   "execution_count": 20,
   "id": "fd43772b",
   "metadata": {},
   "outputs": [
    {
     "name": "stdout",
     "output_type": "stream",
     "text": [
      "Elapsed time: 0.0993 seconds\n"
     ]
    },
    {
     "data": {
      "text/plain": [
       "0.09928609999997207"
      ]
     },
     "execution_count": 20,
     "metadata": {},
     "output_type": "execute_result"
    }
   ],
   "source": [
    "#filters\n",
    "timer.start()\n",
    "\n",
    "txn_pdf[txn_pdf['product_id'].isin(['FPHAX', 'VSIAX', 'PRNHX', 'FKTFX', 'VEIEX'])]\n",
    "\n",
    "timer.stop()"
   ]
  },
  {
   "cell_type": "code",
   "execution_count": 21,
   "id": "33af3067",
   "metadata": {},
   "outputs": [
    {
     "name": "stdout",
     "output_type": "stream",
     "text": [
      "Elapsed time: 2.4200 seconds\n"
     ]
    },
    {
     "data": {
      "text/plain": [
       "2.420022200000062"
      ]
     },
     "execution_count": 21,
     "metadata": {},
     "output_type": "execute_result"
    }
   ],
   "source": [
    "#filters\n",
    "timer.start()\n",
    "\n",
    "txn_tdf[txn_tdf['product_id'].isin(['FPHAX', 'VSIAX', 'PRNHX', 'FKTFX', 'VEIEX'])]\n",
    "\n",
    "timer.stop()"
   ]
  },
  {
   "cell_type": "code",
   "execution_count": 22,
   "id": "746ab965",
   "metadata": {
    "pycharm": {
     "name": "#%%\n"
    }
   },
   "outputs": [
    {
     "name": "stdout",
     "output_type": "stream",
     "text": [
      "Elapsed time: 2.0853 seconds\n"
     ]
    },
    {
     "data": {
      "text/plain": [
       "2.08529580000004"
      ]
     },
     "execution_count": 22,
     "metadata": {},
     "output_type": "execute_result"
    }
   ],
   "source": [
    "# Merging two dataframes - using Pandas\n",
    "timer.start()\n",
    "\n",
    "contact_pdf.merge(txn_pdf, on='contact_id')\n",
    "\n",
    "timer.stop()"
   ]
  },
  {
   "cell_type": "code",
   "execution_count": 23,
   "id": "66e2657f",
   "metadata": {},
   "outputs": [
    {
     "name": "stdout",
     "output_type": "stream",
     "text": [
      "Elapsed time: 9.0715 seconds\n"
     ]
    },
    {
     "data": {
      "text/plain": [
       "9.071548899999925"
      ]
     },
     "execution_count": 23,
     "metadata": {},
     "output_type": "execute_result"
    }
   ],
   "source": [
    "# Merging two dataframes - using Terality\n",
    "timer.start()\n",
    "\n",
    "contact_tdf.merge(txn_tdf, on='contact_id')\n",
    "\n",
    "timer.stop()"
   ]
  },
  {
   "cell_type": "code",
   "execution_count": 24,
   "id": "e6c55663",
   "metadata": {},
   "outputs": [
    {
     "name": "stdout",
     "output_type": "stream",
     "text": [
      "Elapsed time: 1.0281 seconds\n"
     ]
    },
    {
     "data": {
      "text/plain": [
       "1.0280862000000752"
      ]
     },
     "execution_count": 24,
     "metadata": {},
     "output_type": "execute_result"
    }
   ],
   "source": [
    "# Merging two dataframes and grouping by a single column - using Pandas\n",
    "timer.start()\n",
    "\n",
    "contact_pdf.merge(txn_pdf, on='contact_id').groupby('customer_id').sum()[['sales'] + ['redemptions']]\n",
    "\n",
    "timer.stop()"
   ]
  },
  {
   "cell_type": "code",
   "execution_count": 25,
   "id": "8dba01db",
   "metadata": {
    "pycharm": {
     "is_executing": true
    }
   },
   "outputs": [
    {
     "name": "stdout",
     "output_type": "stream",
     "text": [
      "Elapsed time: 5.7810 seconds\n"
     ]
    },
    {
     "data": {
      "text/plain": [
       "5.78103909999993"
      ]
     },
     "execution_count": 25,
     "metadata": {},
     "output_type": "execute_result"
    }
   ],
   "source": [
    "# Merging two dataframes and grouping by a single column - using Terality\n",
    "timer.start()\n",
    "\n",
    "contact_tdf.merge(txn_tdf, on='contact_id').groupby('customer_id').sum()[['sales'] + ['redemptions']]\n",
    "\n",
    "timer.stop()"
   ]
  },
  {
   "cell_type": "code",
   "execution_count": 26,
   "id": "0ac64730",
   "metadata": {
    "pycharm": {
     "name": "#%%\n"
    },
    "scrolled": true
   },
   "outputs": [
    {
     "name": "stdout",
     "output_type": "stream",
     "text": [
      "Elapsed time: 6.5483 seconds\n"
     ]
    },
    {
     "data": {
      "text/plain": [
       "6.54834470000003"
      ]
     },
     "execution_count": 26,
     "metadata": {},
     "output_type": "execute_result"
    }
   ],
   "source": [
    "# Merging three dataframes and grouping by two columns - using Pandas\n",
    "timer.start()\n",
    "\n",
    "contact_pdf.merge(txn_pdf, on='contact_id').merge(product_pdf, on='product_id').groupby(['customer_id', 'product_id']).sum()[['sales'] + ['redemptions']]\n",
    "\n",
    "timer.stop()"
   ]
  },
  {
   "cell_type": "code",
   "execution_count": 27,
   "id": "a324c32f",
   "metadata": {},
   "outputs": [
    {
     "name": "stdout",
     "output_type": "stream",
     "text": [
      "Elapsed time: 23.8555 seconds\n"
     ]
    },
    {
     "data": {
      "text/plain": [
       "23.855537199999958"
      ]
     },
     "execution_count": 27,
     "metadata": {},
     "output_type": "execute_result"
    }
   ],
   "source": [
    "# Merging three dataframes and grouping by two columns - using Terality\n",
    "timer.start()\n",
    "\n",
    "contact_tdf.merge(txn_tdf, on='contact_id').merge(product_tdf, on='product_id').groupby(['customer_id', 'product_id']).sum()[['sales'] + ['redemptions']]\n",
    "\n",
    "timer.stop()"
   ]
  },
  {
   "cell_type": "code",
   "execution_count": null,
   "id": "51d5103a",
   "metadata": {},
   "outputs": [],
   "source": []
  }
 ],
 "metadata": {
  "kernelspec": {
   "display_name": "Python 3 (ipykernel)",
   "language": "python",
   "name": "python3"
  },
  "language_info": {
   "codemirror_mode": {
    "name": "ipython",
    "version": 3
   },
   "file_extension": ".py",
   "mimetype": "text/x-python",
   "name": "python",
   "nbconvert_exporter": "python",
   "pygments_lexer": "ipython3",
   "version": "3.9.7"
  }
 },
 "nbformat": 4,
 "nbformat_minor": 5
}
